{
 "cells": [
  {
   "cell_type": "markdown",
   "metadata": {},
   "source": [
    "## 2. Data wrangling"
   ]
  },
  {
   "cell_type": "markdown",
   "metadata": {},
   "source": [
    "## 2.1 Contents<a id='2.1_Contents'></a>\n",
    "* [2 Data wrangling](#2_Data_wrangling)\n",
    "  * [2.1 Contents](#2.1_Contents)\n",
    "  * [2.2 Introduction](#2.2_Introduction)\n",
    "  * [2.3 Imports](#2.3_Imports)\n",
    "  * [2.4 Load The House Price Data](#2.4_Load_The_House_Price_Data)\n",
    "  * [2.5 Filtering Single Family Property Type](#2.5_Filtering_Single_Family_Property_Type) \n",
    "  * [2.6 Missing Values](#2.6_Missing_Values) \n",
    "  * [2.7 Garage](#2.7_Garage) \n",
    "  * [2.8 Living](#2.8_Living) \n",
    "  * [2.9 Dining](#2.9_Dining) \n",
    "  * [2.10 Kitchen](#2.10_Kitchen)\n",
    "  * [2.11 Subdivision](#2.11_Subdivision)"
   ]
  },
  {
   "cell_type": "markdown",
   "metadata": {},
   "source": [
    "## 2.2 Introduction<a id='2.2_Introduction'></a>"
   ]
  },
  {
   "cell_type": "markdown",
   "metadata": {},
   "source": [
    "In this section I will investigate data scrapped from www.HAR.com. Data cleaning will be done in this stage since all rows are categorical and need to be numerical. I will remove features with lost of none values and will create new features."
   ]
  },
  {
   "cell_type": "markdown",
   "metadata": {},
   "source": [
    "## 2.3 Imports<a id='2.3_Imports'></a>"
   ]
  },
  {
   "cell_type": "code",
   "execution_count": 544,
   "metadata": {},
   "outputs": [],
   "source": [
    "import numpy as np\n",
    "import pandas as pd\n",
    "import matplotlib.pyplot as plt\n",
    "import seaborn as sns\n",
    "import substring\n",
    "import re\n",
    "from fuzzywuzzy import process\n",
    "import warnings\n",
    "warnings.filterwarnings('ignore')"
   ]
  },
  {
   "cell_type": "markdown",
   "metadata": {},
   "source": [
    "## 2.4 Load The House Price Data<a id='2.4_Load_The_House_Price_Data'></a>"
   ]
  },
  {
   "cell_type": "code",
   "execution_count": 545,
   "metadata": {},
   "outputs": [
    {
     "name": "stdout",
     "output_type": "stream",
     "text": [
      "data shape is: (15102, 101)\n"
     ]
    }
   ],
   "source": [
    "data= pd.read_csv('../Prediction House Price Using Image Processing/Data/Houston_Home_List.csv',encoding = \"ISO-8859-1\")\n",
    "print('data shape is:',data.shape)"
   ]
  },
  {
   "cell_type": "code",
   "execution_count": 546,
   "metadata": {},
   "outputs": [
    {
     "data": {
      "text/plain": [
       "Index(['Unnamed: 0', 'image_link', 'Listing Price:', 'Address:', 'City:',\n",
       "       'State:', 'Zip Code:', 'County:', 'Subdivision:', 'Legal Description:',\n",
       "       ...\n",
       "       'Extra Room:', 'Wine Room:', 'Carport Description:',\n",
       "       'Median Appraised Value / Square ft.:', 'Den:', 'Utility Room Desc:',\n",
       "       'Sunroom:', 'Guest Suite:', 'Bath:', 'Garage Apartment:'],\n",
       "      dtype='object', length=101)"
      ]
     },
     "execution_count": 546,
     "metadata": {},
     "output_type": "execute_result"
    }
   ],
   "source": [
    "data.columns"
   ]
  },
  {
   "cell_type": "markdown",
   "metadata": {},
   "source": [
    "## 2.5 Filtering Single Family Property Type<a id='2.5_Filtering_Single_Family_Property_Type'></a>"
   ]
  },
  {
   "cell_type": "markdown",
   "metadata": {},
   "source": [
    "Since we are going to analysis images and other house features it is important to have all records as same as possible. For example for lots there is no image for building or rooms and features for multi-family properties are different from single family homes. let see what kind of property type we have in our dataset:"
   ]
  },
  {
   "cell_type": "code",
   "execution_count": 547,
   "metadata": {},
   "outputs": [
    {
     "data": {
      "text/plain": [
       "Single-Family                          11141\n",
       "Lots                                    1551\n",
       "Townhouse/Condo - Townhouse              950\n",
       "Townhouse/Condo - Condominium            594\n",
       "Mid/Hi-Rise Condo                        436\n",
       "Country Homes/Acreage                    154\n",
       "Multi-Family - Duplex                    107\n",
       "Country Homes/Acreage - Free Standi       46\n",
       "Multi-Family - Fourplex                   46\n",
       "Multi-Family - 5 Plus                     38\n",
       "Multi-Family - Triplex                    15\n",
       "Multi-Family - Multiple Detached Dw        9\n",
       "Country Homes/Acreage - Manufacture        4\n",
       "Lot & Acreage - Residential                3\n",
       "Residential - Condo                        2\n",
       "Residential - Townhouse                    1\n",
       "Single Family                              1\n",
       "Name: Property Type:, dtype: int64"
      ]
     },
     "execution_count": 547,
     "metadata": {},
     "output_type": "execute_result"
    }
   ],
   "source": [
    "data['Property Type:'].value_counts()"
   ]
  },
  {
   "cell_type": "markdown",
   "metadata": {},
   "source": [
    "Majority of properties are single family so, I keep them and remove the rest of the types."
   ]
  },
  {
   "cell_type": "code",
   "execution_count": 548,
   "metadata": {},
   "outputs": [
    {
     "data": {
      "text/plain": [
       "11141"
      ]
     },
     "execution_count": 548,
     "metadata": {},
     "output_type": "execute_result"
    }
   ],
   "source": [
    "single_family_df = data[data['Property Type:']=='Single-Family']\n",
    "single_family_df.reset_index(drop=True,inplace=True)\n",
    "len(single_family_df)"
   ]
  },
  {
   "cell_type": "code",
   "execution_count": 549,
   "metadata": {},
   "outputs": [
    {
     "data": {
      "text/html": [
       "<div>\n",
       "<style scoped>\n",
       "    .dataframe tbody tr th:only-of-type {\n",
       "        vertical-align: middle;\n",
       "    }\n",
       "\n",
       "    .dataframe tbody tr th {\n",
       "        vertical-align: top;\n",
       "    }\n",
       "\n",
       "    .dataframe thead th {\n",
       "        text-align: right;\n",
       "    }\n",
       "</style>\n",
       "<table border=\"1\" class=\"dataframe\">\n",
       "  <thead>\n",
       "    <tr style=\"text-align: right;\">\n",
       "      <th></th>\n",
       "      <th>Unnamed: 0</th>\n",
       "      <th>image_link</th>\n",
       "      <th>Listing Price:</th>\n",
       "      <th>Address:</th>\n",
       "      <th>City:</th>\n",
       "      <th>State:</th>\n",
       "      <th>Zip Code:</th>\n",
       "      <th>County:</th>\n",
       "      <th>Subdivision:</th>\n",
       "      <th>Legal Description:</th>\n",
       "      <th>...</th>\n",
       "      <th>Extra Room:</th>\n",
       "      <th>Wine Room:</th>\n",
       "      <th>Carport Description:</th>\n",
       "      <th>Median Appraised Value / Square ft.:</th>\n",
       "      <th>Den:</th>\n",
       "      <th>Utility Room Desc:</th>\n",
       "      <th>Sunroom:</th>\n",
       "      <th>Guest Suite:</th>\n",
       "      <th>Bath:</th>\n",
       "      <th>Garage Apartment:</th>\n",
       "    </tr>\n",
       "  </thead>\n",
       "  <tbody>\n",
       "    <tr>\n",
       "      <th>0</th>\n",
       "      <td>85</td>\n",
       "      <td>['https://photos.harstatic.com/190618667/hr/img-1.jpeg?ts=2020-10-19T10:42:58.003', 'https://pho...</td>\n",
       "      <td>$ 575,000 ($232.98/sqft.) $Convert</td>\n",
       "      <td>1316 Hadley Street</td>\n",
       "      <td>Houston</td>\n",
       "      <td>TX</td>\n",
       "      <td>77002</td>\n",
       "      <td>Harris County</td>\n",
       "      <td>Austin Hadley Place</td>\n",
       "      <td>LT 4 BLK 1 AUSTIN HADLEY PLACE</td>\n",
       "      <td>...</td>\n",
       "      <td>NaN</td>\n",
       "      <td>NaN</td>\n",
       "      <td>NaN</td>\n",
       "      <td>NaN</td>\n",
       "      <td>NaN</td>\n",
       "      <td>NaN</td>\n",
       "      <td>NaN</td>\n",
       "      <td>NaN</td>\n",
       "      <td>NaN</td>\n",
       "      <td>NaN</td>\n",
       "    </tr>\n",
       "    <tr>\n",
       "      <th>1</th>\n",
       "      <td>88</td>\n",
       "      <td>['https://photos.harstatic.com/190420550/hr/img-1.jpeg?ts=2020-10-15T13:09:36.753', 'https://pho...</td>\n",
       "      <td>$ 465,000 ($221.85/sqft.) $Convert</td>\n",
       "      <td>110 Pierce Street</td>\n",
       "      <td>Houston</td>\n",
       "      <td>TX</td>\n",
       "      <td>77002</td>\n",
       "      <td>Harris County</td>\n",
       "      <td>Modern Midtown (View subdivision price trend)</td>\n",
       "      <td>LT 12 BLK 1 MODERN MIDTOWN</td>\n",
       "      <td>...</td>\n",
       "      <td>NaN</td>\n",
       "      <td>NaN</td>\n",
       "      <td>NaN</td>\n",
       "      <td>$223.83</td>\n",
       "      <td>NaN</td>\n",
       "      <td>NaN</td>\n",
       "      <td>NaN</td>\n",
       "      <td>NaN</td>\n",
       "      <td>NaN</td>\n",
       "      <td>NaN</td>\n",
       "    </tr>\n",
       "    <tr>\n",
       "      <th>2</th>\n",
       "      <td>89</td>\n",
       "      <td>['https://photos.harstatic.com/190088153/hr/img-1.jpeg?ts=2020-10-08T13:52:48.230', 'https://pho...</td>\n",
       "      <td>$ 450,000 ($223.33/sqft.) $Convert</td>\n",
       "      <td>118 Pierce Street</td>\n",
       "      <td>Houston</td>\n",
       "      <td>TX</td>\n",
       "      <td>77002</td>\n",
       "      <td>Harris County</td>\n",
       "      <td>Modern Midtown (View subdivision price trend)</td>\n",
       "      <td>LT 8 BLK 1 MODERN MIDTOWN</td>\n",
       "      <td>...</td>\n",
       "      <td>NaN</td>\n",
       "      <td>NaN</td>\n",
       "      <td>NaN</td>\n",
       "      <td>$223.83</td>\n",
       "      <td>NaN</td>\n",
       "      <td>NaN</td>\n",
       "      <td>NaN</td>\n",
       "      <td>NaN</td>\n",
       "      <td>NaN</td>\n",
       "      <td>NaN</td>\n",
       "    </tr>\n",
       "    <tr>\n",
       "      <th>3</th>\n",
       "      <td>99</td>\n",
       "      <td>['https://photos.harstatic.com/189387790/hr/img-1.jpeg?ts=2020-10-22T12:28:16.593', 'https://pho...</td>\n",
       "      <td>$ 259,000 ($203.30/sqft.) $Convert</td>\n",
       "      <td>311 N Milby Street</td>\n",
       "      <td>Houston</td>\n",
       "      <td>TX</td>\n",
       "      <td>77003</td>\n",
       "      <td>Harris County</td>\n",
       "      <td>Merkels Sec 01 (View subdivision price trend)</td>\n",
       "      <td>LT 3 BLK 15 MERKELS SEC 1</td>\n",
       "      <td>...</td>\n",
       "      <td>NaN</td>\n",
       "      <td>NaN</td>\n",
       "      <td>NaN</td>\n",
       "      <td>NaN</td>\n",
       "      <td>['12 x 17, 1st', '12 , 17, 1st']</td>\n",
       "      <td>['12 x 7, 1st', '12 , 7, 1st']</td>\n",
       "      <td>NaN</td>\n",
       "      <td>NaN</td>\n",
       "      <td>NaN</td>\n",
       "      <td>NaN</td>\n",
       "    </tr>\n",
       "    <tr>\n",
       "      <th>4</th>\n",
       "      <td>108</td>\n",
       "      <td>['https://photos.harstatic.com/177650081/hr/img-1.jpeg?ts=2019-08-30T14:53:35.547', 'https://pho...</td>\n",
       "      <td>$ 236,999 ($196.19/sqft.) $Convert  \\r\\n\\r\\n\\r\\n Reduced  1.25%\\r\\n  Reduced  1.25%\\r\\n\\r\\nReduc...</td>\n",
       "      <td>216 Hutcheson</td>\n",
       "      <td>Houston</td>\n",
       "      <td>TX</td>\n",
       "      <td>77003</td>\n",
       "      <td>Harris County</td>\n",
       "      <td>MERKELS (View subdivision price trend)</td>\n",
       "      <td>LT 9 BLK 5 MERKELS SEC 1</td>\n",
       "      <td>...</td>\n",
       "      <td>NaN</td>\n",
       "      <td>NaN</td>\n",
       "      <td>NaN</td>\n",
       "      <td>NaN</td>\n",
       "      <td>NaN</td>\n",
       "      <td>NaN</td>\n",
       "      <td>NaN</td>\n",
       "      <td>NaN</td>\n",
       "      <td>NaN</td>\n",
       "      <td>NaN</td>\n",
       "    </tr>\n",
       "  </tbody>\n",
       "</table>\n",
       "<p>5 rows × 101 columns</p>\n",
       "</div>"
      ],
      "text/plain": [
       "   Unnamed: 0  \\\n",
       "0          85   \n",
       "1          88   \n",
       "2          89   \n",
       "3          99   \n",
       "4         108   \n",
       "\n",
       "                                                                                            image_link  \\\n",
       "0  ['https://photos.harstatic.com/190618667/hr/img-1.jpeg?ts=2020-10-19T10:42:58.003', 'https://pho...   \n",
       "1  ['https://photos.harstatic.com/190420550/hr/img-1.jpeg?ts=2020-10-15T13:09:36.753', 'https://pho...   \n",
       "2  ['https://photos.harstatic.com/190088153/hr/img-1.jpeg?ts=2020-10-08T13:52:48.230', 'https://pho...   \n",
       "3  ['https://photos.harstatic.com/189387790/hr/img-1.jpeg?ts=2020-10-22T12:28:16.593', 'https://pho...   \n",
       "4  ['https://photos.harstatic.com/177650081/hr/img-1.jpeg?ts=2019-08-30T14:53:35.547', 'https://pho...   \n",
       "\n",
       "                                                                                        Listing Price:  \\\n",
       "0                                                                  $ 575,000 ($232.98/sqft.) $Convert    \n",
       "1                                                                  $ 465,000 ($221.85/sqft.) $Convert    \n",
       "2                                                                  $ 450,000 ($223.33/sqft.) $Convert    \n",
       "3                                                                  $ 259,000 ($203.30/sqft.) $Convert    \n",
       "4  $ 236,999 ($196.19/sqft.) $Convert  \\r\\n\\r\\n\\r\\n Reduced  1.25%\\r\\n  Reduced  1.25%\\r\\n\\r\\nReduc...   \n",
       "\n",
       "             Address:    City: State:  Zip Code:        County:  \\\n",
       "0  1316 Hadley Street  Houston     TX      77002  Harris County   \n",
       "1   110 Pierce Street  Houston     TX      77002  Harris County   \n",
       "2   118 Pierce Street  Houston     TX      77002  Harris County   \n",
       "3  311 N Milby Street  Houston     TX      77003  Harris County   \n",
       "4       216 Hutcheson  Houston     TX      77003  Harris County   \n",
       "\n",
       "                                     Subdivision:  \\\n",
       "0                             Austin Hadley Place   \n",
       "1   Modern Midtown (View subdivision price trend)   \n",
       "2   Modern Midtown (View subdivision price trend)   \n",
       "3   Merkels Sec 01 (View subdivision price trend)   \n",
       "4          MERKELS (View subdivision price trend)   \n",
       "\n",
       "               Legal Description:  ... Extra Room: Wine Room:  \\\n",
       "0  LT 4 BLK 1 AUSTIN HADLEY PLACE  ...         NaN        NaN   \n",
       "1      LT 12 BLK 1 MODERN MIDTOWN  ...         NaN        NaN   \n",
       "2       LT 8 BLK 1 MODERN MIDTOWN  ...         NaN        NaN   \n",
       "3       LT 3 BLK 15 MERKELS SEC 1  ...         NaN        NaN   \n",
       "4        LT 9 BLK 5 MERKELS SEC 1  ...         NaN        NaN   \n",
       "\n",
       "  Carport Description: Median Appraised Value / Square ft.:  \\\n",
       "0                  NaN                                  NaN   \n",
       "1                  NaN                             $223.83    \n",
       "2                  NaN                             $223.83    \n",
       "3                  NaN                                  NaN   \n",
       "4                  NaN                                  NaN   \n",
       "\n",
       "                               Den:              Utility Room Desc: Sunroom:  \\\n",
       "0                               NaN                             NaN      NaN   \n",
       "1                               NaN                             NaN      NaN   \n",
       "2                               NaN                             NaN      NaN   \n",
       "3  ['12 x 17, 1st', '12 , 17, 1st']  ['12 x 7, 1st', '12 , 7, 1st']      NaN   \n",
       "4                               NaN                             NaN      NaN   \n",
       "\n",
       "  Guest Suite: Bath: Garage Apartment:  \n",
       "0          NaN   NaN               NaN  \n",
       "1          NaN   NaN               NaN  \n",
       "2          NaN   NaN               NaN  \n",
       "3          NaN   NaN               NaN  \n",
       "4          NaN   NaN               NaN  \n",
       "\n",
       "[5 rows x 101 columns]"
      ]
     },
     "execution_count": 549,
     "metadata": {},
     "output_type": "execute_result"
    }
   ],
   "source": [
    "single_family_df.head()"
   ]
  },
  {
   "cell_type": "markdown",
   "metadata": {},
   "source": [
    "In our dataset `State` and `Property Type` are the same for all houses so, we can remove them:"
   ]
  },
  {
   "cell_type": "code",
   "execution_count": 550,
   "metadata": {},
   "outputs": [],
   "source": [
    "single_family_df.drop(['Unnamed: 0','State:','Property Type:'],axis=1,inplace=True)"
   ]
  },
  {
   "cell_type": "markdown",
   "metadata": {},
   "source": [
    "## 2.6 Missing Values<a id='2.6_Missing_Values'></a>"
   ]
  },
  {
   "cell_type": "code",
   "execution_count": 551,
   "metadata": {},
   "outputs": [],
   "source": [
    "# function to find missing value and returning count abd %\n",
    "def missing_cal(df):\n",
    "    missing = pd.concat([single_family_df.isnull().sum(), 100 * single_family_df.isnull().mean()], axis=1)\n",
    "    missing.columns=['count', '%']\n",
    "    missing.sort_values(by='count',ascending=False)\n",
    "    return missing"
   ]
  },
  {
   "cell_type": "code",
   "execution_count": 552,
   "metadata": {},
   "outputs": [
    {
     "data": {
      "text/html": [
       "<div>\n",
       "<style scoped>\n",
       "    .dataframe tbody tr th:only-of-type {\n",
       "        vertical-align: middle;\n",
       "    }\n",
       "\n",
       "    .dataframe tbody tr th {\n",
       "        vertical-align: top;\n",
       "    }\n",
       "\n",
       "    .dataframe thead th {\n",
       "        text-align: right;\n",
       "    }\n",
       "</style>\n",
       "<table border=\"1\" class=\"dataframe\">\n",
       "  <thead>\n",
       "    <tr style=\"text-align: right;\">\n",
       "      <th></th>\n",
       "      <th>count</th>\n",
       "      <th>%</th>\n",
       "    </tr>\n",
       "  </thead>\n",
       "  <tbody>\n",
       "    <tr>\n",
       "      <th>image_link</th>\n",
       "      <td>0</td>\n",
       "      <td>0.000000</td>\n",
       "    </tr>\n",
       "    <tr>\n",
       "      <th>Listing Price:</th>\n",
       "      <td>3</td>\n",
       "      <td>0.026928</td>\n",
       "    </tr>\n",
       "    <tr>\n",
       "      <th>Address:</th>\n",
       "      <td>0</td>\n",
       "      <td>0.000000</td>\n",
       "    </tr>\n",
       "    <tr>\n",
       "      <th>City:</th>\n",
       "      <td>0</td>\n",
       "      <td>0.000000</td>\n",
       "    </tr>\n",
       "    <tr>\n",
       "      <th>Zip Code:</th>\n",
       "      <td>0</td>\n",
       "      <td>0.000000</td>\n",
       "    </tr>\n",
       "    <tr>\n",
       "      <th>...</th>\n",
       "      <td>...</td>\n",
       "      <td>...</td>\n",
       "    </tr>\n",
       "    <tr>\n",
       "      <th>Utility Room Desc:</th>\n",
       "      <td>7178</td>\n",
       "      <td>64.428687</td>\n",
       "    </tr>\n",
       "    <tr>\n",
       "      <th>Sunroom:</th>\n",
       "      <td>10909</td>\n",
       "      <td>97.917602</td>\n",
       "    </tr>\n",
       "    <tr>\n",
       "      <th>Guest Suite:</th>\n",
       "      <td>11008</td>\n",
       "      <td>98.806211</td>\n",
       "    </tr>\n",
       "    <tr>\n",
       "      <th>Bath:</th>\n",
       "      <td>9449</td>\n",
       "      <td>84.812853</td>\n",
       "    </tr>\n",
       "    <tr>\n",
       "      <th>Garage Apartment:</th>\n",
       "      <td>10822</td>\n",
       "      <td>97.136702</td>\n",
       "    </tr>\n",
       "  </tbody>\n",
       "</table>\n",
       "<p>98 rows × 2 columns</p>\n",
       "</div>"
      ],
      "text/plain": [
       "                    count          %\n",
       "image_link              0   0.000000\n",
       "Listing Price:          3   0.026928\n",
       "Address:                0   0.000000\n",
       "City:                   0   0.000000\n",
       "Zip Code:               0   0.000000\n",
       "...                   ...        ...\n",
       "Utility Room Desc:   7178  64.428687\n",
       "Sunroom:            10909  97.917602\n",
       "Guest Suite:        11008  98.806211\n",
       "Bath:                9449  84.812853\n",
       "Garage Apartment:   10822  97.136702\n",
       "\n",
       "[98 rows x 2 columns]"
      ]
     },
     "execution_count": 552,
     "metadata": {},
     "output_type": "execute_result"
    }
   ],
   "source": [
    "missing = missing_cal(single_family_df)\n",
    "missing"
   ]
  },
  {
   "cell_type": "markdown",
   "metadata": {},
   "source": [
    "Let's take a look at features with more than 90% missing values:"
   ]
  },
  {
   "cell_type": "code",
   "execution_count": 553,
   "metadata": {},
   "outputs": [
    {
     "name": "stdout",
     "output_type": "stream",
     "text": [
      "Number of Features with more than 90% None:  9\n"
     ]
    }
   ],
   "source": [
    "missing = missing_cal(single_family_df)\n",
    "nan_90 = missing.loc[missing['%']>90].index\n",
    "print('Number of Features with more than 90% None: ',len(nan_90))"
   ]
  },
  {
   "cell_type": "code",
   "execution_count": 554,
   "metadata": {},
   "outputs": [
    {
     "data": {
      "text/html": [
       "<div>\n",
       "<style scoped>\n",
       "    .dataframe tbody tr th:only-of-type {\n",
       "        vertical-align: middle;\n",
       "    }\n",
       "\n",
       "    .dataframe tbody tr th {\n",
       "        vertical-align: top;\n",
       "    }\n",
       "\n",
       "    .dataframe thead th {\n",
       "        text-align: right;\n",
       "    }\n",
       "</style>\n",
       "<table border=\"1\" class=\"dataframe\">\n",
       "  <thead>\n",
       "    <tr style=\"text-align: right;\">\n",
       "      <th></th>\n",
       "      <th>count</th>\n",
       "      <th>%</th>\n",
       "    </tr>\n",
       "  </thead>\n",
       "  <tbody>\n",
       "    <tr>\n",
       "      <th>Extra Room:</th>\n",
       "      <td>10068</td>\n",
       "      <td>90.368908</td>\n",
       "    </tr>\n",
       "    <tr>\n",
       "      <th>Median Appraised Value / Square ft.:</th>\n",
       "      <td>10217</td>\n",
       "      <td>91.706310</td>\n",
       "    </tr>\n",
       "    <tr>\n",
       "      <th>Media Room:</th>\n",
       "      <td>10254</td>\n",
       "      <td>92.038417</td>\n",
       "    </tr>\n",
       "    <tr>\n",
       "      <th>Carport Description:</th>\n",
       "      <td>10523</td>\n",
       "      <td>94.452922</td>\n",
       "    </tr>\n",
       "    <tr>\n",
       "      <th>Water Amenity:</th>\n",
       "      <td>10747</td>\n",
       "      <td>96.463513</td>\n",
       "    </tr>\n",
       "    <tr>\n",
       "      <th>Garage Apartment:</th>\n",
       "      <td>10822</td>\n",
       "      <td>97.136702</td>\n",
       "    </tr>\n",
       "    <tr>\n",
       "      <th>Sunroom:</th>\n",
       "      <td>10909</td>\n",
       "      <td>97.917602</td>\n",
       "    </tr>\n",
       "    <tr>\n",
       "      <th>Wine Room:</th>\n",
       "      <td>11002</td>\n",
       "      <td>98.752356</td>\n",
       "    </tr>\n",
       "    <tr>\n",
       "      <th>Guest Suite:</th>\n",
       "      <td>11008</td>\n",
       "      <td>98.806211</td>\n",
       "    </tr>\n",
       "  </tbody>\n",
       "</table>\n",
       "</div>"
      ],
      "text/plain": [
       "                                      count          %\n",
       "Extra Room:                           10068  90.368908\n",
       "Median Appraised Value / Square ft.:  10217  91.706310\n",
       "Media Room:                           10254  92.038417\n",
       "Carport Description:                  10523  94.452922\n",
       "Water Amenity:                        10747  96.463513\n",
       "Garage Apartment:                     10822  97.136702\n",
       "Sunroom:                              10909  97.917602\n",
       "Wine Room:                            11002  98.752356\n",
       "Guest Suite:                          11008  98.806211"
      ]
     },
     "execution_count": 554,
     "metadata": {},
     "output_type": "execute_result"
    }
   ],
   "source": [
    "missing.loc[nan_90].sort_values(by=\"%\")"
   ]
  },
  {
   "cell_type": "markdown",
   "metadata": {},
   "source": [
    "We need to see what kind of information are in each of these features:"
   ]
  },
  {
   "cell_type": "code",
   "execution_count": 555,
   "metadata": {},
   "outputs": [
    {
     "name": "stdout",
     "output_type": "stream",
     "text": [
      "Value Count for Media Room:\n",
      "['2nd', '2nd']                      27\n",
      "['16x12, 2nd', '4.88 x 3.66(m)']    17\n",
      "['14x13, 2nd', '4.27 x 3.96(m)']    15\n",
      "['15x13, 2nd', '4.57 x 3.96(m)']    15\n",
      "['18x12, 2nd', '5.49 x 3.66(m)']    13\n",
      "                                    ..\n",
      "['10X22\\'7\", 3rd', '3.05(m)']        1\n",
      "['11x8, 2nd', '3.35 x 2.44(m)']      1\n",
      "['17x11, 2nd', '5.18 x 3.35(m)']     1\n",
      "['20-11, 2nd', '20-11, 2nd']         1\n",
      "['12x13, 2nd', '3.66 x 3.96(m)']     1\n",
      "Name: Media Room:, Length: 454, dtype: int64\n",
      "----------------------------------------------------------------------------------------------------\n",
      "Value Count for Water Amenity:\n",
      "Lake View                                                     119\n",
      "Lake View, Lakefront                                           83\n",
      "Pond                                                           55\n",
      "Lakefront                                                      48\n",
      "Bayou Frontage, Bayou View                                      9\n",
      "Bayou View                                                      8\n",
      "Lake View, Lakefront, Pond                                      6\n",
      "Bayou Frontage                                                  4\n",
      "Lakefront, Pier                                                 3\n",
      "Lakefront, Wood Bulkhead                                        3\n",
      "Riverfront                                                      3\n",
      "Lake View, Pond                                                 3\n",
      "Canal View                                                      3\n",
      "Bulkhead, Lakefront                                             2\n",
      "Canal Front                                                     2\n",
      "Bulkhead, Lake View, Lakefront                                  2\n",
      "Canal Front, Canal View                                         2\n",
      "Pier, Pond                                                      2\n",
      "Bay View                                                        2\n",
      "River View                                                      2\n",
      "Lake View, Lakefront, Wood Bulkhead                             2\n",
      "Boat Slip, Canal Front, Canal View, Lake View, Lakefront        1\n",
      "Bulkhead, Canal Front, Concrete Bulkhead, Lakefront             1\n",
      "Canal Front, Wood Bulkhead                                      1\n",
      "Bulkhead, Canal Front, Lake View, Lakefront, Wood Bulkhead      1\n",
      "Lakefront, Riverfront                                           1\n",
      "Boat Ramp, Lake View                                            1\n",
      "Lake View, Lakefront, Pier                                      1\n",
      "Bulkhead, Concrete Bulkhead, Lake View, Lakefront               1\n",
      "Boat Slip, Bulkhead, Lakefront                                  1\n",
      "Boat Ramp, Bulkhead, Riverfront                                 1\n",
      "Bayou View, Lake View, Pond                                     1\n",
      "Concrete Bulkhead                                               1\n",
      "Lakefront, Pier, Pond, River View, Riverfront                   1\n",
      "Canal Front, Canal View, Lakefront, Pier, Wood Bulkhead         1\n",
      "Concrete Bulkhead, Pier                                         1\n",
      "Bulkhead                                                        1\n",
      "Lake View, Canal View                                           1\n",
      "River View, Riverfront                                          1\n",
      "Canal Front, Canal View, Pier, Wood Bulkhead                    1\n",
      "Boat House, Boat Lift, Boat Slip, Canal Front, Lakefront        1\n",
      "Bay View, Gulf View, Lake View                                  1\n",
      "Canal View, Lake View                                           1\n",
      "Bulkhead, Lakefront, Wood Bulkhead                              1\n",
      "Bulkhead, Canal Front, Lake View, Lakefront, Pier               1\n",
      "Pier, Riverfront                                                1\n",
      "Lake View, Metal Bulkhead, River View                           1\n",
      "Pier, River View, Riverfront                                    1\n",
      "Lake View, Lakefront, River View                                1\n",
      "Concrete Bulkhead, Lake View, Lakefront, Wood Bulkhead          1\n",
      "Lakefront, Pier, Wood Bulkhead                                  1\n",
      "Boat Slip, Lake View                                            1\n",
      "Name: Water Amenity:, dtype: int64\n",
      "----------------------------------------------------------------------------------------------------\n",
      "Value Count for Extra Room:\n",
      "['1st', '1st']                                                                                     21\n",
      "['10x10, 1st', '3.05 x 3.05(m)']                                                                   11\n",
      "['11x10, 1st', '3.35 x 3.05(m)']                                                                   11\n",
      "['2nd', '2nd']                                                                                     11\n",
      "['11x11, 1st', '3.35 x 3.35(m)']                                                                   11\n",
      "                                                                                                   ..\n",
      "['14x14-Office, 1st', '18x32-Craft Rm, 2nd', '12x19-Gym, 2nd', '4.27(m)', '5.49(m)', '3.66(m)']     1\n",
      "['10X14, 1st', '14X16, 1st', '3.05 x 4.27(m)', '4.27 x 4.88(m)']                                    1\n",
      "['19 x 10, 2nd', '19 , 10, 2nd']                                                                    1\n",
      "['14x19, 1st', '4.27 x 5.79(m)']                                                                    1\n",
      "['12X7, 2nd', '3.66 x 2.13(m)']                                                                     1\n",
      "Name: Extra Room:, Length: 710, dtype: int64\n",
      "----------------------------------------------------------------------------------------------------\n",
      "Value Count for Wine Room:\n",
      "['1st', '1st']                                    22\n",
      "['7 x 4, 1st', '7 , 4, 1st']                       4\n",
      "['8x5, 1st', '2.44 x 1.52(m)']                     3\n",
      "['5x5, 1st', '1.52 x 1.52(m)']                     3\n",
      "['12x6, 1st', '3.66 x 1.83(m)']                    3\n",
      "                                                  ..\n",
      "['9x7, 1st', '2.74 x 2.13(m)']                     1\n",
      "['4\\'0\" x 6\\'10\", 1st', '4\\'0\" , 6\\'10\", 1st']     1\n",
      "['In House', 'In House']                           1\n",
      "['11x12, 1st', '3.35 x 3.66(m)']                   1\n",
      "['16x4, 1st', '4.88 x 1.22(m)']                    1\n",
      "Name: Wine Room:, Length: 98, dtype: int64\n",
      "----------------------------------------------------------------------------------------------------\n",
      "Value Count for Carport Description:\n",
      "Attached Carport       399\n",
      "Detached Carport       122\n",
      "Attached & Detached     97\n",
      "Name: Carport Description:, dtype: int64\n",
      "----------------------------------------------------------------------------------------------------\n",
      "Value Count for Median Appraised Value / Square ft.:\n",
      "$196.51     9\n",
      "$76.60      8\n",
      "$253.57     8\n",
      "$120.49     6\n",
      "$41.05      6\n",
      "           ..\n",
      "$61.74      1\n",
      "$48.49      1\n",
      "$33.24      1\n",
      "$112.13     1\n",
      "$171.61     1\n",
      "Name: Median Appraised Value / Square ft.:, Length: 615, dtype: int64\n",
      "----------------------------------------------------------------------------------------------------\n",
      "Value Count for Sunroom:\n",
      "['1st', '1st']                      10\n",
      "['15x12, 1st', '4.57 x 3.66(m)']     6\n",
      "['10 x 6, 1st', '10 , 6, 1st']       5\n",
      "['15x13, 1st', '4.57 x 3.96(m)']     4\n",
      "['17x12, 1st', '5.18 x 3.66(m)']     3\n",
      "                                    ..\n",
      "['12x9, 1st', '3.66 x 2.74(m)']      1\n",
      "['23x10, 2nd', '7.01 x 3.05(m)']     1\n",
      "['14x14, 1st', '4.27 x 4.27(m)']     1\n",
      "['27X22, 1st', '8.23 x 6.71(m)']     1\n",
      "['23 x 13, 1st', '23 , 13, 1st']     1\n",
      "Name: Sunroom:, Length: 181, dtype: int64\n",
      "----------------------------------------------------------------------------------------------------\n",
      "Value Count for Guest Suite:\n",
      "['1st', '1st']                          5\n",
      "['2nd', '2nd']                          4\n",
      "['13x12, 1st', '3.96 x 3.66(m)']        4\n",
      "['14x13, 1st', '4.27 x 3.96(m)']        3\n",
      "['15x11, 1st', '4.57 x 3.35(m)']        2\n",
      "                                       ..\n",
      "['12.9 x 11, 1st', '12.9 , 11, 1st']    1\n",
      "['19x26, 2nd', '5.79 x 7.92(m)']        1\n",
      "['16x12, 1st', '4.88 x 3.66(m)']        1\n",
      "['19X18, 1st', '5.79 x 5.49(m)']        1\n",
      "['16x14, 3rd', '4.88 x 4.27(m)']        1\n",
      "Name: Guest Suite:, Length: 107, dtype: int64\n",
      "----------------------------------------------------------------------------------------------------\n",
      "Value Count for Garage Apartment:\n",
      "Yes                                                                    208\n",
      "['In Garage', 'In Garage']                                               8\n",
      "['In Garage', 'In Garage', 'Yes']                                        7\n",
      "['20x20, In Garage', '6.10 x 6.10(m)']                                   2\n",
      "['23x18, In Garage', '7.01 x 5.49(m)']                                   2\n",
      "                                                                      ... \n",
      "['20x15, In Garage', '6.10 x 4.57(m)', 'Yes']                            1\n",
      "['20 x 20, In Garage', '20 , 20, In Garage', 'Yes']                      1\n",
      "['22\\'2\" x 18\\'6\", In Garage', '22\\'2\" , 18\\'6\", In Garage', 'Yes']      1\n",
      "['18x11, In Garage', '5.49 x 3.35(m)', 'Yes']                            1\n",
      "['18x35, In Garage', '5.49 x 10.67(m)', 'Yes']                           1\n",
      "Name: Garage Apartment:, Length: 95, dtype: int64\n",
      "----------------------------------------------------------------------------------------------------\n"
     ]
    }
   ],
   "source": [
    "for item in nan_90:\n",
    "    print('Value Count for '+item)\n",
    "    print(single_family_df[item].value_counts())\n",
    "    print('-'*100)"
   ]
  },
  {
   "cell_type": "markdown",
   "metadata": {},
   "source": [
    "* Values for `Media Room`, `Extra Room`, `Wine Room`, `Sunroom`, `Guest Suite`and `Garage Apartment` are kind of dimension of each of those rooms along with some nonsense values like (`Yes` for `Garage Apartment`). \n",
    "* For `Water Amenity` there are to much unique categories and there is no way to be able to fill rest of none values with correct category\n",
    "* `Carport Description` has 3 different categories for total 611 house and the rest do not have any carport so I will fill  all none values with new category as 'Not Applicable'.\n",
    "* `Median Appraised Value / Square ft.:` is the fact (based on active listing) for each subdivision and can be fill by the value for same subdivision."
   ]
  },
  {
   "cell_type": "code",
   "execution_count": 556,
   "metadata": {},
   "outputs": [],
   "source": [
    "# Replacing None value for 'Carport Description:' with 'not applicable'\n",
    "single_family_df['Carport Description:'][single_family_df['Carport Description:'].isnull()]='not applicable'\n",
    "\n",
    "# Dropping 'Media Room:', 'Water Amenity:', 'Extra Room:', 'Wine Room:', 'Median Appraised Value / Square ft.:',\n",
    "#'Sunroom:', 'Guest Suite:', 'Garage Apartment:', 'Vacation Rental:'\n",
    "single_family_df.drop(['Media Room:', 'Water Amenity:', 'Extra Room:', 'Wine Room:', 'Sunroom:', 'Guest Suite:', \n",
    "                       'Garage Apartment:'],axis=1,inplace=True)"
   ]
  },
  {
   "cell_type": "markdown",
   "metadata": {},
   "source": [
    "Next step is looking at the features with more than 80% none values:"
   ]
  },
  {
   "cell_type": "code",
   "execution_count": 557,
   "metadata": {},
   "outputs": [
    {
     "name": "stdout",
     "output_type": "stream",
     "text": [
      "Number of Features with more than 80% None:  14\n"
     ]
    }
   ],
   "source": [
    "missing = missing_cal(single_family_df)\n",
    "nan_80 = missing.loc[missing['%']>80].index\n",
    "print('Number of Features with more than 80% None: ',len(nan_80))"
   ]
  },
  {
   "cell_type": "code",
   "execution_count": 558,
   "metadata": {},
   "outputs": [
    {
     "data": {
      "text/html": [
       "<div>\n",
       "<style scoped>\n",
       "    .dataframe tbody tr th:only-of-type {\n",
       "        vertical-align: middle;\n",
       "    }\n",
       "\n",
       "    .dataframe tbody tr th {\n",
       "        vertical-align: top;\n",
       "    }\n",
       "\n",
       "    .dataframe thead th {\n",
       "        text-align: right;\n",
       "    }\n",
       "</style>\n",
       "<table border=\"1\" class=\"dataframe\">\n",
       "  <thead>\n",
       "    <tr style=\"text-align: right;\">\n",
       "      <th></th>\n",
       "      <th>count</th>\n",
       "      <th>%</th>\n",
       "    </tr>\n",
       "  </thead>\n",
       "  <tbody>\n",
       "    <tr>\n",
       "      <th>Average Square Ft.:</th>\n",
       "      <td>9412</td>\n",
       "      <td>84.480747</td>\n",
       "    </tr>\n",
       "    <tr>\n",
       "      <th>Average Price/Square Ft.:</th>\n",
       "      <td>9412</td>\n",
       "      <td>84.480747</td>\n",
       "    </tr>\n",
       "    <tr>\n",
       "      <th>Market Area Name:</th>\n",
       "      <td>9413</td>\n",
       "      <td>84.489723</td>\n",
       "    </tr>\n",
       "    <tr>\n",
       "      <th>Home For Sales:</th>\n",
       "      <td>9413</td>\n",
       "      <td>84.489723</td>\n",
       "    </tr>\n",
       "    <tr>\n",
       "      <th>Average List Price:</th>\n",
       "      <td>9413</td>\n",
       "      <td>84.489723</td>\n",
       "    </tr>\n",
       "    <tr>\n",
       "      <th>Home For Lease:</th>\n",
       "      <td>9413</td>\n",
       "      <td>84.489723</td>\n",
       "    </tr>\n",
       "    <tr>\n",
       "      <th>Average Lease:</th>\n",
       "      <td>9413</td>\n",
       "      <td>84.489723</td>\n",
       "    </tr>\n",
       "    <tr>\n",
       "      <th>Average Lease/Square Ft.:</th>\n",
       "      <td>9413</td>\n",
       "      <td>84.489723</td>\n",
       "    </tr>\n",
       "    <tr>\n",
       "      <th>Bath:</th>\n",
       "      <td>9449</td>\n",
       "      <td>84.812853</td>\n",
       "    </tr>\n",
       "    <tr>\n",
       "      <th>Den:</th>\n",
       "      <td>9486</td>\n",
       "      <td>85.144960</td>\n",
       "    </tr>\n",
       "    <tr>\n",
       "      <th>Private Pool Desc:</th>\n",
       "      <td>9654</td>\n",
       "      <td>86.652904</td>\n",
       "    </tr>\n",
       "    <tr>\n",
       "      <th>Controlled Access:</th>\n",
       "      <td>9770</td>\n",
       "      <td>87.694103</td>\n",
       "    </tr>\n",
       "    <tr>\n",
       "      <th>Master Planned Community:</th>\n",
       "      <td>9843</td>\n",
       "      <td>88.349340</td>\n",
       "    </tr>\n",
       "    <tr>\n",
       "      <th>Median Appraised Value / Square ft.:</th>\n",
       "      <td>10217</td>\n",
       "      <td>91.706310</td>\n",
       "    </tr>\n",
       "  </tbody>\n",
       "</table>\n",
       "</div>"
      ],
      "text/plain": [
       "                                      count          %\n",
       "Average Square Ft.:                    9412  84.480747\n",
       "Average Price/Square Ft.:              9412  84.480747\n",
       "Market Area Name:                      9413  84.489723\n",
       "Home For Sales:                        9413  84.489723\n",
       "Average List Price:                    9413  84.489723\n",
       "Home For Lease:                        9413  84.489723\n",
       "Average Lease:                         9413  84.489723\n",
       "Average Lease/Square Ft.:              9413  84.489723\n",
       "Bath:                                  9449  84.812853\n",
       "Den:                                   9486  85.144960\n",
       "Private Pool Desc:                     9654  86.652904\n",
       "Controlled Access:                     9770  87.694103\n",
       "Master Planned Community:              9843  88.349340\n",
       "Median Appraised Value / Square ft.:  10217  91.706310"
      ]
     },
     "execution_count": 558,
     "metadata": {},
     "output_type": "execute_result"
    }
   ],
   "source": [
    "missing.loc[nan_80].sort_values(by=\"%\")"
   ]
  },
  {
   "cell_type": "code",
   "execution_count": 559,
   "metadata": {},
   "outputs": [
    {
     "name": "stdout",
     "output_type": "stream",
     "text": [
      "Value Count for Private Pool Desc:\n",
      "In Ground                                355\n",
      "Gunite, In Ground                        344\n",
      "Gunite, Heated, In Ground                234\n",
      "Gunite                                   217\n",
      "Heated, In Ground                         92\n",
      "Gunite, Heated, In Ground, Salt Water     46\n",
      "Gunite, Heated                            40\n",
      "Above Ground                              28\n",
      "Heated, In Ground, Salt Water             21\n",
      "Gunite, In Ground, Salt Water             20\n",
      "In Ground, Salt Water                     16\n",
      "Gunite, Salt Water                        13\n",
      "Gunite, Heated, Salt Water                10\n",
      "Enclosed, Heated, In Ground                8\n",
      "Heated                                     5\n",
      "In Ground, Vinyl Lined                     5\n",
      "Fiberglass, In Ground                      5\n",
      "Salt Water                                 4\n",
      "Enclosed, In Ground                        4\n",
      "Fiberglass                                 4\n",
      "Enclosed, Gunite, In Ground                2\n",
      "Above Ground, In Ground                    2\n",
      "Heated, Salt Water                         2\n",
      "Above Ground, Heated                       2\n",
      "Fiberglass, In Ground, Vinyl Lined         1\n",
      "Enclosed, Salt Water                       1\n",
      "Above Ground, Vinyl Lined                  1\n",
      "Enclosed, Heated                           1\n",
      "Fiberglass, Salt Water                     1\n",
      "Above Ground, Fiberglass, Heated           1\n",
      "Above Ground, Gunite, Heated               1\n",
      "Vinyl Lined                                1\n",
      "Name: Private Pool Desc:, dtype: int64\n",
      "----------------------------------------------------------------------------------------------------\n",
      "Value Count for Controlled Access:\n",
      "Automatic Gate                                521\n",
      "Driveway Gate                                 422\n",
      "Automatic Gate, Driveway Gate                 234\n",
      "Manned Gate                                   118\n",
      "Automatic Gate, Intercom                       29\n",
      "Automatic Gate, Manned Gate                    14\n",
      "Intercom                                       10\n",
      "Automatic Gate, Driveway Gate, Intercom         7\n",
      "Driveway Gate, Manned Gate                      4\n",
      "Driveway Gate, Intercom                         4\n",
      "Automatic Gate, Driveway Gate, Manned Gate      4\n",
      "Automatic Gate, Intercom, Manned Gate           3\n",
      "Intercom, Manned Gate                           1\n",
      "Name: Controlled Access:, dtype: int64\n",
      "----------------------------------------------------------------------------------------------------\n",
      "Value Count for Master Planned Community:\n",
      "Kingwood                      235\n",
      "Aliana                        118\n",
      "Bridgeland                    100\n",
      "Tavola                         76\n",
      "Cane Island                    69\n",
      "Clear Lake City                66\n",
      "The Woodlands                  62\n",
      "Towne Lake                     61\n",
      "Woodson's Reserve              52\n",
      "Elyson                         49\n",
      "Gleannloch Farms               38\n",
      "Oakhurst at Kingwood           34\n",
      "Long Meadow Farms              33\n",
      "Harmony                        31\n",
      "Copperfield                    29\n",
      "Grand Mission                  26\n",
      "The Falls at Imperial Oaks     20\n",
      "Lakes at Creekside             18\n",
      "Windrose                       16\n",
      "Sugar Creek                    15\n",
      "Wildwood at Northpointe        14\n",
      "Valley Ranch                   13\n",
      "First Colony                   13\n",
      "Cypress Creek Lakes            12\n",
      "Coles Crossing                 12\n",
      "Stone Gate                     12\n",
      "Canyon Lakes at Stone Gate     11\n",
      "City Park                      10\n",
      "Spring Trails                  10\n",
      "Lakemont                        9\n",
      "Imperial Oaks                   7\n",
      "Fairfield                       5\n",
      "Fieldstone                      5\n",
      "Canyon Gate at Northpointe      4\n",
      "Quail Valley                    2\n",
      "Spring Lakes                    2\n",
      "Woodtrace                       1\n",
      "Twin Oaks                       1\n",
      "New Territory                   1\n",
      "Steeplechase                    1\n",
      "West Ranch                      1\n",
      "River Park West                 1\n",
      "WoodCreek Reserve               1\n",
      "Traditions                      1\n",
      "Canyon Lakes West               1\n",
      "Name: Master Planned Community:, dtype: int64\n",
      "----------------------------------------------------------------------------------------------------\n",
      "Value Count for Market Area Name:\n",
      "Katy - Old Towne        134\n",
      "Spring Branch           128\n",
      "Cypress South           105\n",
      "Medical Center South     98\n",
      "Hockley                  74\n",
      "                       ... \n",
      "Memorial West             1\n",
      "Lake Conroe Area          1\n",
      "Westchase Area            1\n",
      "Memorial Villages         1\n",
      "Pasadena                  1\n",
      "Name: Market Area Name:, Length: 73, dtype: int64\n",
      "----------------------------------------------------------------------------------------------------\n",
      "Value Count for Home For Sales:\n",
      "559      134\n",
      "555      105\n",
      "425.0     98\n",
      "287       73\n",
      "820.0     71\n",
      "        ... \n",
      "209        1\n",
      "726        1\n",
      "1,559      1\n",
      "248.0      1\n",
      "268        1\n",
      "Name: Home For Sales:, Length: 83, dtype: int64\n",
      "----------------------------------------------------------------------------------------------------\n",
      "Value Count for Average List Price:\n",
      "$358,099     134\n",
      "$462,259     128\n",
      "$401,192     105\n",
      "$197,820      98\n",
      "$315,400      74\n",
      "            ... \n",
      "$362,233       1\n",
      "$497,916       1\n",
      "$369,656       1\n",
      "$400,610       1\n",
      "$704,744       1\n",
      "Name: Average List Price:, Length: 73, dtype: int64\n",
      "----------------------------------------------------------------------------------------------------\n",
      "Value Count for Average Square Ft.:\n",
      "2,629    134\n",
      "2,329    128\n",
      "2,912    105\n",
      "1,662     98\n",
      "2,161     74\n",
      "        ... \n",
      "2,280      1\n",
      "2,822      1\n",
      "5,325      1\n",
      "2,550      1\n",
      "2,747      1\n",
      "Name: Average Square Ft.:, Length: 74, dtype: int64\n",
      "----------------------------------------------------------------------------------------------------\n",
      "Value Count for Average Price/Square Ft.:\n",
      "$135.88     134\n",
      "$195.15     128\n",
      "$137.48     105\n",
      "$120.99      98\n",
      "$141.22      74\n",
      "           ... \n",
      "$141.30       1\n",
      "$160.00       1\n",
      "$387.93       1\n",
      "$130.43       1\n",
      "$169.04       1\n",
      "Name: Average Price/Square Ft.:, Length: 73, dtype: int64\n",
      "----------------------------------------------------------------------------------------------------\n",
      "Value Count for Home For Lease:\n",
      "30.0     134\n",
      "223.0    128\n",
      "61.0     105\n",
      "71.0      98\n",
      "104.0     77\n",
      "        ... \n",
      "45.0       2\n",
      "274.0      1\n",
      "79.0       1\n",
      "95.0       1\n",
      "72.0       1\n",
      "Name: Home For Lease:, Length: 66, dtype: int64\n",
      "----------------------------------------------------------------------------------------------------\n",
      "Value Count for Average Lease:\n",
      "$1,914     134\n",
      "$1,896     128\n",
      "$1,939     105\n",
      "$1,462      98\n",
      "$1,937      88\n",
      "          ... \n",
      "$2,572       1\n",
      "$2,066       1\n",
      "$2,134       1\n",
      "$1,372       1\n",
      "$1,843       1\n",
      "Name: Average Lease:, Length: 72, dtype: int64\n",
      "----------------------------------------------------------------------------------------------------\n",
      "Value Count for Average Lease/Square Ft.:\n",
      "$0.98     235\n",
      "$1.26     128\n",
      "$1.01     125\n",
      "$1.02      98\n",
      "$0.93      85\n",
      "$1.09      72\n",
      "$0.90      72\n",
      "$1.57      70\n",
      "$0.96      68\n",
      "$0.92      63\n",
      "$1.23      61\n",
      "$1.55      61\n",
      "$1.27      50\n",
      "$1.03      47\n",
      "$0.99      47\n",
      "$1.29      47\n",
      "$1.06      43\n",
      "$1.47      37\n",
      "$1.41      36\n",
      "$0.95      34\n",
      "$1.53      28\n",
      "$0.94      28\n",
      "$1.30      20\n",
      "$1.68      20\n",
      "$1.10      20\n",
      "$1.15      17\n",
      "$1.11      15\n",
      "$1.13      14\n",
      "$1.58      13\n",
      "$1.28      13\n",
      "$1.12       9\n",
      "$1.49       7\n",
      "$1.48       6\n",
      "$0.87       5\n",
      "$1.54       5\n",
      "$1.14       4\n",
      "$0.88       4\n",
      "$1.85       4\n",
      "$1.19       3\n",
      "$2.10       3\n",
      "$1.50       3\n",
      "$1.07       3\n",
      "$0.97       2\n",
      "$1.08       1\n",
      "$1.71       1\n",
      "$3.94       1\n",
      "Name: Average Lease/Square Ft.:, dtype: int64\n",
      "----------------------------------------------------------------------------------------------------\n",
      "Value Count for Median Appraised Value / Square ft.:\n",
      "$196.51     9\n",
      "$76.60      8\n",
      "$253.57     8\n",
      "$120.49     6\n",
      "$41.05      6\n",
      "           ..\n",
      "$61.74      1\n",
      "$48.49      1\n",
      "$33.24      1\n",
      "$112.13     1\n",
      "$171.61     1\n",
      "Name: Median Appraised Value / Square ft.:, Length: 615, dtype: int64\n",
      "----------------------------------------------------------------------------------------------------\n",
      "Value Count for Den:\n",
      "['1st', '1st']                                    33\n",
      "['17x15, 1st', '5.18 x 4.57(m)']                  27\n",
      "['17x16, 1st', '5.18 x 4.88(m)']                  21\n",
      "['20x15, 1st', '6.10 x 4.57(m)']                  21\n",
      "['20x16, 1st', '6.10 x 4.88(m)']                  21\n",
      "                                                  ..\n",
      "['23 x 15, 1st', '23 , 15, 1st']                   1\n",
      "['14X20, 1st', '4.27 x 6.10(m)']                   1\n",
      "['18\\'2\"x13\\'10\", 2nd', '18\\'2\",13\\'10\", 2nd']     1\n",
      "['17 x 18, 2nd', '17 , 18, 2nd']                   1\n",
      "['35 X 17, 1st', '35 , 17, 1st']                   1\n",
      "Name: Den:, Length: 652, dtype: int64\n",
      "----------------------------------------------------------------------------------------------------\n",
      "Value Count for Bath:\n",
      "['1st', '1st']                                                                                                                                            178\n",
      "['1st', '2nd', '1st', '2nd']                                                                                                                               86\n",
      "['2nd', '1st', '2nd', '1st']                                                                                                                               83\n",
      "['1st', '1st', '1st', '1st']                                                                                                                               62\n",
      "['1st', '2nd', '2nd', '1st', '2nd', '2nd']                                                                                                                 60\n",
      "                                                                                                                                                         ... \n",
      "['5x8, 2nd', '5x8, 2nd', '1.52 x 2.44(m)', '1.52 x 2.44(m)']                                                                                                1\n",
      "['12x5, 2nd', '5x10, 1st', '5x10, 2nd', '3.66 x 1.52(m)', '1.52 x 3.05(m)', '1.52 x 3.05(m)']                                                               1\n",
      "['9x6, 2nd', '6x5, 1st', '6x5, 2nd', '4x8, 1st', '4x4, 1st', '2.74 x 1.83(m)', '1.83 x 1.52(m)', '1.83 x 1.52(m)', '1.22 x 2.44(m)', '1.22 x 1.22(m)']      1\n",
      "['4x11, 1st', '4x4, 1st', '1.22 x 3.35(m)', '1.22 x 1.22(m)']                                                                                               1\n",
      "['10\\'6\" x 10\\'10\", 1st', '10\\'6\" , 10\\'10\", 1st']                                                                                                          1\n",
      "Name: Bath:, Length: 751, dtype: int64\n",
      "----------------------------------------------------------------------------------------------------\n"
     ]
    }
   ],
   "source": [
    "#printing value count for each feature with more than 80 none value\n",
    "for item in nan_80:\n",
    "    print('Value Count for '+item)\n",
    "    print(single_family_df[item].value_counts())\n",
    "    print('-'*100)"
   ]
  },
  {
   "cell_type": "markdown",
   "metadata": {},
   "source": [
    "* `Controlled Access`categories are mixed  of 'Automatic', 'Driveway', 'Manned' and 'Intercom' that makes me believe the rest of the house do not have any type of controlled access. I think filling none values with 'No controlled access' would be reasonable.\n",
    "* Same as `Water Amenity` there are so many categories for 'Private Pool Desc'. After counting each category for `Private Pool:` groups figured out that there are description for house without private pool and I think it may happened by mistake and I decided to drop this column.\n",
    "* `Master Planned Community` and `Market Area Name` categories seems to be same as subdivision name and we will deal with them later on subdivision section\n",
    "* `Home For Sales`, `Average List Price`,`Average Square Ft.`,`Average Price/Square Ft.`, `Home For Lease`, `Average Lease`and `Average Lease/Square Ft.`, are the facts (based on active listing) for each subdivision and can be fill by the value for same subdivision.\n",
    "* `Den` and `Bath` are dimension along with other values like '1th' which I think is typo mistake and I decided to drop them."
   ]
  },
  {
   "cell_type": "code",
   "execution_count": 560,
   "metadata": {},
   "outputs": [
    {
     "data": {
      "text/plain": [
       "Private Pool:  Private Pool Desc:                   \n",
       "No             In Ground                                 14\n",
       "               Enclosed, Heated, In Ground                6\n",
       "               Above Ground                               4\n",
       "               Heated, In Ground                          4\n",
       "               Gunite                                     3\n",
       "               Gunite, In Ground                          3\n",
       "               Fiberglass                                 2\n",
       "               Gunite, Heated, In Ground                  1\n",
       "Yes            Gunite, In Ground                        341\n",
       "               In Ground                                341\n",
       "               Gunite, Heated, In Ground                233\n",
       "               Gunite                                   214\n",
       "               Heated, In Ground                         88\n",
       "               Gunite, Heated, In Ground, Salt Water     46\n",
       "               Gunite, Heated                            40\n",
       "               Above Ground                              24\n",
       "               Heated, In Ground, Salt Water             21\n",
       "               Gunite, In Ground, Salt Water             20\n",
       "               In Ground, Salt Water                     16\n",
       "               Gunite, Salt Water                        13\n",
       "               Gunite, Heated, Salt Water                10\n",
       "               Fiberglass, In Ground                      5\n",
       "               Heated                                     5\n",
       "               In Ground, Vinyl Lined                     5\n",
       "               Enclosed, In Ground                        4\n",
       "               Salt Water                                 4\n",
       "               Above Ground, Heated                       2\n",
       "               Above Ground, In Ground                    2\n",
       "               Enclosed, Gunite, In Ground                2\n",
       "               Enclosed, Heated, In Ground                2\n",
       "               Fiberglass                                 2\n",
       "               Heated, Salt Water                         2\n",
       "               Above Ground, Fiberglass, Heated           1\n",
       "               Above Ground, Gunite, Heated               1\n",
       "               Above Ground, Vinyl Lined                  1\n",
       "               Enclosed, Heated                           1\n",
       "               Enclosed, Salt Water                       1\n",
       "               Fiberglass, In Ground, Vinyl Lined         1\n",
       "               Fiberglass, Salt Water                     1\n",
       "               Vinyl Lined                                1\n",
       "Name: Private Pool Desc:, dtype: int64"
      ]
     },
     "execution_count": 560,
     "metadata": {},
     "output_type": "execute_result"
    }
   ],
   "source": [
    "#counting 'Private Pool Desc:' category for `Private Pool:` groups\n",
    "single_family_df.groupby('Private Pool:')['Private Pool Desc:'].value_counts()"
   ]
  },
  {
   "cell_type": "code",
   "execution_count": 561,
   "metadata": {},
   "outputs": [],
   "source": [
    "single_family_df.drop(['Private Pool Desc:','Bath:','Den:'],axis=1,inplace=True)\n",
    "# Replacing None value for 'Carport Description:' with 'not applicable'\n",
    "single_family_df['Controlled Access:'][single_family_df['Controlled Access:'].isnull()]='no controlled access'"
   ]
  },
  {
   "cell_type": "markdown",
   "metadata": {},
   "source": [
    "Now I investigating features with more than 70% none values:"
   ]
  },
  {
   "cell_type": "code",
   "execution_count": 562,
   "metadata": {},
   "outputs": [
    {
     "name": "stdout",
     "output_type": "stream",
     "text": [
      "Number of Features with more than 70% None:  2\n"
     ]
    }
   ],
   "source": [
    "missing = missing_cal(single_family_df)\n",
    "nan_70 = missing.loc[((missing['%']>70 )& (missing['%']<80))].index\n",
    "print('Number of Features with more than 70% None: ',len(nan_70))"
   ]
  },
  {
   "cell_type": "code",
   "execution_count": 563,
   "metadata": {},
   "outputs": [
    {
     "data": {
      "text/html": [
       "<div>\n",
       "<style scoped>\n",
       "    .dataframe tbody tr th:only-of-type {\n",
       "        vertical-align: middle;\n",
       "    }\n",
       "\n",
       "    .dataframe tbody tr th {\n",
       "        vertical-align: top;\n",
       "    }\n",
       "\n",
       "    .dataframe thead th {\n",
       "        text-align: right;\n",
       "    }\n",
       "</style>\n",
       "<table border=\"1\" class=\"dataframe\">\n",
       "  <thead>\n",
       "    <tr style=\"text-align: right;\">\n",
       "      <th></th>\n",
       "      <th>count</th>\n",
       "      <th>%</th>\n",
       "    </tr>\n",
       "  </thead>\n",
       "  <tbody>\n",
       "    <tr>\n",
       "      <th>Family Room:</th>\n",
       "      <td>7858</td>\n",
       "      <td>70.532268</td>\n",
       "    </tr>\n",
       "    <tr>\n",
       "      <th>Primary Bath:</th>\n",
       "      <td>8315</td>\n",
       "      <td>74.634234</td>\n",
       "    </tr>\n",
       "  </tbody>\n",
       "</table>\n",
       "</div>"
      ],
      "text/plain": [
       "               count          %\n",
       "Family Room:    7858  70.532268\n",
       "Primary Bath:   8315  74.634234"
      ]
     },
     "execution_count": 563,
     "metadata": {},
     "output_type": "execute_result"
    }
   ],
   "source": [
    "missing.loc[nan_70].sort_values(by=\"%\")"
   ]
  },
  {
   "cell_type": "code",
   "execution_count": 564,
   "metadata": {},
   "outputs": [
    {
     "name": "stdout",
     "output_type": "stream",
     "text": [
      "Value Count for Family Room:\n",
      "['1st', '1st']                          75\n",
      "['18x16, 1st', '5.49 x 4.88(m)']        52\n",
      "['20x16, 1st', '6.10 x 4.88(m)']        51\n",
      "['21x17, 1st', '6.40 x 5.18(m)']        39\n",
      "['17x16, 1st', '5.18 x 4.88(m)']        37\n",
      "                                        ..\n",
      "[\"16'6x19'8, 1st\", \"16'6,19'8, 1st\"]     1\n",
      "['35x19, 2nd', '10.67 x 5.79(m)']        1\n",
      "['28x26, 1st', '8.53 x 7.92(m)']         1\n",
      "[\"27'5x14'7, 1st\", \"27'5,14'7, 1st\"]     1\n",
      "[\"21'2x18'6, 1st\", \"21'2,18'6, 1st\"]     1\n",
      "Name: Family Room:, Length: 939, dtype: int64\n",
      "----------------------------------------------------------------------------------------------------\n",
      "Value Count for Primary Bath:\n",
      "['1st', '1st']                                                      765\n",
      "['2nd', '2nd']                                                      308\n",
      "['3rd', '3rd']                                                      128\n",
      "['12x10, 1st', '3.66 x 3.05(m)']                                     31\n",
      "['12x7, 1st', '3.66 x 2.13(m)']                                      20\n",
      "                                                                   ... \n",
      "['17X12, 1st', '17X12, 1st', '5.18 x 3.66(m)', '5.18 x 3.66(m)']      1\n",
      "['5x15, 1st', '1.52 x 4.57(m)']                                       1\n",
      "['13x09, 1st', '3.96 x 2.74(m)']                                      1\n",
      "['10*8, 3rd', '10*8, 3rd']                                            1\n",
      "['12x13, 2nd', '3.66 x 3.96(m)']                                      1\n",
      "Name: Primary Bath:, Length: 891, dtype: int64\n",
      "----------------------------------------------------------------------------------------------------\n"
     ]
    }
   ],
   "source": [
    "#printing value count for each feature with more than 70 none value\n",
    "for item in nan_70:\n",
    "    print('Value Count for '+item)\n",
    "    print(single_family_df[item].value_counts())\n",
    "    print('-'*100)"
   ]
  },
  {
   "cell_type": "markdown",
   "metadata": {},
   "source": [
    "`Family Room` and `Primary Bath` are dimension for family room and master bath room and all houses should have these values and can not be 0. I think dropping these features would be appropriate since I can not fill values for more than 70% of houses."
   ]
  },
  {
   "cell_type": "code",
   "execution_count": 565,
   "metadata": {},
   "outputs": [],
   "source": [
    "single_family_df.drop(['Family Room:','Primary Bath:'],axis=1,inplace=True)"
   ]
  },
  {
   "cell_type": "markdown",
   "metadata": {},
   "source": [
    "Next step is to look at features with none values between 50% and 60%:"
   ]
  },
  {
   "cell_type": "code",
   "execution_count": 566,
   "metadata": {},
   "outputs": [
    {
     "name": "stdout",
     "output_type": "stream",
     "text": [
      "Number of Features with more than 50% and less than 60% None:  6\n"
     ]
    }
   ],
   "source": [
    "missing = missing_cal(single_family_df)\n",
    "nan_50_60 = missing.loc[((missing['%']>50 )& (missing['%']<70))].index\n",
    "print('Number of Features with more than 50% and less than 60% None: ',len(nan_50_60))"
   ]
  },
  {
   "cell_type": "code",
   "execution_count": 567,
   "metadata": {},
   "outputs": [
    {
     "data": {
      "text/html": [
       "<div>\n",
       "<style scoped>\n",
       "    .dataframe tbody tr th:only-of-type {\n",
       "        vertical-align: middle;\n",
       "    }\n",
       "\n",
       "    .dataframe tbody tr th {\n",
       "        vertical-align: top;\n",
       "    }\n",
       "\n",
       "    .dataframe thead th {\n",
       "        text-align: right;\n",
       "    }\n",
       "</style>\n",
       "<table border=\"1\" class=\"dataframe\">\n",
       "  <thead>\n",
       "    <tr style=\"text-align: right;\">\n",
       "      <th></th>\n",
       "      <th>count</th>\n",
       "      <th>%</th>\n",
       "    </tr>\n",
       "  </thead>\n",
       "  <tbody>\n",
       "    <tr>\n",
       "      <th>Front Door:</th>\n",
       "      <td>6471</td>\n",
       "      <td>58.082757</td>\n",
       "    </tr>\n",
       "    <tr>\n",
       "      <th>Breakfast:</th>\n",
       "      <td>6724</td>\n",
       "      <td>60.353649</td>\n",
       "    </tr>\n",
       "    <tr>\n",
       "      <th>Garage Carport:</th>\n",
       "      <td>6734</td>\n",
       "      <td>60.443407</td>\n",
       "    </tr>\n",
       "    <tr>\n",
       "      <th>Utility Room Desc:</th>\n",
       "      <td>7178</td>\n",
       "      <td>64.428687</td>\n",
       "    </tr>\n",
       "    <tr>\n",
       "      <th>Game Room:</th>\n",
       "      <td>7367</td>\n",
       "      <td>66.125123</td>\n",
       "    </tr>\n",
       "    <tr>\n",
       "      <th>Study/Library:</th>\n",
       "      <td>7658</td>\n",
       "      <td>68.737097</td>\n",
       "    </tr>\n",
       "  </tbody>\n",
       "</table>\n",
       "</div>"
      ],
      "text/plain": [
       "                    count          %\n",
       "Front Door:          6471  58.082757\n",
       "Breakfast:           6724  60.353649\n",
       "Garage Carport:      6734  60.443407\n",
       "Utility Room Desc:   7178  64.428687\n",
       "Game Room:           7367  66.125123\n",
       "Study/Library:       7658  68.737097"
      ]
     },
     "execution_count": 567,
     "metadata": {},
     "output_type": "execute_result"
    }
   ],
   "source": [
    "missing.loc[nan_50_60].sort_values(by=\"%\")"
   ]
  },
  {
   "cell_type": "code",
   "execution_count": 568,
   "metadata": {},
   "outputs": [
    {
     "name": "stdout",
     "output_type": "stream",
     "text": [
      "Value Count for Breakfast:\n",
      "['1st', '1st']                            192\n",
      "['10x10, 1st', '3.05 x 3.05(m)']          155\n",
      "['11x10, 1st', '3.35 x 3.05(m)']          149\n",
      "['12x10, 1st', '3.66 x 3.05(m)']          147\n",
      "['10x9, 1st', '3.05 x 2.74(m)']           108\n",
      "                                         ... \n",
      "['13.8x9.3, 1st', '4.21 x 2.83(m)']         1\n",
      "['17 x 13, 1st', '17 , 13, 1st']            1\n",
      "[\"11'2 x 12', 1st\", \"11'2 , 12', 1st\"]      1\n",
      "['9x7.5, 1st', '2.74 x 2.29(m)']            1\n",
      "['7 x 7, 2nd', '7 , 7, 2nd']                1\n",
      "Name: Breakfast:, Length: 769, dtype: int64\n",
      "----------------------------------------------------------------------------------------------------\n",
      "Value Count for Game Room:\n",
      "['2nd', '2nd']                                  72\n",
      "['18x14, 2nd', '5.49 x 4.27(m)']                52\n",
      "['19x16, 2nd', '5.79 x 4.88(m)']                44\n",
      "['18x16, 2nd', '5.49 x 4.88(m)']                37\n",
      "['16x14, 2nd', '4.88 x 4.27(m)']                37\n",
      "                                                ..\n",
      "['NA, 2nd', 'NA, 2nd']                           1\n",
      "['13.5X24, 2nd', '4.11 x 7.32(m)']               1\n",
      "['34x17, 2nd', '10.36 x 5.18(m)']                1\n",
      "['15x12, 3rd', '4.57 x 3.66(m)']                 1\n",
      "['10â x 13â, 1st', '10â , 13â, 1st']     1\n",
      "Name: Game Room:, Length: 1313, dtype: int64\n",
      "----------------------------------------------------------------------------------------------------\n",
      "Value Count for Study/Library:\n",
      "['12x11, 1st', '3.66 x 3.35(m)']                                    163\n",
      "['12x12, 1st', '3.66 x 3.66(m)']                                    133\n",
      "['13x11, 1st', '3.96 x 3.35(m)']                                    127\n",
      "['13x12, 1st', '3.96 x 3.66(m)']                                    127\n",
      "['14x12, 1st', '4.27 x 3.66(m)']                                     94\n",
      "                                                                   ... \n",
      "['18x33, 1st', '5.49 x 10.06(m)']                                     1\n",
      "['14X12, 2nd', '4.27 x 3.66(m)']                                      1\n",
      "['24 X 18, 1st', '24 X 18, 1st', '24 , 18, 1st', '24 , 18, 1st']      1\n",
      "['18X18, 1st', '5.49 x 5.49(m)']                                      1\n",
      "['12x13, 2nd', '3.66 x 3.96(m)']                                      1\n",
      "Name: Study/Library:, Length: 836, dtype: int64\n",
      "----------------------------------------------------------------------------------------------------\n",
      "Value Count for Garage Carport:\n",
      "Auto Garage Door Opener                                                                    1185\n",
      "Auto Garage Door Opener, Double-Wide Driveway                                               602\n",
      "Double-Wide Driveway                                                                        600\n",
      "Additional Parking                                                                          192\n",
      "Additional Parking, Auto Garage Door Opener, Double-Wide Driveway                           162\n",
      "                                                                                           ... \n",
      "RV Parking, Workshop                                                                          1\n",
      "Auto Garage Door Opener, Circle Driveway, RV Parking, Workshop                                1\n",
      "Auto Garage Door Opener, Porte-Cochere, Workshop                                              1\n",
      "Auto Garage Door Opener, Circle Driveway, Double-Wide Driveway, Driveway Gate, Workshop       1\n",
      "Auto Driveway Gate, Driveway Gate, Porte-Cochere, Single-Wide Driveway                        1\n",
      "Name: Garage Carport:, Length: 312, dtype: int64\n",
      "----------------------------------------------------------------------------------------------------\n",
      "Value Count for Front Door:\n",
      "South                1362\n",
      "North                1267\n",
      "West                  870\n",
      "East                  849\n",
      "East, North            89\n",
      "South, West            78\n",
      "North, West            77\n",
      "East, South            71\n",
      "East, West              4\n",
      "North, South            2\n",
      "East, North, West       1\n",
      "Name: Front Door:, dtype: int64\n",
      "----------------------------------------------------------------------------------------------------\n",
      "Value Count for Utility Room Desc:\n",
      "['1st', '1st']                            726\n",
      "['2nd', '2nd']                            289\n",
      "['3rd', '3rd']                            125\n",
      "['In House', 'In House']                   94\n",
      "['6x6, 1st', '1.83 x 1.83(m)']             92\n",
      "                                         ... \n",
      "['21X6, 1st', '6.40 x 1.83(m)']             1\n",
      "['07x06, In House', '2.13 x 1.83(m)']       1\n",
      "['13X11, 1st', '3.96 x 3.35(m)']            1\n",
      "['3x7, 2nd', '0.91 x 2.13(m)']              1\n",
      "[\"11'3 x 8'8, 1st\", \"11'3 , 8'8, 1st\"]      1\n",
      "Name: Utility Room Desc:, Length: 854, dtype: int64\n",
      "----------------------------------------------------------------------------------------------------\n"
     ]
    }
   ],
   "source": [
    "#printing value count for each feature with more than 50 none value\n",
    "for item in nan_50_60:\n",
    "    print('Value Count for '+item)\n",
    "    print(single_family_df[item].value_counts())\n",
    "    print('-'*100)"
   ]
  },
  {
   "cell_type": "markdown",
   "metadata": {},
   "source": [
    "It seems we can not do anything to fill NA values for these features because there is no information about dimension for `Utility Room`, `Study/Library`. `Game Room`and `Breakfast` area and I do not know about `Garage Carport` and `Front Door` direction for rest of the houses so, these features can be dropped as well."
   ]
  },
  {
   "cell_type": "code",
   "execution_count": 569,
   "metadata": {},
   "outputs": [],
   "source": [
    "single_family_df.drop(list(nan_50_60),axis=1,inplace=True)"
   ]
  },
  {
   "cell_type": "markdown",
   "metadata": {},
   "source": [
    "So far I investigated features with the none value more than 50% and still need to dig more and also fill values for features that are the facts (based on active listing) for each subdivision like: `Home For Sales`, `Average List Price`,`Average Square Ft.`,`Average Price/Square Ft.`, `Home For Lease`, `Average Lease`and `Average Lease/Square Ft.`. But before that lets take a look at features with none values more than 10%:"
   ]
  },
  {
   "cell_type": "code",
   "execution_count": 570,
   "metadata": {},
   "outputs": [
    {
     "name": "stdout",
     "output_type": "stream",
     "text": [
      "Number of Features with more than 10% and less than 50% None:  35\n"
     ]
    }
   ],
   "source": [
    "missing = missing_cal(single_family_df)\n",
    "nan_10_50 = missing.loc[((missing['%']>10 )& (missing['%']<50))].index\n",
    "print('Number of Features with more than 10% and less than 50% None: ',len(nan_10_50))"
   ]
  },
  {
   "cell_type": "code",
   "execution_count": 571,
   "metadata": {},
   "outputs": [
    {
     "data": {
      "text/html": [
       "<div>\n",
       "<style scoped>\n",
       "    .dataframe tbody tr th:only-of-type {\n",
       "        vertical-align: middle;\n",
       "    }\n",
       "\n",
       "    .dataframe tbody tr th {\n",
       "        vertical-align: top;\n",
       "    }\n",
       "\n",
       "    .dataframe thead th {\n",
       "        text-align: right;\n",
       "    }\n",
       "</style>\n",
       "<table border=\"1\" class=\"dataframe\">\n",
       "  <thead>\n",
       "    <tr style=\"text-align: right;\">\n",
       "      <th></th>\n",
       "      <th>count</th>\n",
       "      <th>%</th>\n",
       "    </tr>\n",
       "  </thead>\n",
       "  <tbody>\n",
       "    <tr>\n",
       "      <th>Garage(s):</th>\n",
       "      <td>1292</td>\n",
       "      <td>11.596805</td>\n",
       "    </tr>\n",
       "    <tr>\n",
       "      <th>Tax Rate:</th>\n",
       "      <td>1323</td>\n",
       "      <td>11.875056</td>\n",
       "    </tr>\n",
       "    <tr>\n",
       "      <th>Dishwasher:</th>\n",
       "      <td>1413</td>\n",
       "      <td>12.682883</td>\n",
       "    </tr>\n",
       "    <tr>\n",
       "      <th>Bedroom Desc:</th>\n",
       "      <td>1682</td>\n",
       "      <td>15.097388</td>\n",
       "    </tr>\n",
       "    <tr>\n",
       "      <th>Median Appraised Value:</th>\n",
       "      <td>1746</td>\n",
       "      <td>15.671843</td>\n",
       "    </tr>\n",
       "    <tr>\n",
       "      <th>Median Year Built:</th>\n",
       "      <td>1746</td>\n",
       "      <td>15.671843</td>\n",
       "    </tr>\n",
       "    <tr>\n",
       "      <th>Median Lot Square Ft.:</th>\n",
       "      <td>1746</td>\n",
       "      <td>15.671843</td>\n",
       "    </tr>\n",
       "    <tr>\n",
       "      <th>Median Square Ft.:</th>\n",
       "      <td>1746</td>\n",
       "      <td>15.671843</td>\n",
       "    </tr>\n",
       "    <tr>\n",
       "      <th>Single Family Properties:</th>\n",
       "      <td>1746</td>\n",
       "      <td>15.671843</td>\n",
       "    </tr>\n",
       "    <tr>\n",
       "      <th>County / Zip Code:</th>\n",
       "      <td>1746</td>\n",
       "      <td>15.671843</td>\n",
       "    </tr>\n",
       "    <tr>\n",
       "      <th>Subdivision Name:</th>\n",
       "      <td>1746</td>\n",
       "      <td>15.671843</td>\n",
       "    </tr>\n",
       "    <tr>\n",
       "      <th>Neighborhood Value Range:</th>\n",
       "      <td>1746</td>\n",
       "      <td>15.671843</td>\n",
       "    </tr>\n",
       "    <tr>\n",
       "      <th>Disposal:</th>\n",
       "      <td>1799</td>\n",
       "      <td>16.147563</td>\n",
       "    </tr>\n",
       "    <tr>\n",
       "      <th>Microwave:</th>\n",
       "      <td>1922</td>\n",
       "      <td>17.251593</td>\n",
       "    </tr>\n",
       "    <tr>\n",
       "      <th>Financing Considered:</th>\n",
       "      <td>1965</td>\n",
       "      <td>17.637555</td>\n",
       "    </tr>\n",
       "    <tr>\n",
       "      <th>Floors:</th>\n",
       "      <td>2045</td>\n",
       "      <td>18.355623</td>\n",
       "    </tr>\n",
       "    <tr>\n",
       "      <th>Range:</th>\n",
       "      <td>2077</td>\n",
       "      <td>18.642851</td>\n",
       "    </tr>\n",
       "    <tr>\n",
       "      <th>Room Description:</th>\n",
       "      <td>2134</td>\n",
       "      <td>19.154474</td>\n",
       "    </tr>\n",
       "    <tr>\n",
       "      <th>Oven:</th>\n",
       "      <td>2425</td>\n",
       "      <td>21.766448</td>\n",
       "    </tr>\n",
       "    <tr>\n",
       "      <th>Connections:</th>\n",
       "      <td>2507</td>\n",
       "      <td>22.502468</td>\n",
       "    </tr>\n",
       "    <tr>\n",
       "      <th>Exterior:</th>\n",
       "      <td>2573</td>\n",
       "      <td>23.094875</td>\n",
       "    </tr>\n",
       "    <tr>\n",
       "      <th>Median Price / Square ft.:</th>\n",
       "      <td>2670</td>\n",
       "      <td>23.965533</td>\n",
       "    </tr>\n",
       "    <tr>\n",
       "      <th>Taxes w/o Exemp:</th>\n",
       "      <td>2833</td>\n",
       "      <td>25.428597</td>\n",
       "    </tr>\n",
       "    <tr>\n",
       "      <th>Energy Feature:</th>\n",
       "      <td>3008</td>\n",
       "      <td>26.999372</td>\n",
       "    </tr>\n",
       "    <tr>\n",
       "      <th>Bathroom Description:</th>\n",
       "      <td>3025</td>\n",
       "      <td>27.151961</td>\n",
       "    </tr>\n",
       "    <tr>\n",
       "      <th>Countertop:</th>\n",
       "      <td>3098</td>\n",
       "      <td>27.807199</td>\n",
       "    </tr>\n",
       "    <tr>\n",
       "      <th>Interior:</th>\n",
       "      <td>3150</td>\n",
       "      <td>28.273943</td>\n",
       "    </tr>\n",
       "    <tr>\n",
       "      <th>Kitchen:</th>\n",
       "      <td>3304</td>\n",
       "      <td>29.656225</td>\n",
       "    </tr>\n",
       "    <tr>\n",
       "      <th>Dining:</th>\n",
       "      <td>3524</td>\n",
       "      <td>31.630913</td>\n",
       "    </tr>\n",
       "    <tr>\n",
       "      <th>Kitchen Desc:</th>\n",
       "      <td>3923</td>\n",
       "      <td>35.212279</td>\n",
       "    </tr>\n",
       "    <tr>\n",
       "      <th>Fireplace:</th>\n",
       "      <td>4531</td>\n",
       "      <td>40.669599</td>\n",
       "    </tr>\n",
       "    <tr>\n",
       "      <th>Living:</th>\n",
       "      <td>4847</td>\n",
       "      <td>43.505969</td>\n",
       "    </tr>\n",
       "    <tr>\n",
       "      <th>Compactor:</th>\n",
       "      <td>5171</td>\n",
       "      <td>46.414146</td>\n",
       "    </tr>\n",
       "    <tr>\n",
       "      <th>Area Pool:</th>\n",
       "      <td>5315</td>\n",
       "      <td>47.706669</td>\n",
       "    </tr>\n",
       "    <tr>\n",
       "      <th>Ice Maker:</th>\n",
       "      <td>5476</td>\n",
       "      <td>49.151782</td>\n",
       "    </tr>\n",
       "  </tbody>\n",
       "</table>\n",
       "</div>"
      ],
      "text/plain": [
       "                            count          %\n",
       "Garage(s):                   1292  11.596805\n",
       "Tax Rate:                    1323  11.875056\n",
       "Dishwasher:                  1413  12.682883\n",
       "Bedroom Desc:                1682  15.097388\n",
       "Median Appraised Value:      1746  15.671843\n",
       "Median Year Built:           1746  15.671843\n",
       "Median Lot Square Ft.:       1746  15.671843\n",
       "Median Square Ft.:           1746  15.671843\n",
       "Single Family Properties:    1746  15.671843\n",
       "County / Zip Code:           1746  15.671843\n",
       "Subdivision Name:            1746  15.671843\n",
       "Neighborhood Value Range:    1746  15.671843\n",
       "Disposal:                    1799  16.147563\n",
       "Microwave:                   1922  17.251593\n",
       "Financing Considered:        1965  17.637555\n",
       "Floors:                      2045  18.355623\n",
       "Range:                       2077  18.642851\n",
       "Room Description:            2134  19.154474\n",
       "Oven:                        2425  21.766448\n",
       "Connections:                 2507  22.502468\n",
       "Exterior:                    2573  23.094875\n",
       "Median Price / Square ft.:   2670  23.965533\n",
       "Taxes w/o Exemp:             2833  25.428597\n",
       "Energy Feature:              3008  26.999372\n",
       "Bathroom Description:        3025  27.151961\n",
       "Countertop:                  3098  27.807199\n",
       "Interior:                    3150  28.273943\n",
       "Kitchen:                     3304  29.656225\n",
       "Dining:                      3524  31.630913\n",
       "Kitchen Desc:                3923  35.212279\n",
       "Fireplace:                   4531  40.669599\n",
       "Living:                      4847  43.505969\n",
       "Compactor:                   5171  46.414146\n",
       "Area Pool:                   5315  47.706669\n",
       "Ice Maker:                   5476  49.151782"
      ]
     },
     "execution_count": 571,
     "metadata": {},
     "output_type": "execute_result"
    }
   ],
   "source": [
    "missing.loc[nan_10_50].sort_values(by=\"%\")"
   ]
  },
  {
   "cell_type": "code",
   "execution_count": 572,
   "metadata": {},
   "outputs": [
    {
     "name": "stdout",
     "output_type": "stream",
     "text": [
      "Value Count for Garage(s):\n",
      "2 / Attached                                    5626\n",
      "2 / Detached                                    1063\n",
      "3 / Attached                                     686\n",
      "1 / Detached                                     341\n",
      "1 / Attached                                     320\n",
      "                                                ... \n",
      "7 / Attached,Oversized                             1\n",
      "7 / Attached/Detached,Detached,Oversized,Tan       1\n",
      "1 / Attached/Detached,Oversized                    1\n",
      "3 / Attached/Detached,Detached                     1\n",
      "9 / Attached,Detached,Oversized                    1\n",
      "Name: Garage(s):, Length: 114, dtype: int64\n",
      "----------------------------------------------------------------------------------------------------\n",
      "Value Count for Living:\n",
      "['15x13, 1st', '4.57 x 3.96(m)']            58\n",
      "['14x12, 1st', '4.27 x 3.66(m)']            57\n",
      "['20x15, 1st', '6.10 x 4.57(m)']            57\n",
      "['20x16, 1st', '6.10 x 4.88(m)']            55\n",
      "['18x15, 1st', '5.49 x 4.57(m)']            55\n",
      "                                            ..\n",
      "[\"12.11x20.1, 1st\", \"12.11',20.1', 1st\"]     1\n",
      "['25 x 17, 1st', '25 , 17, 1st']             1\n",
      "['14 x 18, 2nd', '14 , 18, 2nd']             1\n",
      "['33x12, 1st', '10.06 x 3.66(m)']            1\n",
      "['23 x 17.5, 1st', '23 , 17.5, 1st']         1\n",
      "Name: Living:, Length: 1619, dtype: int64\n",
      "----------------------------------------------------------------------------------------------------\n",
      "Value Count for Dining:\n",
      "['12x11, 1st', '3.66 x 3.35(m)']                      220\n",
      "['13x11, 1st', '3.96 x 3.35(m)']                      203\n",
      "['13x12, 1st', '3.96 x 3.66(m)']                      184\n",
      "['14x12, 1st', '4.27 x 3.66(m)']                      175\n",
      "['1st', '1st']                                        172\n",
      "                                                     ... \n",
      "['19 x 16, 1st', '19 , 16, 1st']                        1\n",
      "['12\\'9\" x 10\\'11\", 1st', '12\\'9\" , 10\\'11\", 1st']      1\n",
      "[\"12'2X14, 2nd\", \"12'2,14, 2nd\"]                        1\n",
      "['19X15, 1st', '5.79 x 4.57(m)']                        1\n",
      "['20x21, 1st', '6.10 x 6.40(m)']                        1\n",
      "Name: Dining:, Length: 1308, dtype: int64\n",
      "----------------------------------------------------------------------------------------------------\n",
      "Value Count for Kitchen:\n",
      "['1st', '1st']                                      376\n",
      "['14x12, 1st', '4.27 x 3.66(m)']                    129\n",
      "['12x10, 1st', '3.66 x 3.05(m)']                    116\n",
      "['12x11, 1st', '3.66 x 3.35(m)']                    100\n",
      "['13x11, 1st', '3.96 x 3.35(m)']                     97\n",
      "                                                   ... \n",
      "['28x9.5, 2nd', '8.53 x 2.90(m)']                     1\n",
      "['8\\'10\" x 10\\'8\", 1st', '8\\'10\" , 10\\'8\", 1st']      1\n",
      "['9 x 11, 1st', '9 , 11, 1st']                        1\n",
      "['21X11, 1st', '6.40 x 3.35(m)']                      1\n",
      "['12*8, 1st', '12*8, 1st']                            1\n",
      "Name: Kitchen:, Length: 1597, dtype: int64\n",
      "----------------------------------------------------------------------------------------------------\n",
      "Value Count for Room Description:\n",
      "['1 Living Area', '1 Living Area']                                                                                                                                                                                                                    135\n",
      "['Breakfast Room, Family Room, Formal Dining, Gameroom Up, Study/Library, Utility Room in House,', 'Breakfast Room, Family Room, Formal Dining, Gameroom Up, Study/Library, Utility Room in House,']                                                   93\n",
      "['Utility Room in House', 'Utility Room in House']                                                                                                                                                                                                     73\n",
      "['Breakfast Room, Family Room, Formal Dining, Utility Room in House,', 'Breakfast Room, Family Room, Formal Dining, Utility Room in House,']                                                                                                           65\n",
      "['Breakfast Room, Family Room, Formal Dining, Formal Living, Utility Room in House,', 'Breakfast Room, Family Room, Formal Dining, Formal Living, Utility Room in House,']                                                                             62\n",
      "                                                                                                                                                                                                                                                     ... \n",
      "['1 Living Area, Breakfast Room, Family Room, Formal Dining, Study/Library, Utility Room in Garage,', '1 Living Area, Breakfast Room, Family Room, Formal Dining, Study/Library, Utility Room in Garage,']                                              1\n",
      "['Breakfast Room, Den, Formal Living, Kitchen/Dining Combo, Living/Dining Combo, Study/Library, Utility Room in Garage,', 'Breakfast Room, Den, Formal Living, Kitchen/Dining Combo, Living/Dining Combo, Study/Library, Utility Room in Garage,']      1\n",
      "['Breakfast Room, Family Room, Living Area - 1st Floor, Study/Library,', 'Breakfast Room, Family Room, Living Area - 1st Floor, Study/Library,']                                                                                                        1\n",
      "['Den, Kitchen/Dining Combo, Living Area - 1st Floor, Utility Room in House,', 'Den, Kitchen/Dining Combo, Living Area - 1st Floor, Utility Room in House,']                                                                                            1\n",
      "['1 Living Area, Breakfast Room, Formal Dining, Gameroom Up, Kitchen/Dining Combo, Utility Room in House,', '1 Living Area, Breakfast Room, Formal Dining, Gameroom Up, Kitchen/Dining Combo, Utility Room in House,']                                  1\n",
      "Name: Room Description:, Length: 3104, dtype: int64\n",
      "----------------------------------------------------------------------------------------------------\n",
      "Value Count for Fireplace:\n",
      "1/Gaslog Fireplace                                            1882\n",
      "1                                                             1131\n",
      "1/Gas Connections                                              872\n",
      "1/Wood Burning Fireplace                                       545\n",
      "1/Gas Connections, Gaslog Fireplace                            460\n",
      "                                                              ... \n",
      "3/Gaslog Fireplace, Mock Fireplace, Wood Burning Fireplace       1\n",
      "1/Mock Fireplace, Wood Burning Fireplace                         1\n",
      "2/Mock Fireplace, Wood Burning Fireplace                         1\n",
      "1/Freestanding, Gas Connections, Mock Fireplace                  1\n",
      "3/Freestanding, Gas Connections                                  1\n",
      "Name: Fireplace:, Length: 92, dtype: int64\n",
      "----------------------------------------------------------------------------------------------------\n",
      "Value Count for Countertop:\n",
      "Granite                 3984\n",
      "Quartz                   991\n",
      "granite                  510\n",
      "GRANITE                  364\n",
      "Stone                    137\n",
      "                        ... \n",
      "Labradorite/Mbl/Gran       1\n",
      "Granite /Qtz/Marble        1\n",
      "Marble granite             1\n",
      "Corian/Quartz              1\n",
      "Granite tile               1\n",
      "Name: Countertop:, Length: 550, dtype: int64\n",
      "----------------------------------------------------------------------------------------------------\n",
      "Value Count for Floors:\n",
      "Carpet, Tile                                        1778\n",
      "Carpet, Tile, Wood                                  1577\n",
      "Tile, Wood                                           872\n",
      "Carpet, Engineered Wood, Tile                        498\n",
      "Tile                                                 385\n",
      "                                                    ... \n",
      "Brick, Carpet, Marble Floors, Slate, Stone, Wood       1\n",
      "Carpet, Laminate, Stone, Tile, Vinyl Plank             1\n",
      "Carpet, Engineered Wood, Marble Floors                 1\n",
      "Terrazo                                                1\n",
      "Bamboo, Carpet, Marble Floors, Wood                    1\n",
      "Name: Floors:, Length: 346, dtype: int64\n",
      "----------------------------------------------------------------------------------------------------\n",
      "Value Count for Bedroom Desc:\n",
      "All Bedrooms Down                                                                                             1282\n",
      "Primary Bed - 1st Floor                                                                                        814\n",
      "Primary Bed - 1st Floor, Walk-In Closet                                                                        634\n",
      "All Bedrooms Up                                                                                                472\n",
      "All Bedrooms Down, Primary Bed - 1st Floor                                                                     367\n",
      "                                                                                                              ... \n",
      "2 Bedrooms Down, Primary Bed - 2nd Floor, Multilevel Bedroom, Split Plan                                         1\n",
      "1 Bedroom Down - Not Primary BR, 2 Primary Bedrooms, En-Suite Bath, Primary Bed - 2nd Floor, Walk-In Clo         1\n",
      "All Bedrooms Up, En-Suite Bath, Primary Bed - 2nd Floor, Split Plan                                              1\n",
      "All Bedrooms Up, Primary Bed - 1st Floor, Split Plan, Walk-In Closet                                             1\n",
      "2 Bedrooms Down, 2 Primary Bedrooms, En-Suite Bath, Primary Bed - 3rd Floor, Sitting Area, Split Plan, Wal       1\n",
      "Name: Bedroom Desc:, Length: 455, dtype: int64\n",
      "----------------------------------------------------------------------------------------------------\n",
      "Value Count for Kitchen Desc:\n",
      "Breakfast Bar, Kitchen open to Family Room, Pantry                                                                                                          387\n",
      "Pantry                                                                                                                                                      362\n",
      "Kitchen open to Family Room                                                                                                                                 281\n",
      "Breakfast Bar                                                                                                                                               270\n",
      "Kitchen open to Family Room, Pantry                                                                                                                         238\n",
      "                                                                                                                                                           ... \n",
      "Breakfast Bar, Island w/o Cooktop, Kitchen open to Family Room, Pot Filler, Under Cabinet Lighting                                                            1\n",
      "Breakfast Bar, Kitchen open to Family Room, Pantry, Soft Closing Cabinets, Walk-in Pantry                                                                     1\n",
      "Second Sink, Walk-in Pantry                                                                                                                                   1\n",
      "Instant Hot Water, Pantry, Under Cabinet Lighting                                                                                                             1\n",
      "Instant Hot Water, Island w/o Cooktop, Kitchen open to Family Room, Pantry, Pots/Pans Drawers, Second Sink, Soft Closing Drawers, Under Cabinet Lighting      1\n",
      "Name: Kitchen Desc:, Length: 956, dtype: int64\n",
      "----------------------------------------------------------------------------------------------------\n",
      "Value Count for Bathroom Description:\n",
      "Double Sinks, Primary Bath + Separate Shower                                             1122\n",
      "Double Sinks, Primary Bath + Separate Shower, Whirlpool/Jetted Tub                        387\n",
      "Primary Bath + Separate Shower                                                            360\n",
      "Double Sinks, Half Bath, Primary Bath + Separate Shower                                   360\n",
      "Primary Bath Shower Only                                                                  292\n",
      "                                                                                         ... \n",
      "Double Sinks, Half Bath, Primary Bath Shower Only, Tub w/shower, Whirlpool/Jetted Tub       1\n",
      "Disabled Access, Primary Bath + Separate Shower, Vanity Area                                1\n",
      "Disabled Access, Shower Only                                                                1\n",
      "Half Bath, Primary w/Tub, Tub w/shower, Two Primary Baths, Whirlpool/Jetted Tub             1\n",
      "Disabled Access, Primary Bath + Separate Shower, Whirlpool/Jetted Tub                       1\n",
      "Name: Bathroom Description:, Length: 504, dtype: int64\n",
      "----------------------------------------------------------------------------------------------------\n",
      "Value Count for Connections:\n",
      "Electric Dryer Connections, Gas Dryer Connections, Washer Connections    4209\n",
      "Electric Dryer Connections, Washer Connections                           2682\n",
      "Gas Dryer Connections, Washer Connections                                 736\n",
      "Electric Dryer Connections                                                336\n",
      "Electric Dryer Connections, Gas Dryer Connections                         276\n",
      "Washer Connections                                                        268\n",
      "Gas Dryer Connections                                                     127\n",
      "Name: Connections:, dtype: int64\n",
      "----------------------------------------------------------------------------------------------------\n",
      "Value Count for Ice Maker:\n",
      "No     5129\n",
      "Yes     536\n",
      "Name: Ice Maker:, dtype: int64\n",
      "----------------------------------------------------------------------------------------------------\n",
      "Value Count for Microwave:\n",
      "Yes    8282\n",
      "No      937\n",
      "Name: Microwave:, dtype: int64\n",
      "----------------------------------------------------------------------------------------------------\n",
      "Value Count for Oven:\n",
      "Electric Oven                                                                  2251\n",
      "Gas Oven                                                                       2102\n",
      "Double Oven                                                                     612\n",
      "Double Oven, Electric Oven                                                      571\n",
      "Electric Oven, Single Oven                                                      420\n",
      "Single Oven                                                                     399\n",
      "Convection Oven                                                                 315\n",
      "Freestanding Oven, Gas Oven                                                     276\n",
      "Freestanding Oven                                                               235\n",
      "Convection Oven, Double Oven                                                    205\n",
      "Convection Oven, Double Oven, Electric Oven                                     188\n",
      "Convection Oven, Electric Oven                                                  178\n",
      "Double Oven, Gas Oven                                                           155\n",
      "Gas Oven, Single Oven                                                           126\n",
      "Freestanding Oven, Gas Oven, Single Oven                                        122\n",
      "Electric Oven, Freestanding Oven                                                 98\n",
      "Convection Oven, Gas Oven                                                        86\n",
      "Convection Oven, Electric Oven, Single Oven                                      57\n",
      "Convection Oven, Single Oven                                                     51\n",
      "Convection Oven, Double Oven, Gas Oven                                           46\n",
      "Electric Oven, Gas Oven                                                          31\n",
      "Electric Oven, Freestanding Oven, Single Oven                                    24\n",
      "Convection Oven, Gas Oven, Single Oven                                           23\n",
      "Freestanding Oven, Single Oven                                                   18\n",
      "Double Oven, Freestanding Oven                                                   17\n",
      "Double Oven, Electric Oven, Gas Oven                                             10\n",
      "Double Oven, Freestanding Oven, Gas Oven                                          9\n",
      "Convection Oven, Freestanding Oven                                                9\n",
      "Convection Oven, Double Oven, Electric Oven, Freestanding Oven                    9\n",
      "Double Oven, Electric Oven, Freestanding Oven                                     9\n",
      "Convection Oven, Double Oven, Freestanding Oven, Gas Oven                         8\n",
      "Convection Oven, Double Oven, Freestanding Oven                                   7\n",
      "Convection Oven, Freestanding Oven, Gas Oven                                      5\n",
      "Convection Oven, Electric Oven, Gas Oven                                          5\n",
      "Convection Oven, Double Oven, Electric Oven, Gas Oven                             5\n",
      "Convection Oven, Freestanding Oven, Gas Oven, Single Oven                         4\n",
      "Convection Oven, Double Oven, Electric Oven, Freestanding Oven, Gas Oven          4\n",
      "Double Oven, Single Oven                                                          4\n",
      "Electric Oven, Freestanding Oven, Gas Oven                                        4\n",
      "Convection Oven, Electric Oven, Freestanding Oven                                 4\n",
      "Convection Oven, Double Oven, Electric Oven, Single Oven                          2\n",
      "Double Oven, Electric Oven, Freestanding Oven, Gas Oven                           2\n",
      "Convection Oven, Electric Oven, Freestanding Oven, Single Oven                    2\n",
      "Convection Oven, Double Oven, Freestanding Oven, Single Oven                      1\n",
      "Convection Oven, Electric Oven, Freestanding Oven, Gas Oven                       1\n",
      "Electric Oven, Freestanding Oven, Gas Oven, Single Oven                           1\n",
      "Double Oven, Electric Oven, Gas Oven, Single Oven                                 1\n",
      "Convection Oven, Freestanding Oven, Single Oven                                   1\n",
      "Double Oven, Electric Oven, Single Oven                                           1\n",
      "Convection Oven, Double Oven, Single Oven                                         1\n",
      "Convection Oven, Double Oven, Electric Oven, Freestanding Oven, Single Oven       1\n",
      "Name: Oven:, dtype: int64\n",
      "----------------------------------------------------------------------------------------------------\n",
      "Value Count for Compactor:\n",
      "No     5745\n",
      "Yes     225\n",
      "Name: Compactor:, dtype: int64\n",
      "----------------------------------------------------------------------------------------------------\n",
      "Value Count for Dishwasher:\n",
      "Yes    9455\n",
      "No      273\n",
      "Name: Dishwasher:, dtype: int64\n",
      "----------------------------------------------------------------------------------------------------\n",
      "Value Count for Range:\n",
      "Gas Cooktop                                                            3148\n",
      "Gas Range                                                              2890\n",
      "Electric Cooktop                                                        936\n",
      "Electric Range                                                          700\n",
      "Freestanding Range, Gas Range                                           509\n",
      "Gas Cooktop, Gas Range                                                  216\n",
      "Freestanding Range                                                      191\n",
      "Electric Range, Freestanding Range                                       98\n",
      "Freestanding Range, Gas Cooktop                                          76\n",
      "Electric Cooktop, Electric Range                                         63\n",
      "Gas Cooktop, Grill                                                       44\n",
      "Gas Range, Grill                                                         34\n",
      "Freestanding Range, Gas Cooktop, Gas Range                               27\n",
      "Electric Cooktop, Freestanding Range                                     25\n",
      "Gas Cooktop, Gas Range, Grill                                            17\n",
      "Electric Range, Gas Cooktop                                              16\n",
      "Electric Range, Gas Range                                                11\n",
      "Freestanding Range, Gas Range, Grill                                     10\n",
      "Electric Cooktop, Grill                                                  10\n",
      "Electric Cooktop, Electric Range, Freestanding Range                     10\n",
      "Electric Cooktop, Gas Cooktop                                             8\n",
      "Electric Cooktop, Gas Cooktop, Gas Range                                  4\n",
      "Electric Range, Gas Cooktop, Gas Range                                    4\n",
      "Freestanding Range, Gas Cooktop, Gas Range, Grill                         4\n",
      "Electric Cooktop, Gas Range                                               3\n",
      "Freestanding Range, Gas Cooktop, Grill                                    2\n",
      "Electric Range, Freestanding Range, Gas Range                             2\n",
      "Grill                                                                     1\n",
      "Electric Cooktop, Freestanding Range, Gas Cooktop, Gas Range, Grill       1\n",
      "Electric Range, Grill                                                     1\n",
      "Electric Cooktop, Electric Range, Gas Cooktop, Gas Range                  1\n",
      "Electric Cooktop, Electric Range, Grill                                   1\n",
      "Electric Cooktop, Gas Cooktop, Grill                                      1\n",
      "Name: Range:, dtype: int64\n",
      "----------------------------------------------------------------------------------------------------\n",
      "Value Count for Disposal:\n",
      "Yes    9006\n",
      "No      336\n",
      "Name: Disposal:, dtype: int64\n",
      "----------------------------------------------------------------------------------------------------\n",
      "Value Count for Energy Feature:\n",
      "Ceiling Fans                                                                                                                                                                                                                                                       1061\n",
      "Ceiling Fans, Digital Program Thermostat                                                                                                                                                                                                                            433\n",
      "Attic Vents, Ceiling Fans, Digital Program Thermostat                                                                                                                                                                                                               141\n",
      "Attic Vents, Ceiling Fans                                                                                                                                                                                                                                           124\n",
      "Ceiling Fans, Digital Program Thermostat, Insulated/Low-E windows                                                                                                                                                                                                   106\n",
      "                                                                                                                                                                                                                                                                   ... \n",
      "Ceiling Fans, Insulated Doors, Insulation - Blown Cellulose                                                                                                                                                                                                           1\n",
      "Ceiling Fans, Digital Program Thermostat, Generator, HVAC>13 SEER, Tankless/On-Demand H2O Heater                                                                                                                                                                      1\n",
      "Attic Vents, Ceiling Fans, Digital Program Thermostat, Energy Star Appliances, Energy Star/CFL/LED Lights, High-Efficiency HVAC, HVAC>13 SEER, Insulated Doors, Insulated/Low-E windows, Insulation - Batt, North/South Exposure, Tankless/On-Demand H2O Heater       1\n",
      "HVAC>13 SEER, Insulation - Batt                                                                                                                                                                                                                                       1\n",
      "Ceiling Fans, Digital Program Thermostat, Energy Star Appliances, High-Efficiency HVAC, HVAC>13 SEER, Insulated/Low-E windows, Solar Screens                                                                                                                          1\n",
      "Name: Energy Feature:, Length: 2752, dtype: int64\n",
      "----------------------------------------------------------------------------------------------------\n",
      "Value Count for Interior:\n",
      "Fire/Smoke Alarm, High Ceiling                                                                                                                                                        369\n",
      "Fire/Smoke Alarm                                                                                                                                                                      324\n",
      "Fire/Smoke Alarm, High Ceiling, Prewired for Alarm System                                                                                                                             297\n",
      "High Ceiling                                                                                                                                                                          208\n",
      "Drapes/Curtains/Window Cover, Fire/Smoke Alarm                                                                                                                                        197\n",
      "                                                                                                                                                                                     ... \n",
      "Spa/Hot Tub, Wet Bar                                                                                                                                                                    1\n",
      "Alarm System - Owned, Crown Molding, Disabled Access, Drapes/Curtains/Window Cover, Fire/Smoke Alarm, Formal Entry/Foyer, High Ceiling, Prewired for Alarm System, Wired for Sound      1\n",
      "Alarm System - Owned, Drapes/Curtains/Window Cover, Dry Bar, Fire/Smoke Alarm                                                                                                           1\n",
      "Alarm System - Owned, Central Vacuum, Drapes/Curtains/Window Cover, Dryer Included, Fire/Smoke Alarm, High Ceiling, Refrigerator Included, Washer Included, Wet Bar                     1\n",
      "Central Vacuum, Crown Molding, Drapes/Curtains/Window Cover, Fire/Smoke Alarm, Formal Entry/Foyer, High Ceiling, Wet Bar, Wired for Sound                                               1\n",
      "Name: Interior:, Length: 2525, dtype: int64\n",
      "----------------------------------------------------------------------------------------------------\n",
      "Value Count for Area Pool:\n",
      "Yes    3451\n",
      "No     2375\n",
      "Name: Area Pool:, dtype: int64\n",
      "----------------------------------------------------------------------------------------------------\n",
      "Value Count for Exterior:\n",
      "Back Yard Fenced                                                                                                                                                 406\n",
      "Back Yard, Back Yard Fenced, Covered Patio/Deck                                                                                                                  358\n",
      "Back Yard Fenced, Covered Patio/Deck                                                                                                                             279\n",
      "Back Yard, Back Yard Fenced                                                                                                                                      231\n",
      "Back Yard Fenced, Patio/Deck                                                                                                                                     191\n",
      "                                                                                                                                                                ... \n",
      "Back Yard, Covered Patio/Deck, Fully Fenced, Side Yard                                                                                                             1\n",
      "Back Green Space, Back Yard, Back Yard Fenced, Covered Patio/Deck, Outdoor Kitchen, Sprinkler System                                                               1\n",
      "Back Yard Fenced, Balcony, Covered Patio/Deck, Outdoor Fireplace, Outdoor Kitchen, Patio/Deck, Porch, Spa/Hot Tub, Sprinkler System, Subdivision Tennis Court      1\n",
      "Back Yard, Back Yard Fenced, Covered Patio/Deck, Fully Fenced, Patio/Deck, Porch, Private Tennis Court, Side Yard, Sprinkler System, Workshop                      1\n",
      "Back Green Space, Back Yard, Back Yard Fenced, Covered Patio/Deck, Partially Fenced, Porch, Screened Porch, Sprinkler System, Storage Shed, Workshop               1\n",
      "Name: Exterior:, Length: 2764, dtype: int64\n",
      "----------------------------------------------------------------------------------------------------\n",
      "Value Count for Financing Considered:\n",
      "Cash Sale, Conventional, FHA, VA                                                                          3832\n",
      "Cash Sale, Conventional                                                                                   2162\n",
      "Cash Sale, Conventional, FHA                                                                               752\n",
      "Cash Sale, Conventional, FHA, Investor, VA                                                                 552\n",
      "Cash Sale, Conventional, VA                                                                                399\n",
      "                                                                                                          ... \n",
      "Cash Sale, VA                                                                                                1\n",
      "Cash Sale, Conventional, FHA, Investor, Owner Financing, VA, Wrap                                            1\n",
      "Cash Sale, Conventional, Owner 2nd, Owner Financing, Seller to Contribute to Buyer's Closing Costs, VA       1\n",
      "FHA, VA                                                                                                      1\n",
      "Cash Sale, Conventional, FHA, Investor, Other, Texas Veterans Land Board, USDA Loan, VA                      1\n",
      "Name: Financing Considered:, Length: 148, dtype: int64\n",
      "----------------------------------------------------------------------------------------------------\n",
      "Value Count for Taxes w/o Exemp:\n",
      "$1, 332/2019     10\n",
      "$1, 016/2019     10\n",
      "$1, 232/2019      9\n",
      "$6, 296/2019      7\n",
      "$15, 740/2019     7\n",
      "                 ..\n",
      "$3, 582/2019      1\n",
      "$487/2019         1\n",
      "$7, 746/2019      1\n",
      "$6, 921/2020      1\n",
      "$6, 813/2019      1\n",
      "Name: Taxes w/o Exemp:, Length: 6674, dtype: int64\n",
      "----------------------------------------------------------------------------------------------------\n",
      "Value Count for Tax Rate:\n",
      "2.42160    2259\n",
      "2.53040     320\n",
      "2.71080     260\n",
      "2.52160     250\n",
      "2.60560     179\n",
      "           ... \n",
      "2.75422       1\n",
      "2.66785       1\n",
      "3.06110       1\n",
      "3.62130       1\n",
      "2.49200       1\n",
      "Name: Tax Rate:, Length: 816, dtype: int64\n",
      "----------------------------------------------------------------------------------------------------\n",
      "Value Count for Subdivision Name:\n",
      "Aliana                         120\n",
      "Houston Heights                109\n",
      "Tavola                          98\n",
      "Oak Forest ( East )             94\n",
      "Westbury                        81\n",
      "                              ... \n",
      "Lanewood Place                   1\n",
      "Green Trails Forest              1\n",
      "Wellington Park Patio Homes      1\n",
      "Larkstone Place                  1\n",
      "Bodin A                          1\n",
      "Name: Subdivision Name:, Length: 2111, dtype: int64\n",
      "----------------------------------------------------------------------------------------------------\n",
      "Value Count for County / Zip Code:\n",
      "77407.0    229\n",
      "77373.0    225\n",
      "77077.0    211\n",
      "77379.0    209\n",
      "77008.0    199\n",
      "          ... \n",
      "77355.0      1\n",
      "77362.0      1\n",
      "77401.0      1\n",
      "77450.0      1\n",
      "77503.0      1\n",
      "Name: County / Zip Code:, Length: 116, dtype: int64\n",
      "----------------------------------------------------------------------------------------------------\n",
      "Value Count for Single Family Properties:\n",
      "3,292    120\n",
      "3,936    109\n",
      "852      102\n",
      "3,845     94\n",
      "3,399     81\n",
      "        ... \n",
      "764        1\n",
      "358        1\n",
      "243        1\n",
      "813        1\n",
      "212        1\n",
      "Name: Single Family Properties:, Length: 762, dtype: int64\n",
      "----------------------------------------------------------------------------------------------------\n",
      "Value Count for Median Square Ft.:\n",
      "3,158    120\n",
      "2,083    110\n",
      "2,678     98\n",
      "1,823     98\n",
      "1,581     95\n",
      "        ... \n",
      "1,241      1\n",
      "1,836      1\n",
      "3,694      1\n",
      "2,936      1\n",
      "950        1\n",
      "Name: Median Square Ft.:, Length: 1457, dtype: int64\n",
      "----------------------------------------------------------------------------------------------------\n",
      "Value Count for Median Lot Square Ft.:\n",
      "5,000      347\n",
      "6,600      217\n",
      "7,200      134\n",
      "8,604      120\n",
      "6,900      104\n",
      "          ... \n",
      "44,561       1\n",
      "1,526        1\n",
      "6,889        1\n",
      "8,187        1\n",
      "190,139      1\n",
      "Name: Median Lot Square Ft.:, Length: 1421, dtype: int64\n",
      "----------------------------------------------------------------------------------------------------\n",
      "Value Count for Median Year Built:\n",
      "2015.0    318\n",
      "2018.0    310\n",
      "2017.0    301\n",
      "1940.0    301\n",
      "1982.0    278\n",
      "         ... \n",
      "1910.0      2\n",
      "2019.0      1\n",
      "1922.0      1\n",
      "1916.0      1\n",
      "1934.0      1\n",
      "Name: Median Year Built:, Length: 99, dtype: int64\n",
      "----------------------------------------------------------------------------------------------------\n",
      "Value Count for Median Appraised Value:\n",
      "$349,020     120\n",
      "$571,506     109\n",
      "$238,290      98\n",
      "$353,597      94\n",
      "$234,244      81\n",
      "            ... \n",
      "$278,664       1\n",
      "$476,340       1\n",
      "$325,812       1\n",
      "$471,353       1\n",
      "$310,816       1\n",
      "Name: Median Appraised Value:, Length: 2086, dtype: int64\n",
      "----------------------------------------------------------------------------------------------------\n",
      "Value Count for Neighborhood Value Range:\n",
      "$279 - $479 K     120\n",
      "$335 - $1040 K    109\n",
      "$40 - $345 K       98\n",
      "$288 - $823 K      94\n",
      "$152 - $333 K      81\n",
      "                 ... \n",
      "$136 - $174 K       1\n",
      "$168 - $413 K       1\n",
      "$199 - $750 K       1\n",
      "$14 - $94 K         1\n",
      "$67 - $316 K        1\n",
      "Name: Neighborhood Value Range:, Length: 2072, dtype: int64\n",
      "----------------------------------------------------------------------------------------------------\n",
      "Value Count for Median Price / Square ft.:\n",
      "$127.37     120\n",
      "$303.75     109\n",
      "$108.33      98\n",
      "$259.49      94\n",
      "$146.71      81\n",
      "           ... \n",
      "$99.79        1\n",
      "$90.94        1\n",
      "$107.16       1\n",
      "$132.18       1\n",
      "$166.42       1\n",
      "Name: Median Price / Square ft.:, Length: 1375, dtype: int64\n",
      "----------------------------------------------------------------------------------------------------\n"
     ]
    }
   ],
   "source": [
    "#printing value count for each feature with more than 50 none value\n",
    "for item in nan_10_50:\n",
    "    print('Value Count for '+item)\n",
    "    print(single_family_df[item].value_counts())\n",
    "    print('-'*100)"
   ]
  },
  {
   "cell_type": "markdown",
   "metadata": {},
   "source": [
    "`Room Description`, `Countertop`, `Floors`, `Bedroom Desc`, `Kitchen Desc`, `Bathroom Description`, `Connections`, `Oven`, `Range`, `Energy Feature`, `Interior`, `Exterior`, `Financing Considered` are just information and we can not fill them with unknown values since some may not be accurate and I don't think they are relevant to our analysis so, I will drop all of them.\n",
    "We also do not need `County / Zip Code:` since we do have another column for zip codes.\n",
    "I could not find any information regarding to `Single Family Properties:` so, this column will be dropped as well."
   ]
  },
  {
   "cell_type": "code",
   "execution_count": 573,
   "metadata": {},
   "outputs": [],
   "source": [
    "single_family_df.drop(['Room Description:', 'Countertop:', 'Floors:', 'Bedroom Desc:', 'Kitchen Desc:', \n",
    "                       'Bathroom Description:','Connections:', 'Oven:', 'Range:', 'Energy Feature:',\n",
    "                       'Interior:', 'Exterior:', 'Financing Considered:','Single Family Properties:','County / Zip Code:'], axis=1,inplace=True)"
   ]
  },
  {
   "cell_type": "markdown",
   "metadata": {},
   "source": [
    "`Ice Maker`, `Microwave`, `Compactor`, `Dishwasher`, `Disposal` and `Area Pool` are 'Yes/No' categories and I think it is relevant to fill none values with 'No'. For sure it is a little bit optimistic since some houses may have those features and owner/agent forgot to fill them but for now filling with 'No' value is the best way to dealing with them."
   ]
  },
  {
   "cell_type": "code",
   "execution_count": 574,
   "metadata": {},
   "outputs": [],
   "source": [
    "single_family_df['Disposal:'][single_family_df['Disposal:'].isnull()]='No'\n",
    "single_family_df['Ice Maker:'][single_family_df['Ice Maker:'].isnull()]='No'\n",
    "single_family_df['Compactor:'][single_family_df['Compactor:'].isnull()]='No'\n",
    "single_family_df['Area Pool:'][single_family_df['Area Pool:'].isnull()]='No'\n",
    "single_family_df['Microwave:'][single_family_df['Microwave:'].isnull()]='No'\n",
    "single_family_df['Dishwasher:'][single_family_df['Dishwasher:'].isnull()]='No'"
   ]
  },
  {
   "cell_type": "markdown",
   "metadata": {},
   "source": [
    "At this point I am investigating other features indevisually:"
   ]
  },
  {
   "cell_type": "markdown",
   "metadata": {},
   "source": [
    "## 2.7 Garage<a id='2.7_Garage'></a>"
   ]
  },
  {
   "cell_type": "code",
   "execution_count": 575,
   "metadata": {},
   "outputs": [
    {
     "data": {
      "text/plain": [
       "2 / Attached                                    5626\n",
       "2 / Detached                                    1063\n",
       "3 / Attached                                     686\n",
       "1 / Detached                                     341\n",
       "1 / Attached                                     320\n",
       "                                                ... \n",
       "7 / Attached,Oversized                             1\n",
       "7 / Attached/Detached,Detached,Oversized,Tan       1\n",
       "1 / Attached/Detached,Oversized                    1\n",
       "3 / Attached/Detached,Detached                     1\n",
       "9 / Attached,Detached,Oversized                    1\n",
       "Name: Garage(s):, Length: 114, dtype: int64"
      ]
     },
     "execution_count": 575,
     "metadata": {},
     "output_type": "execute_result"
    }
   ],
   "source": [
    "single_family_df['Garage(s):'].value_counts()"
   ]
  },
  {
   "cell_type": "markdown",
   "metadata": {},
   "source": [
    "The important part of this feature is the number of garage each house has. Also we now almost every single family homes have at least 2 garages and it is relevant to fill none values with '2'."
   ]
  },
  {
   "cell_type": "code",
   "execution_count": 576,
   "metadata": {},
   "outputs": [
    {
     "data": {
      "text/plain": [
       "2     8703\n",
       "3     1445\n",
       "1      758\n",
       "4      175\n",
       "5       21\n",
       "6       11\n",
       "8        7\n",
       "7        4\n",
       "24       2\n",
       "10       1\n",
       "40       1\n",
       "56       1\n",
       "9        1\n",
       "57       1\n",
       "63       1\n",
       "26       1\n",
       "42       1\n",
       "27       1\n",
       "51       1\n",
       "20       1\n",
       "21       1\n",
       "45       1\n",
       "22       1\n",
       "58       1\n",
       "Name: garage, dtype: int64"
      ]
     },
     "execution_count": 576,
     "metadata": {},
     "output_type": "execute_result"
    }
   ],
   "source": [
    "single_family_df['Garage(s):'].fillna('2',inplace=True)\n",
    "single_family_df['garage'] = [item[0] if item !=None else 0 for item in single_family_df['Garage(s):'].str.split(' ') ]\n",
    "single_family_df['garage']=single_family_df['garage'].astype(int)\n",
    "single_family_df.drop('Garage(s):',axis=1,inplace=True)\n",
    "single_family_df['garage'].value_counts()"
   ]
  },
  {
   "cell_type": "markdown",
   "metadata": {},
   "source": [
    "As you can see there are some houses with more than 10 garage which is odd. After checking images for some of these houses in www.HAR.com it seems those have only 2 garage and I fill those values with 2 which is the median of this feature."
   ]
  },
  {
   "cell_type": "code",
   "execution_count": 577,
   "metadata": {},
   "outputs": [
    {
     "data": {
      "text/plain": [
       "2    8720\n",
       "3    1445\n",
       "1     758\n",
       "4     175\n",
       "5      21\n",
       "6      11\n",
       "8       7\n",
       "7       4\n",
       "Name: garage, dtype: int64"
      ]
     },
     "execution_count": 577,
     "metadata": {},
     "output_type": "execute_result"
    }
   ],
   "source": [
    "single_family_df.garage[single_family_df['garage']>8]=single_family_df['garage'].median()\n",
    "single_family_df['garage'].value_counts()"
   ]
  },
  {
   "cell_type": "markdown",
   "metadata": {},
   "source": [
    "## 2.8 Living<a id='2.8_Living'></a>"
   ]
  },
  {
   "cell_type": "markdown",
   "metadata": {},
   "source": [
    "To calculate the living area I need to multiply the dimension of the living room and return the area and for the next stem I will fill none values with the average of living room area per subdivision"
   ]
  },
  {
   "cell_type": "code",
   "execution_count": 578,
   "metadata": {},
   "outputs": [],
   "source": [
    "def area_calc(item,pattern = \"([\\d.]+)(?:.*?([\\d.]+))?.*?[x\\*].*?([\\d.]+)(?:.*?([\\d.]+))?\"):\n",
    "    pattern = re.compile(pattern,re.IGNORECASE)\n",
    "    area=0\n",
    "    dim=[]\n",
    "    if type(item)==list:\n",
    "        for i in item:\n",
    "            if (('x' in i or 'X' in i or '*' in i )and '(m)' not in i ):\n",
    "                dim.append(i.replace('[','').strip())\n",
    "        for d in dim:\n",
    "            d=d.replace(' ','').strip()\n",
    "            match=pattern.findall(d)\n",
    "            try:\n",
    "                dimension_list = [float(item) if len(item)>0 else 0 for item in match[0]]\n",
    "                area += (dimension_list[0]+(dimension_list[1]/12))*(dimension_list[2]+(dimension_list[3]/12))\n",
    "            except:\n",
    "                area=None\n",
    "        return(area)"
   ]
  },
  {
   "cell_type": "code",
   "execution_count": 579,
   "metadata": {},
   "outputs": [],
   "source": [
    "single_family_df['LivingSqft'] = single_family_df['Living:'].str.split(',')\n",
    "single_family_df['LivingSqft'] = single_family_df['LivingSqft'].apply(area_calc)        "
   ]
  },
  {
   "cell_type": "code",
   "execution_count": 580,
   "metadata": {},
   "outputs": [
    {
     "data": {
      "text/plain": [
       "count    6294.000000\n",
       "mean      288.996780\n",
       "std       152.801571\n",
       "min         0.000000\n",
       "25%       210.000000\n",
       "50%       272.125000\n",
       "75%       342.000000\n",
       "max      6651.000000\n",
       "Name: LivingSqft, dtype: float64"
      ]
     },
     "execution_count": 580,
     "metadata": {},
     "output_type": "execute_result"
    }
   ],
   "source": [
    "single_family_df['LivingSqft'].describe()"
   ]
  },
  {
   "cell_type": "markdown",
   "metadata": {},
   "source": [
    "## 2.9 Dining<a id='2.9_Dining'></a>"
   ]
  },
  {
   "cell_type": "code",
   "execution_count": 581,
   "metadata": {},
   "outputs": [
    {
     "data": {
      "text/plain": [
       "['12x11, 1st', '3.66 x 3.35(m)']                      220\n",
       "['13x11, 1st', '3.96 x 3.35(m)']                      203\n",
       "['13x12, 1st', '3.96 x 3.66(m)']                      184\n",
       "['14x12, 1st', '4.27 x 3.66(m)']                      175\n",
       "['1st', '1st']                                        172\n",
       "                                                     ... \n",
       "['19 x 16, 1st', '19 , 16, 1st']                        1\n",
       "['12\\'9\" x 10\\'11\", 1st', '12\\'9\" , 10\\'11\", 1st']      1\n",
       "[\"12'2X14, 2nd\", \"12'2,14, 2nd\"]                        1\n",
       "['19X15, 1st', '5.79 x 4.57(m)']                        1\n",
       "['20x21, 1st', '6.10 x 6.40(m)']                        1\n",
       "Name: Dining:, Length: 1308, dtype: int64"
      ]
     },
     "execution_count": 581,
     "metadata": {},
     "output_type": "execute_result"
    }
   ],
   "source": [
    "single_family_df['Dining:'].value_counts()"
   ]
  },
  {
   "cell_type": "code",
   "execution_count": 582,
   "metadata": {},
   "outputs": [],
   "source": [
    "single_family_df['DiningSqft'] = single_family_df['Dining:'].str.split(',')\n",
    "single_family_df['DiningSqft'] = single_family_df['DiningSqft'].apply(area_calc) "
   ]
  },
  {
   "cell_type": "code",
   "execution_count": 583,
   "metadata": {},
   "outputs": [
    {
     "data": {
      "text/html": [
       "<div>\n",
       "<style scoped>\n",
       "    .dataframe tbody tr th:only-of-type {\n",
       "        vertical-align: middle;\n",
       "    }\n",
       "\n",
       "    .dataframe tbody tr th {\n",
       "        vertical-align: top;\n",
       "    }\n",
       "\n",
       "    .dataframe thead th {\n",
       "        text-align: right;\n",
       "    }\n",
       "</style>\n",
       "<table border=\"1\" class=\"dataframe\">\n",
       "  <thead>\n",
       "    <tr style=\"text-align: right;\">\n",
       "      <th></th>\n",
       "      <th>Dining:</th>\n",
       "      <th>DiningSqft</th>\n",
       "    </tr>\n",
       "  </thead>\n",
       "  <tbody>\n",
       "    <tr>\n",
       "      <th>10595</th>\n",
       "      <td>['12x14, 1st', '3.66 x 4.27(m)']</td>\n",
       "      <td>168.0</td>\n",
       "    </tr>\n",
       "    <tr>\n",
       "      <th>9396</th>\n",
       "      <td>['13X10, 1st', '3.96 x 3.05(m)']</td>\n",
       "      <td>130.0</td>\n",
       "    </tr>\n",
       "    <tr>\n",
       "      <th>6552</th>\n",
       "      <td>['10x9, 1st', '3.05 x 2.74(m)']</td>\n",
       "      <td>90.0</td>\n",
       "    </tr>\n",
       "    <tr>\n",
       "      <th>2512</th>\n",
       "      <td>['12x12, 1st', '3.66 x 3.66(m)']</td>\n",
       "      <td>144.0</td>\n",
       "    </tr>\n",
       "    <tr>\n",
       "      <th>7776</th>\n",
       "      <td>NaN</td>\n",
       "      <td>NaN</td>\n",
       "    </tr>\n",
       "    <tr>\n",
       "      <th>2965</th>\n",
       "      <td>NaN</td>\n",
       "      <td>NaN</td>\n",
       "    </tr>\n",
       "    <tr>\n",
       "      <th>8038</th>\n",
       "      <td>['10x11, 1st', '3.05 x 3.35(m)']</td>\n",
       "      <td>110.0</td>\n",
       "    </tr>\n",
       "    <tr>\n",
       "      <th>7054</th>\n",
       "      <td>['12x16, 1st', '3.66 x 4.88(m)']</td>\n",
       "      <td>192.0</td>\n",
       "    </tr>\n",
       "    <tr>\n",
       "      <th>2269</th>\n",
       "      <td>['12x13, 2nd', '3.66 x 3.96(m)']</td>\n",
       "      <td>156.0</td>\n",
       "    </tr>\n",
       "    <tr>\n",
       "      <th>1475</th>\n",
       "      <td>NaN</td>\n",
       "      <td>NaN</td>\n",
       "    </tr>\n",
       "    <tr>\n",
       "      <th>7083</th>\n",
       "      <td>[\"15' x 13'2, 1st\", \"15' , 13'2, 1st\"]</td>\n",
       "      <td>197.5</td>\n",
       "    </tr>\n",
       "    <tr>\n",
       "      <th>2321</th>\n",
       "      <td>NaN</td>\n",
       "      <td>NaN</td>\n",
       "    </tr>\n",
       "    <tr>\n",
       "      <th>6079</th>\n",
       "      <td>['17x13, 1st', '5.18 x 3.96(m)']</td>\n",
       "      <td>221.0</td>\n",
       "    </tr>\n",
       "    <tr>\n",
       "      <th>6107</th>\n",
       "      <td>NaN</td>\n",
       "      <td>NaN</td>\n",
       "    </tr>\n",
       "    <tr>\n",
       "      <th>1548</th>\n",
       "      <td>['19x11, 1st', '5.79 x 3.35(m)']</td>\n",
       "      <td>209.0</td>\n",
       "    </tr>\n",
       "    <tr>\n",
       "      <th>391</th>\n",
       "      <td>['14x16, 1st', '4.27 x 4.88(m)']</td>\n",
       "      <td>224.0</td>\n",
       "    </tr>\n",
       "    <tr>\n",
       "      <th>659</th>\n",
       "      <td>['20x14, 1st', '6.10 x 4.27(m)']</td>\n",
       "      <td>280.0</td>\n",
       "    </tr>\n",
       "    <tr>\n",
       "      <th>1250</th>\n",
       "      <td>['9x9, 1st', '2.74 x 2.74(m)']</td>\n",
       "      <td>81.0</td>\n",
       "    </tr>\n",
       "    <tr>\n",
       "      <th>6170</th>\n",
       "      <td>['15x11, 1st', '4.57 x 3.35(m)']</td>\n",
       "      <td>165.0</td>\n",
       "    </tr>\n",
       "    <tr>\n",
       "      <th>3449</th>\n",
       "      <td>NaN</td>\n",
       "      <td>NaN</td>\n",
       "    </tr>\n",
       "  </tbody>\n",
       "</table>\n",
       "</div>"
      ],
      "text/plain": [
       "                                      Dining:  DiningSqft\n",
       "10595        ['12x14, 1st', '3.66 x 4.27(m)']       168.0\n",
       "9396         ['13X10, 1st', '3.96 x 3.05(m)']       130.0\n",
       "6552          ['10x9, 1st', '3.05 x 2.74(m)']        90.0\n",
       "2512         ['12x12, 1st', '3.66 x 3.66(m)']       144.0\n",
       "7776                                      NaN         NaN\n",
       "2965                                      NaN         NaN\n",
       "8038         ['10x11, 1st', '3.05 x 3.35(m)']       110.0\n",
       "7054         ['12x16, 1st', '3.66 x 4.88(m)']       192.0\n",
       "2269         ['12x13, 2nd', '3.66 x 3.96(m)']       156.0\n",
       "1475                                      NaN         NaN\n",
       "7083   [\"15' x 13'2, 1st\", \"15' , 13'2, 1st\"]       197.5\n",
       "2321                                      NaN         NaN\n",
       "6079         ['17x13, 1st', '5.18 x 3.96(m)']       221.0\n",
       "6107                                      NaN         NaN\n",
       "1548         ['19x11, 1st', '5.79 x 3.35(m)']       209.0\n",
       "391          ['14x16, 1st', '4.27 x 4.88(m)']       224.0\n",
       "659          ['20x14, 1st', '6.10 x 4.27(m)']       280.0\n",
       "1250           ['9x9, 1st', '2.74 x 2.74(m)']        81.0\n",
       "6170         ['15x11, 1st', '4.57 x 3.35(m)']       165.0\n",
       "3449                                      NaN         NaN"
      ]
     },
     "execution_count": 583,
     "metadata": {},
     "output_type": "execute_result"
    }
   ],
   "source": [
    "single_family_df[['Dining:','DiningSqft']].sample(20,random_state=101)"
   ]
  },
  {
   "cell_type": "markdown",
   "metadata": {},
   "source": [
    "## 2.10 Kitchen<a id='2.10_Kitchen'></a>"
   ]
  },
  {
   "cell_type": "markdown",
   "metadata": {},
   "source": [
    "I am using same function to calculate kitchen are in sqft."
   ]
  },
  {
   "cell_type": "code",
   "execution_count": 584,
   "metadata": {},
   "outputs": [],
   "source": [
    "single_family_df['KitchenSqft'] = single_family_df['Kitchen:'].str.split(',')\n",
    "single_family_df['KitchenSqft'] = single_family_df['KitchenSqft'].apply(area_calc) "
   ]
  },
  {
   "cell_type": "code",
   "execution_count": 585,
   "metadata": {},
   "outputs": [
    {
     "data": {
      "text/html": [
       "<div>\n",
       "<style scoped>\n",
       "    .dataframe tbody tr th:only-of-type {\n",
       "        vertical-align: middle;\n",
       "    }\n",
       "\n",
       "    .dataframe tbody tr th {\n",
       "        vertical-align: top;\n",
       "    }\n",
       "\n",
       "    .dataframe thead th {\n",
       "        text-align: right;\n",
       "    }\n",
       "</style>\n",
       "<table border=\"1\" class=\"dataframe\">\n",
       "  <thead>\n",
       "    <tr style=\"text-align: right;\">\n",
       "      <th></th>\n",
       "      <th>Kitchen:</th>\n",
       "      <th>KitchenSqft</th>\n",
       "    </tr>\n",
       "  </thead>\n",
       "  <tbody>\n",
       "    <tr>\n",
       "      <th>10595</th>\n",
       "      <td>['12x19, 1st', '3.66 x 5.79(m)']</td>\n",
       "      <td>228.000000</td>\n",
       "    </tr>\n",
       "    <tr>\n",
       "      <th>9396</th>\n",
       "      <td>['13X11, 1st', '3.96 x 3.35(m)']</td>\n",
       "      <td>143.000000</td>\n",
       "    </tr>\n",
       "    <tr>\n",
       "      <th>6552</th>\n",
       "      <td>['11x8, 1st', '3.35 x 2.44(m)']</td>\n",
       "      <td>88.000000</td>\n",
       "    </tr>\n",
       "    <tr>\n",
       "      <th>2512</th>\n",
       "      <td>['9x12, 1st', '2.74 x 3.66(m)']</td>\n",
       "      <td>108.000000</td>\n",
       "    </tr>\n",
       "    <tr>\n",
       "      <th>7776</th>\n",
       "      <td>['0X0, 1st', '0,0, 1st']</td>\n",
       "      <td>0.000000</td>\n",
       "    </tr>\n",
       "    <tr>\n",
       "      <th>2965</th>\n",
       "      <td>NaN</td>\n",
       "      <td>NaN</td>\n",
       "    </tr>\n",
       "    <tr>\n",
       "      <th>8038</th>\n",
       "      <td>NaN</td>\n",
       "      <td>NaN</td>\n",
       "    </tr>\n",
       "    <tr>\n",
       "      <th>7054</th>\n",
       "      <td>['13x17, 1st', '3.96 x 5.18(m)']</td>\n",
       "      <td>221.000000</td>\n",
       "    </tr>\n",
       "    <tr>\n",
       "      <th>2269</th>\n",
       "      <td>['15x12, 2nd', '4.57 x 3.66(m)']</td>\n",
       "      <td>180.000000</td>\n",
       "    </tr>\n",
       "    <tr>\n",
       "      <th>1475</th>\n",
       "      <td>NaN</td>\n",
       "      <td>NaN</td>\n",
       "    </tr>\n",
       "    <tr>\n",
       "      <th>7083</th>\n",
       "      <td>[\"22'8 x 11', 1st\", \"22'8 , 11', 1st\"]</td>\n",
       "      <td>249.333333</td>\n",
       "    </tr>\n",
       "    <tr>\n",
       "      <th>2321</th>\n",
       "      <td>NaN</td>\n",
       "      <td>NaN</td>\n",
       "    </tr>\n",
       "    <tr>\n",
       "      <th>6079</th>\n",
       "      <td>NaN</td>\n",
       "      <td>NaN</td>\n",
       "    </tr>\n",
       "    <tr>\n",
       "      <th>6107</th>\n",
       "      <td>NaN</td>\n",
       "      <td>NaN</td>\n",
       "    </tr>\n",
       "    <tr>\n",
       "      <th>1548</th>\n",
       "      <td>['15x14, 1st', '4.57 x 4.27(m)']</td>\n",
       "      <td>210.000000</td>\n",
       "    </tr>\n",
       "    <tr>\n",
       "      <th>391</th>\n",
       "      <td>['11x15, 1st', '3.35 x 4.57(m)']</td>\n",
       "      <td>165.000000</td>\n",
       "    </tr>\n",
       "    <tr>\n",
       "      <th>659</th>\n",
       "      <td>['13x10, 1st', '3.96 x 3.05(m)']</td>\n",
       "      <td>130.000000</td>\n",
       "    </tr>\n",
       "    <tr>\n",
       "      <th>1250</th>\n",
       "      <td>NaN</td>\n",
       "      <td>NaN</td>\n",
       "    </tr>\n",
       "    <tr>\n",
       "      <th>6170</th>\n",
       "      <td>['12x12, 1st', '3.66 x 3.66(m)']</td>\n",
       "      <td>144.000000</td>\n",
       "    </tr>\n",
       "    <tr>\n",
       "      <th>3449</th>\n",
       "      <td>['24x14, 1st', '7.32 x 4.27(m)']</td>\n",
       "      <td>336.000000</td>\n",
       "    </tr>\n",
       "  </tbody>\n",
       "</table>\n",
       "</div>"
      ],
      "text/plain": [
       "                                     Kitchen:  KitchenSqft\n",
       "10595        ['12x19, 1st', '3.66 x 5.79(m)']   228.000000\n",
       "9396         ['13X11, 1st', '3.96 x 3.35(m)']   143.000000\n",
       "6552          ['11x8, 1st', '3.35 x 2.44(m)']    88.000000\n",
       "2512          ['9x12, 1st', '2.74 x 3.66(m)']   108.000000\n",
       "7776                 ['0X0, 1st', '0,0, 1st']     0.000000\n",
       "2965                                      NaN          NaN\n",
       "8038                                      NaN          NaN\n",
       "7054         ['13x17, 1st', '3.96 x 5.18(m)']   221.000000\n",
       "2269         ['15x12, 2nd', '4.57 x 3.66(m)']   180.000000\n",
       "1475                                      NaN          NaN\n",
       "7083   [\"22'8 x 11', 1st\", \"22'8 , 11', 1st\"]   249.333333\n",
       "2321                                      NaN          NaN\n",
       "6079                                      NaN          NaN\n",
       "6107                                      NaN          NaN\n",
       "1548         ['15x14, 1st', '4.57 x 4.27(m)']   210.000000\n",
       "391          ['11x15, 1st', '3.35 x 4.57(m)']   165.000000\n",
       "659          ['13x10, 1st', '3.96 x 3.05(m)']   130.000000\n",
       "1250                                      NaN          NaN\n",
       "6170         ['12x12, 1st', '3.66 x 3.66(m)']   144.000000\n",
       "3449         ['24x14, 1st', '7.32 x 4.27(m)']   336.000000"
      ]
     },
     "execution_count": 585,
     "metadata": {},
     "output_type": "execute_result"
    }
   ],
   "source": [
    "single_family_df[['Kitchen:','KitchenSqft']].sample(20,random_state=101)"
   ]
  },
  {
   "cell_type": "markdown",
   "metadata": {},
   "source": [
    "Now we can drop old living, dining and kitchen columns:"
   ]
  },
  {
   "cell_type": "code",
   "execution_count": 586,
   "metadata": {},
   "outputs": [],
   "source": [
    "single_family_df.drop(['Living:', 'Dining:', 'Kitchen:'], axis=1,inplace=True)"
   ]
  },
  {
   "cell_type": "markdown",
   "metadata": {},
   "source": [
    "## 2.11 Subdivision<a id='2.11_Subdivision'></a>"
   ]
  },
  {
   "cell_type": "markdown",
   "metadata": {},
   "source": [
    "To uniform subdivision I scraped all subdivision names from HAR.com and will replace names with correct one based on similarity:"
   ]
  },
  {
   "cell_type": "code",
   "execution_count": 587,
   "metadata": {},
   "outputs": [],
   "source": [
    "sub_df = pd.read_csv('../Prediction House Price Using Image Processing/Data/Subdivision.csv')\n",
    "sub_df.drop(['Unnamed: 0'],axis=1,inplace=True)"
   ]
  },
  {
   "cell_type": "code",
   "execution_count": 588,
   "metadata": {},
   "outputs": [
    {
     "data": {
      "text/html": [
       "<div>\n",
       "<style scoped>\n",
       "    .dataframe tbody tr th:only-of-type {\n",
       "        vertical-align: middle;\n",
       "    }\n",
       "\n",
       "    .dataframe tbody tr th {\n",
       "        vertical-align: top;\n",
       "    }\n",
       "\n",
       "    .dataframe thead th {\n",
       "        text-align: right;\n",
       "    }\n",
       "</style>\n",
       "<table border=\"1\" class=\"dataframe\">\n",
       "  <thead>\n",
       "    <tr style=\"text-align: right;\">\n",
       "      <th></th>\n",
       "      <th>Subdivision</th>\n",
       "      <th>Zip</th>\n",
       "      <th>Med.Appraisal</th>\n",
       "      <th>Avg.Sqft.</th>\n",
       "      <th>Avg.Yr.Built</th>\n",
       "    </tr>\n",
       "  </thead>\n",
       "  <tbody>\n",
       "    <tr>\n",
       "      <th>0</th>\n",
       "      <td>MARLOWE CONDOS</td>\n",
       "      <td>77002</td>\n",
       "      <td>$522,701</td>\n",
       "      <td>1,100</td>\n",
       "      <td>2018.0</td>\n",
       "    </tr>\n",
       "    <tr>\n",
       "      <th>1</th>\n",
       "      <td>Modern Midtown</td>\n",
       "      <td>77002</td>\n",
       "      <td>$469,147</td>\n",
       "      <td>2,096</td>\n",
       "      <td>2014.0</td>\n",
       "    </tr>\n",
       "    <tr>\n",
       "      <th>2</th>\n",
       "      <td>Midtowne Plaza</td>\n",
       "      <td>77002</td>\n",
       "      <td>$439,282</td>\n",
       "      <td>2,507</td>\n",
       "      <td>1999.0</td>\n",
       "    </tr>\n",
       "    <tr>\n",
       "      <th>3</th>\n",
       "      <td>Macgregor Demerritt</td>\n",
       "      <td>77002</td>\n",
       "      <td>$438,234</td>\n",
       "      <td>2,034</td>\n",
       "      <td>1930.0</td>\n",
       "    </tr>\n",
       "    <tr>\n",
       "      <th>4</th>\n",
       "      <td>Hermann Lofts Condo</td>\n",
       "      <td>77002</td>\n",
       "      <td>$385,446</td>\n",
       "      <td>1,546</td>\n",
       "      <td>1998.0</td>\n",
       "    </tr>\n",
       "  </tbody>\n",
       "</table>\n",
       "</div>"
      ],
      "text/plain": [
       "           Subdivision    Zip Med.Appraisal Avg.Sqft.  Avg.Yr.Built\n",
       "0       MARLOWE CONDOS  77002      $522,701     1,100        2018.0\n",
       "1       Modern Midtown  77002      $469,147     2,096        2014.0\n",
       "2       Midtowne Plaza  77002      $439,282     2,507        1999.0\n",
       "3  Macgregor Demerritt  77002      $438,234     2,034        1930.0\n",
       "4  Hermann Lofts Condo  77002      $385,446     1,546        1998.0"
      ]
     },
     "execution_count": 588,
     "metadata": {},
     "output_type": "execute_result"
    }
   ],
   "source": [
    "sub_df.head()"
   ]
  },
  {
   "cell_type": "markdown",
   "metadata": {},
   "source": [
    "As above table shown Med.Appraisal, Avg.Sqft. and Avg.Yr.Built are same for each subdivision and we can fill none values with these numbers for each column."
   ]
  },
  {
   "cell_type": "code",
   "execution_count": 589,
   "metadata": {},
   "outputs": [
    {
     "data": {
      "text/html": [
       "<div>\n",
       "<style scoped>\n",
       "    .dataframe tbody tr th:only-of-type {\n",
       "        vertical-align: middle;\n",
       "    }\n",
       "\n",
       "    .dataframe tbody tr th {\n",
       "        vertical-align: top;\n",
       "    }\n",
       "\n",
       "    .dataframe thead th {\n",
       "        text-align: right;\n",
       "    }\n",
       "</style>\n",
       "<table border=\"1\" class=\"dataframe\">\n",
       "  <thead>\n",
       "    <tr style=\"text-align: right;\">\n",
       "      <th></th>\n",
       "      <th>Subdivision:</th>\n",
       "      <th>Subdivision Name:</th>\n",
       "      <th>Market Area Name:</th>\n",
       "      <th>Master Planned Community:</th>\n",
       "      <th>Zip Code:</th>\n",
       "    </tr>\n",
       "  </thead>\n",
       "  <tbody>\n",
       "    <tr>\n",
       "      <th>0</th>\n",
       "      <td>Austin Hadley Place</td>\n",
       "      <td>NaN</td>\n",
       "      <td>Midtown - Houston</td>\n",
       "      <td>NaN</td>\n",
       "      <td>77002</td>\n",
       "    </tr>\n",
       "    <tr>\n",
       "      <th>1</th>\n",
       "      <td>Modern Midtown (View subdivision price trend)</td>\n",
       "      <td>Modern Midtown</td>\n",
       "      <td>NaN</td>\n",
       "      <td>NaN</td>\n",
       "      <td>77002</td>\n",
       "    </tr>\n",
       "    <tr>\n",
       "      <th>2</th>\n",
       "      <td>Modern Midtown (View subdivision price trend)</td>\n",
       "      <td>Modern Midtown</td>\n",
       "      <td>NaN</td>\n",
       "      <td>NaN</td>\n",
       "      <td>77002</td>\n",
       "    </tr>\n",
       "    <tr>\n",
       "      <th>3</th>\n",
       "      <td>Merkels Sec 01 (View subdivision price trend)</td>\n",
       "      <td>Merkels</td>\n",
       "      <td>NaN</td>\n",
       "      <td>NaN</td>\n",
       "      <td>77003</td>\n",
       "    </tr>\n",
       "    <tr>\n",
       "      <th>4</th>\n",
       "      <td>MERKELS (View subdivision price trend)</td>\n",
       "      <td>Merkels</td>\n",
       "      <td>NaN</td>\n",
       "      <td>NaN</td>\n",
       "      <td>77003</td>\n",
       "    </tr>\n",
       "  </tbody>\n",
       "</table>\n",
       "</div>"
      ],
      "text/plain": [
       "                                     Subdivision: Subdivision Name:  \\\n",
       "0                             Austin Hadley Place               NaN   \n",
       "1   Modern Midtown (View subdivision price trend)    Modern Midtown   \n",
       "2   Modern Midtown (View subdivision price trend)    Modern Midtown   \n",
       "3   Merkels Sec 01 (View subdivision price trend)           Merkels   \n",
       "4          MERKELS (View subdivision price trend)           Merkels   \n",
       "\n",
       "   Market Area Name: Master Planned Community:  Zip Code:  \n",
       "0  Midtown - Houston                       NaN      77002  \n",
       "1                NaN                       NaN      77002  \n",
       "2                NaN                       NaN      77002  \n",
       "3                NaN                       NaN      77003  \n",
       "4                NaN                       NaN      77003  "
      ]
     },
     "execution_count": 589,
     "metadata": {},
     "output_type": "execute_result"
    }
   ],
   "source": [
    "single_family_df[['Subdivision:','Subdivision Name:','Market Area Name:','Master Planned Community:','Zip Code:']].head()"
   ]
  },
  {
   "cell_type": "code",
   "execution_count": 590,
   "metadata": {},
   "outputs": [
    {
     "data": {
      "text/plain": [
       "Subdivision:                    5\n",
       "Subdivision Name:            1746\n",
       "Market Area Name:            9413\n",
       "Master Planned Community:    9843\n",
       "dtype: int64"
      ]
     },
     "execution_count": 590,
     "metadata": {},
     "output_type": "execute_result"
    }
   ],
   "source": [
    "single_family_df[['Subdivision:','Subdivision Name:','Market Area Name:','Master Planned Community:']].isna().sum()"
   ]
  },
  {
   "cell_type": "markdown",
   "metadata": {},
   "source": [
    "It seems all these 4 columns are the same. As we can see `Subdivision Name:` has more clean name and since `Market Area Name:` has more standard name for subdivisions so, I will replace none values for `Subdivision Name:` with `Market Area Name:` values to see how many none values will remain."
   ]
  },
  {
   "cell_type": "code",
   "execution_count": 591,
   "metadata": {},
   "outputs": [],
   "source": [
    "single_family_df['SubName'] = single_family_df['Subdivision Name:'].fillna(single_family_df['Market Area Name:'])"
   ]
  },
  {
   "cell_type": "code",
   "execution_count": 592,
   "metadata": {},
   "outputs": [
    {
     "data": {
      "text/plain": [
       "18"
      ]
     },
     "execution_count": 592,
     "metadata": {},
     "output_type": "execute_result"
    }
   ],
   "source": [
    "single_family_df['SubName'].isna().sum()"
   ]
  },
  {
   "cell_type": "code",
   "execution_count": 593,
   "metadata": {},
   "outputs": [
    {
     "data": {
      "text/html": [
       "<div>\n",
       "<style scoped>\n",
       "    .dataframe tbody tr th:only-of-type {\n",
       "        vertical-align: middle;\n",
       "    }\n",
       "\n",
       "    .dataframe tbody tr th {\n",
       "        vertical-align: top;\n",
       "    }\n",
       "\n",
       "    .dataframe thead th {\n",
       "        text-align: right;\n",
       "    }\n",
       "</style>\n",
       "<table border=\"1\" class=\"dataframe\">\n",
       "  <thead>\n",
       "    <tr style=\"text-align: right;\">\n",
       "      <th></th>\n",
       "      <th>Subdivision:</th>\n",
       "      <th>Subdivision Name:</th>\n",
       "      <th>Market Area Name:</th>\n",
       "      <th>Master Planned Community:</th>\n",
       "    </tr>\n",
       "  </thead>\n",
       "  <tbody>\n",
       "    <tr>\n",
       "      <th>67</th>\n",
       "      <td>Mckinney Lndg Sub (View subdivision price trend)</td>\n",
       "      <td>NaN</td>\n",
       "      <td>NaN</td>\n",
       "      <td>NaN</td>\n",
       "    </tr>\n",
       "    <tr>\n",
       "      <th>498</th>\n",
       "      <td>VERMONT STREET GROVE</td>\n",
       "      <td>NaN</td>\n",
       "      <td>NaN</td>\n",
       "      <td>NaN</td>\n",
       "    </tr>\n",
       "    <tr>\n",
       "      <th>629</th>\n",
       "      <td>Magnolia Grove (View subdivision price trend)</td>\n",
       "      <td>NaN</td>\n",
       "      <td>NaN</td>\n",
       "      <td>NaN</td>\n",
       "    </tr>\n",
       "    <tr>\n",
       "      <th>755</th>\n",
       "      <td>SUNSET HEIGHTS (View subdivision price trend)</td>\n",
       "      <td>NaN</td>\n",
       "      <td>NaN</td>\n",
       "      <td>NaN</td>\n",
       "    </tr>\n",
       "    <tr>\n",
       "      <th>847</th>\n",
       "      <td>24th Street Manor (View subdivision price trend)</td>\n",
       "      <td>NaN</td>\n",
       "      <td>NaN</td>\n",
       "      <td>NaN</td>\n",
       "    </tr>\n",
       "    <tr>\n",
       "      <th>922</th>\n",
       "      <td>Heights Homes/Herkimer Sub (View subdivision price trend)</td>\n",
       "      <td>NaN</td>\n",
       "      <td>NaN</td>\n",
       "      <td>NaN</td>\n",
       "    </tr>\n",
       "    <tr>\n",
       "      <th>1358</th>\n",
       "      <td>Shepherd Oaks (View subdivision price trend)</td>\n",
       "      <td>NaN</td>\n",
       "      <td>NaN</td>\n",
       "      <td>NaN</td>\n",
       "    </tr>\n",
       "    <tr>\n",
       "      <th>2097</th>\n",
       "      <td>Oaks of Lawndale</td>\n",
       "      <td>NaN</td>\n",
       "      <td>NaN</td>\n",
       "      <td>NaN</td>\n",
       "    </tr>\n",
       "    <tr>\n",
       "      <th>3161</th>\n",
       "      <td>Lakeside T/H (View subdivision price trend)</td>\n",
       "      <td>NaN</td>\n",
       "      <td>NaN</td>\n",
       "      <td>NaN</td>\n",
       "    </tr>\n",
       "    <tr>\n",
       "      <th>3163</th>\n",
       "      <td>Lakeside T/H (View subdivision price trend)</td>\n",
       "      <td>NaN</td>\n",
       "      <td>NaN</td>\n",
       "      <td>NaN</td>\n",
       "    </tr>\n",
       "    <tr>\n",
       "      <th>3165</th>\n",
       "      <td>Lakeside T/H (View subdivision price trend)</td>\n",
       "      <td>NaN</td>\n",
       "      <td>NaN</td>\n",
       "      <td>NaN</td>\n",
       "    </tr>\n",
       "    <tr>\n",
       "      <th>3186</th>\n",
       "      <td>Riverview Place (View subdivision price trend)</td>\n",
       "      <td>NaN</td>\n",
       "      <td>NaN</td>\n",
       "      <td>NaN</td>\n",
       "    </tr>\n",
       "    <tr>\n",
       "      <th>3336</th>\n",
       "      <td>Retreat At Upland</td>\n",
       "      <td>NaN</td>\n",
       "      <td>NaN</td>\n",
       "      <td>NaN</td>\n",
       "    </tr>\n",
       "    <tr>\n",
       "      <th>6122</th>\n",
       "      <td>Grand Oaks</td>\n",
       "      <td>NaN</td>\n",
       "      <td>NaN</td>\n",
       "      <td>NaN</td>\n",
       "    </tr>\n",
       "    <tr>\n",
       "      <th>9749</th>\n",
       "      <td>Villages of Cypress Lakes- Cypress Green</td>\n",
       "      <td>NaN</td>\n",
       "      <td>NaN</td>\n",
       "      <td>NaN</td>\n",
       "    </tr>\n",
       "    <tr>\n",
       "      <th>9864</th>\n",
       "      <td>Enclave at Longwood</td>\n",
       "      <td>NaN</td>\n",
       "      <td>NaN</td>\n",
       "      <td>NaN</td>\n",
       "    </tr>\n",
       "    <tr>\n",
       "      <th>10882</th>\n",
       "      <td>Elyson 70s</td>\n",
       "      <td>NaN</td>\n",
       "      <td>NaN</td>\n",
       "      <td>Elyson</td>\n",
       "    </tr>\n",
       "    <tr>\n",
       "      <th>10998</th>\n",
       "      <td>Lilac Bend</td>\n",
       "      <td>NaN</td>\n",
       "      <td>NaN</td>\n",
       "      <td>NaN</td>\n",
       "    </tr>\n",
       "  </tbody>\n",
       "</table>\n",
       "</div>"
      ],
      "text/plain": [
       "                                                     Subdivision:  \\\n",
       "67               Mckinney Lndg Sub (View subdivision price trend)   \n",
       "498                                          VERMONT STREET GROVE   \n",
       "629                 Magnolia Grove (View subdivision price trend)   \n",
       "755                 SUNSET HEIGHTS (View subdivision price trend)   \n",
       "847              24th Street Manor (View subdivision price trend)   \n",
       "922     Heights Homes/Herkimer Sub (View subdivision price trend)   \n",
       "1358                 Shepherd Oaks (View subdivision price trend)   \n",
       "2097                                             Oaks of Lawndale   \n",
       "3161                  Lakeside T/H (View subdivision price trend)   \n",
       "3163                  Lakeside T/H (View subdivision price trend)   \n",
       "3165                  Lakeside T/H (View subdivision price trend)   \n",
       "3186               Riverview Place (View subdivision price trend)   \n",
       "3336                                            Retreat At Upland   \n",
       "6122                                                   Grand Oaks   \n",
       "9749                     Villages of Cypress Lakes- Cypress Green   \n",
       "9864                                          Enclave at Longwood   \n",
       "10882                                                  Elyson 70s   \n",
       "10998                                                  Lilac Bend   \n",
       "\n",
       "      Subdivision Name: Market Area Name: Master Planned Community:  \n",
       "67                  NaN               NaN                       NaN  \n",
       "498                 NaN               NaN                       NaN  \n",
       "629                 NaN               NaN                       NaN  \n",
       "755                 NaN               NaN                       NaN  \n",
       "847                 NaN               NaN                       NaN  \n",
       "922                 NaN               NaN                       NaN  \n",
       "1358                NaN               NaN                       NaN  \n",
       "2097                NaN               NaN                       NaN  \n",
       "3161                NaN               NaN                       NaN  \n",
       "3163                NaN               NaN                       NaN  \n",
       "3165                NaN               NaN                       NaN  \n",
       "3186                NaN               NaN                       NaN  \n",
       "3336                NaN               NaN                       NaN  \n",
       "6122                NaN               NaN                       NaN  \n",
       "9749                NaN               NaN                       NaN  \n",
       "9864                NaN               NaN                       NaN  \n",
       "10882               NaN               NaN                    Elyson  \n",
       "10998               NaN               NaN                       NaN  "
      ]
     },
     "execution_count": 593,
     "metadata": {},
     "output_type": "execute_result"
    }
   ],
   "source": [
    "single_family_df[['Subdivision:','Subdivision Name:','Market Area Name:','Master Planned Community:']].loc[single_family_df['SubName'].isna()]"
   ]
  },
  {
   "cell_type": "markdown",
   "metadata": {},
   "source": [
    "I am dropping these 18 rows since I can not find correct subdivision name for them."
   ]
  },
  {
   "cell_type": "code",
   "execution_count": 594,
   "metadata": {},
   "outputs": [],
   "source": [
    "single_family_df=single_family_df[~single_family_df['SubName'].isnull()]"
   ]
  },
  {
   "cell_type": "code",
   "execution_count": 595,
   "metadata": {},
   "outputs": [],
   "source": [
    "single_family_df.drop(['Subdivision Name:','Subdivision:','Market Area Name:','Master Planned Community:'],\n",
    "                      axis=1,inplace=True)"
   ]
  },
  {
   "cell_type": "markdown",
   "metadata": {},
   "source": [
    "Now we can take a look at those features related to each subdivision like: `Median Appraised Value:`, `Median Year Built:`, \n",
    "`Median Lot Square Ft.:`, `Median Square Ft.:`, `Neighborhood Value Range:`.\t"
   ]
  },
  {
   "cell_type": "code",
   "execution_count": 596,
   "metadata": {},
   "outputs": [
    {
     "data": {
      "text/plain": [
       "Median Appraised Value:      1728\n",
       "Median Year Built:           1728\n",
       "Median Lot Square Ft.:       1728\n",
       "Median Square Ft.:           1728\n",
       "Neighborhood Value Range:    1728\n",
       "dtype: int64"
      ]
     },
     "execution_count": 596,
     "metadata": {},
     "output_type": "execute_result"
    }
   ],
   "source": [
    "single_family_df[['Median Appraised Value:', 'Median Year Built:', 'Median Lot Square Ft.:', 'Median Square Ft.:', 'Neighborhood Value Range:']].isna().sum()"
   ]
  },
  {
   "cell_type": "markdown",
   "metadata": {},
   "source": [
    "Those features have same number of missing values and it seems it may because of value missing for some the subdivisions. lets take a look:"
   ]
  },
  {
   "cell_type": "code",
   "execution_count": 597,
   "metadata": {},
   "outputs": [
    {
     "data": {
      "text/plain": [
       "Katy - Old Towne                   134\n",
       "Spring Branch                      128\n",
       "Cypress South                      105\n",
       "Medical Center South                98\n",
       "Hockley                             74\n",
       "                                  ... \n",
       "Lake Conroe Area                     1\n",
       "Fort Bend County North/Richmond      1\n",
       "Willow Meadows Area                  1\n",
       "Westchase Area                       1\n",
       "Memorial West                        1\n",
       "Name: SubName, Length: 73, dtype: int64"
      ]
     },
     "execution_count": 597,
     "metadata": {},
     "output_type": "execute_result"
    }
   ],
   "source": [
    "single_family_df.SubName.loc[single_family_df['Median Appraised Value:'].isna()].value_counts()"
   ]
  },
  {
   "cell_type": "code",
   "execution_count": 598,
   "metadata": {},
   "outputs": [
    {
     "data": {
      "text/html": [
       "<div>\n",
       "<style scoped>\n",
       "    .dataframe tbody tr th:only-of-type {\n",
       "        vertical-align: middle;\n",
       "    }\n",
       "\n",
       "    .dataframe tbody tr th {\n",
       "        vertical-align: top;\n",
       "    }\n",
       "\n",
       "    .dataframe thead th {\n",
       "        text-align: right;\n",
       "    }\n",
       "</style>\n",
       "<table border=\"1\" class=\"dataframe\">\n",
       "  <thead>\n",
       "    <tr style=\"text-align: right;\">\n",
       "      <th></th>\n",
       "      <th>Subdivision</th>\n",
       "      <th>Zip</th>\n",
       "      <th>Med.Appraisal</th>\n",
       "      <th>Avg.Sqft.</th>\n",
       "      <th>Avg.Yr.Built</th>\n",
       "    </tr>\n",
       "  </thead>\n",
       "  <tbody>\n",
       "  </tbody>\n",
       "</table>\n",
       "</div>"
      ],
      "text/plain": [
       "Empty DataFrame\n",
       "Columns: [Subdivision, Zip, Med.Appraisal, Avg.Sqft., Avg.Yr.Built]\n",
       "Index: []"
      ]
     },
     "execution_count": 598,
     "metadata": {},
     "output_type": "execute_result"
    }
   ],
   "source": [
    "sub_df.loc[sub_df.Subdivision=='Cypress South']"
   ]
  },
  {
   "cell_type": "code",
   "execution_count": 599,
   "metadata": {},
   "outputs": [
    {
     "data": {
      "text/plain": [
       "2020   / Builder               1235\n",
       "2019   / Builder                 72\n",
       "2021   / Builder                 68\n",
       "2019   / Appraisal District      22\n",
       "2017   / Appraisal District      16\n",
       "                               ... \n",
       "1971   / Appraisal District       1\n",
       "1925   / Appraisal District       1\n",
       "1965   / Appraisal District       1\n",
       "2005   / Appraisal                1\n",
       "1976   / Appraisal District       1\n",
       "Name: Year Built:, Length: 98, dtype: int64"
      ]
     },
     "execution_count": 599,
     "metadata": {},
     "output_type": "execute_result"
    }
   ],
   "source": [
    "single_family_df['Year Built:'].loc[single_family_df['Median Lot Square Ft.:'].isna()].value_counts()"
   ]
  },
  {
   "cell_type": "markdown",
   "metadata": {},
   "source": [
    "It seems there is no information for those subdivisions in HAR.com since more than 90% of them are for new subdivisions. so I will drop those rows."
   ]
  },
  {
   "cell_type": "code",
   "execution_count": 600,
   "metadata": {},
   "outputs": [],
   "source": [
    "single_family_df=single_family_df[~single_family_df['Median Appraised Value:'].isnull()]"
   ]
  },
  {
   "cell_type": "code",
   "execution_count": 601,
   "metadata": {},
   "outputs": [
    {
     "data": {
      "text/html": [
       "<div>\n",
       "<style scoped>\n",
       "    .dataframe tbody tr th:only-of-type {\n",
       "        vertical-align: middle;\n",
       "    }\n",
       "\n",
       "    .dataframe tbody tr th {\n",
       "        vertical-align: top;\n",
       "    }\n",
       "\n",
       "    .dataframe thead th {\n",
       "        text-align: right;\n",
       "    }\n",
       "</style>\n",
       "<table border=\"1\" class=\"dataframe\">\n",
       "  <thead>\n",
       "    <tr style=\"text-align: right;\">\n",
       "      <th></th>\n",
       "      <th>Median Appraised Value:</th>\n",
       "      <th>Median Year Built:</th>\n",
       "      <th>Median Lot Square Ft.:</th>\n",
       "      <th>Median Square Ft.:</th>\n",
       "      <th>Neighborhood Value Range:</th>\n",
       "    </tr>\n",
       "  </thead>\n",
       "  <tbody>\n",
       "    <tr>\n",
       "      <th>1</th>\n",
       "      <td>$469,147</td>\n",
       "      <td>2014.0</td>\n",
       "      <td>1,450</td>\n",
       "      <td>2,096</td>\n",
       "      <td>$441 - $476 K</td>\n",
       "    </tr>\n",
       "    <tr>\n",
       "      <th>2</th>\n",
       "      <td>$469,147</td>\n",
       "      <td>2014.0</td>\n",
       "      <td>1,450</td>\n",
       "      <td>2,096</td>\n",
       "      <td>$441 - $476 K</td>\n",
       "    </tr>\n",
       "    <tr>\n",
       "      <th>3</th>\n",
       "      <td>$141,314</td>\n",
       "      <td>1938.0</td>\n",
       "      <td>4,700</td>\n",
       "      <td>1,086</td>\n",
       "      <td>$90 - $213 K</td>\n",
       "    </tr>\n",
       "    <tr>\n",
       "      <th>4</th>\n",
       "      <td>$141,314</td>\n",
       "      <td>1938.0</td>\n",
       "      <td>4,700</td>\n",
       "      <td>1,086</td>\n",
       "      <td>$90 - $213 K</td>\n",
       "    </tr>\n",
       "    <tr>\n",
       "      <th>5</th>\n",
       "      <td>$404,408</td>\n",
       "      <td>2016.0</td>\n",
       "      <td>1,586</td>\n",
       "      <td>2,058</td>\n",
       "      <td>$329 - $443 K</td>\n",
       "    </tr>\n",
       "    <tr>\n",
       "      <th>...</th>\n",
       "      <td>...</td>\n",
       "      <td>...</td>\n",
       "      <td>...</td>\n",
       "      <td>...</td>\n",
       "      <td>...</td>\n",
       "    </tr>\n",
       "    <tr>\n",
       "      <th>11136</th>\n",
       "      <td>$75,165</td>\n",
       "      <td>1950.0</td>\n",
       "      <td>6,325</td>\n",
       "      <td>1,160</td>\n",
       "      <td>$56 - $111 K</td>\n",
       "    </tr>\n",
       "    <tr>\n",
       "      <th>11137</th>\n",
       "      <td>$106,856</td>\n",
       "      <td>1963.0</td>\n",
       "      <td>7,100</td>\n",
       "      <td>1,313</td>\n",
       "      <td>$37 - $170 K</td>\n",
       "    </tr>\n",
       "    <tr>\n",
       "      <th>11138</th>\n",
       "      <td>$106,856</td>\n",
       "      <td>1963.0</td>\n",
       "      <td>7,100</td>\n",
       "      <td>1,313</td>\n",
       "      <td>$37 - $170 K</td>\n",
       "    </tr>\n",
       "    <tr>\n",
       "      <th>11139</th>\n",
       "      <td>$106,856</td>\n",
       "      <td>1963.0</td>\n",
       "      <td>7,100</td>\n",
       "      <td>1,313</td>\n",
       "      <td>$37 - $170 K</td>\n",
       "    </tr>\n",
       "    <tr>\n",
       "      <th>11140</th>\n",
       "      <td>$106,856</td>\n",
       "      <td>1963.0</td>\n",
       "      <td>7,100</td>\n",
       "      <td>1,313</td>\n",
       "      <td>$37 - $170 K</td>\n",
       "    </tr>\n",
       "  </tbody>\n",
       "</table>\n",
       "<p>9395 rows × 5 columns</p>\n",
       "</div>"
      ],
      "text/plain": [
       "      Median Appraised Value:  Median Year Built: Median Lot Square Ft.:  \\\n",
       "1                   $469,147               2014.0                  1,450   \n",
       "2                   $469,147               2014.0                  1,450   \n",
       "3                   $141,314               1938.0                  4,700   \n",
       "4                   $141,314               1938.0                  4,700   \n",
       "5                   $404,408               2016.0                  1,586   \n",
       "...                       ...                 ...                    ...   \n",
       "11136                $75,165               1950.0                  6,325   \n",
       "11137               $106,856               1963.0                  7,100   \n",
       "11138               $106,856               1963.0                  7,100   \n",
       "11139               $106,856               1963.0                  7,100   \n",
       "11140               $106,856               1963.0                  7,100   \n",
       "\n",
       "      Median Square Ft.: Neighborhood Value Range:  \n",
       "1                  2,096             $441 - $476 K  \n",
       "2                  2,096             $441 - $476 K  \n",
       "3                  1,086              $90 - $213 K  \n",
       "4                  1,086              $90 - $213 K  \n",
       "5                  2,058             $329 - $443 K  \n",
       "...                  ...                       ...  \n",
       "11136              1,160              $56 - $111 K  \n",
       "11137              1,313              $37 - $170 K  \n",
       "11138              1,313              $37 - $170 K  \n",
       "11139              1,313              $37 - $170 K  \n",
       "11140              1,313              $37 - $170 K  \n",
       "\n",
       "[9395 rows x 5 columns]"
      ]
     },
     "execution_count": 601,
     "metadata": {},
     "output_type": "execute_result"
    }
   ],
   "source": [
    "single_family_df[['Median Appraised Value:', 'Median Year Built:', 'Median Lot Square Ft.:', 'Median Square Ft.:', 'Neighborhood Value Range:']]"
   ]
  },
  {
   "cell_type": "markdown",
   "metadata": {},
   "source": [
    "Now we need to clean those features and change their type to the right one."
   ]
  },
  {
   "cell_type": "code",
   "execution_count": 602,
   "metadata": {},
   "outputs": [],
   "source": [
    "single_family_df['MedianApp'] = single_family_df['Median Appraised Value:'].str.replace('$','').str.replace(',','').str.strip()\n",
    "single_family_df['MedianApp'] = pd.to_numeric(single_family_df['MedianApp'],errors='coerce')"
   ]
  },
  {
   "cell_type": "code",
   "execution_count": 603,
   "metadata": {},
   "outputs": [
    {
     "data": {
      "text/plain": [
       "1        469147\n",
       "2        469147\n",
       "3        141314\n",
       "4        141314\n",
       "5        404408\n",
       "          ...  \n",
       "11136     75165\n",
       "11137    106856\n",
       "11138    106856\n",
       "11139    106856\n",
       "11140    106856\n",
       "Name: MedianApp, Length: 9395, dtype: int64"
      ]
     },
     "execution_count": 603,
     "metadata": {},
     "output_type": "execute_result"
    }
   ],
   "source": [
    "single_family_df['MedianApp']"
   ]
  },
  {
   "cell_type": "code",
   "execution_count": 604,
   "metadata": {},
   "outputs": [],
   "source": [
    "single_family_df['MedianYearBlt'] = pd.to_datetime(single_family_df['Median Year Built:'],format='%Y').dt.year"
   ]
  },
  {
   "cell_type": "code",
   "execution_count": 605,
   "metadata": {},
   "outputs": [
    {
     "data": {
      "text/plain": [
       "1        2014\n",
       "2        2014\n",
       "3        1938\n",
       "4        1938\n",
       "5        2016\n",
       "         ... \n",
       "11136    1950\n",
       "11137    1963\n",
       "11138    1963\n",
       "11139    1963\n",
       "11140    1963\n",
       "Name: MedianYearBlt, Length: 9395, dtype: int64"
      ]
     },
     "execution_count": 605,
     "metadata": {},
     "output_type": "execute_result"
    }
   ],
   "source": [
    "single_family_df['MedianYearBlt']"
   ]
  },
  {
   "cell_type": "code",
   "execution_count": 606,
   "metadata": {},
   "outputs": [],
   "source": [
    "single_family_df['MedianSqft'] = single_family_df['Median Lot Square Ft.:'].str.replace(',','').str.strip()\n",
    "single_family_df['MedianSqft'] = pd.to_numeric(single_family_df['MedianSqft'],errors='coerce')"
   ]
  },
  {
   "cell_type": "code",
   "execution_count": 607,
   "metadata": {},
   "outputs": [
    {
     "data": {
      "text/plain": [
       "1        1450\n",
       "2        1450\n",
       "3        4700\n",
       "4        4700\n",
       "5        1586\n",
       "         ... \n",
       "11136    6325\n",
       "11137    7100\n",
       "11138    7100\n",
       "11139    7100\n",
       "11140    7100\n",
       "Name: MedianSqft, Length: 9395, dtype: int64"
      ]
     },
     "execution_count": 607,
     "metadata": {},
     "output_type": "execute_result"
    }
   ],
   "source": [
    "single_family_df['MedianSqft'] "
   ]
  },
  {
   "cell_type": "code",
   "execution_count": 608,
   "metadata": {},
   "outputs": [],
   "source": [
    "single_family_df['NeighborValRangeMin'] = single_family_df['Neighborhood Value Range:'].apply(lambda x:x.split('-')[0].strip().replace('$',''))\n",
    "single_family_df['NeighborValRangeMin'] = pd.to_numeric(single_family_df['NeighborValRangeMin'],errors='coerce')"
   ]
  },
  {
   "cell_type": "code",
   "execution_count": 609,
   "metadata": {},
   "outputs": [
    {
     "data": {
      "text/plain": [
       "1        441\n",
       "2        441\n",
       "3         90\n",
       "4         90\n",
       "5        329\n",
       "        ... \n",
       "11136     56\n",
       "11137     37\n",
       "11138     37\n",
       "11139     37\n",
       "11140     37\n",
       "Name: NeighborValRangeMin, Length: 9395, dtype: int64"
      ]
     },
     "execution_count": 609,
     "metadata": {},
     "output_type": "execute_result"
    }
   ],
   "source": [
    "single_family_df['NeighborValRangeMin'] "
   ]
  },
  {
   "cell_type": "code",
   "execution_count": 610,
   "metadata": {},
   "outputs": [],
   "source": [
    "single_family_df['NeighborValRangeMax'] = single_family_df['Neighborhood Value Range:'].apply(lambda x:x.split('-')[1].replace('$','').replace('K','').strip())\n",
    "single_family_df['NeighborValRangeMax'] = pd.to_numeric(single_family_df['NeighborValRangeMax'],errors='coerce')"
   ]
  },
  {
   "cell_type": "code",
   "execution_count": 611,
   "metadata": {},
   "outputs": [
    {
     "data": {
      "text/plain": [
       "1        476\n",
       "2        476\n",
       "3        213\n",
       "4        213\n",
       "5        443\n",
       "        ... \n",
       "11136    111\n",
       "11137    170\n",
       "11138    170\n",
       "11139    170\n",
       "11140    170\n",
       "Name: NeighborValRangeMax, Length: 9395, dtype: int64"
      ]
     },
     "execution_count": 611,
     "metadata": {},
     "output_type": "execute_result"
    }
   ],
   "source": [
    "single_family_df['NeighborValRangeMax'] "
   ]
  },
  {
   "cell_type": "code",
   "execution_count": 612,
   "metadata": {},
   "outputs": [],
   "source": [
    "single_family_df.drop(['Median Appraised Value:', 'Median Year Built:', 'Median Lot Square Ft.:', 'Median Square Ft.:', 'Neighborhood Value Range:'],\n",
    "                      axis=1,inplace=True)"
   ]
  },
  {
   "cell_type": "code",
   "execution_count": 613,
   "metadata": {},
   "outputs": [
    {
     "name": "stdout",
     "output_type": "stream",
     "text": [
      "<class 'pandas.core.frame.DataFrame'>\n",
      "Int64Index: 9395 entries, 1 to 11140\n",
      "Data columns (total 62 columns):\n",
      " #   Column                                Non-Null Count  Dtype  \n",
      "---  ------                                --------------  -----  \n",
      " 0   image_link                            9395 non-null   object \n",
      " 1   Listing Price:                        9392 non-null   object \n",
      " 2   Address:                              9395 non-null   object \n",
      " 3   City:                                 9395 non-null   object \n",
      " 4   Zip Code:                             9395 non-null   int64  \n",
      " 5   County:                               9395 non-null   object \n",
      " 6   Legal Description:                    9339 non-null   object \n",
      " 7   Bedrooms:                             9366 non-null   object \n",
      " 8   Baths:                                9373 non-null   object \n",
      " 9   Stories:                              9392 non-null   object \n",
      " 10  Style:                                9395 non-null   object \n",
      " 11  Year Built:                           9345 non-null   object \n",
      " 12  Building Sqft.:                       9352 non-null   object \n",
      " 13  Lot Size:                             8910 non-null   object \n",
      " 14  Maintenance Fee:                      9367 non-null   object \n",
      " 15  Primary Bedroom:                      8755 non-null   object \n",
      " 16  Bedroom:                              9304 non-null   object \n",
      " 17  Fireplace:                            6012 non-null   object \n",
      " 18  Heating:                              9395 non-null   object \n",
      " 19  Cooling:                              9395 non-null   object \n",
      " 20  Ice Maker:                            9395 non-null   object \n",
      " 21  Microwave:                            9395 non-null   object \n",
      " 22  Compactor:                            9395 non-null   object \n",
      " 23  Dishwasher:                           9395 non-null   object \n",
      " 24  Disposal:                             9395 non-null   object \n",
      " 25  Roof:                                 9395 non-null   object \n",
      " 26  Foundation:                           9395 non-null   object \n",
      " 27  Private Pool:                         9395 non-null   object \n",
      " 28  Exterior Type:                        9395 non-null   object \n",
      " 29  Lot Description:                      9395 non-null   object \n",
      " 30  Controlled Access:                    9395 non-null   object \n",
      " 31  Water Sewer:                          9395 non-null   object \n",
      " 32  Unit Location:                        9395 non-null   object \n",
      " 33  Area Pool:                            9395 non-null   object \n",
      " 34  Dwelling Type:                        9395 non-null   object \n",
      " 35  HOA Mandatory:                        9367 non-null   object \n",
      " 36  List Type:                            9395 non-null   object \n",
      " 37  Other Fees:                           9395 non-null   object \n",
      " 38  Taxes w/o Exemp:                      7889 non-null   object \n",
      " 39  Tax Rate:                             8532 non-null   float64\n",
      " 40  Average Bedrooms:                     9362 non-null   float64\n",
      " 41  Average Baths:                        9395 non-null   float64\n",
      " 42  Median Price / Square ft.:            8471 non-null   object \n",
      " 43  Home For Sales:                       0 non-null      object \n",
      " 44  Average List Price:                   0 non-null      object \n",
      " 45  Average Square Ft.:                   0 non-null      object \n",
      " 46  Average Price/Square Ft.:             0 non-null      object \n",
      " 47  Home For Lease:                       0 non-null      float64\n",
      " 48  Average Lease:                        0 non-null      object \n",
      " 49  Average Lease/Square Ft.:             0 non-null      object \n",
      " 50  Carport Description:                  9395 non-null   object \n",
      " 51  Median Appraised Value / Square ft.:  924 non-null    object \n",
      " 52  garage                                9395 non-null   int32  \n",
      " 53  LivingSqft                            5350 non-null   float64\n",
      " 54  DiningSqft                            6409 non-null   float64\n",
      " 55  KitchenSqft                           6643 non-null   float64\n",
      " 56  SubName                               9395 non-null   object \n",
      " 57  MedianApp                             9395 non-null   int64  \n",
      " 58  MedianYearBlt                         9395 non-null   int64  \n",
      " 59  MedianSqft                            9395 non-null   int64  \n",
      " 60  NeighborValRangeMin                   9395 non-null   int64  \n",
      " 61  NeighborValRangeMax                   9395 non-null   int64  \n",
      "dtypes: float64(7), int32(1), int64(6), object(48)\n",
      "memory usage: 4.5+ MB\n"
     ]
    }
   ],
   "source": [
    "single_family_df.info()"
   ]
  },
  {
   "cell_type": "markdown",
   "metadata": {},
   "source": [
    "We have some features with 100% null values. lets drop them:"
   ]
  },
  {
   "cell_type": "code",
   "execution_count": 614,
   "metadata": {},
   "outputs": [],
   "source": [
    "single_family_df.drop(['Home For Sales:', 'Average List Price:', 'Average Square Ft.:', 'Average Price/Square Ft.:',\n",
    "                       'Home For Lease:','Average Lease:','Average Lease/Square Ft.:'],axis=1,inplace=True)"
   ]
  },
  {
   "cell_type": "markdown",
   "metadata": {},
   "source": [
    "Now we are checking missing values again:"
   ]
  },
  {
   "cell_type": "code",
   "execution_count": 615,
   "metadata": {},
   "outputs": [
    {
     "data": {
      "text/html": [
       "<div>\n",
       "<style scoped>\n",
       "    .dataframe tbody tr th:only-of-type {\n",
       "        vertical-align: middle;\n",
       "    }\n",
       "\n",
       "    .dataframe tbody tr th {\n",
       "        vertical-align: top;\n",
       "    }\n",
       "\n",
       "    .dataframe thead th {\n",
       "        text-align: right;\n",
       "    }\n",
       "</style>\n",
       "<table border=\"1\" class=\"dataframe\">\n",
       "  <thead>\n",
       "    <tr style=\"text-align: right;\">\n",
       "      <th></th>\n",
       "      <th>count</th>\n",
       "      <th>%</th>\n",
       "    </tr>\n",
       "  </thead>\n",
       "  <tbody>\n",
       "    <tr>\n",
       "      <th>Median Appraised Value / Square ft.:</th>\n",
       "      <td>8471</td>\n",
       "      <td>90.164981</td>\n",
       "    </tr>\n",
       "    <tr>\n",
       "      <th>LivingSqft</th>\n",
       "      <td>4045</td>\n",
       "      <td>43.054816</td>\n",
       "    </tr>\n",
       "    <tr>\n",
       "      <th>Fireplace:</th>\n",
       "      <td>3383</td>\n",
       "      <td>36.008515</td>\n",
       "    </tr>\n",
       "    <tr>\n",
       "      <th>DiningSqft</th>\n",
       "      <td>2986</td>\n",
       "      <td>31.782863</td>\n",
       "    </tr>\n",
       "    <tr>\n",
       "      <th>KitchenSqft</th>\n",
       "      <td>2752</td>\n",
       "      <td>29.292177</td>\n",
       "    </tr>\n",
       "    <tr>\n",
       "      <th>Taxes w/o Exemp:</th>\n",
       "      <td>1506</td>\n",
       "      <td>16.029803</td>\n",
       "    </tr>\n",
       "    <tr>\n",
       "      <th>Median Price / Square ft.:</th>\n",
       "      <td>924</td>\n",
       "      <td>9.835019</td>\n",
       "    </tr>\n",
       "    <tr>\n",
       "      <th>Tax Rate:</th>\n",
       "      <td>863</td>\n",
       "      <td>9.185737</td>\n",
       "    </tr>\n",
       "    <tr>\n",
       "      <th>Primary Bedroom:</th>\n",
       "      <td>640</td>\n",
       "      <td>6.812134</td>\n",
       "    </tr>\n",
       "    <tr>\n",
       "      <th>Lot Size:</th>\n",
       "      <td>485</td>\n",
       "      <td>5.162320</td>\n",
       "    </tr>\n",
       "    <tr>\n",
       "      <th>Bedroom:</th>\n",
       "      <td>91</td>\n",
       "      <td>0.968600</td>\n",
       "    </tr>\n",
       "    <tr>\n",
       "      <th>Legal Description:</th>\n",
       "      <td>56</td>\n",
       "      <td>0.596062</td>\n",
       "    </tr>\n",
       "    <tr>\n",
       "      <th>Year Built:</th>\n",
       "      <td>50</td>\n",
       "      <td>0.532198</td>\n",
       "    </tr>\n",
       "    <tr>\n",
       "      <th>Building Sqft.:</th>\n",
       "      <td>43</td>\n",
       "      <td>0.457690</td>\n",
       "    </tr>\n",
       "    <tr>\n",
       "      <th>Average Bedrooms:</th>\n",
       "      <td>33</td>\n",
       "      <td>0.351251</td>\n",
       "    </tr>\n",
       "    <tr>\n",
       "      <th>Bedrooms:</th>\n",
       "      <td>29</td>\n",
       "      <td>0.308675</td>\n",
       "    </tr>\n",
       "    <tr>\n",
       "      <th>HOA Mandatory:</th>\n",
       "      <td>28</td>\n",
       "      <td>0.298031</td>\n",
       "    </tr>\n",
       "    <tr>\n",
       "      <th>Maintenance Fee:</th>\n",
       "      <td>28</td>\n",
       "      <td>0.298031</td>\n",
       "    </tr>\n",
       "    <tr>\n",
       "      <th>Baths:</th>\n",
       "      <td>22</td>\n",
       "      <td>0.234167</td>\n",
       "    </tr>\n",
       "    <tr>\n",
       "      <th>Stories:</th>\n",
       "      <td>3</td>\n",
       "      <td>0.031932</td>\n",
       "    </tr>\n",
       "    <tr>\n",
       "      <th>Listing Price:</th>\n",
       "      <td>3</td>\n",
       "      <td>0.031932</td>\n",
       "    </tr>\n",
       "  </tbody>\n",
       "</table>\n",
       "</div>"
      ],
      "text/plain": [
       "                                      count          %\n",
       "Median Appraised Value / Square ft.:   8471  90.164981\n",
       "LivingSqft                             4045  43.054816\n",
       "Fireplace:                             3383  36.008515\n",
       "DiningSqft                             2986  31.782863\n",
       "KitchenSqft                            2752  29.292177\n",
       "Taxes w/o Exemp:                       1506  16.029803\n",
       "Median Price / Square ft.:              924   9.835019\n",
       "Tax Rate:                               863   9.185737\n",
       "Primary Bedroom:                        640   6.812134\n",
       "Lot Size:                               485   5.162320\n",
       "Bedroom:                                 91   0.968600\n",
       "Legal Description:                       56   0.596062\n",
       "Year Built:                              50   0.532198\n",
       "Building Sqft.:                          43   0.457690\n",
       "Average Bedrooms:                        33   0.351251\n",
       "Bedrooms:                                29   0.308675\n",
       "HOA Mandatory:                           28   0.298031\n",
       "Maintenance Fee:                         28   0.298031\n",
       "Baths:                                   22   0.234167\n",
       "Stories:                                  3   0.031932\n",
       "Listing Price:                            3   0.031932"
      ]
     },
     "execution_count": 615,
     "metadata": {},
     "output_type": "execute_result"
    }
   ],
   "source": [
    "missing = missing_cal(single_family_df)\n",
    "missing.loc[missing['%'] > 0].sort_values(by=\"%\",ascending=False)"
   ]
  },
  {
   "cell_type": "markdown",
   "metadata": {},
   "source": [
    "I think we can fill null values for living, dining and kitchen area with them mean sqft for each subdivision since most of the house in one subdivision are almost the same."
   ]
  },
  {
   "cell_type": "code",
   "execution_count": 616,
   "metadata": {},
   "outputs": [],
   "source": [
    "single_family_df['LivingSqft'] = single_family_df['LivingSqft'].fillna(single_family_df.groupby('SubName')['LivingSqft'].transform('mean'))\n",
    "single_family_df['DiningSqft'] = single_family_df['DiningSqft'].fillna(single_family_df.groupby('SubName')['DiningSqft'].transform('mean'))\n",
    "single_family_df['KitchenSqft'] = single_family_df['KitchenSqft'].fillna(single_family_df.groupby('SubName')['KitchenSqft'].transform('mean'))"
   ]
  },
  {
   "cell_type": "code",
   "execution_count": 617,
   "metadata": {},
   "outputs": [
    {
     "data": {
      "text/plain": [
       "SubName\n",
       "1829 Bering Drive      1\n",
       "A L Coan               1\n",
       "ADELAIDE               0\n",
       "ALYS PARK              1\n",
       "ARCADIA COURT          1\n",
       "                      ..\n",
       "Yorkdale Tr            0\n",
       "Yorkshire              4\n",
       "Young Mens             3\n",
       "Young Samuel           1\n",
       "Zan Wun Patio Homes    1\n",
       "Name: Taxes w/o Exemp:, Length: 2111, dtype: int64"
      ]
     },
     "execution_count": 617,
     "metadata": {},
     "output_type": "execute_result"
    }
   ],
   "source": [
    "single_family_df.groupby('SubName').count()['Taxes w/o Exemp:']"
   ]
  },
  {
   "cell_type": "code",
   "execution_count": 618,
   "metadata": {},
   "outputs": [
    {
     "data": {
      "text/html": [
       "<div>\n",
       "<style scoped>\n",
       "    .dataframe tbody tr th:only-of-type {\n",
       "        vertical-align: middle;\n",
       "    }\n",
       "\n",
       "    .dataframe tbody tr th {\n",
       "        vertical-align: top;\n",
       "    }\n",
       "\n",
       "    .dataframe thead th {\n",
       "        text-align: right;\n",
       "    }\n",
       "</style>\n",
       "<table border=\"1\" class=\"dataframe\">\n",
       "  <thead>\n",
       "    <tr style=\"text-align: right;\">\n",
       "      <th></th>\n",
       "      <th>Taxes w/o Exemp:</th>\n",
       "      <th>Listing Price:</th>\n",
       "      <th>Median Price / Square ft.:</th>\n",
       "      <th>Tax Rate:</th>\n",
       "      <th>SubName</th>\n",
       "    </tr>\n",
       "  </thead>\n",
       "  <tbody>\n",
       "    <tr>\n",
       "      <th>1</th>\n",
       "      <td>$11, 138/2019</td>\n",
       "      <td>$ 465,000 ($221.85/sqft.) $Convert</td>\n",
       "      <td>NaN</td>\n",
       "      <td>2.4216</td>\n",
       "      <td>Modern Midtown</td>\n",
       "    </tr>\n",
       "    <tr>\n",
       "      <th>2</th>\n",
       "      <td>$11, 292/2019</td>\n",
       "      <td>$ 450,000 ($223.33/sqft.) $Convert</td>\n",
       "      <td>NaN</td>\n",
       "      <td>2.4216</td>\n",
       "      <td>Modern Midtown</td>\n",
       "    </tr>\n",
       "    <tr>\n",
       "      <th>3</th>\n",
       "      <td>$4, 480/2019</td>\n",
       "      <td>$ 259,000 ($203.30/sqft.) $Convert</td>\n",
       "      <td>$188.44</td>\n",
       "      <td>2.5716</td>\n",
       "      <td>Merkels</td>\n",
       "    </tr>\n",
       "    <tr>\n",
       "      <th>4</th>\n",
       "      <td>NaN</td>\n",
       "      <td>$ 236,999 ($196.19/sqft.) $Convert  \\r\\n\\r\\n\\r\\n Reduced  1.25%\\r\\n  Reduced  1.25%\\r\\n\\r\\nReduc...</td>\n",
       "      <td>$188.44</td>\n",
       "      <td>NaN</td>\n",
       "      <td>Merkels</td>\n",
       "    </tr>\n",
       "    <tr>\n",
       "      <th>5</th>\n",
       "      <td>$9, 932/2019</td>\n",
       "      <td>$ 390,000 ($210.81/sqft.) $Convert</td>\n",
       "      <td>NaN</td>\n",
       "      <td>2.5716</td>\n",
       "      <td>East End On The Bayou</td>\n",
       "    </tr>\n",
       "    <tr>\n",
       "      <th>...</th>\n",
       "      <td>...</td>\n",
       "      <td>...</td>\n",
       "      <td>...</td>\n",
       "      <td>...</td>\n",
       "      <td>...</td>\n",
       "    </tr>\n",
       "    <tr>\n",
       "      <th>11136</th>\n",
       "      <td>$2, 607/2019</td>\n",
       "      <td>$ 189,000 ($111.77/sqft.) $Convert</td>\n",
       "      <td>$118.87</td>\n",
       "      <td>2.8732</td>\n",
       "      <td>Merilyn Place</td>\n",
       "    </tr>\n",
       "    <tr>\n",
       "      <th>11137</th>\n",
       "      <td>$2, 145/2019</td>\n",
       "      <td>$ 177,900 ($135.18/sqft.) $Convert</td>\n",
       "      <td>$92.11</td>\n",
       "      <td>2.8732</td>\n",
       "      <td>South Houston</td>\n",
       "    </tr>\n",
       "    <tr>\n",
       "      <th>11138</th>\n",
       "      <td>$3, 108/2019</td>\n",
       "      <td>$ 169,500 ($146.12/sqft.) $Convert</td>\n",
       "      <td>$92.11</td>\n",
       "      <td>2.8732</td>\n",
       "      <td>South Houston</td>\n",
       "    </tr>\n",
       "    <tr>\n",
       "      <th>11139</th>\n",
       "      <td>NaN</td>\n",
       "      <td>$ 165,000 ($145.37/sqft.) $Convert</td>\n",
       "      <td>$92.11</td>\n",
       "      <td>NaN</td>\n",
       "      <td>South Houston</td>\n",
       "    </tr>\n",
       "    <tr>\n",
       "      <th>11140</th>\n",
       "      <td>$2, 735/2019</td>\n",
       "      <td>$ 155,000 ($184.74/sqft.) $Convert</td>\n",
       "      <td>$92.11</td>\n",
       "      <td>2.8732</td>\n",
       "      <td>South Houston</td>\n",
       "    </tr>\n",
       "  </tbody>\n",
       "</table>\n",
       "<p>9395 rows × 5 columns</p>\n",
       "</div>"
      ],
      "text/plain": [
       "      Taxes w/o Exemp:  \\\n",
       "1        $11, 138/2019   \n",
       "2        $11, 292/2019   \n",
       "3         $4, 480/2019   \n",
       "4                  NaN   \n",
       "5         $9, 932/2019   \n",
       "...                ...   \n",
       "11136     $2, 607/2019   \n",
       "11137     $2, 145/2019   \n",
       "11138     $3, 108/2019   \n",
       "11139              NaN   \n",
       "11140     $2, 735/2019   \n",
       "\n",
       "                                                                                            Listing Price:  \\\n",
       "1                                                                      $ 465,000 ($221.85/sqft.) $Convert    \n",
       "2                                                                      $ 450,000 ($223.33/sqft.) $Convert    \n",
       "3                                                                      $ 259,000 ($203.30/sqft.) $Convert    \n",
       "4      $ 236,999 ($196.19/sqft.) $Convert  \\r\\n\\r\\n\\r\\n Reduced  1.25%\\r\\n  Reduced  1.25%\\r\\n\\r\\nReduc...   \n",
       "5                                                                      $ 390,000 ($210.81/sqft.) $Convert    \n",
       "...                                                                                                    ...   \n",
       "11136                                                                  $ 189,000 ($111.77/sqft.) $Convert    \n",
       "11137                                                                  $ 177,900 ($135.18/sqft.) $Convert    \n",
       "11138                                                                  $ 169,500 ($146.12/sqft.) $Convert    \n",
       "11139                                                                  $ 165,000 ($145.37/sqft.) $Convert    \n",
       "11140                                                                  $ 155,000 ($184.74/sqft.) $Convert    \n",
       "\n",
       "      Median Price / Square ft.:  Tax Rate:                SubName  \n",
       "1                            NaN     2.4216         Modern Midtown  \n",
       "2                            NaN     2.4216         Modern Midtown  \n",
       "3                       $188.44      2.5716                Merkels  \n",
       "4                       $188.44         NaN                Merkels  \n",
       "5                            NaN     2.5716  East End On The Bayou  \n",
       "...                          ...        ...                    ...  \n",
       "11136                   $118.87      2.8732          Merilyn Place  \n",
       "11137                    $92.11      2.8732          South Houston  \n",
       "11138                    $92.11      2.8732          South Houston  \n",
       "11139                    $92.11         NaN          South Houston  \n",
       "11140                    $92.11      2.8732          South Houston  \n",
       "\n",
       "[9395 rows x 5 columns]"
      ]
     },
     "execution_count": 618,
     "metadata": {},
     "output_type": "execute_result"
    }
   ],
   "source": [
    "single_family_df[['Taxes w/o Exemp:','Listing Price:','Median Price / Square ft.:','Tax Rate:','SubName']]"
   ]
  },
  {
   "cell_type": "markdown",
   "metadata": {},
   "source": [
    "Tax rate and Median Price / Square ft. would be the same for all house in same subdivision and Taxes paid is different for each house based on tax rate, total house sqft and other factor. I think filling null value for tax paid with the average of taxes per subdivision would be appropriate but first we need to clean these two columns."
   ]
  },
  {
   "cell_type": "code",
   "execution_count": 619,
   "metadata": {},
   "outputs": [],
   "source": [
    "single_family_df['MedianPrice/Sqft'] = pd.to_numeric(single_family_df['Median Price / Square ft.:'].str\n",
    "                                                     .replace('$','').str.strip(),errors='coerce')\n",
    "\n",
    "single_family_df['PaidTax'] = pd.to_numeric(single_family_df['Taxes w/o Exemp:'].apply(lambda x:x.split('/')[0].replace(',','')\n",
    "                                                                         .replace(' ','').strip().replace('$','') if \n",
    "                                                                         not pd.isna(x) else None),errors='coerce')\n",
    "single_family_df['TaxRate'] = pd.to_numeric(single_family_df['Tax Rate:'],errors='coerce')"
   ]
  },
  {
   "cell_type": "code",
   "execution_count": 620,
   "metadata": {},
   "outputs": [],
   "source": [
    "single_family_df['PaidTax'] = single_family_df['PaidTax'].fillna(single_family_df.groupby('SubName')['PaidTax'].transform('mean'))\n",
    "single_family_df['TaxRate'] = single_family_df['TaxRate'].fillna(single_family_df.groupby('SubName')['TaxRate'].transform('mean'))\n",
    "single_family_df['MedianPrice/Sqft'] = single_family_df['MedianPrice/Sqft'].fillna(single_family_df.groupby('SubName')['MedianPrice/Sqft'].transform('mean'))"
   ]
  },
  {
   "cell_type": "code",
   "execution_count": 621,
   "metadata": {},
   "outputs": [],
   "source": [
    "single_family_df.drop(['Taxes w/o Exemp:','Tax Rate:','Median Price / Square ft.:'],axis=1,inplace=True)"
   ]
  },
  {
   "cell_type": "markdown",
   "metadata": {},
   "source": [
    "## 2.12 Listing Price<a id='2.12_Listing_Price'></a>"
   ]
  },
  {
   "cell_type": "code",
   "execution_count": 622,
   "metadata": {},
   "outputs": [
    {
     "data": {
      "text/plain": [
       "3"
      ]
     },
     "execution_count": 622,
     "metadata": {},
     "output_type": "execute_result"
    }
   ],
   "source": [
    "single_family_df['Listing Price:'].isna().sum()"
   ]
  },
  {
   "cell_type": "code",
   "execution_count": 623,
   "metadata": {},
   "outputs": [],
   "source": [
    "single_family_df=single_family_df[~single_family_df['Listing Price:'].isnull()]"
   ]
  },
  {
   "cell_type": "code",
   "execution_count": 624,
   "metadata": {},
   "outputs": [],
   "source": [
    "single_family_df['Listing Price:']=single_family_df['Listing Price:'].str.split(' ').str[1]\n",
    "single_family_df['Listing Price:']=single_family_df['Listing Price:'].str.replace(',','')\n",
    "single_family_df['Listing Price:']=pd.to_numeric(single_family_df['Listing Price:'])\n",
    "single_family_df.rename(columns = {'Listing Price:':'ListingPrice','Address:':'Address', 'Zip Code:':'ZipCode', 'County:':'County',\n",
    "                                 'Subdivision:':'sub', 'Legal Description:':'Legal'},inplace=True)"
   ]
  },
  {
   "cell_type": "code",
   "execution_count": 625,
   "metadata": {},
   "outputs": [
    {
     "data": {
      "text/plain": [
       "count    9.392000e+03\n",
       "mean     5.231866e+05\n",
       "std      6.439969e+05\n",
       "min      1.000000e+00\n",
       "25%      2.350000e+05\n",
       "50%      3.390000e+05\n",
       "75%      5.500000e+05\n",
       "max      1.450000e+07\n",
       "Name: ListingPrice, dtype: float64"
      ]
     },
     "execution_count": 625,
     "metadata": {},
     "output_type": "execute_result"
    }
   ],
   "source": [
    "single_family_df['ListingPrice'].describe()"
   ]
  },
  {
   "cell_type": "markdown",
   "metadata": {},
   "source": [
    "## 2.13 Bedrooms<a id='2.8_Bedrooms'></a>"
   ]
  },
  {
   "cell_type": "code",
   "execution_count": 626,
   "metadata": {},
   "outputs": [
    {
     "data": {
      "text/html": [
       "<div>\n",
       "<style scoped>\n",
       "    .dataframe tbody tr th:only-of-type {\n",
       "        vertical-align: middle;\n",
       "    }\n",
       "\n",
       "    .dataframe tbody tr th {\n",
       "        vertical-align: top;\n",
       "    }\n",
       "\n",
       "    .dataframe thead th {\n",
       "        text-align: right;\n",
       "    }\n",
       "</style>\n",
       "<table border=\"1\" class=\"dataframe\">\n",
       "  <thead>\n",
       "    <tr style=\"text-align: right;\">\n",
       "      <th></th>\n",
       "      <th>Bedrooms:</th>\n",
       "      <th>Bedroom:</th>\n",
       "      <th>Primary Bedroom:</th>\n",
       "    </tr>\n",
       "  </thead>\n",
       "  <tbody>\n",
       "    <tr>\n",
       "      <th>1</th>\n",
       "      <td>3 Bedroom(s)</td>\n",
       "      <td>['13x11, 3rd', '13x10, 1st', '3.96 x 3.35(m)', '3.96 x 3.05(m)']</td>\n",
       "      <td>['18x12, 3rd', '5.49 x 3.66(m)']</td>\n",
       "    </tr>\n",
       "    <tr>\n",
       "      <th>2</th>\n",
       "      <td>3 Bedroom(s)</td>\n",
       "      <td>['13 x 11, 1st', '13 x 11, 3rd', '13 , 11, 1st', '13 , 11, 3rd']</td>\n",
       "      <td>['19 x 13, 3rd', '19 , 13, 3rd']</td>\n",
       "    </tr>\n",
       "    <tr>\n",
       "      <th>3</th>\n",
       "      <td>3 Bedroom(s)</td>\n",
       "      <td>['15 x 12, 1st', '9 x 12, 1st', '13 x 13, 1st', '15 , 12, 1st', '9 , 12, 1st', '13 , 13, 1st']</td>\n",
       "      <td>NaN</td>\n",
       "    </tr>\n",
       "    <tr>\n",
       "      <th>4</th>\n",
       "      <td>3 Bedroom(s)</td>\n",
       "      <td>['13X10, 1st', '10X10, 1st', '13X10, 1st', '3.96 x 3.05(m)', '3.05 x 3.05(m)', '3.96 x 3.05(m)']</td>\n",
       "      <td>NaN</td>\n",
       "    </tr>\n",
       "    <tr>\n",
       "      <th>5</th>\n",
       "      <td>3 Bedroom(s)</td>\n",
       "      <td>['12x11, 1st', '11x10, 3rd', '3.66 x 3.35(m)', '3.35 x 3.05(m)']</td>\n",
       "      <td>['16x12, 3rd', '4.88 x 3.66(m)']</td>\n",
       "    </tr>\n",
       "    <tr>\n",
       "      <th>...</th>\n",
       "      <td>...</td>\n",
       "      <td>...</td>\n",
       "      <td>...</td>\n",
       "    </tr>\n",
       "    <tr>\n",
       "      <th>11136</th>\n",
       "      <td>3 Bedroom(s)</td>\n",
       "      <td>['13 x 11, 1st', '13 x 10, 1st', '13 , 11, 1st', '13 , 10, 1st']</td>\n",
       "      <td>['11 x 16, 1st', '11 , 16, 1st']</td>\n",
       "    </tr>\n",
       "    <tr>\n",
       "      <th>11137</th>\n",
       "      <td>3 Bedroom(s)</td>\n",
       "      <td>['10x8, 1st', '10x8, 1st', '3.05 x 2.44(m)', '3.05 x 2.44(m)']</td>\n",
       "      <td>['12x14, 1st', '3.66 x 4.27(m)']</td>\n",
       "    </tr>\n",
       "    <tr>\n",
       "      <th>11138</th>\n",
       "      <td>3 Bedroom(s)</td>\n",
       "      <td>['12x11, 1st', '12x11, 1st', '3.66 x 3.35(m)', '3.66 x 3.35(m)']</td>\n",
       "      <td>['13x15, 1st', '3.96 x 4.57(m)']</td>\n",
       "    </tr>\n",
       "    <tr>\n",
       "      <th>11139</th>\n",
       "      <td>3 Bedroom(s)</td>\n",
       "      <td>['12x12, 1st', '12x12, 1st', '3.66 x 3.66(m)', '3.66 x 3.66(m)']</td>\n",
       "      <td>['13x15, 1st', '3.96 x 4.57(m)']</td>\n",
       "    </tr>\n",
       "    <tr>\n",
       "      <th>11140</th>\n",
       "      <td>2 Bedroom(s)</td>\n",
       "      <td>['11 x 11.5, 1st', '11 x 11.5, 1st', '11 , 11.5, 1st', '11 , 11.5, 1st']</td>\n",
       "      <td>NaN</td>\n",
       "    </tr>\n",
       "  </tbody>\n",
       "</table>\n",
       "<p>9392 rows × 3 columns</p>\n",
       "</div>"
      ],
      "text/plain": [
       "          Bedrooms:  \\\n",
       "1      3 Bedroom(s)   \n",
       "2      3 Bedroom(s)   \n",
       "3      3 Bedroom(s)   \n",
       "4      3 Bedroom(s)   \n",
       "5      3 Bedroom(s)   \n",
       "...             ...   \n",
       "11136  3 Bedroom(s)   \n",
       "11137  3 Bedroom(s)   \n",
       "11138  3 Bedroom(s)   \n",
       "11139  3 Bedroom(s)   \n",
       "11140  2 Bedroom(s)   \n",
       "\n",
       "                                                                                               Bedroom:  \\\n",
       "1                                      ['13x11, 3rd', '13x10, 1st', '3.96 x 3.35(m)', '3.96 x 3.05(m)']   \n",
       "2                                      ['13 x 11, 1st', '13 x 11, 3rd', '13 , 11, 1st', '13 , 11, 3rd']   \n",
       "3        ['15 x 12, 1st', '9 x 12, 1st', '13 x 13, 1st', '15 , 12, 1st', '9 , 12, 1st', '13 , 13, 1st']   \n",
       "4      ['13X10, 1st', '10X10, 1st', '13X10, 1st', '3.96 x 3.05(m)', '3.05 x 3.05(m)', '3.96 x 3.05(m)']   \n",
       "5                                      ['12x11, 1st', '11x10, 3rd', '3.66 x 3.35(m)', '3.35 x 3.05(m)']   \n",
       "...                                                                                                 ...   \n",
       "11136                                  ['13 x 11, 1st', '13 x 10, 1st', '13 , 11, 1st', '13 , 10, 1st']   \n",
       "11137                                    ['10x8, 1st', '10x8, 1st', '3.05 x 2.44(m)', '3.05 x 2.44(m)']   \n",
       "11138                                  ['12x11, 1st', '12x11, 1st', '3.66 x 3.35(m)', '3.66 x 3.35(m)']   \n",
       "11139                                  ['12x12, 1st', '12x12, 1st', '3.66 x 3.66(m)', '3.66 x 3.66(m)']   \n",
       "11140                          ['11 x 11.5, 1st', '11 x 11.5, 1st', '11 , 11.5, 1st', '11 , 11.5, 1st']   \n",
       "\n",
       "                       Primary Bedroom:  \n",
       "1      ['18x12, 3rd', '5.49 x 3.66(m)']  \n",
       "2      ['19 x 13, 3rd', '19 , 13, 3rd']  \n",
       "3                                   NaN  \n",
       "4                                   NaN  \n",
       "5      ['16x12, 3rd', '4.88 x 3.66(m)']  \n",
       "...                                 ...  \n",
       "11136  ['11 x 16, 1st', '11 , 16, 1st']  \n",
       "11137  ['12x14, 1st', '3.66 x 4.27(m)']  \n",
       "11138  ['13x15, 1st', '3.96 x 4.57(m)']  \n",
       "11139  ['13x15, 1st', '3.96 x 4.57(m)']  \n",
       "11140                               NaN  \n",
       "\n",
       "[9392 rows x 3 columns]"
      ]
     },
     "execution_count": 626,
     "metadata": {},
     "output_type": "execute_result"
    }
   ],
   "source": [
    "single_family_df[['Bedrooms:','Bedroom:','Primary Bedroom:']]"
   ]
  },
  {
   "cell_type": "code",
   "execution_count": 627,
   "metadata": {},
   "outputs": [
    {
     "data": {
      "text/plain": [
       "Bedrooms:            29\n",
       "Bedroom:             91\n",
       "Primary Bedroom:    638\n",
       "dtype: int64"
      ]
     },
     "execution_count": 627,
     "metadata": {},
     "output_type": "execute_result"
    }
   ],
   "source": [
    "single_family_df[['Bedrooms:','Bedroom:','Primary Bedroom:']].isna().sum()"
   ]
  },
  {
   "cell_type": "code",
   "execution_count": 628,
   "metadata": {},
   "outputs": [],
   "source": [
    "single_family_df=single_family_df[~single_family_df['Primary Bedroom:'].isnull()]"
   ]
  },
  {
   "cell_type": "code",
   "execution_count": 629,
   "metadata": {},
   "outputs": [
    {
     "data": {
      "text/plain": [
       "Bedrooms:            0\n",
       "Bedroom:            23\n",
       "Primary Bedroom:     0\n",
       "dtype: int64"
      ]
     },
     "execution_count": 629,
     "metadata": {},
     "output_type": "execute_result"
    }
   ],
   "source": [
    "single_family_df[['Bedrooms:','Bedroom:','Primary Bedroom:']].isna().sum()"
   ]
  },
  {
   "cell_type": "code",
   "execution_count": 630,
   "metadata": {},
   "outputs": [],
   "source": [
    "single_family_df=single_family_df[~single_family_df['Bedroom:'].isnull()]"
   ]
  },
  {
   "cell_type": "markdown",
   "metadata": {},
   "source": [
    "'Bedroom:' feature includes the size of one of the bedrooms I am using same function to calculate the total area for bedrooms."
   ]
  },
  {
   "cell_type": "code",
   "execution_count": 631,
   "metadata": {},
   "outputs": [],
   "source": [
    "single_family_df['Primary_Bedroom_clean']=single_family_df['Primary Bedroom:'].str.split(',')\n",
    "single_family_df['TotalBedSqft'] = single_family_df['Bedroom:'].str.split(',')\n",
    "single_family_df['TotalBedSqft'] = single_family_df['TotalBedSqft'].apply(area_calc) + single_family_df['Primary_Bedroom_clean'].apply(area_calc)"
   ]
  },
  {
   "cell_type": "code",
   "execution_count": 632,
   "metadata": {},
   "outputs": [
    {
     "data": {
      "text/html": [
       "<div>\n",
       "<style scoped>\n",
       "    .dataframe tbody tr th:only-of-type {\n",
       "        vertical-align: middle;\n",
       "    }\n",
       "\n",
       "    .dataframe tbody tr th {\n",
       "        vertical-align: top;\n",
       "    }\n",
       "\n",
       "    .dataframe thead th {\n",
       "        text-align: right;\n",
       "    }\n",
       "</style>\n",
       "<table border=\"1\" class=\"dataframe\">\n",
       "  <thead>\n",
       "    <tr style=\"text-align: right;\">\n",
       "      <th></th>\n",
       "      <th>Bedrooms:</th>\n",
       "      <th>Bedroom:</th>\n",
       "      <th>Primary Bedroom:</th>\n",
       "      <th>TotalBedSqft</th>\n",
       "    </tr>\n",
       "  </thead>\n",
       "  <tbody>\n",
       "    <tr>\n",
       "      <th>2540</th>\n",
       "      <td>4 Bedroom(s)</td>\n",
       "      <td>['16X14, 1st', '13X12, 1st', '15X13, 1st', '4.88 x 4.27(m)', '3.96 x 3.66(m)', '4.57 x 3.96(m)']</td>\n",
       "      <td>['23X18, 1st', '7.01 x 5.49(m)']</td>\n",
       "      <td>989.0</td>\n",
       "    </tr>\n",
       "    <tr>\n",
       "      <th>8939</th>\n",
       "      <td>4 Bedroom(s)</td>\n",
       "      <td>['15x11, 2nd', '16x12, 2nd', '14x12, 2nd', '4.57 x 3.35(m)', '4.88 x 3.66(m)', '4.27 x 3.66(m)']</td>\n",
       "      <td>['16x16, 1st', '4.88 x 4.88(m)']</td>\n",
       "      <td>781.0</td>\n",
       "    </tr>\n",
       "    <tr>\n",
       "      <th>3907</th>\n",
       "      <td>5 Bedroom(s)</td>\n",
       "      <td>['13x11, 1st', '13x13, 2nd', '13x13, 2nd', '13x11, 1st', '3.96 x 3.35(m)', '3.96 x 3.96(m)', '3....</td>\n",
       "      <td>['17x14, 1st', '5.18 x 4.27(m)']</td>\n",
       "      <td>862.0</td>\n",
       "    </tr>\n",
       "    <tr>\n",
       "      <th>8627</th>\n",
       "      <td>4 Bedroom(s)</td>\n",
       "      <td>['13x11, 2nd', '12x11, 1st', '13x11, 2nd', '3.96 x 3.35(m)', '3.66 x 3.35(m)', '3.96 x 3.35(m)']</td>\n",
       "      <td>['21x13, 1st', '6.40 x 3.96(m)']</td>\n",
       "      <td>691.0</td>\n",
       "    </tr>\n",
       "    <tr>\n",
       "      <th>9279</th>\n",
       "      <td>3 Bedroom(s)</td>\n",
       "      <td>['11x12, 2nd', '10x12, 2nd', '3.35 x 3.66(m)', '3.05 x 3.66(m)']</td>\n",
       "      <td>['15x15, 1st', '4.57 x 4.57(m)']</td>\n",
       "      <td>477.0</td>\n",
       "    </tr>\n",
       "    <tr>\n",
       "      <th>2409</th>\n",
       "      <td>3 - 4 Bedroom(s)</td>\n",
       "      <td>['15x16, 2nd', '14x16, 3rd', '4.57 x 4.88(m)', '4.27 x 4.88(m)']</td>\n",
       "      <td>['17x22, 2nd', '5.18 x 6.71(m)']</td>\n",
       "      <td>838.0</td>\n",
       "    </tr>\n",
       "    <tr>\n",
       "      <th>2999</th>\n",
       "      <td>4 Bedroom(s)</td>\n",
       "      <td>['13 x 11, 2nd', '13 x 11, 2nd', '14 x 10, 2nd', '13 , 11, 2nd', '13 , 11, 2nd', '14 , 10, 2nd']</td>\n",
       "      <td>['14 x 12, 2nd', '14 , 12, 2nd']</td>\n",
       "      <td>594.0</td>\n",
       "    </tr>\n",
       "    <tr>\n",
       "      <th>4556</th>\n",
       "      <td>3 Bedroom(s)</td>\n",
       "      <td>['10 x 10, 2nd', '10 x 10, 2nd', '10 , 10, 2nd', '10 , 10, 2nd']</td>\n",
       "      <td>['17 x 14, 2nd', '17 , 14, 2nd']</td>\n",
       "      <td>438.0</td>\n",
       "    </tr>\n",
       "    <tr>\n",
       "      <th>335</th>\n",
       "      <td>6 - 7 Bedroom(s)</td>\n",
       "      <td>['13x13, 1st', '14x17, 2nd', '17x18, 2nd', '13x16, 2nd', '12x18, 2nd', '3.96 x 3.96(m)', '4.27 x...</td>\n",
       "      <td>['18x20, 1st', '5.49 x 6.10(m)']</td>\n",
       "      <td>1497.0</td>\n",
       "    </tr>\n",
       "    <tr>\n",
       "      <th>332</th>\n",
       "      <td>3 Bedroom(s)</td>\n",
       "      <td>['13x11, 2nd', '11x10, 2nd', '3.96 x 3.35(m)', '3.35 x 3.05(m)']</td>\n",
       "      <td>['15x14, 2nd', '4.57 x 4.27(m)']</td>\n",
       "      <td>463.0</td>\n",
       "    </tr>\n",
       "    <tr>\n",
       "      <th>2177</th>\n",
       "      <td>4 Bedroom(s)</td>\n",
       "      <td>['12x15, 2nd', '15x13, 2nd', '11x10, 2nd', '3.66 x 4.57(m)', '4.57 x 3.96(m)', '3.35 x 3.05(m)']</td>\n",
       "      <td>['16x14, 2nd', '4.88 x 4.27(m)']</td>\n",
       "      <td>709.0</td>\n",
       "    </tr>\n",
       "    <tr>\n",
       "      <th>2958</th>\n",
       "      <td>3 Bedroom(s)</td>\n",
       "      <td>['13x12, 1st', '12x10, 1st', '3.96 x 3.66(m)', '3.66 x 3.05(m)']</td>\n",
       "      <td>['15x10, 1st', '4.57 x 3.05(m)']</td>\n",
       "      <td>426.0</td>\n",
       "    </tr>\n",
       "    <tr>\n",
       "      <th>978</th>\n",
       "      <td>3 Bedroom(s)</td>\n",
       "      <td>['12x11, 3rd', '14x13, 1st', '3.66 x 3.35(m)', '4.27 x 3.96(m)']</td>\n",
       "      <td>['19x14, 3rd', '5.79 x 4.27(m)']</td>\n",
       "      <td>580.0</td>\n",
       "    </tr>\n",
       "    <tr>\n",
       "      <th>1043</th>\n",
       "      <td>3 Bedroom(s)</td>\n",
       "      <td>['13x12, 2nd', '14x12, 2nd', '3.96 x 3.66(m)', '4.27 x 3.66(m)']</td>\n",
       "      <td>['18x15, 2nd', '5.49 x 4.57(m)']</td>\n",
       "      <td>594.0</td>\n",
       "    </tr>\n",
       "    <tr>\n",
       "      <th>2251</th>\n",
       "      <td>5 Bedroom(s)</td>\n",
       "      <td>['12x15, 2nd', '13x16, 2nd', '15x21, 2nd', '13x13, 2nd', '3.66 x 4.57(m)', '3.96 x 4.88(m)', '4....</td>\n",
       "      <td>['16x21, 2nd', '4.88 x 6.40(m)']</td>\n",
       "      <td>1208.0</td>\n",
       "    </tr>\n",
       "    <tr>\n",
       "      <th>1288</th>\n",
       "      <td>3 Bedroom(s)</td>\n",
       "      <td>['12x12, 1st', '12x12, 1st', '3.66 x 3.66(m)', '3.66 x 3.66(m)']</td>\n",
       "      <td>['14x12, 1st', '4.27 x 3.66(m)']</td>\n",
       "      <td>456.0</td>\n",
       "    </tr>\n",
       "    <tr>\n",
       "      <th>8550</th>\n",
       "      <td>5 Bedroom(s)</td>\n",
       "      <td>['11x13, 2nd', '11x13, 2nd', '12x14, 1st', '12x14, 2nd', '3.35 x 3.96(m)', '3.35 x 3.96(m)', '3....</td>\n",
       "      <td>['20x13, 1st', '6.10 x 3.96(m)']</td>\n",
       "      <td>882.0</td>\n",
       "    </tr>\n",
       "    <tr>\n",
       "      <th>8742</th>\n",
       "      <td>4 Bedroom(s)</td>\n",
       "      <td>['12x10, 1st', '12x11, 1st', '12x10, 1st', '3.66 x 3.05(m)', '3.66 x 3.35(m)', '3.66 x 3.05(m)']</td>\n",
       "      <td>['17x16, 1st', '5.18 x 4.88(m)']</td>\n",
       "      <td>644.0</td>\n",
       "    </tr>\n",
       "    <tr>\n",
       "      <th>9958</th>\n",
       "      <td>4 Bedroom(s)</td>\n",
       "      <td>['12x12, 1st', '11x14, 1st', '11x10, 1st', '3.66 x 3.66(m)', '3.35 x 4.27(m)', '3.35 x 3.05(m)']</td>\n",
       "      <td>['17x13, 1st', '5.18 x 3.96(m)']</td>\n",
       "      <td>629.0</td>\n",
       "    </tr>\n",
       "    <tr>\n",
       "      <th>5305</th>\n",
       "      <td>5 Bedroom(s)</td>\n",
       "      <td>['16x12, 2nd', '21x16, 2nd', '14x9, 2nd', '19x12, 2nd', '4.88 x 3.66(m)', '6.40 x 4.88(m)', '4.2...</td>\n",
       "      <td>['20x19, 1st', '6.10 x 5.79(m)']</td>\n",
       "      <td>1262.0</td>\n",
       "    </tr>\n",
       "  </tbody>\n",
       "</table>\n",
       "</div>"
      ],
      "text/plain": [
       "             Bedrooms:  \\\n",
       "2540      4 Bedroom(s)   \n",
       "8939      4 Bedroom(s)   \n",
       "3907      5 Bedroom(s)   \n",
       "8627      4 Bedroom(s)   \n",
       "9279      3 Bedroom(s)   \n",
       "2409  3 - 4 Bedroom(s)   \n",
       "2999      4 Bedroom(s)   \n",
       "4556      3 Bedroom(s)   \n",
       "335   6 - 7 Bedroom(s)   \n",
       "332       3 Bedroom(s)   \n",
       "2177      4 Bedroom(s)   \n",
       "2958      3 Bedroom(s)   \n",
       "978       3 Bedroom(s)   \n",
       "1043      3 Bedroom(s)   \n",
       "2251      5 Bedroom(s)   \n",
       "1288      3 Bedroom(s)   \n",
       "8550      5 Bedroom(s)   \n",
       "8742      4 Bedroom(s)   \n",
       "9958      4 Bedroom(s)   \n",
       "5305      5 Bedroom(s)   \n",
       "\n",
       "                                                                                                 Bedroom:  \\\n",
       "2540     ['16X14, 1st', '13X12, 1st', '15X13, 1st', '4.88 x 4.27(m)', '3.96 x 3.66(m)', '4.57 x 3.96(m)']   \n",
       "8939     ['15x11, 2nd', '16x12, 2nd', '14x12, 2nd', '4.57 x 3.35(m)', '4.88 x 3.66(m)', '4.27 x 3.66(m)']   \n",
       "3907  ['13x11, 1st', '13x13, 2nd', '13x13, 2nd', '13x11, 1st', '3.96 x 3.35(m)', '3.96 x 3.96(m)', '3....   \n",
       "8627     ['13x11, 2nd', '12x11, 1st', '13x11, 2nd', '3.96 x 3.35(m)', '3.66 x 3.35(m)', '3.96 x 3.35(m)']   \n",
       "9279                                     ['11x12, 2nd', '10x12, 2nd', '3.35 x 3.66(m)', '3.05 x 3.66(m)']   \n",
       "2409                                     ['15x16, 2nd', '14x16, 3rd', '4.57 x 4.88(m)', '4.27 x 4.88(m)']   \n",
       "2999     ['13 x 11, 2nd', '13 x 11, 2nd', '14 x 10, 2nd', '13 , 11, 2nd', '13 , 11, 2nd', '14 , 10, 2nd']   \n",
       "4556                                     ['10 x 10, 2nd', '10 x 10, 2nd', '10 , 10, 2nd', '10 , 10, 2nd']   \n",
       "335   ['13x13, 1st', '14x17, 2nd', '17x18, 2nd', '13x16, 2nd', '12x18, 2nd', '3.96 x 3.96(m)', '4.27 x...   \n",
       "332                                      ['13x11, 2nd', '11x10, 2nd', '3.96 x 3.35(m)', '3.35 x 3.05(m)']   \n",
       "2177     ['12x15, 2nd', '15x13, 2nd', '11x10, 2nd', '3.66 x 4.57(m)', '4.57 x 3.96(m)', '3.35 x 3.05(m)']   \n",
       "2958                                     ['13x12, 1st', '12x10, 1st', '3.96 x 3.66(m)', '3.66 x 3.05(m)']   \n",
       "978                                      ['12x11, 3rd', '14x13, 1st', '3.66 x 3.35(m)', '4.27 x 3.96(m)']   \n",
       "1043                                     ['13x12, 2nd', '14x12, 2nd', '3.96 x 3.66(m)', '4.27 x 3.66(m)']   \n",
       "2251  ['12x15, 2nd', '13x16, 2nd', '15x21, 2nd', '13x13, 2nd', '3.66 x 4.57(m)', '3.96 x 4.88(m)', '4....   \n",
       "1288                                     ['12x12, 1st', '12x12, 1st', '3.66 x 3.66(m)', '3.66 x 3.66(m)']   \n",
       "8550  ['11x13, 2nd', '11x13, 2nd', '12x14, 1st', '12x14, 2nd', '3.35 x 3.96(m)', '3.35 x 3.96(m)', '3....   \n",
       "8742     ['12x10, 1st', '12x11, 1st', '12x10, 1st', '3.66 x 3.05(m)', '3.66 x 3.35(m)', '3.66 x 3.05(m)']   \n",
       "9958     ['12x12, 1st', '11x14, 1st', '11x10, 1st', '3.66 x 3.66(m)', '3.35 x 4.27(m)', '3.35 x 3.05(m)']   \n",
       "5305  ['16x12, 2nd', '21x16, 2nd', '14x9, 2nd', '19x12, 2nd', '4.88 x 3.66(m)', '6.40 x 4.88(m)', '4.2...   \n",
       "\n",
       "                      Primary Bedroom:  TotalBedSqft  \n",
       "2540  ['23X18, 1st', '7.01 x 5.49(m)']         989.0  \n",
       "8939  ['16x16, 1st', '4.88 x 4.88(m)']         781.0  \n",
       "3907  ['17x14, 1st', '5.18 x 4.27(m)']         862.0  \n",
       "8627  ['21x13, 1st', '6.40 x 3.96(m)']         691.0  \n",
       "9279  ['15x15, 1st', '4.57 x 4.57(m)']         477.0  \n",
       "2409  ['17x22, 2nd', '5.18 x 6.71(m)']         838.0  \n",
       "2999  ['14 x 12, 2nd', '14 , 12, 2nd']         594.0  \n",
       "4556  ['17 x 14, 2nd', '17 , 14, 2nd']         438.0  \n",
       "335   ['18x20, 1st', '5.49 x 6.10(m)']        1497.0  \n",
       "332   ['15x14, 2nd', '4.57 x 4.27(m)']         463.0  \n",
       "2177  ['16x14, 2nd', '4.88 x 4.27(m)']         709.0  \n",
       "2958  ['15x10, 1st', '4.57 x 3.05(m)']         426.0  \n",
       "978   ['19x14, 3rd', '5.79 x 4.27(m)']         580.0  \n",
       "1043  ['18x15, 2nd', '5.49 x 4.57(m)']         594.0  \n",
       "2251  ['16x21, 2nd', '4.88 x 6.40(m)']        1208.0  \n",
       "1288  ['14x12, 1st', '4.27 x 3.66(m)']         456.0  \n",
       "8550  ['20x13, 1st', '6.10 x 3.96(m)']         882.0  \n",
       "8742  ['17x16, 1st', '5.18 x 4.88(m)']         644.0  \n",
       "9958  ['17x13, 1st', '5.18 x 3.96(m)']         629.0  \n",
       "5305  ['20x19, 1st', '6.10 x 5.79(m)']        1262.0  "
      ]
     },
     "execution_count": 632,
     "metadata": {},
     "output_type": "execute_result"
    }
   ],
   "source": [
    "pd.options.display.max_colwidth = 100\n",
    "single_family_df[['Bedrooms:','Bedroom:','Primary Bedroom:','TotalBedSqft']].sample(20,random_state=100)"
   ]
  },
  {
   "cell_type": "code",
   "execution_count": 633,
   "metadata": {},
   "outputs": [],
   "source": [
    "single_family_df.drop(['Bedroom:','Primary Bedroom:','Primary_Bedroom_clean'],axis=1,inplace=True)"
   ]
  },
  {
   "cell_type": "code",
   "execution_count": 634,
   "metadata": {},
   "outputs": [
    {
     "data": {
      "text/plain": [
       "count    8731.000000\n",
       "mean        3.705761\n",
       "std         0.787728\n",
       "min         2.000000\n",
       "25%         3.000000\n",
       "50%         4.000000\n",
       "75%         4.000000\n",
       "max        10.000000\n",
       "Name: NoBed, dtype: float64"
      ]
     },
     "execution_count": 634,
     "metadata": {},
     "output_type": "execute_result"
    }
   ],
   "source": [
    "single_family_df['Bedrooms:']=single_family_df['Bedrooms:'].str.split(' ').str[0]\n",
    "single_family_df['Bedrooms:']=single_family_df['Bedrooms:'].astype(int)\n",
    "single_family_df.rename(columns = {'Bedrooms:':'NoBed'},inplace=True)\n",
    "single_family_df['NoBed'].describe()"
   ]
  },
  {
   "cell_type": "markdown",
   "metadata": {},
   "source": [
    "## 2.9 Bathrooms<a id='2.9_Bathrooms'></a>"
   ]
  },
  {
   "cell_type": "code",
   "execution_count": 635,
   "metadata": {},
   "outputs": [
    {
     "data": {
      "text/plain": [
       "0"
      ]
     },
     "execution_count": 635,
     "metadata": {},
     "output_type": "execute_result"
    }
   ],
   "source": [
    "single_family_df['Baths:'].isnull().sum()"
   ]
  },
  {
   "cell_type": "code",
   "execution_count": 636,
   "metadata": {},
   "outputs": [
    {
     "data": {
      "text/html": [
       "<div>\n",
       "<style scoped>\n",
       "    .dataframe tbody tr th:only-of-type {\n",
       "        vertical-align: middle;\n",
       "    }\n",
       "\n",
       "    .dataframe tbody tr th {\n",
       "        vertical-align: top;\n",
       "    }\n",
       "\n",
       "    .dataframe thead th {\n",
       "        text-align: right;\n",
       "    }\n",
       "</style>\n",
       "<table border=\"1\" class=\"dataframe\">\n",
       "  <thead>\n",
       "    <tr style=\"text-align: right;\">\n",
       "      <th></th>\n",
       "      <th>Baths:</th>\n",
       "    </tr>\n",
       "  </thead>\n",
       "  <tbody>\n",
       "    <tr>\n",
       "      <th>1</th>\n",
       "      <td>3 Full  &amp; 1 Half Bath(s)</td>\n",
       "    </tr>\n",
       "    <tr>\n",
       "      <th>2</th>\n",
       "      <td>3 Full  &amp; 1 Half Bath(s)</td>\n",
       "    </tr>\n",
       "    <tr>\n",
       "      <th>5</th>\n",
       "      <td>3 Full  &amp; 1 Half Bath(s)</td>\n",
       "    </tr>\n",
       "    <tr>\n",
       "      <th>10</th>\n",
       "      <td>3 Full  &amp; 1 Half Bath(s)</td>\n",
       "    </tr>\n",
       "    <tr>\n",
       "      <th>11</th>\n",
       "      <td>3 Full  &amp; 1 Half Bath(s)</td>\n",
       "    </tr>\n",
       "    <tr>\n",
       "      <th>...</th>\n",
       "      <td>...</td>\n",
       "    </tr>\n",
       "    <tr>\n",
       "      <th>11134</th>\n",
       "      <td>2 Full  Bath(s)</td>\n",
       "    </tr>\n",
       "    <tr>\n",
       "      <th>11136</th>\n",
       "      <td>2 Full  Bath(s)</td>\n",
       "    </tr>\n",
       "    <tr>\n",
       "      <th>11137</th>\n",
       "      <td>1 Full  &amp; 1 Half Bath(s)</td>\n",
       "    </tr>\n",
       "    <tr>\n",
       "      <th>11138</th>\n",
       "      <td>1 Full  &amp; 1 Half Bath(s)</td>\n",
       "    </tr>\n",
       "    <tr>\n",
       "      <th>11139</th>\n",
       "      <td>2 Full  Bath(s)</td>\n",
       "    </tr>\n",
       "  </tbody>\n",
       "</table>\n",
       "<p>8731 rows × 1 columns</p>\n",
       "</div>"
      ],
      "text/plain": [
       "                         Baths:\n",
       "1      3 Full  & 1 Half Bath(s)\n",
       "2      3 Full  & 1 Half Bath(s)\n",
       "5      3 Full  & 1 Half Bath(s)\n",
       "10     3 Full  & 1 Half Bath(s)\n",
       "11     3 Full  & 1 Half Bath(s)\n",
       "...                         ...\n",
       "11134           2 Full  Bath(s)\n",
       "11136           2 Full  Bath(s)\n",
       "11137  1 Full  & 1 Half Bath(s)\n",
       "11138  1 Full  & 1 Half Bath(s)\n",
       "11139           2 Full  Bath(s)\n",
       "\n",
       "[8731 rows x 1 columns]"
      ]
     },
     "execution_count": 636,
     "metadata": {},
     "output_type": "execute_result"
    }
   ],
   "source": [
    "single_family_df[['Baths:']]"
   ]
  },
  {
   "cell_type": "code",
   "execution_count": 637,
   "metadata": {},
   "outputs": [],
   "source": [
    "single_family_df['full_bath']=single_family_df['Baths:'].str.split(' ').str[0].astype(int)"
   ]
  },
  {
   "cell_type": "code",
   "execution_count": 638,
   "metadata": {},
   "outputs": [
    {
     "data": {
      "text/plain": [
       "1        3\n",
       "2        3\n",
       "5        3\n",
       "10       3\n",
       "11       3\n",
       "        ..\n",
       "11134    2\n",
       "11136    2\n",
       "11137    1\n",
       "11138    1\n",
       "11139    2\n",
       "Name: full_bath, Length: 8731, dtype: int32"
      ]
     },
     "execution_count": 638,
     "metadata": {},
     "output_type": "execute_result"
    }
   ],
   "source": [
    "single_family_df['full_bath']"
   ]
  },
  {
   "cell_type": "code",
   "execution_count": 639,
   "metadata": {},
   "outputs": [
    {
     "name": "stdout",
     "output_type": "stream",
     "text": [
      "<class 'pandas.core.frame.DataFrame'>\n",
      "Int64Index: 8731 entries, 1 to 11139\n",
      "Data columns (total 2 columns):\n",
      " #   Column     Non-Null Count  Dtype\n",
      "---  ------     --------------  -----\n",
      " 0   full_bath  8731 non-null   int32\n",
      " 1   half_bath  8731 non-null   int64\n",
      "dtypes: int32(1), int64(1)\n",
      "memory usage: 170.5 KB\n"
     ]
    }
   ],
   "source": [
    "No_Bath = single_family_df['Baths:'].str.split('&').str[1].str.strip()\n",
    "No_Bath.fillna('0',inplace=True) \n",
    "single_family_df['half_bath']=[int(item[0]) for item in No_Bath.str.split(' ')]\n",
    "single_family_df['half_bath'].replace(',','',inplace=True)\n",
    "single_family_df[['full_bath','half_bath']].info()"
   ]
  },
  {
   "cell_type": "code",
   "execution_count": 640,
   "metadata": {},
   "outputs": [],
   "source": [
    "single_family_df.drop('Baths:',axis=1,inplace=True)"
   ]
  },
  {
   "cell_type": "code",
   "execution_count": 641,
   "metadata": {},
   "outputs": [
    {
     "data": {
      "text/html": [
       "<div>\n",
       "<style scoped>\n",
       "    .dataframe tbody tr th:only-of-type {\n",
       "        vertical-align: middle;\n",
       "    }\n",
       "\n",
       "    .dataframe tbody tr th {\n",
       "        vertical-align: top;\n",
       "    }\n",
       "\n",
       "    .dataframe thead th {\n",
       "        text-align: right;\n",
       "    }\n",
       "</style>\n",
       "<table border=\"1\" class=\"dataframe\">\n",
       "  <thead>\n",
       "    <tr style=\"text-align: right;\">\n",
       "      <th></th>\n",
       "      <th>full_bath</th>\n",
       "      <th>half_bath</th>\n",
       "    </tr>\n",
       "  </thead>\n",
       "  <tbody>\n",
       "    <tr>\n",
       "      <th>11134</th>\n",
       "      <td>2</td>\n",
       "      <td>0</td>\n",
       "    </tr>\n",
       "    <tr>\n",
       "      <th>11136</th>\n",
       "      <td>2</td>\n",
       "      <td>0</td>\n",
       "    </tr>\n",
       "    <tr>\n",
       "      <th>11137</th>\n",
       "      <td>1</td>\n",
       "      <td>1</td>\n",
       "    </tr>\n",
       "    <tr>\n",
       "      <th>11138</th>\n",
       "      <td>1</td>\n",
       "      <td>1</td>\n",
       "    </tr>\n",
       "    <tr>\n",
       "      <th>11139</th>\n",
       "      <td>2</td>\n",
       "      <td>0</td>\n",
       "    </tr>\n",
       "  </tbody>\n",
       "</table>\n",
       "</div>"
      ],
      "text/plain": [
       "       full_bath  half_bath\n",
       "11134          2          0\n",
       "11136          2          0\n",
       "11137          1          1\n",
       "11138          1          1\n",
       "11139          2          0"
      ]
     },
     "execution_count": 641,
     "metadata": {},
     "output_type": "execute_result"
    }
   ],
   "source": [
    "single_family_df[['full_bath','half_bath']].tail()"
   ]
  },
  {
   "cell_type": "markdown",
   "metadata": {},
   "source": [
    "## Stories"
   ]
  },
  {
   "cell_type": "code",
   "execution_count": 642,
   "metadata": {},
   "outputs": [
    {
     "data": {
      "text/plain": [
       "2       4334\n",
       "1       3534\n",
       "3        557\n",
       "1.5      191\n",
       "4         96\n",
       "2.5       16\n",
       "2576       1\n",
       "5          1\n",
       "Name: Stories:, dtype: int64"
      ]
     },
     "execution_count": 642,
     "metadata": {},
     "output_type": "execute_result"
    }
   ],
   "source": [
    "single_family_df['Stories:'].value_counts()"
   ]
  },
  {
   "cell_type": "markdown",
   "metadata": {},
   "source": [
    "There is one house with 2576 stories which I believe it is a typo. Lets take look at this home."
   ]
  },
  {
   "cell_type": "code",
   "execution_count": 643,
   "metadata": {},
   "outputs": [
    {
     "data": {
      "text/plain": [
       "1"
      ]
     },
     "execution_count": 643,
     "metadata": {},
     "output_type": "execute_result"
    }
   ],
   "source": [
    "single_family_df['Stories:'].isnull().sum()"
   ]
  },
  {
   "cell_type": "code",
   "execution_count": 644,
   "metadata": {},
   "outputs": [],
   "source": [
    "single_family_df=single_family_df[~single_family_df['Stories:'].isnull()]"
   ]
  },
  {
   "cell_type": "code",
   "execution_count": 645,
   "metadata": {},
   "outputs": [],
   "source": [
    "single_family_df.rename(columns ={'Stories:':'Stories'},inplace=True)\n",
    "single_family_df['Stories']=pd.to_numeric(single_family_df['Stories'])"
   ]
  },
  {
   "cell_type": "code",
   "execution_count": 646,
   "metadata": {},
   "outputs": [
    {
     "data": {
      "text/plain": [
       "535        5334 Calle Cadiz Place\n",
       "10448    22614 Auburn Valley Lane\n",
       "Name: Address, dtype: object"
      ]
     },
     "execution_count": 646,
     "metadata": {},
     "output_type": "execute_result"
    }
   ],
   "source": [
    "single_family_df['Address'].loc[single_family_df['Stories']>4]"
   ]
  },
  {
   "cell_type": "markdown",
   "metadata": {},
   "source": [
    "The first one is an apartment and second one is 2 stories house. know we replace 2576 with 2."
   ]
  },
  {
   "cell_type": "code",
   "execution_count": 647,
   "metadata": {},
   "outputs": [],
   "source": [
    "single_family_df['Stories'].loc[single_family_df['Stories']==2576]=2"
   ]
  },
  {
   "cell_type": "code",
   "execution_count": 648,
   "metadata": {},
   "outputs": [
    {
     "data": {
      "text/plain": [
       "2.0    4335\n",
       "1.0    3534\n",
       "3.0     557\n",
       "1.5     191\n",
       "4.0      96\n",
       "2.5      16\n",
       "5.0       1\n",
       "Name: Stories, dtype: int64"
      ]
     },
     "execution_count": 648,
     "metadata": {},
     "output_type": "execute_result"
    }
   ],
   "source": [
    "single_family_df['Stories'].value_counts()"
   ]
  },
  {
   "cell_type": "markdown",
   "metadata": {},
   "source": [
    "## Style"
   ]
  },
  {
   "cell_type": "code",
   "execution_count": 649,
   "metadata": {},
   "outputs": [
    {
     "data": {
      "text/plain": [
       "Traditional                                          6079\n",
       "Contemporary/Modern                                   844\n",
       "Ranch                                                 347\n",
       "Contemporary/Modern,Traditional                       246\n",
       "Other Style                                           185\n",
       "                                                     ... \n",
       "French,Spanish                                          1\n",
       "Colonial,Contemporary/Modern,Georgian                   1\n",
       "Contemporary/Modern,Mediterranean,Spanish               1\n",
       "Ranch,Spanish                                           1\n",
       "Colonial,Contemporary/Modern,English,French,Ranch       1\n",
       "Name: Style:, Length: 84, dtype: int64"
      ]
     },
     "execution_count": 649,
     "metadata": {},
     "output_type": "execute_result"
    }
   ],
   "source": [
    "single_family_df['Style:'].value_counts()"
   ]
  },
  {
   "cell_type": "code",
   "execution_count": 650,
   "metadata": {},
   "outputs": [
    {
     "data": {
      "text/plain": [
       "0"
      ]
     },
     "execution_count": 650,
     "metadata": {},
     "output_type": "execute_result"
    }
   ],
   "source": [
    "single_family_df['Style:'].isnull().sum()"
   ]
  },
  {
   "cell_type": "code",
   "execution_count": 651,
   "metadata": {},
   "outputs": [],
   "source": [
    "single_family_df.rename(columns ={'Style:':'Style'},inplace=True)"
   ]
  },
  {
   "cell_type": "markdown",
   "metadata": {},
   "source": [
    "## Year Built"
   ]
  },
  {
   "cell_type": "code",
   "execution_count": 652,
   "metadata": {},
   "outputs": [
    {
     "data": {
      "text/plain": [
       "38"
      ]
     },
     "execution_count": 652,
     "metadata": {},
     "output_type": "execute_result"
    }
   ],
   "source": [
    "single_family_df['Year Built:'].isnull().sum()"
   ]
  },
  {
   "cell_type": "code",
   "execution_count": 653,
   "metadata": {},
   "outputs": [
    {
     "data": {
      "text/plain": [
       "2020   / Builder               1206\n",
       "2006   / Appraisal District     182\n",
       "2005   / Appraisal District     181\n",
       "2014   / Appraisal District     171\n",
       "2015   / Appraisal District     167\n",
       "                               ... \n",
       "1953   / Appraisal                1\n",
       "1971   / Seller                   1\n",
       "1880   / Seller                   1\n",
       "1942   / Appraisal                1\n",
       "1923   / Seller                   1\n",
       "Name: Year Built:, Length: 290, dtype: int64"
      ]
     },
     "execution_count": 653,
     "metadata": {},
     "output_type": "execute_result"
    }
   ],
   "source": [
    "single_family_df['Year Built:'].value_counts()"
   ]
  },
  {
   "cell_type": "code",
   "execution_count": 654,
   "metadata": {},
   "outputs": [
    {
     "data": {
      "text/plain": [
       "2020    1266\n",
       "2015     218\n",
       "2014     211\n",
       "2006     209\n",
       "2005     203\n",
       "        ... \n",
       "1905       1\n",
       "1921       1\n",
       "1916       1\n",
       "1900       1\n",
       "1880       1\n",
       "Name: Year Built:, Length: 113, dtype: int64"
      ]
     },
     "execution_count": 654,
     "metadata": {},
     "output_type": "execute_result"
    }
   ],
   "source": [
    "single_family_df=single_family_df[~single_family_df['Year Built:'].isnull()]\n",
    "single_family_df['Year Built:']=single_family_df['Year Built:'].apply(lambda x:str(x).split(' ')[0])\n",
    "single_family_df['Year Built:']=pd.to_datetime(single_family_df['Year Built:'],format='%Y').dt.year\n",
    "single_family_df['Year Built:'].value_counts()"
   ]
  },
  {
   "cell_type": "code",
   "execution_count": 655,
   "metadata": {},
   "outputs": [],
   "source": [
    "single_family_df.rename(columns ={'Year Built:':'YearBuilt'},inplace=True)"
   ]
  },
  {
   "cell_type": "markdown",
   "metadata": {},
   "source": [
    "## Building Sqft"
   ]
  },
  {
   "cell_type": "code",
   "execution_count": 656,
   "metadata": {},
   "outputs": [
    {
     "data": {
      "text/plain": [
       "1        2,096195(mÂ²)  /Appraisal District\n",
       "2        2,015187(mÂ²)  /Appraisal District\n",
       "5        1,850172(mÂ²)  /Appraisal District\n",
       "10                  1,897176(mÂ²)  /Builder\n",
       "11       1,965183(mÂ²)  /Appraisal District\n",
       "                        ...                \n",
       "11134    1,630151(mÂ²)  /Appraisal District\n",
       "11136    1,691157(mÂ²)  /Appraisal District\n",
       "11137    1,316122(mÂ²)  /Appraisal District\n",
       "11138    1,160108(mÂ²)  /Appraisal District\n",
       "11139    1,135105(mÂ²)  /Appraisal District\n",
       "Name: Building Sqft.:, Length: 8692, dtype: object"
      ]
     },
     "execution_count": 656,
     "metadata": {},
     "output_type": "execute_result"
    }
   ],
   "source": [
    "single_family_df['Building Sqft.:']"
   ]
  },
  {
   "cell_type": "code",
   "execution_count": 657,
   "metadata": {},
   "outputs": [
    {
     "data": {
      "text/plain": [
       "14"
      ]
     },
     "execution_count": 657,
     "metadata": {},
     "output_type": "execute_result"
    }
   ],
   "source": [
    "single_family_df['Building Sqft.:'].isnull().sum()"
   ]
  },
  {
   "cell_type": "code",
   "execution_count": 658,
   "metadata": {},
   "outputs": [],
   "source": [
    "single_family_df=single_family_df[~single_family_df['Building Sqft.:'].isnull()]\n",
    "single_family_df['Building Sqft.:']=single_family_df['Building Sqft.:'].apply(lambda x:x[0:5] if ',' in x else x[0:3])\n",
    "single_family_df['Building Sqft.:']=single_family_df['Building Sqft.:'].str.replace(',','')\n",
    "single_family_df['Building Sqft.:']=pd.to_numeric(single_family_df['Building Sqft.:'])\n",
    "single_family_df.rename(columns ={'Building Sqft.:':'BuildSqft'},inplace=True)"
   ]
  },
  {
   "cell_type": "markdown",
   "metadata": {},
   "source": [
    "## Lot Size"
   ]
  },
  {
   "cell_type": "code",
   "execution_count": 659,
   "metadata": {},
   "outputs": [
    {
     "data": {
      "text/plain": [
       "2020    384\n",
       "2019     15\n",
       "2021      5\n",
       "2013      4\n",
       "2016      3\n",
       "2007      3\n",
       "2015      2\n",
       "1955      2\n",
       "2006      2\n",
       "1965      2\n",
       "2002      2\n",
       "1967      2\n",
       "2018      2\n",
       "1982      2\n",
       "1952      1\n",
       "1962      1\n",
       "1977      1\n",
       "1968      1\n",
       "1969      1\n",
       "1973      1\n",
       "1994      1\n",
       "1978      1\n",
       "1979      1\n",
       "1980      1\n",
       "1990      1\n",
       "2000      1\n",
       "2004      1\n",
       "2008      1\n",
       "2009      1\n",
       "2017      1\n",
       "1920      1\n",
       "Name: YearBuilt, dtype: int64"
      ]
     },
     "execution_count": 659,
     "metadata": {},
     "output_type": "execute_result"
    }
   ],
   "source": [
    "single_family_df.YearBuilt[single_family_df['Lot Size:'].isnull()].value_counts()"
   ]
  },
  {
   "cell_type": "markdown",
   "metadata": {},
   "source": [
    "Since 384 of null values is under cunstruction I will drop all null values for lot size"
   ]
  },
  {
   "cell_type": "code",
   "execution_count": 660,
   "metadata": {},
   "outputs": [],
   "source": [
    "single_family_df=single_family_df[~single_family_df['Lot Size:'].isnull()]"
   ]
  },
  {
   "cell_type": "code",
   "execution_count": 661,
   "metadata": {},
   "outputs": [
    {
     "data": {
      "text/plain": [
       "1        2,173 Sqft.202(mÂ²)  /Appraisal District\n",
       "2        1,446 Sqft.134(mÂ²)  /Appraisal District\n",
       "5        2,220 Sqft.206(mÂ²)  /Appraisal District\n",
       "10       1,866 Sqft.173(mÂ²)  /Appraisal District\n",
       "11       1,700 Sqft.158(mÂ²)  /Appraisal District\n",
       "                           ...                   \n",
       "11134    7,975 Sqft.741(mÂ²)  /Appraisal District\n",
       "11136    5,500 Sqft.511(mÂ²)  /Appraisal District\n",
       "11137    7,100 Sqft.660(mÂ²)  /Appraisal District\n",
       "11138    7,100 Sqft.660(mÂ²)  /Appraisal District\n",
       "11139    7,100 Sqft.660(mÂ²)  /Appraisal District\n",
       "Name: Lot Size:, Length: 8231, dtype: object"
      ]
     },
     "execution_count": 661,
     "metadata": {},
     "output_type": "execute_result"
    }
   ],
   "source": [
    "single_family_df['Lot Size:']"
   ]
  },
  {
   "cell_type": "code",
   "execution_count": 662,
   "metadata": {},
   "outputs": [],
   "source": [
    "single_family_df['Lot Size:']=single_family_df['Lot Size:'].str.replace(',','')\n",
    "single_family_df['Lot Size:']=single_family_df['Lot Size:'].apply(lambda x:float(x.split(' ')[0])*43560 if 'Acres' in \n",
    "                                                                  x else float(x.split(' ')[0]))\n",
    "\n",
    "# single_family_df['Lot Size:']=pd.to_numeric(single_family_df['Lot Size:'])\n",
    "single_family_df.rename(columns ={'Lot Size:':'LotSize'},inplace=True)"
   ]
  },
  {
   "cell_type": "code",
   "execution_count": 664,
   "metadata": {},
   "outputs": [
    {
     "data": {
      "text/plain": [
       "0"
      ]
     },
     "execution_count": 664,
     "metadata": {},
     "output_type": "execute_result"
    }
   ],
   "source": [
    "single_family_df.LotSize.isnull().sum()"
   ]
  },
  {
   "cell_type": "markdown",
   "metadata": {},
   "source": [
    "## Maintenance Fee"
   ]
  },
  {
   "cell_type": "code",
   "execution_count": 665,
   "metadata": {},
   "outputs": [
    {
     "data": {
      "text/plain": [
       "1        ['$ 1304 / Annually', 'Mandatory / $1304 / Annually']\n",
       "2        ['$ 1200 / Annually', 'Mandatory / $1200 / Annually']\n",
       "5        ['$ 1100 / Annually', 'Mandatory / $1100 / Annually']\n",
       "10       ['$ 1195 / Annually', 'Mandatory / $1195 / Annually']\n",
       "11                                                          No\n",
       "                                 ...                          \n",
       "11134                                                       No\n",
       "11136                                                       No\n",
       "11137                                                       No\n",
       "11138                                                       No\n",
       "11139                                                       No\n",
       "Name: Maintenance Fee:, Length: 8231, dtype: object"
      ]
     },
     "execution_count": 665,
     "metadata": {},
     "output_type": "execute_result"
    }
   ],
   "source": [
    "single_family_df['Maintenance Fee:']"
   ]
  },
  {
   "cell_type": "code",
   "execution_count": 666,
   "metadata": {},
   "outputs": [
    {
     "data": {
      "text/plain": [
       "22"
      ]
     },
     "execution_count": 666,
     "metadata": {},
     "output_type": "execute_result"
    }
   ],
   "source": [
    "single_family_df['Maintenance Fee:'].isnull().sum()"
   ]
  },
  {
   "cell_type": "code",
   "execution_count": 667,
   "metadata": {},
   "outputs": [
    {
     "data": {
      "text/plain": [
       "No                                                       2348\n",
       "['$ 450 / Annually', 'Mandatory / $450 / Annually']       139\n",
       "['$ 650 / Annually', 'Mandatory / $650 / Annually']       127\n",
       "['$ 800 / Annually', 'Mandatory / $800 / Annually']       126\n",
       "['$ 350 / Annually', 'Mandatory / $350 / Annually']       119\n",
       "                                                         ... \n",
       "['$ 2342 / Annually', 'Mandatory / $2342 / Annually']       1\n",
       "['$ 886 / Annually', 'Mandatory / $886 / Annually']         1\n",
       "['$ 237 / Annually', 'Mandatory / $237 / Annually']         1\n",
       "['$ 61 / Annually', 'Mandatory / $61 / Annually']           1\n",
       "['$ 3100 / Annually', 'Mandatory / $3100 / Annually']       1\n",
       "Name: Maintenance Fee:, Length: 935, dtype: int64"
      ]
     },
     "execution_count": 667,
     "metadata": {},
     "output_type": "execute_result"
    }
   ],
   "source": [
    "single_family_df['Maintenance Fee:'].value_counts()"
   ]
  },
  {
   "cell_type": "code",
   "execution_count": 668,
   "metadata": {},
   "outputs": [
    {
     "data": {
      "text/plain": [
       "2419"
      ]
     },
     "execution_count": 668,
     "metadata": {},
     "output_type": "execute_result"
    }
   ],
   "source": [
    "single_family_df['Maintenance Fee:'].isin(['No','No / $0','Voluntary / Annually','Voluntary /0/ Annually']).sum()"
   ]
  },
  {
   "cell_type": "code",
   "execution_count": 669,
   "metadata": {},
   "outputs": [],
   "source": [
    "single_family_df.drop('Maintenance Fee:',axis=1,inplace=True)"
   ]
  },
  {
   "cell_type": "markdown",
   "metadata": {},
   "source": [
    "## Fireplace"
   ]
  },
  {
   "cell_type": "code",
   "execution_count": 671,
   "metadata": {},
   "outputs": [
    {
     "data": {
      "text/plain": [
       "1/Gaslog Fireplace                                                             1496\n",
       "1                                                                               931\n",
       "1/Gas Connections                                                               752\n",
       "1/Wood Burning Fireplace                                                        495\n",
       "1/Gas Connections, Gaslog Fireplace                                             404\n",
       "                                                                               ... \n",
       "3/Gas Connections, Gaslog Fireplace, Mock Fireplace, Wood Burning Fireplace       1\n",
       "2/Gas Connections, Gaslog Fireplace, Mock Fireplace, Wood Burning Fireplace       1\n",
       "7/Gas Connections, Gaslog Fireplace, Wood Burning Fireplace                       1\n",
       "3/Gaslog Fireplace, Mock Fireplace, Wood Burning Fireplace                        1\n",
       "1/Gas Connections, Gaslog Fireplace, Stove                                        1\n",
       "Name: Fireplace:, Length: 90, dtype: int64"
      ]
     },
     "execution_count": 671,
     "metadata": {},
     "output_type": "execute_result"
    }
   ],
   "source": [
    "single_family_df['Fireplace:'].value_counts()"
   ]
  },
  {
   "cell_type": "code",
   "execution_count": 672,
   "metadata": {},
   "outputs": [
    {
     "data": {
      "text/plain": [
       "1    4859\n",
       "n    2620\n",
       "2     515\n",
       "3     122\n",
       "/      69\n",
       "4      34\n",
       "5      10\n",
       "7       1\n",
       "6       1\n",
       "dtype: int64"
      ]
     },
     "execution_count": 672,
     "metadata": {},
     "output_type": "execute_result"
    }
   ],
   "source": [
    "pd.Series([str(x)[0]  for x in single_family_df['Fireplace:'] if x is not None]).value_counts()"
   ]
  },
  {
   "cell_type": "code",
   "execution_count": 673,
   "metadata": {},
   "outputs": [],
   "source": [
    "single_family_df['Fireplace:']=single_family_df['Fireplace:'].apply(lambda x:int(str(x)[0]) if str(x)[0]\n",
    "                                                                    in ['1','2','3','4','5','6','7'] else 0)"
   ]
  },
  {
   "cell_type": "code",
   "execution_count": 674,
   "metadata": {},
   "outputs": [
    {
     "data": {
      "text/plain": [
       "1    4859\n",
       "0    2689\n",
       "2     515\n",
       "3     122\n",
       "4      34\n",
       "5      10\n",
       "7       1\n",
       "6       1\n",
       "Name: Fireplace:, dtype: int64"
      ]
     },
     "execution_count": 674,
     "metadata": {},
     "output_type": "execute_result"
    }
   ],
   "source": [
    "single_family_df['Fireplace:'].value_counts()"
   ]
  },
  {
   "cell_type": "code",
   "execution_count": null,
   "metadata": {},
   "outputs": [],
   "source": []
  },
  {
   "cell_type": "code",
   "execution_count": 73,
   "metadata": {},
   "outputs": [
    {
     "data": {
      "text/plain": [
       "$303.75     108\n",
       "$259.49      95\n",
       "$146.71      82\n",
       "$127.37      77\n",
       "$139.32      60\n",
       "           ... \n",
       "$126.72       1\n",
       "$132.07       1\n",
       "$100.69       1\n",
       "$94.82        1\n",
       "$118.87       1\n",
       "Name: Median Price / Square ft.:, Length: 1369, dtype: int64"
      ]
     },
     "execution_count": 73,
     "metadata": {},
     "output_type": "execute_result"
    }
   ],
   "source": [
    "single_family_df['Median Price / Square ft.:'].value_counts()"
   ]
  },
  {
   "cell_type": "code",
   "execution_count": 74,
   "metadata": {},
   "outputs": [],
   "source": [
    "single_family_df['Median Price / Square ft.:']=pd.to_numeric(single_family_df['Median Price / Square ft.:'].str.replace(\"$\",' ').str.strip())"
   ]
  },
  {
   "cell_type": "code",
   "execution_count": 75,
   "metadata": {},
   "outputs": [
    {
     "data": {
      "text/plain": [
       "0               Modern Midtown\n",
       "1               Modern Midtown\n",
       "2                          NaN\n",
       "4             ELITE TWNHMS LLC\n",
       "9                          NaN\n",
       "                 ...          \n",
       "11146    South Houston Terrace\n",
       "11148            South Houston\n",
       "11149            South Houston\n",
       "11150            South Houston\n",
       "11151            South Houston\n",
       "Name: Subdivision Name:, Length: 10055, dtype: object"
      ]
     },
     "execution_count": 75,
     "metadata": {},
     "output_type": "execute_result"
    }
   ],
   "source": [
    "single_family_df['Subdivision Name:']"
   ]
  },
  {
   "cell_type": "code",
   "execution_count": 76,
   "metadata": {},
   "outputs": [
    {
     "data": {
      "text/plain": [
       "0        3.00\n",
       "1        3.00\n",
       "2        2.11\n",
       "4        3.00\n",
       "9        2.55\n",
       "         ... \n",
       "11146    2.93\n",
       "11148    3.01\n",
       "11149    3.01\n",
       "11150    3.01\n",
       "11151    3.01\n",
       "Name: Average Bedrooms:, Length: 10055, dtype: float64"
      ]
     },
     "execution_count": 76,
     "metadata": {},
     "output_type": "execute_result"
    }
   ],
   "source": [
    "single_family_df['Average Bedrooms:']"
   ]
  },
  {
   "cell_type": "code",
   "execution_count": 77,
   "metadata": {},
   "outputs": [],
   "source": [
    "single_family_df.drop(['Living:','Kitchen Desc:','Dining:','Kitchen:','Interior:','Countertop:','Energy Feature:'\n",
    "                      ,'Energy Feature:','Exterior:','Connections:','Oven:','Taxes w/o Exemp:','Range:'\n",
    "                       ,'Floors:','Room Description:','Financing Considered:','Bathroom Description:'\n",
    "                       ,'County / Zip Code:','Single Family Properties:','Bedroom Desc:','Subdivision Name:','Primary Bedroom:'],axis=1,inplace=True)"
   ]
  },
  {
   "cell_type": "code",
   "execution_count": 78,
   "metadata": {},
   "outputs": [
    {
     "data": {
      "text/html": [
       "<div>\n",
       "<style scoped>\n",
       "    .dataframe tbody tr th:only-of-type {\n",
       "        vertical-align: middle;\n",
       "    }\n",
       "\n",
       "    .dataframe tbody tr th {\n",
       "        vertical-align: top;\n",
       "    }\n",
       "\n",
       "    .dataframe thead th {\n",
       "        text-align: right;\n",
       "    }\n",
       "</style>\n",
       "<table border=\"1\" class=\"dataframe\">\n",
       "  <thead>\n",
       "    <tr style=\"text-align: right;\">\n",
       "      <th></th>\n",
       "      <th>count</th>\n",
       "      <th>%</th>\n",
       "    </tr>\n",
       "  </thead>\n",
       "  <tbody>\n",
       "    <tr>\n",
       "      <th>sub</th>\n",
       "      <td>5</td>\n",
       "      <td>0.049727</td>\n",
       "    </tr>\n",
       "    <tr>\n",
       "      <th>Average Baths:</th>\n",
       "      <td>15</td>\n",
       "      <td>0.149180</td>\n",
       "    </tr>\n",
       "    <tr>\n",
       "      <th>legal</th>\n",
       "      <td>17</td>\n",
       "      <td>0.169070</td>\n",
       "    </tr>\n",
       "    <tr>\n",
       "      <th>HOA Mandatory:</th>\n",
       "      <td>35</td>\n",
       "      <td>0.348086</td>\n",
       "    </tr>\n",
       "    <tr>\n",
       "      <th>Average Bedrooms:</th>\n",
       "      <td>47</td>\n",
       "      <td>0.467429</td>\n",
       "    </tr>\n",
       "    <tr>\n",
       "      <th>Tax Rate:</th>\n",
       "      <td>854</td>\n",
       "      <td>8.493287</td>\n",
       "    </tr>\n",
       "    <tr>\n",
       "      <th>Median Square Ft.:</th>\n",
       "      <td>1198</td>\n",
       "      <td>11.914470</td>\n",
       "    </tr>\n",
       "    <tr>\n",
       "      <th>Median Lot Square Ft.:</th>\n",
       "      <td>1198</td>\n",
       "      <td>11.914470</td>\n",
       "    </tr>\n",
       "    <tr>\n",
       "      <th>Median Year Built:</th>\n",
       "      <td>1198</td>\n",
       "      <td>11.914470</td>\n",
       "    </tr>\n",
       "    <tr>\n",
       "      <th>Median Appraised Value:</th>\n",
       "      <td>1198</td>\n",
       "      <td>11.914470</td>\n",
       "    </tr>\n",
       "    <tr>\n",
       "      <th>Neighborhood Value Range:</th>\n",
       "      <td>1198</td>\n",
       "      <td>11.914470</td>\n",
       "    </tr>\n",
       "    <tr>\n",
       "      <th>Median Price / Square ft.:</th>\n",
       "      <td>2086</td>\n",
       "      <td>20.745898</td>\n",
       "    </tr>\n",
       "  </tbody>\n",
       "</table>\n",
       "</div>"
      ],
      "text/plain": [
       "                            count          %\n",
       "sub                             5   0.049727\n",
       "Average Baths:                 15   0.149180\n",
       "legal                          17   0.169070\n",
       "HOA Mandatory:                 35   0.348086\n",
       "Average Bedrooms:              47   0.467429\n",
       "Tax Rate:                     854   8.493287\n",
       "Median Square Ft.:           1198  11.914470\n",
       "Median Lot Square Ft.:       1198  11.914470\n",
       "Median Year Built:           1198  11.914470\n",
       "Median Appraised Value:      1198  11.914470\n",
       "Neighborhood Value Range:    1198  11.914470\n",
       "Median Price / Square ft.:   2086  20.745898"
      ]
     },
     "execution_count": 78,
     "metadata": {},
     "output_type": "execute_result"
    }
   ],
   "source": [
    "new_missing=missing_cal(single_family_df)\n",
    "new_missing[new_missing['%']>0].sort_values(\"%\")"
   ]
  },
  {
   "cell_type": "code",
   "execution_count": null,
   "metadata": {},
   "outputs": [],
   "source": []
  }
 ],
 "metadata": {
  "kernelspec": {
   "display_name": "Python 3",
   "language": "python",
   "name": "python3"
  },
  "language_info": {
   "codemirror_mode": {
    "name": "ipython",
    "version": 3
   },
   "file_extension": ".py",
   "mimetype": "text/x-python",
   "name": "python",
   "nbconvert_exporter": "python",
   "pygments_lexer": "ipython3",
   "version": "3.8.3"
  }
 },
 "nbformat": 4,
 "nbformat_minor": 4
}
