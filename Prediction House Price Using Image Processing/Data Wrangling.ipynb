{
 "cells": [
  {
   "cell_type": "markdown",
   "metadata": {},
   "source": [
    "## 2. Data wrangling"
   ]
  },
  {
   "cell_type": "markdown",
   "metadata": {},
   "source": [
    "## 2.1 Contents<a id='2.1_Contents'></a>\n",
    "* [2 Data wrangling](#2_Data_wrangling)\n",
    "  * [2.1 Contents](#2.1_Contents)\n",
    "  * [2.2 Introduction](#2.2_Introduction)\n",
    "  * [2.3 Imports](#2.3_Imports)\n",
    "  * [2.4 Load The House Price Data](#2.4_Load_The_House_Price_Data)\n",
    "  * [2.5 Filtering Single Family Property Type](#2.5_Filtering_Single_Family_Property_Type) \n",
    "  * [2.6 Missing Values](#2.6_Missing_Values) \n",
    "  * [2.7 Garage](#2.7_Garage) \n",
    "  * [2.8 Living](#2.8_Living) "
   ]
  },
  {
   "cell_type": "markdown",
   "metadata": {},
   "source": [
    "## 2.2 Introduction<a id='2.2_Introduction'></a>"
   ]
  },
  {
   "cell_type": "markdown",
   "metadata": {},
   "source": [
    "In this section I will investigate data scrapped from www.HAR.com. Data cleaning will be done in this stage since all rows are categorical and need to be numerical. I will remove features with lost of none values and will create new features."
   ]
  },
  {
   "cell_type": "markdown",
   "metadata": {},
   "source": [
    "## 2.3 Imports<a id='2.3_Imports'></a>"
   ]
  },
  {
   "cell_type": "code",
   "execution_count": 43,
   "metadata": {},
   "outputs": [],
   "source": [
    "import numpy as np\n",
    "import pandas as pd\n",
    "import matplotlib.pyplot as plt\n",
    "import seaborn as sns\n",
    "import substring\n",
    "import re\n",
    "from fuzzywuzzy import process\n",
    "import warnings\n",
    "warnings.filterwarnings('ignore')"
   ]
  },
  {
   "cell_type": "markdown",
   "metadata": {},
   "source": [
    "## 2.4 Load The House Price Data<a id='2.4_Load_The_House_Price_Data'></a>"
   ]
  },
  {
   "cell_type": "code",
   "execution_count": 2,
   "metadata": {},
   "outputs": [
    {
     "name": "stdout",
     "output_type": "stream",
     "text": [
      "data shape is: (15102, 101)\n"
     ]
    }
   ],
   "source": [
    "data= pd.read_csv('../Prediction House Price Using Image Processing/Data/Houston_Home_List.csv',encoding = \"ISO-8859-1\")\n",
    "print('data shape is:',data.shape)"
   ]
  },
  {
   "cell_type": "code",
   "execution_count": 3,
   "metadata": {},
   "outputs": [
    {
     "data": {
      "text/plain": [
       "Index(['Unnamed: 0', 'image_link', 'Listing Price:', 'Address:', 'City:',\n",
       "       'State:', 'Zip Code:', 'County:', 'Subdivision:', 'Legal Description:',\n",
       "       ...\n",
       "       'Extra Room:', 'Wine Room:', 'Carport Description:',\n",
       "       'Median Appraised Value / Square ft.:', 'Den:', 'Utility Room Desc:',\n",
       "       'Sunroom:', 'Guest Suite:', 'Bath:', 'Garage Apartment:'],\n",
       "      dtype='object', length=101)"
      ]
     },
     "execution_count": 3,
     "metadata": {},
     "output_type": "execute_result"
    }
   ],
   "source": [
    "data.columns"
   ]
  },
  {
   "cell_type": "markdown",
   "metadata": {},
   "source": [
    "## 2.5 Filtering Single Family Property Type<a id='2.5_Filtering_Single_Family_Property_Type'></a>"
   ]
  },
  {
   "cell_type": "markdown",
   "metadata": {},
   "source": [
    "Since we are going to analysis images and other house features it is important to have all records as same as possible. For example for lots there is no image for building or rooms and features for multi-family properties are different from single family homes. let see what kind of property type we have in our dataset:"
   ]
  },
  {
   "cell_type": "code",
   "execution_count": 4,
   "metadata": {},
   "outputs": [
    {
     "data": {
      "text/plain": [
       "Single-Family                          11141\n",
       "Lots                                    1551\n",
       "Townhouse/Condo - Townhouse              950\n",
       "Townhouse/Condo - Condominium            594\n",
       "Mid/Hi-Rise Condo                        436\n",
       "Country Homes/Acreage                    154\n",
       "Multi-Family - Duplex                    107\n",
       "Country Homes/Acreage - Free Standi       46\n",
       "Multi-Family - Fourplex                   46\n",
       "Multi-Family - 5 Plus                     38\n",
       "Multi-Family - Triplex                    15\n",
       "Multi-Family - Multiple Detached Dw        9\n",
       "Country Homes/Acreage - Manufacture        4\n",
       "Lot & Acreage - Residential                3\n",
       "Residential - Condo                        2\n",
       "Residential - Townhouse                    1\n",
       "Single Family                              1\n",
       "Name: Property Type:, dtype: int64"
      ]
     },
     "execution_count": 4,
     "metadata": {},
     "output_type": "execute_result"
    }
   ],
   "source": [
    "data['Property Type:'].value_counts()"
   ]
  },
  {
   "cell_type": "markdown",
   "metadata": {},
   "source": [
    "Majority of properties are single family so, I keep them and remove the rest of the types."
   ]
  },
  {
   "cell_type": "code",
   "execution_count": 5,
   "metadata": {},
   "outputs": [
    {
     "data": {
      "text/plain": [
       "11141"
      ]
     },
     "execution_count": 5,
     "metadata": {},
     "output_type": "execute_result"
    }
   ],
   "source": [
    "single_family_df = data[data['Property Type:']=='Single-Family']\n",
    "single_family_df.reset_index(drop=True,inplace=True)\n",
    "len(single_family_df)"
   ]
  },
  {
   "cell_type": "code",
   "execution_count": 6,
   "metadata": {},
   "outputs": [
    {
     "data": {
      "text/html": [
       "<div>\n",
       "<style scoped>\n",
       "    .dataframe tbody tr th:only-of-type {\n",
       "        vertical-align: middle;\n",
       "    }\n",
       "\n",
       "    .dataframe tbody tr th {\n",
       "        vertical-align: top;\n",
       "    }\n",
       "\n",
       "    .dataframe thead th {\n",
       "        text-align: right;\n",
       "    }\n",
       "</style>\n",
       "<table border=\"1\" class=\"dataframe\">\n",
       "  <thead>\n",
       "    <tr style=\"text-align: right;\">\n",
       "      <th></th>\n",
       "      <th>Unnamed: 0</th>\n",
       "      <th>image_link</th>\n",
       "      <th>Listing Price:</th>\n",
       "      <th>Address:</th>\n",
       "      <th>City:</th>\n",
       "      <th>State:</th>\n",
       "      <th>Zip Code:</th>\n",
       "      <th>County:</th>\n",
       "      <th>Subdivision:</th>\n",
       "      <th>Legal Description:</th>\n",
       "      <th>...</th>\n",
       "      <th>Extra Room:</th>\n",
       "      <th>Wine Room:</th>\n",
       "      <th>Carport Description:</th>\n",
       "      <th>Median Appraised Value / Square ft.:</th>\n",
       "      <th>Den:</th>\n",
       "      <th>Utility Room Desc:</th>\n",
       "      <th>Sunroom:</th>\n",
       "      <th>Guest Suite:</th>\n",
       "      <th>Bath:</th>\n",
       "      <th>Garage Apartment:</th>\n",
       "    </tr>\n",
       "  </thead>\n",
       "  <tbody>\n",
       "    <tr>\n",
       "      <th>0</th>\n",
       "      <td>85</td>\n",
       "      <td>['https://photos.harstatic.com/190618667/hr/im...</td>\n",
       "      <td>$ 575,000 ($232.98/sqft.) $Convert</td>\n",
       "      <td>1316 Hadley Street</td>\n",
       "      <td>Houston</td>\n",
       "      <td>TX</td>\n",
       "      <td>77002</td>\n",
       "      <td>Harris County</td>\n",
       "      <td>Austin Hadley Place</td>\n",
       "      <td>LT 4 BLK 1 AUSTIN HADLEY PLACE</td>\n",
       "      <td>...</td>\n",
       "      <td>NaN</td>\n",
       "      <td>NaN</td>\n",
       "      <td>NaN</td>\n",
       "      <td>NaN</td>\n",
       "      <td>NaN</td>\n",
       "      <td>NaN</td>\n",
       "      <td>NaN</td>\n",
       "      <td>NaN</td>\n",
       "      <td>NaN</td>\n",
       "      <td>NaN</td>\n",
       "    </tr>\n",
       "    <tr>\n",
       "      <th>1</th>\n",
       "      <td>88</td>\n",
       "      <td>['https://photos.harstatic.com/190420550/hr/im...</td>\n",
       "      <td>$ 465,000 ($221.85/sqft.) $Convert</td>\n",
       "      <td>110 Pierce Street</td>\n",
       "      <td>Houston</td>\n",
       "      <td>TX</td>\n",
       "      <td>77002</td>\n",
       "      <td>Harris County</td>\n",
       "      <td>Modern Midtown (View subdivision price trend)</td>\n",
       "      <td>LT 12 BLK 1 MODERN MIDTOWN</td>\n",
       "      <td>...</td>\n",
       "      <td>NaN</td>\n",
       "      <td>NaN</td>\n",
       "      <td>NaN</td>\n",
       "      <td>$223.83</td>\n",
       "      <td>NaN</td>\n",
       "      <td>NaN</td>\n",
       "      <td>NaN</td>\n",
       "      <td>NaN</td>\n",
       "      <td>NaN</td>\n",
       "      <td>NaN</td>\n",
       "    </tr>\n",
       "    <tr>\n",
       "      <th>2</th>\n",
       "      <td>89</td>\n",
       "      <td>['https://photos.harstatic.com/190088153/hr/im...</td>\n",
       "      <td>$ 450,000 ($223.33/sqft.) $Convert</td>\n",
       "      <td>118 Pierce Street</td>\n",
       "      <td>Houston</td>\n",
       "      <td>TX</td>\n",
       "      <td>77002</td>\n",
       "      <td>Harris County</td>\n",
       "      <td>Modern Midtown (View subdivision price trend)</td>\n",
       "      <td>LT 8 BLK 1 MODERN MIDTOWN</td>\n",
       "      <td>...</td>\n",
       "      <td>NaN</td>\n",
       "      <td>NaN</td>\n",
       "      <td>NaN</td>\n",
       "      <td>$223.83</td>\n",
       "      <td>NaN</td>\n",
       "      <td>NaN</td>\n",
       "      <td>NaN</td>\n",
       "      <td>NaN</td>\n",
       "      <td>NaN</td>\n",
       "      <td>NaN</td>\n",
       "    </tr>\n",
       "    <tr>\n",
       "      <th>3</th>\n",
       "      <td>99</td>\n",
       "      <td>['https://photos.harstatic.com/189387790/hr/im...</td>\n",
       "      <td>$ 259,000 ($203.30/sqft.) $Convert</td>\n",
       "      <td>311 N Milby Street</td>\n",
       "      <td>Houston</td>\n",
       "      <td>TX</td>\n",
       "      <td>77003</td>\n",
       "      <td>Harris County</td>\n",
       "      <td>Merkels Sec 01 (View subdivision price trend)</td>\n",
       "      <td>LT 3 BLK 15 MERKELS SEC 1</td>\n",
       "      <td>...</td>\n",
       "      <td>NaN</td>\n",
       "      <td>NaN</td>\n",
       "      <td>NaN</td>\n",
       "      <td>NaN</td>\n",
       "      <td>['12 x 17, 1st', '12 , 17, 1st']</td>\n",
       "      <td>['12 x 7, 1st', '12 , 7, 1st']</td>\n",
       "      <td>NaN</td>\n",
       "      <td>NaN</td>\n",
       "      <td>NaN</td>\n",
       "      <td>NaN</td>\n",
       "    </tr>\n",
       "    <tr>\n",
       "      <th>4</th>\n",
       "      <td>108</td>\n",
       "      <td>['https://photos.harstatic.com/177650081/hr/im...</td>\n",
       "      <td>$ 236,999 ($196.19/sqft.) $Convert  \\n\\n\\n Red...</td>\n",
       "      <td>216 Hutcheson</td>\n",
       "      <td>Houston</td>\n",
       "      <td>TX</td>\n",
       "      <td>77003</td>\n",
       "      <td>Harris County</td>\n",
       "      <td>MERKELS (View subdivision price trend)</td>\n",
       "      <td>LT 9 BLK 5 MERKELS SEC 1</td>\n",
       "      <td>...</td>\n",
       "      <td>NaN</td>\n",
       "      <td>NaN</td>\n",
       "      <td>NaN</td>\n",
       "      <td>NaN</td>\n",
       "      <td>NaN</td>\n",
       "      <td>NaN</td>\n",
       "      <td>NaN</td>\n",
       "      <td>NaN</td>\n",
       "      <td>NaN</td>\n",
       "      <td>NaN</td>\n",
       "    </tr>\n",
       "  </tbody>\n",
       "</table>\n",
       "<p>5 rows × 101 columns</p>\n",
       "</div>"
      ],
      "text/plain": [
       "   Unnamed: 0                                         image_link  \\\n",
       "0          85  ['https://photos.harstatic.com/190618667/hr/im...   \n",
       "1          88  ['https://photos.harstatic.com/190420550/hr/im...   \n",
       "2          89  ['https://photos.harstatic.com/190088153/hr/im...   \n",
       "3          99  ['https://photos.harstatic.com/189387790/hr/im...   \n",
       "4         108  ['https://photos.harstatic.com/177650081/hr/im...   \n",
       "\n",
       "                                      Listing Price:            Address:  \\\n",
       "0                $ 575,000 ($232.98/sqft.) $Convert   1316 Hadley Street   \n",
       "1                $ 465,000 ($221.85/sqft.) $Convert    110 Pierce Street   \n",
       "2                $ 450,000 ($223.33/sqft.) $Convert    118 Pierce Street   \n",
       "3                $ 259,000 ($203.30/sqft.) $Convert   311 N Milby Street   \n",
       "4  $ 236,999 ($196.19/sqft.) $Convert  \\n\\n\\n Red...       216 Hutcheson   \n",
       "\n",
       "     City: State:  Zip Code:        County:  \\\n",
       "0  Houston     TX      77002  Harris County   \n",
       "1  Houston     TX      77002  Harris County   \n",
       "2  Houston     TX      77002  Harris County   \n",
       "3  Houston     TX      77003  Harris County   \n",
       "4  Houston     TX      77003  Harris County   \n",
       "\n",
       "                                     Subdivision:  \\\n",
       "0                             Austin Hadley Place   \n",
       "1   Modern Midtown (View subdivision price trend)   \n",
       "2   Modern Midtown (View subdivision price trend)   \n",
       "3   Merkels Sec 01 (View subdivision price trend)   \n",
       "4          MERKELS (View subdivision price trend)   \n",
       "\n",
       "               Legal Description:  ... Extra Room: Wine Room:  \\\n",
       "0  LT 4 BLK 1 AUSTIN HADLEY PLACE  ...         NaN        NaN   \n",
       "1      LT 12 BLK 1 MODERN MIDTOWN  ...         NaN        NaN   \n",
       "2       LT 8 BLK 1 MODERN MIDTOWN  ...         NaN        NaN   \n",
       "3       LT 3 BLK 15 MERKELS SEC 1  ...         NaN        NaN   \n",
       "4        LT 9 BLK 5 MERKELS SEC 1  ...         NaN        NaN   \n",
       "\n",
       "  Carport Description: Median Appraised Value / Square ft.:  \\\n",
       "0                  NaN                                  NaN   \n",
       "1                  NaN                             $223.83    \n",
       "2                  NaN                             $223.83    \n",
       "3                  NaN                                  NaN   \n",
       "4                  NaN                                  NaN   \n",
       "\n",
       "                               Den:              Utility Room Desc: Sunroom:  \\\n",
       "0                               NaN                             NaN      NaN   \n",
       "1                               NaN                             NaN      NaN   \n",
       "2                               NaN                             NaN      NaN   \n",
       "3  ['12 x 17, 1st', '12 , 17, 1st']  ['12 x 7, 1st', '12 , 7, 1st']      NaN   \n",
       "4                               NaN                             NaN      NaN   \n",
       "\n",
       "  Guest Suite: Bath: Garage Apartment:  \n",
       "0          NaN   NaN               NaN  \n",
       "1          NaN   NaN               NaN  \n",
       "2          NaN   NaN               NaN  \n",
       "3          NaN   NaN               NaN  \n",
       "4          NaN   NaN               NaN  \n",
       "\n",
       "[5 rows x 101 columns]"
      ]
     },
     "execution_count": 6,
     "metadata": {},
     "output_type": "execute_result"
    }
   ],
   "source": [
    "single_family_df.head()"
   ]
  },
  {
   "cell_type": "markdown",
   "metadata": {},
   "source": [
    "In our dataset `State` and `Property Type` are the same for all houses so, we can remove them:"
   ]
  },
  {
   "cell_type": "code",
   "execution_count": 7,
   "metadata": {},
   "outputs": [],
   "source": [
    "single_family_df.drop(['Unnamed: 0','State:','Property Type:'],axis=1,inplace=True)"
   ]
  },
  {
   "cell_type": "markdown",
   "metadata": {},
   "source": [
    "## 2.6 Missing Values<a id='2.6_Missing_Values'></a>"
   ]
  },
  {
   "cell_type": "code",
   "execution_count": 8,
   "metadata": {},
   "outputs": [],
   "source": [
    "# function to find missing value and returning count abd %\n",
    "def missing_cal(df):\n",
    "    missing = pd.concat([single_family_df.isnull().sum(), 100 * single_family_df.isnull().mean()], axis=1)\n",
    "    missing.columns=['count', '%']\n",
    "    missing.sort_values(by='count',ascending=False)\n",
    "    return missing"
   ]
  },
  {
   "cell_type": "code",
   "execution_count": 9,
   "metadata": {},
   "outputs": [
    {
     "data": {
      "text/html": [
       "<div>\n",
       "<style scoped>\n",
       "    .dataframe tbody tr th:only-of-type {\n",
       "        vertical-align: middle;\n",
       "    }\n",
       "\n",
       "    .dataframe tbody tr th {\n",
       "        vertical-align: top;\n",
       "    }\n",
       "\n",
       "    .dataframe thead th {\n",
       "        text-align: right;\n",
       "    }\n",
       "</style>\n",
       "<table border=\"1\" class=\"dataframe\">\n",
       "  <thead>\n",
       "    <tr style=\"text-align: right;\">\n",
       "      <th></th>\n",
       "      <th>count</th>\n",
       "      <th>%</th>\n",
       "    </tr>\n",
       "  </thead>\n",
       "  <tbody>\n",
       "    <tr>\n",
       "      <th>image_link</th>\n",
       "      <td>0</td>\n",
       "      <td>0.000000</td>\n",
       "    </tr>\n",
       "    <tr>\n",
       "      <th>Listing Price:</th>\n",
       "      <td>3</td>\n",
       "      <td>0.026928</td>\n",
       "    </tr>\n",
       "    <tr>\n",
       "      <th>Address:</th>\n",
       "      <td>0</td>\n",
       "      <td>0.000000</td>\n",
       "    </tr>\n",
       "    <tr>\n",
       "      <th>City:</th>\n",
       "      <td>0</td>\n",
       "      <td>0.000000</td>\n",
       "    </tr>\n",
       "    <tr>\n",
       "      <th>Zip Code:</th>\n",
       "      <td>0</td>\n",
       "      <td>0.000000</td>\n",
       "    </tr>\n",
       "    <tr>\n",
       "      <th>...</th>\n",
       "      <td>...</td>\n",
       "      <td>...</td>\n",
       "    </tr>\n",
       "    <tr>\n",
       "      <th>Utility Room Desc:</th>\n",
       "      <td>7178</td>\n",
       "      <td>64.428687</td>\n",
       "    </tr>\n",
       "    <tr>\n",
       "      <th>Sunroom:</th>\n",
       "      <td>10909</td>\n",
       "      <td>97.917602</td>\n",
       "    </tr>\n",
       "    <tr>\n",
       "      <th>Guest Suite:</th>\n",
       "      <td>11008</td>\n",
       "      <td>98.806211</td>\n",
       "    </tr>\n",
       "    <tr>\n",
       "      <th>Bath:</th>\n",
       "      <td>9449</td>\n",
       "      <td>84.812853</td>\n",
       "    </tr>\n",
       "    <tr>\n",
       "      <th>Garage Apartment:</th>\n",
       "      <td>10822</td>\n",
       "      <td>97.136702</td>\n",
       "    </tr>\n",
       "  </tbody>\n",
       "</table>\n",
       "<p>98 rows × 2 columns</p>\n",
       "</div>"
      ],
      "text/plain": [
       "                    count          %\n",
       "image_link              0   0.000000\n",
       "Listing Price:          3   0.026928\n",
       "Address:                0   0.000000\n",
       "City:                   0   0.000000\n",
       "Zip Code:               0   0.000000\n",
       "...                   ...        ...\n",
       "Utility Room Desc:   7178  64.428687\n",
       "Sunroom:            10909  97.917602\n",
       "Guest Suite:        11008  98.806211\n",
       "Bath:                9449  84.812853\n",
       "Garage Apartment:   10822  97.136702\n",
       "\n",
       "[98 rows x 2 columns]"
      ]
     },
     "execution_count": 9,
     "metadata": {},
     "output_type": "execute_result"
    }
   ],
   "source": [
    "missing = missing_cal(single_family_df)\n",
    "missing"
   ]
  },
  {
   "cell_type": "markdown",
   "metadata": {},
   "source": [
    "Let's take a look at features with more than 90% missing values:"
   ]
  },
  {
   "cell_type": "code",
   "execution_count": 10,
   "metadata": {},
   "outputs": [
    {
     "name": "stdout",
     "output_type": "stream",
     "text": [
      "Number of Features with more than 90% None:  9\n"
     ]
    }
   ],
   "source": [
    "missing = missing_cal(single_family_df)\n",
    "nan_90 = missing.loc[missing['%']>90].index\n",
    "print('Number of Features with more than 90% None: ',len(nan_90))"
   ]
  },
  {
   "cell_type": "code",
   "execution_count": 11,
   "metadata": {},
   "outputs": [
    {
     "data": {
      "text/html": [
       "<div>\n",
       "<style scoped>\n",
       "    .dataframe tbody tr th:only-of-type {\n",
       "        vertical-align: middle;\n",
       "    }\n",
       "\n",
       "    .dataframe tbody tr th {\n",
       "        vertical-align: top;\n",
       "    }\n",
       "\n",
       "    .dataframe thead th {\n",
       "        text-align: right;\n",
       "    }\n",
       "</style>\n",
       "<table border=\"1\" class=\"dataframe\">\n",
       "  <thead>\n",
       "    <tr style=\"text-align: right;\">\n",
       "      <th></th>\n",
       "      <th>count</th>\n",
       "      <th>%</th>\n",
       "    </tr>\n",
       "  </thead>\n",
       "  <tbody>\n",
       "    <tr>\n",
       "      <th>Extra Room:</th>\n",
       "      <td>10068</td>\n",
       "      <td>90.368908</td>\n",
       "    </tr>\n",
       "    <tr>\n",
       "      <th>Median Appraised Value / Square ft.:</th>\n",
       "      <td>10217</td>\n",
       "      <td>91.706310</td>\n",
       "    </tr>\n",
       "    <tr>\n",
       "      <th>Media Room:</th>\n",
       "      <td>10254</td>\n",
       "      <td>92.038417</td>\n",
       "    </tr>\n",
       "    <tr>\n",
       "      <th>Carport Description:</th>\n",
       "      <td>10523</td>\n",
       "      <td>94.452922</td>\n",
       "    </tr>\n",
       "    <tr>\n",
       "      <th>Water Amenity:</th>\n",
       "      <td>10747</td>\n",
       "      <td>96.463513</td>\n",
       "    </tr>\n",
       "    <tr>\n",
       "      <th>Garage Apartment:</th>\n",
       "      <td>10822</td>\n",
       "      <td>97.136702</td>\n",
       "    </tr>\n",
       "    <tr>\n",
       "      <th>Sunroom:</th>\n",
       "      <td>10909</td>\n",
       "      <td>97.917602</td>\n",
       "    </tr>\n",
       "    <tr>\n",
       "      <th>Wine Room:</th>\n",
       "      <td>11002</td>\n",
       "      <td>98.752356</td>\n",
       "    </tr>\n",
       "    <tr>\n",
       "      <th>Guest Suite:</th>\n",
       "      <td>11008</td>\n",
       "      <td>98.806211</td>\n",
       "    </tr>\n",
       "  </tbody>\n",
       "</table>\n",
       "</div>"
      ],
      "text/plain": [
       "                                      count          %\n",
       "Extra Room:                           10068  90.368908\n",
       "Median Appraised Value / Square ft.:  10217  91.706310\n",
       "Media Room:                           10254  92.038417\n",
       "Carport Description:                  10523  94.452922\n",
       "Water Amenity:                        10747  96.463513\n",
       "Garage Apartment:                     10822  97.136702\n",
       "Sunroom:                              10909  97.917602\n",
       "Wine Room:                            11002  98.752356\n",
       "Guest Suite:                          11008  98.806211"
      ]
     },
     "execution_count": 11,
     "metadata": {},
     "output_type": "execute_result"
    }
   ],
   "source": [
    "missing.loc[nan_90].sort_values(by=\"%\")"
   ]
  },
  {
   "cell_type": "markdown",
   "metadata": {},
   "source": [
    "We need to see what kind of information are in each of these features:"
   ]
  },
  {
   "cell_type": "code",
   "execution_count": 12,
   "metadata": {},
   "outputs": [
    {
     "name": "stdout",
     "output_type": "stream",
     "text": [
      "Value Count for Media Room:\n",
      "['2nd', '2nd']                      27\n",
      "['16x12, 2nd', '4.88 x 3.66(m)']    17\n",
      "['15x13, 2nd', '4.57 x 3.96(m)']    15\n",
      "['14x13, 2nd', '4.27 x 3.96(m)']    15\n",
      "['18x12, 2nd', '5.49 x 3.66(m)']    13\n",
      "                                    ..\n",
      "['20X12, 2nd', '6.10 x 3.66(m)']     1\n",
      "['12*15, 2nd', '12*15, 2nd']         1\n",
      "['17X15, 1st', '5.18 x 4.57(m)']     1\n",
      "['15X11, 1st', '4.57 x 3.35(m)']     1\n",
      "['22X10, 2nd', '6.71 x 3.05(m)']     1\n",
      "Name: Media Room:, Length: 454, dtype: int64\n",
      "----------------------------------------------------------------------------------------------------\n",
      "Value Count for Water Amenity:\n",
      "Lake View                                                     119\n",
      "Lake View, Lakefront                                           83\n",
      "Pond                                                           55\n",
      "Lakefront                                                      48\n",
      "Bayou Frontage, Bayou View                                      9\n",
      "Bayou View                                                      8\n",
      "Lake View, Lakefront, Pond                                      6\n",
      "Bayou Frontage                                                  4\n",
      "Lake View, Pond                                                 3\n",
      "Canal View                                                      3\n",
      "Lakefront, Pier                                                 3\n",
      "Riverfront                                                      3\n",
      "Lakefront, Wood Bulkhead                                        3\n",
      "Bay View                                                        2\n",
      "Pier, Pond                                                      2\n",
      "Canal Front                                                     2\n",
      "River View                                                      2\n",
      "Canal Front, Canal View                                         2\n",
      "Lake View, Lakefront, Wood Bulkhead                             2\n",
      "Bulkhead, Lakefront                                             2\n",
      "Bulkhead, Lake View, Lakefront                                  2\n",
      "Bayou View, Lake View, Pond                                     1\n",
      "River View, Riverfront                                          1\n",
      "Bulkhead, Canal Front, Lake View, Lakefront, Wood Bulkhead      1\n",
      "Boat Slip, Bulkhead, Lakefront                                  1\n",
      "Lake View, Lakefront, Pier                                      1\n",
      "Lake View, Metal Bulkhead, River View                           1\n",
      "Concrete Bulkhead, Lake View, Lakefront, Wood Bulkhead          1\n",
      "Bulkhead, Canal Front, Concrete Bulkhead, Lakefront             1\n",
      "Canal Front, Wood Bulkhead                                      1\n",
      "Lakefront, Riverfront                                           1\n",
      "Boat Ramp, Bulkhead, Riverfront                                 1\n",
      "Concrete Bulkhead, Pier                                         1\n",
      "Canal Front, Canal View, Pier, Wood Bulkhead                    1\n",
      "Lake View, Canal View                                           1\n",
      "Bay View, Gulf View, Lake View                                  1\n",
      "Bulkhead, Lakefront, Wood Bulkhead                              1\n",
      "Canal View, Lake View                                           1\n",
      "Boat House, Boat Lift, Boat Slip, Canal Front, Lakefront        1\n",
      "Pier, River View, Riverfront                                    1\n",
      "Boat Slip, Lake View                                            1\n",
      "Bulkhead, Canal Front, Lake View, Lakefront, Pier               1\n",
      "Concrete Bulkhead                                               1\n",
      "Lakefront, Pier, Wood Bulkhead                                  1\n",
      "Boat Slip, Canal Front, Canal View, Lake View, Lakefront        1\n",
      "Pier, Riverfront                                                1\n",
      "Lake View, Lakefront, River View                                1\n",
      "Bulkhead                                                        1\n",
      "Canal Front, Canal View, Lakefront, Pier, Wood Bulkhead         1\n",
      "Boat Ramp, Lake View                                            1\n",
      "Lakefront, Pier, Pond, River View, Riverfront                   1\n",
      "Bulkhead, Concrete Bulkhead, Lake View, Lakefront               1\n",
      "Name: Water Amenity:, dtype: int64\n",
      "----------------------------------------------------------------------------------------------------\n",
      "Value Count for Extra Room:\n",
      "['1st', '1st']                                                   21\n",
      "['2nd', '2nd']                                                   11\n",
      "['11x11, 1st', '3.35 x 3.35(m)']                                 11\n",
      "['11x10, 1st', '3.35 x 3.05(m)']                                 11\n",
      "['10x10, 1st', '3.05 x 3.05(m)']                                 11\n",
      "                                                                 ..\n",
      "['20X9, 1st', '6.10 x 2.74(m)']                                   1\n",
      "['10X11, 1st', '3.05 x 3.35(m)']                                  1\n",
      "['7x5, 1st', '10x6, 1st', '2.13 x 1.52(m)', '3.05 x 1.83(m)']     1\n",
      "['9x11, 3rd', '2.74 x 3.35(m)']                                   1\n",
      "['11\\'7\" x 18\\', 1st', '11\\'7\" , 18\\', 1st']                      1\n",
      "Name: Extra Room:, Length: 710, dtype: int64\n",
      "----------------------------------------------------------------------------------------------------\n",
      "Value Count for Wine Room:\n",
      "['1st', '1st']                      22\n",
      "['7 x 4, 1st', '7 , 4, 1st']         4\n",
      "['2nd', '2nd']                       3\n",
      "['6x8, 1st', '1.83 x 2.44(m)']       3\n",
      "['8x5, 1st', '2.44 x 1.52(m)']       3\n",
      "                                    ..\n",
      "['12 x 12, 1st', '12 , 12, 1st']     1\n",
      "['15X14, 1st', '4.57 x 4.27(m)']     1\n",
      "['15x9, 2nd', '4.57 x 2.74(m)']      1\n",
      "['12x9, 2nd', '3.66 x 2.74(m)']      1\n",
      "['7 x 3.5, 1st', '7 , 3.5, 1st']     1\n",
      "Name: Wine Room:, Length: 98, dtype: int64\n",
      "----------------------------------------------------------------------------------------------------\n",
      "Value Count for Carport Description:\n",
      "Attached Carport       399\n",
      "Detached Carport       122\n",
      "Attached & Detached     97\n",
      "Name: Carport Description:, dtype: int64\n",
      "----------------------------------------------------------------------------------------------------\n",
      "Value Count for Median Appraised Value / Square ft.:\n",
      "$196.51     9\n",
      "$253.57     8\n",
      "$76.60      8\n",
      "$120.49     6\n",
      "$41.05      6\n",
      "           ..\n",
      "$108.02     1\n",
      "$133.15     1\n",
      "$296.55     1\n",
      "$218.46     1\n",
      "$40.22      1\n",
      "Name: Median Appraised Value / Square ft.:, Length: 615, dtype: int64\n",
      "----------------------------------------------------------------------------------------------------\n",
      "Value Count for Sunroom:\n",
      "['1st', '1st']                      10\n",
      "['15x12, 1st', '4.57 x 3.66(m)']     6\n",
      "['10 x 6, 1st', '10 , 6, 1st']       5\n",
      "['15x13, 1st', '4.57 x 3.96(m)']     4\n",
      "['14x11, 1st', '4.27 x 3.35(m)']     3\n",
      "                                    ..\n",
      "['13x5, 1st', '3.96 x 1.52(m)']      1\n",
      "['19x15, 1st', '5.79 x 4.57(m)']     1\n",
      "['23 X 12, 1st', '23 , 12, 1st']     1\n",
      "['15 x 12, 1st', '15 , 12, 1st']     1\n",
      "['16x12, 1st', '4.88 x 3.66(m)']     1\n",
      "Name: Sunroom:, Length: 181, dtype: int64\n",
      "----------------------------------------------------------------------------------------------------\n",
      "Value Count for Guest Suite:\n",
      "['1st', '1st']                                                      5\n",
      "['2nd', '2nd']                                                      4\n",
      "['13x12, 1st', '3.96 x 3.66(m)']                                    4\n",
      "['14x13, 1st', '4.27 x 3.96(m)']                                    3\n",
      "['14X11, 2nd', '14x11, 2nd', '4.27 x 3.35(m)', '4.27 x 3.35(m)']    2\n",
      "                                                                   ..\n",
      "['15x16, 1st', '4.57 x 4.88(m)']                                    1\n",
      "['12 x 13, 1st', '12 , 13, 1st']                                    1\n",
      "['12X9, 2nd', '3.66 x 2.74(m)']                                     1\n",
      "[\"12X15'4, 2nd\", '3.66(m)']                                         1\n",
      "['16x12, 1st', '4.88 x 3.66(m)']                                    1\n",
      "Name: Guest Suite:, Length: 107, dtype: int64\n",
      "----------------------------------------------------------------------------------------------------\n",
      "Value Count for Garage Apartment:\n",
      "Yes                                                                                    208\n",
      "['In Garage', 'In Garage']                                                               8\n",
      "['In Garage', 'In Garage', 'Yes']                                                        7\n",
      "['20x20, In Garage', '6.10 x 6.10(m)']                                                   2\n",
      "['23x18, In Garage', '7.01 x 5.49(m)']                                                   2\n",
      "                                                                                      ... \n",
      "['38x19, In Garage', '11.58 x 5.79(m)']                                                  1\n",
      "['18x19, In Garage', '5.49 x 5.79(m)']                                                   1\n",
      "['11 x 11, In Garage', '11 , 11, In Garage', 'Yes']                                      1\n",
      "['16x14, In Garage', '4.88 x 4.27(m)']                                                   1\n",
      "['20x13, In Garage', '16x13, In Garage', '6.10 x 3.96(m)', '4.88 x 3.96(m)', 'Yes']      1\n",
      "Name: Garage Apartment:, Length: 95, dtype: int64\n",
      "----------------------------------------------------------------------------------------------------\n"
     ]
    }
   ],
   "source": [
    "for item in nan_90:\n",
    "    print('Value Count for '+item)\n",
    "    print(single_family_df[item].value_counts())\n",
    "    print('-'*100)"
   ]
  },
  {
   "cell_type": "markdown",
   "metadata": {},
   "source": [
    "* Values for `Media Room`, `Extra Room`, `Wine Room`, `Sunroom`, `Guest Suite`and `Garage Apartment` are kind of dimension of each of those rooms along with some nonsense values like (`Yes` for `Garage Apartment`). \n",
    "* For `Water Amenity` there are to much unique categories and there is no way to be able to fill rest of none values with correct category\n",
    "* `Carport Description` has 3 different categories for total 611 house and the rest do not have any carport so I will fill  all none values with new category as 'Not Applicable'.\n",
    "* `Median Appraised Value / Square ft.:` is the fact (based on active listing) for each subdivision and can be fill by the value for same subdivision."
   ]
  },
  {
   "cell_type": "code",
   "execution_count": 13,
   "metadata": {},
   "outputs": [],
   "source": [
    "# Replacing None value for 'Carport Description:' with 'not applicable'\n",
    "single_family_df['Carport Description:'][single_family_df['Carport Description:'].isnull()]='not applicable'\n",
    "\n",
    "# Dropping 'Media Room:', 'Water Amenity:', 'Extra Room:', 'Wine Room:', 'Median Appraised Value / Square ft.:',\n",
    "#'Sunroom:', 'Guest Suite:', 'Garage Apartment:', 'Vacation Rental:'\n",
    "single_family_df.drop(['Media Room:', 'Water Amenity:', 'Extra Room:', 'Wine Room:', 'Sunroom:', 'Guest Suite:', \n",
    "                       'Garage Apartment:'],axis=1,inplace=True)"
   ]
  },
  {
   "cell_type": "markdown",
   "metadata": {},
   "source": [
    "Next step is looking at the features with more than 80% none values:"
   ]
  },
  {
   "cell_type": "code",
   "execution_count": 14,
   "metadata": {},
   "outputs": [
    {
     "name": "stdout",
     "output_type": "stream",
     "text": [
      "Number of Features with more than 80% None:  14\n"
     ]
    }
   ],
   "source": [
    "missing = missing_cal(single_family_df)\n",
    "nan_80 = missing.loc[missing['%']>80].index\n",
    "print('Number of Features with more than 80% None: ',len(nan_80))"
   ]
  },
  {
   "cell_type": "code",
   "execution_count": 15,
   "metadata": {},
   "outputs": [
    {
     "data": {
      "text/html": [
       "<div>\n",
       "<style scoped>\n",
       "    .dataframe tbody tr th:only-of-type {\n",
       "        vertical-align: middle;\n",
       "    }\n",
       "\n",
       "    .dataframe tbody tr th {\n",
       "        vertical-align: top;\n",
       "    }\n",
       "\n",
       "    .dataframe thead th {\n",
       "        text-align: right;\n",
       "    }\n",
       "</style>\n",
       "<table border=\"1\" class=\"dataframe\">\n",
       "  <thead>\n",
       "    <tr style=\"text-align: right;\">\n",
       "      <th></th>\n",
       "      <th>count</th>\n",
       "      <th>%</th>\n",
       "    </tr>\n",
       "  </thead>\n",
       "  <tbody>\n",
       "    <tr>\n",
       "      <th>Average Square Ft.:</th>\n",
       "      <td>9412</td>\n",
       "      <td>84.480747</td>\n",
       "    </tr>\n",
       "    <tr>\n",
       "      <th>Average Price/Square Ft.:</th>\n",
       "      <td>9412</td>\n",
       "      <td>84.480747</td>\n",
       "    </tr>\n",
       "    <tr>\n",
       "      <th>Market Area Name:</th>\n",
       "      <td>9413</td>\n",
       "      <td>84.489723</td>\n",
       "    </tr>\n",
       "    <tr>\n",
       "      <th>Home For Sales:</th>\n",
       "      <td>9413</td>\n",
       "      <td>84.489723</td>\n",
       "    </tr>\n",
       "    <tr>\n",
       "      <th>Average List Price:</th>\n",
       "      <td>9413</td>\n",
       "      <td>84.489723</td>\n",
       "    </tr>\n",
       "    <tr>\n",
       "      <th>Home For Lease:</th>\n",
       "      <td>9413</td>\n",
       "      <td>84.489723</td>\n",
       "    </tr>\n",
       "    <tr>\n",
       "      <th>Average Lease:</th>\n",
       "      <td>9413</td>\n",
       "      <td>84.489723</td>\n",
       "    </tr>\n",
       "    <tr>\n",
       "      <th>Average Lease/Square Ft.:</th>\n",
       "      <td>9413</td>\n",
       "      <td>84.489723</td>\n",
       "    </tr>\n",
       "    <tr>\n",
       "      <th>Bath:</th>\n",
       "      <td>9449</td>\n",
       "      <td>84.812853</td>\n",
       "    </tr>\n",
       "    <tr>\n",
       "      <th>Den:</th>\n",
       "      <td>9486</td>\n",
       "      <td>85.144960</td>\n",
       "    </tr>\n",
       "    <tr>\n",
       "      <th>Private Pool Desc:</th>\n",
       "      <td>9654</td>\n",
       "      <td>86.652904</td>\n",
       "    </tr>\n",
       "    <tr>\n",
       "      <th>Controlled Access:</th>\n",
       "      <td>9770</td>\n",
       "      <td>87.694103</td>\n",
       "    </tr>\n",
       "    <tr>\n",
       "      <th>Master Planned Community:</th>\n",
       "      <td>9843</td>\n",
       "      <td>88.349340</td>\n",
       "    </tr>\n",
       "    <tr>\n",
       "      <th>Median Appraised Value / Square ft.:</th>\n",
       "      <td>10217</td>\n",
       "      <td>91.706310</td>\n",
       "    </tr>\n",
       "  </tbody>\n",
       "</table>\n",
       "</div>"
      ],
      "text/plain": [
       "                                      count          %\n",
       "Average Square Ft.:                    9412  84.480747\n",
       "Average Price/Square Ft.:              9412  84.480747\n",
       "Market Area Name:                      9413  84.489723\n",
       "Home For Sales:                        9413  84.489723\n",
       "Average List Price:                    9413  84.489723\n",
       "Home For Lease:                        9413  84.489723\n",
       "Average Lease:                         9413  84.489723\n",
       "Average Lease/Square Ft.:              9413  84.489723\n",
       "Bath:                                  9449  84.812853\n",
       "Den:                                   9486  85.144960\n",
       "Private Pool Desc:                     9654  86.652904\n",
       "Controlled Access:                     9770  87.694103\n",
       "Master Planned Community:              9843  88.349340\n",
       "Median Appraised Value / Square ft.:  10217  91.706310"
      ]
     },
     "execution_count": 15,
     "metadata": {},
     "output_type": "execute_result"
    }
   ],
   "source": [
    "missing.loc[nan_80].sort_values(by=\"%\")"
   ]
  },
  {
   "cell_type": "code",
   "execution_count": 16,
   "metadata": {},
   "outputs": [
    {
     "name": "stdout",
     "output_type": "stream",
     "text": [
      "Value Count for Private Pool Desc:\n",
      "In Ground                                355\n",
      "Gunite, In Ground                        344\n",
      "Gunite, Heated, In Ground                234\n",
      "Gunite                                   217\n",
      "Heated, In Ground                         92\n",
      "Gunite, Heated, In Ground, Salt Water     46\n",
      "Gunite, Heated                            40\n",
      "Above Ground                              28\n",
      "Heated, In Ground, Salt Water             21\n",
      "Gunite, In Ground, Salt Water             20\n",
      "In Ground, Salt Water                     16\n",
      "Gunite, Salt Water                        13\n",
      "Gunite, Heated, Salt Water                10\n",
      "Enclosed, Heated, In Ground                8\n",
      "In Ground, Vinyl Lined                     5\n",
      "Fiberglass, In Ground                      5\n",
      "Heated                                     5\n",
      "Enclosed, In Ground                        4\n",
      "Fiberglass                                 4\n",
      "Salt Water                                 4\n",
      "Above Ground, In Ground                    2\n",
      "Enclosed, Gunite, In Ground                2\n",
      "Heated, Salt Water                         2\n",
      "Above Ground, Heated                       2\n",
      "Fiberglass, Salt Water                     1\n",
      "Enclosed, Salt Water                       1\n",
      "Above Ground, Vinyl Lined                  1\n",
      "Enclosed, Heated                           1\n",
      "Fiberglass, In Ground, Vinyl Lined         1\n",
      "Vinyl Lined                                1\n",
      "Above Ground, Fiberglass, Heated           1\n",
      "Above Ground, Gunite, Heated               1\n",
      "Name: Private Pool Desc:, dtype: int64\n",
      "----------------------------------------------------------------------------------------------------\n",
      "Value Count for Controlled Access:\n",
      "Automatic Gate                                521\n",
      "Driveway Gate                                 422\n",
      "Automatic Gate, Driveway Gate                 234\n",
      "Manned Gate                                   118\n",
      "Automatic Gate, Intercom                       29\n",
      "Automatic Gate, Manned Gate                    14\n",
      "Intercom                                       10\n",
      "Automatic Gate, Driveway Gate, Intercom         7\n",
      "Driveway Gate, Intercom                         4\n",
      "Driveway Gate, Manned Gate                      4\n",
      "Automatic Gate, Driveway Gate, Manned Gate      4\n",
      "Automatic Gate, Intercom, Manned Gate           3\n",
      "Intercom, Manned Gate                           1\n",
      "Name: Controlled Access:, dtype: int64\n",
      "----------------------------------------------------------------------------------------------------\n",
      "Value Count for Master Planned Community:\n",
      "Kingwood                      235\n",
      "Aliana                        118\n",
      "Bridgeland                    100\n",
      "Tavola                         76\n",
      "Cane Island                    69\n",
      "Clear Lake City                66\n",
      "The Woodlands                  62\n",
      "Towne Lake                     61\n",
      "Woodson's Reserve              52\n",
      "Elyson                         49\n",
      "Gleannloch Farms               38\n",
      "Oakhurst at Kingwood           34\n",
      "Long Meadow Farms              33\n",
      "Harmony                        31\n",
      "Copperfield                    29\n",
      "Grand Mission                  26\n",
      "The Falls at Imperial Oaks     20\n",
      "Lakes at Creekside             18\n",
      "Windrose                       16\n",
      "Sugar Creek                    15\n",
      "Wildwood at Northpointe        14\n",
      "First Colony                   13\n",
      "Valley Ranch                   13\n",
      "Cypress Creek Lakes            12\n",
      "Stone Gate                     12\n",
      "Coles Crossing                 12\n",
      "Canyon Lakes at Stone Gate     11\n",
      "City Park                      10\n",
      "Spring Trails                  10\n",
      "Lakemont                        9\n",
      "Imperial Oaks                   7\n",
      "Fieldstone                      5\n",
      "Fairfield                       5\n",
      "Canyon Gate at Northpointe      4\n",
      "Spring Lakes                    2\n",
      "Quail Valley                    2\n",
      "New Territory                   1\n",
      "Traditions                      1\n",
      "Woodtrace                       1\n",
      "Steeplechase                    1\n",
      "Canyon Lakes West               1\n",
      "West Ranch                      1\n",
      "Twin Oaks                       1\n",
      "River Park West                 1\n",
      "WoodCreek Reserve               1\n",
      "Name: Master Planned Community:, dtype: int64\n",
      "----------------------------------------------------------------------------------------------------\n",
      "Value Count for Market Area Name:\n",
      "Katy - Old Towne        134\n",
      "Spring Branch           128\n",
      "Cypress South           105\n",
      "Medical Center South     98\n",
      "Hockley                  74\n",
      "                       ... \n",
      "Memorial West             1\n",
      "Willow Meadows Area       1\n",
      "Lake Conroe Area          1\n",
      "Memorial Villages         1\n",
      "Westchase Area            1\n",
      "Name: Market Area Name:, Length: 73, dtype: int64\n",
      "----------------------------------------------------------------------------------------------------\n",
      "Value Count for Home For Sales:\n",
      "559      134\n",
      "555      105\n",
      "425.0     98\n",
      "287       73\n",
      "820.0     71\n",
      "        ... \n",
      "478        1\n",
      "1,559      1\n",
      "327.0      1\n",
      "287.0      1\n",
      "209        1\n",
      "Name: Home For Sales:, Length: 83, dtype: int64\n",
      "----------------------------------------------------------------------------------------------------\n",
      "Value Count for Average List Price:\n",
      "$358,099       134\n",
      "$462,259       128\n",
      "$401,192       105\n",
      "$197,820        98\n",
      "$315,400        74\n",
      "              ... \n",
      "$400,610         1\n",
      "$2,176,831       1\n",
      "$362,233         1\n",
      "$223,137         1\n",
      "$497,916         1\n",
      "Name: Average List Price:, Length: 73, dtype: int64\n",
      "----------------------------------------------------------------------------------------------------\n",
      "Value Count for Average Square Ft.:\n",
      "2,629    134\n",
      "2,329    128\n",
      "2,912    105\n",
      "1,662     98\n",
      "2,161     74\n",
      "        ... \n",
      "1,968      1\n",
      "2,822      1\n",
      "2,747      1\n",
      "2,280      1\n",
      "2,550      1\n",
      "Name: Average Square Ft.:, Length: 74, dtype: int64\n",
      "----------------------------------------------------------------------------------------------------\n",
      "Value Count for Average Price/Square Ft.:\n",
      "$135.88     134\n",
      "$195.15     128\n",
      "$137.48     105\n",
      "$120.99      98\n",
      "$141.22      74\n",
      "           ... \n",
      "$387.93       1\n",
      "$115.38       1\n",
      "$130.43       1\n",
      "$169.04       1\n",
      "$224.37       1\n",
      "Name: Average Price/Square Ft.:, Length: 73, dtype: int64\n",
      "----------------------------------------------------------------------------------------------------\n",
      "Value Count for Home For Lease:\n",
      "30.0     134\n",
      "223.0    128\n",
      "61.0     105\n",
      "71.0      98\n",
      "104.0     77\n",
      "        ... \n",
      "45.0       2\n",
      "274.0      1\n",
      "79.0       1\n",
      "95.0       1\n",
      "72.0       1\n",
      "Name: Home For Lease:, Length: 66, dtype: int64\n",
      "----------------------------------------------------------------------------------------------------\n",
      "Value Count for Average Lease:\n",
      "$1,914     134\n",
      "$1,896     128\n",
      "$1,939     105\n",
      "$1,462      98\n",
      "$1,937      88\n",
      "          ... \n",
      "$2,572       1\n",
      "$1,843       1\n",
      "$2,134       1\n",
      "$2,066       1\n",
      "$2,116       1\n",
      "Name: Average Lease:, Length: 72, dtype: int64\n",
      "----------------------------------------------------------------------------------------------------\n",
      "Value Count for Average Lease/Square Ft.:\n",
      "$0.98     235\n",
      "$1.26     128\n",
      "$1.01     125\n",
      "$1.02      98\n",
      "$0.93      85\n",
      "$1.09      72\n",
      "$0.90      72\n",
      "$1.57      70\n",
      "$0.96      68\n",
      "$0.92      63\n",
      "$1.55      61\n",
      "$1.23      61\n",
      "$1.27      50\n",
      "$0.99      47\n",
      "$1.03      47\n",
      "$1.29      47\n",
      "$1.06      43\n",
      "$1.47      37\n",
      "$1.41      36\n",
      "$0.95      34\n",
      "$1.53      28\n",
      "$0.94      28\n",
      "$1.68      20\n",
      "$1.30      20\n",
      "$1.10      20\n",
      "$1.15      17\n",
      "$1.11      15\n",
      "$1.13      14\n",
      "$1.58      13\n",
      "$1.28      13\n",
      "$1.12       9\n",
      "$1.49       7\n",
      "$1.48       6\n",
      "$1.54       5\n",
      "$0.87       5\n",
      "$1.14       4\n",
      "$1.85       4\n",
      "$0.88       4\n",
      "$2.10       3\n",
      "$1.50       3\n",
      "$1.07       3\n",
      "$1.19       3\n",
      "$0.97       2\n",
      "$1.08       1\n",
      "$3.94       1\n",
      "$1.71       1\n",
      "Name: Average Lease/Square Ft.:, dtype: int64\n",
      "----------------------------------------------------------------------------------------------------\n",
      "Value Count for Median Appraised Value / Square ft.:\n",
      "$196.51     9\n",
      "$253.57     8\n",
      "$76.60      8\n",
      "$120.49     6\n",
      "$41.05      6\n",
      "           ..\n",
      "$108.02     1\n",
      "$133.15     1\n",
      "$296.55     1\n",
      "$218.46     1\n",
      "$40.22      1\n",
      "Name: Median Appraised Value / Square ft.:, Length: 615, dtype: int64\n",
      "----------------------------------------------------------------------------------------------------\n",
      "Value Count for Den:\n",
      "['1st', '1st']                      33\n",
      "['17x15, 1st', '5.18 x 4.57(m)']    27\n",
      "['17x16, 1st', '5.18 x 4.88(m)']    21\n",
      "['20x15, 1st', '6.10 x 4.57(m)']    21\n",
      "['20x16, 1st', '6.10 x 4.88(m)']    21\n",
      "                                    ..\n",
      "['24 x 13, 1st', '24 , 13, 1st']     1\n",
      "['13x23, 1st', '3.96 x 7.01(m)']     1\n",
      "['24x12, 1st', '7.32 x 3.66(m)']     1\n",
      "['22X19, 2nd', '6.71 x 5.79(m)']     1\n",
      "['16X10, 2nd', '4.88 x 3.05(m)']     1\n",
      "Name: Den:, Length: 652, dtype: int64\n",
      "----------------------------------------------------------------------------------------------------\n",
      "Value Count for Bath:\n",
      "['1st', '1st']                                                                                                                                                        178\n",
      "['1st', '2nd', '1st', '2nd']                                                                                                                                           86\n",
      "['2nd', '1st', '2nd', '1st']                                                                                                                                           83\n",
      "['1st', '1st', '1st', '1st']                                                                                                                                           62\n",
      "['1st', '2nd', '2nd', '1st', '2nd', '2nd']                                                                                                                             60\n",
      "                                                                                                                                                                     ... \n",
      "['9x6, 2nd', '6x5, 1st', '6x5, 2nd', '4x8, 1st', '4x4, 1st', '2.74 x 1.83(m)', '1.83 x 1.52(m)', '1.83 x 1.52(m)', '1.22 x 2.44(m)', '1.22 x 1.22(m)']                  1\n",
      "['8 x 8, 2nd', '8 x 8, 1st', '12 x 11, 1st', '8 x 8, 2nd', '8 , 8, 2nd', '8 , 8, 1st', '12 , 11, 1st', '8 , 8, 2nd']                                                    1\n",
      "['15x8, 2nd', '16x6, 2nd', '4.57 x 2.44(m)', '4.88 x 1.83(m)']                                                                                                          1\n",
      "['4.3x8.4, 1st', '5x8.4, 2nd', '5x6.6, 1st', '5x8.2, 2nd', '5x8.4, 2nd', '1.31 x 2.56(m)', '1.52 x 2.56(m)', '1.52 x 2.01(m)', '1.52 x 2.50(m)', '1.52 x 2.56(m)']      1\n",
      "['10x5, 2nd', '9x8, 2nd', '13x6, 2nd', '3.05 x 1.52(m)', '2.74 x 2.44(m)', '3.96 x 1.83(m)']                                                                            1\n",
      "Name: Bath:, Length: 751, dtype: int64\n",
      "----------------------------------------------------------------------------------------------------\n"
     ]
    }
   ],
   "source": [
    "#printing value count for each feature with more than 80 none value\n",
    "for item in nan_80:\n",
    "    print('Value Count for '+item)\n",
    "    print(single_family_df[item].value_counts())\n",
    "    print('-'*100)"
   ]
  },
  {
   "cell_type": "markdown",
   "metadata": {},
   "source": [
    "* `Controlled Access`categories are mixed  of 'Automatic', 'Driveway', 'Manned' and 'Intercom' that makes me believe the rest of the house do not have any type of controlled access. I think filling none values with 'No controlled access' would be reasonable.\n",
    "* Same as `Water Amenity` there are so many categories for 'Private Pool Desc'. After counting each category for `Private Pool:` groups figured out that there are description for house without private pool and I think it may happened by mistake and I decided to drop this column.\n",
    "* `Master Planned Community` and `Market Area Name` categories seems to be same as subdivision name and can be dropped\n",
    "* `Home For Sales`, `Average List Price`,`Average Square Ft.`,`Average Price/Square Ft.`, `Home For Lease`, `Average Lease`and `Average Lease/Square Ft.`, are the facts (based on active listing) for each subdivision and can be fill by the value for same subdivision.\n",
    "* `Den` and `Bath` are dimension along with other values like '1th' which I think is typo mistake and I decided to drop them."
   ]
  },
  {
   "cell_type": "code",
   "execution_count": 17,
   "metadata": {},
   "outputs": [
    {
     "data": {
      "text/plain": [
       "Private Pool:  Private Pool Desc:                   \n",
       "No             In Ground                                 14\n",
       "               Enclosed, Heated, In Ground                6\n",
       "               Above Ground                               4\n",
       "               Heated, In Ground                          4\n",
       "               Gunite                                     3\n",
       "               Gunite, In Ground                          3\n",
       "               Fiberglass                                 2\n",
       "               Gunite, Heated, In Ground                  1\n",
       "Yes            Gunite, In Ground                        341\n",
       "               In Ground                                341\n",
       "               Gunite, Heated, In Ground                233\n",
       "               Gunite                                   214\n",
       "               Heated, In Ground                         88\n",
       "               Gunite, Heated, In Ground, Salt Water     46\n",
       "               Gunite, Heated                            40\n",
       "               Above Ground                              24\n",
       "               Heated, In Ground, Salt Water             21\n",
       "               Gunite, In Ground, Salt Water             20\n",
       "               In Ground, Salt Water                     16\n",
       "               Gunite, Salt Water                        13\n",
       "               Gunite, Heated, Salt Water                10\n",
       "               Fiberglass, In Ground                      5\n",
       "               Heated                                     5\n",
       "               In Ground, Vinyl Lined                     5\n",
       "               Enclosed, In Ground                        4\n",
       "               Salt Water                                 4\n",
       "               Above Ground, Heated                       2\n",
       "               Above Ground, In Ground                    2\n",
       "               Enclosed, Gunite, In Ground                2\n",
       "               Enclosed, Heated, In Ground                2\n",
       "               Fiberglass                                 2\n",
       "               Heated, Salt Water                         2\n",
       "               Above Ground, Fiberglass, Heated           1\n",
       "               Above Ground, Gunite, Heated               1\n",
       "               Above Ground, Vinyl Lined                  1\n",
       "               Enclosed, Heated                           1\n",
       "               Enclosed, Salt Water                       1\n",
       "               Fiberglass, In Ground, Vinyl Lined         1\n",
       "               Fiberglass, Salt Water                     1\n",
       "               Vinyl Lined                                1\n",
       "Name: Private Pool Desc:, dtype: int64"
      ]
     },
     "execution_count": 17,
     "metadata": {},
     "output_type": "execute_result"
    }
   ],
   "source": [
    "#counting 'Private Pool Desc:' category for `Private Pool:` groups\n",
    "single_family_df.groupby('Private Pool:')['Private Pool Desc:'].value_counts()"
   ]
  },
  {
   "cell_type": "code",
   "execution_count": 18,
   "metadata": {},
   "outputs": [],
   "source": [
    "single_family_df.drop(['Private Pool Desc:','Master Planned Community:','Market Area Name:','Bath:','Den:'],axis=1,inplace=True)\n",
    "# Replacing None value for 'Carport Description:' with 'not applicable'\n",
    "single_family_df['Controlled Access:'][single_family_df['Controlled Access:'].isnull()]='no controlled access'"
   ]
  },
  {
   "cell_type": "markdown",
   "metadata": {},
   "source": [
    "Now I investigating features with more than 70% none values:"
   ]
  },
  {
   "cell_type": "code",
   "execution_count": 19,
   "metadata": {},
   "outputs": [
    {
     "name": "stdout",
     "output_type": "stream",
     "text": [
      "Number of Features with more than 70% None:  2\n"
     ]
    }
   ],
   "source": [
    "missing = missing_cal(single_family_df)\n",
    "nan_70 = missing.loc[((missing['%']>70 )& (missing['%']<80))].index\n",
    "print('Number of Features with more than 70% None: ',len(nan_70))"
   ]
  },
  {
   "cell_type": "code",
   "execution_count": 20,
   "metadata": {},
   "outputs": [
    {
     "data": {
      "text/html": [
       "<div>\n",
       "<style scoped>\n",
       "    .dataframe tbody tr th:only-of-type {\n",
       "        vertical-align: middle;\n",
       "    }\n",
       "\n",
       "    .dataframe tbody tr th {\n",
       "        vertical-align: top;\n",
       "    }\n",
       "\n",
       "    .dataframe thead th {\n",
       "        text-align: right;\n",
       "    }\n",
       "</style>\n",
       "<table border=\"1\" class=\"dataframe\">\n",
       "  <thead>\n",
       "    <tr style=\"text-align: right;\">\n",
       "      <th></th>\n",
       "      <th>count</th>\n",
       "      <th>%</th>\n",
       "    </tr>\n",
       "  </thead>\n",
       "  <tbody>\n",
       "    <tr>\n",
       "      <th>Family Room:</th>\n",
       "      <td>7858</td>\n",
       "      <td>70.532268</td>\n",
       "    </tr>\n",
       "    <tr>\n",
       "      <th>Primary Bath:</th>\n",
       "      <td>8315</td>\n",
       "      <td>74.634234</td>\n",
       "    </tr>\n",
       "  </tbody>\n",
       "</table>\n",
       "</div>"
      ],
      "text/plain": [
       "               count          %\n",
       "Family Room:    7858  70.532268\n",
       "Primary Bath:   8315  74.634234"
      ]
     },
     "execution_count": 20,
     "metadata": {},
     "output_type": "execute_result"
    }
   ],
   "source": [
    "missing.loc[nan_70].sort_values(by=\"%\")"
   ]
  },
  {
   "cell_type": "code",
   "execution_count": 21,
   "metadata": {},
   "outputs": [
    {
     "name": "stdout",
     "output_type": "stream",
     "text": [
      "Value Count for Family Room:\n",
      "['1st', '1st']                              75\n",
      "['18x16, 1st', '5.49 x 4.88(m)']            52\n",
      "['20x16, 1st', '6.10 x 4.88(m)']            51\n",
      "['21x17, 1st', '6.40 x 5.18(m)']            39\n",
      "['18x15, 1st', '5.49 x 4.57(m)']            37\n",
      "                                            ..\n",
      "['24 x 13, 1st', '24 , 13, 1st']             1\n",
      "['29x23, 1st', '8.84 x 7.01(m)']             1\n",
      "[\"18'2 x 22'6, 1st\", \"18'2 , 22'6, 1st\"]     1\n",
      "['16 x 12, 1st', '16 , 12, 1st']             1\n",
      "['21X12, 1st', '6.40 x 3.66(m)']             1\n",
      "Name: Family Room:, Length: 939, dtype: int64\n",
      "----------------------------------------------------------------------------------------------------\n",
      "Value Count for Primary Bath:\n",
      "['1st', '1st']                                                    765\n",
      "['2nd', '2nd']                                                    308\n",
      "['3rd', '3rd']                                                    128\n",
      "['12x10, 1st', '3.66 x 3.05(m)']                                   31\n",
      "['12x7, 1st', '3.66 x 2.13(m)']                                    20\n",
      "                                                                 ... \n",
      "['10*8, 3rd', '10*8, 3rd']                                          1\n",
      "['23x10, 2nd', '7.01 x 3.05(m)']                                    1\n",
      "['18x7, 2nd', '5.49 x 2.13(m)']                                     1\n",
      "['11x10, 2nd', '6x8, 1st', '3.35 x 3.05(m)', '1.83 x 2.44(m)']      1\n",
      "['18x8, 2nd', '5.49 x 2.44(m)']                                     1\n",
      "Name: Primary Bath:, Length: 891, dtype: int64\n",
      "----------------------------------------------------------------------------------------------------\n"
     ]
    }
   ],
   "source": [
    "#printing value count for each feature with more than 70 none value\n",
    "for item in nan_70:\n",
    "    print('Value Count for '+item)\n",
    "    print(single_family_df[item].value_counts())\n",
    "    print('-'*100)"
   ]
  },
  {
   "cell_type": "markdown",
   "metadata": {},
   "source": [
    "`Family Room` and `Primary Bath` are dimension for family room and master bath room and all houses should have these values and can not be 0. I think dropping these features would be appropriate since I can not fill values for more than 70% of houses."
   ]
  },
  {
   "cell_type": "code",
   "execution_count": 22,
   "metadata": {},
   "outputs": [],
   "source": [
    "single_family_df.drop(['Family Room:','Primary Bath:'],axis=1,inplace=True)"
   ]
  },
  {
   "cell_type": "markdown",
   "metadata": {},
   "source": [
    "Next step is to look at features with none values between 50% and 60%:"
   ]
  },
  {
   "cell_type": "code",
   "execution_count": 23,
   "metadata": {},
   "outputs": [
    {
     "name": "stdout",
     "output_type": "stream",
     "text": [
      "Number of Features with more than 50% and less than 60% None:  6\n"
     ]
    }
   ],
   "source": [
    "missing = missing_cal(single_family_df)\n",
    "nan_50_60 = missing.loc[((missing['%']>50 )& (missing['%']<70))].index\n",
    "print('Number of Features with more than 50% and less than 60% None: ',len(nan_50_60))"
   ]
  },
  {
   "cell_type": "code",
   "execution_count": 24,
   "metadata": {},
   "outputs": [
    {
     "data": {
      "text/html": [
       "<div>\n",
       "<style scoped>\n",
       "    .dataframe tbody tr th:only-of-type {\n",
       "        vertical-align: middle;\n",
       "    }\n",
       "\n",
       "    .dataframe tbody tr th {\n",
       "        vertical-align: top;\n",
       "    }\n",
       "\n",
       "    .dataframe thead th {\n",
       "        text-align: right;\n",
       "    }\n",
       "</style>\n",
       "<table border=\"1\" class=\"dataframe\">\n",
       "  <thead>\n",
       "    <tr style=\"text-align: right;\">\n",
       "      <th></th>\n",
       "      <th>count</th>\n",
       "      <th>%</th>\n",
       "    </tr>\n",
       "  </thead>\n",
       "  <tbody>\n",
       "    <tr>\n",
       "      <th>Front Door:</th>\n",
       "      <td>6471</td>\n",
       "      <td>58.082757</td>\n",
       "    </tr>\n",
       "    <tr>\n",
       "      <th>Breakfast:</th>\n",
       "      <td>6724</td>\n",
       "      <td>60.353649</td>\n",
       "    </tr>\n",
       "    <tr>\n",
       "      <th>Garage Carport:</th>\n",
       "      <td>6734</td>\n",
       "      <td>60.443407</td>\n",
       "    </tr>\n",
       "    <tr>\n",
       "      <th>Utility Room Desc:</th>\n",
       "      <td>7178</td>\n",
       "      <td>64.428687</td>\n",
       "    </tr>\n",
       "    <tr>\n",
       "      <th>Game Room:</th>\n",
       "      <td>7367</td>\n",
       "      <td>66.125123</td>\n",
       "    </tr>\n",
       "    <tr>\n",
       "      <th>Study/Library:</th>\n",
       "      <td>7658</td>\n",
       "      <td>68.737097</td>\n",
       "    </tr>\n",
       "  </tbody>\n",
       "</table>\n",
       "</div>"
      ],
      "text/plain": [
       "                    count          %\n",
       "Front Door:          6471  58.082757\n",
       "Breakfast:           6724  60.353649\n",
       "Garage Carport:      6734  60.443407\n",
       "Utility Room Desc:   7178  64.428687\n",
       "Game Room:           7367  66.125123\n",
       "Study/Library:       7658  68.737097"
      ]
     },
     "execution_count": 24,
     "metadata": {},
     "output_type": "execute_result"
    }
   ],
   "source": [
    "missing.loc[nan_50_60].sort_values(by=\"%\")"
   ]
  },
  {
   "cell_type": "code",
   "execution_count": 25,
   "metadata": {},
   "outputs": [
    {
     "name": "stdout",
     "output_type": "stream",
     "text": [
      "Value Count for Breakfast:\n",
      "['1st', '1st']                              192\n",
      "['10x10, 1st', '3.05 x 3.05(m)']            155\n",
      "['11x10, 1st', '3.35 x 3.05(m)']            149\n",
      "['12x10, 1st', '3.66 x 3.05(m)']            147\n",
      "['10x9, 1st', '3.05 x 2.74(m)']             108\n",
      "                                           ... \n",
      "['17x10, 2nd', '5.18 x 3.05(m)']              1\n",
      "['26x9, 1st', '7.92 x 2.74(m)']               1\n",
      "['12.4 x 17.6, 1st', '12.4 , 17.6, 1st']      1\n",
      "['10X22, 1st', '3.05 x 6.71(m)']              1\n",
      "[\"12'8 x 11'5, 1st\", \"12'8 , 11'5, 1st\"]      1\n",
      "Name: Breakfast:, Length: 769, dtype: int64\n",
      "----------------------------------------------------------------------------------------------------\n",
      "Value Count for Game Room:\n",
      "['2nd', '2nd']                              72\n",
      "['18x14, 2nd', '5.49 x 4.27(m)']            52\n",
      "['19x16, 2nd', '5.79 x 4.88(m)']            44\n",
      "['16x14, 2nd', '4.88 x 4.27(m)']            37\n",
      "['18x16, 2nd', '5.49 x 4.88(m)']            37\n",
      "                                            ..\n",
      "['16 X 21, 3rd', '16 , 21, 3rd']             1\n",
      "['18.6 x 13.9, 1st', '18.6 , 13.9, 1st']     1\n",
      "['18.2x17.8, 2nd', '5.55 x 5.43(m)']         1\n",
      "['12X19, 2nd', '3.66 x 5.79(m)']             1\n",
      "['18x15.5, 2nd', '5.49 x 4.72(m)']           1\n",
      "Name: Game Room:, Length: 1313, dtype: int64\n",
      "----------------------------------------------------------------------------------------------------\n",
      "Value Count for Study/Library:\n",
      "['12x11, 1st', '3.66 x 3.35(m)']                                                                    163\n",
      "['12x12, 1st', '3.66 x 3.66(m)']                                                                    133\n",
      "['13x11, 1st', '3.96 x 3.35(m)']                                                                    127\n",
      "['13x12, 1st', '3.96 x 3.66(m)']                                                                    127\n",
      "['14x12, 1st', '4.27 x 3.66(m)']                                                                     94\n",
      "                                                                                                   ... \n",
      "['11x9, 3rd', '3.35 x 2.74(m)']                                                                       1\n",
      "['13X14, 1st', '10X12, 1st', '13X14, 1st', '3.96 x 4.27(m)', '3.05 x 3.66(m)', '3.96 x 4.27(m)']      1\n",
      "['6 x 12, 1st', '6 , 12, 1st']                                                                        1\n",
      "['12 X 14, 2nd', '12 , 14, 2nd']                                                                      1\n",
      "['18x8, 2nd', '5.49 x 2.44(m)']                                                                       1\n",
      "Name: Study/Library:, Length: 836, dtype: int64\n",
      "----------------------------------------------------------------------------------------------------\n",
      "Value Count for Garage Carport:\n",
      "Auto Garage Door Opener                                                                                                                                               1185\n",
      "Auto Garage Door Opener, Double-Wide Driveway                                                                                                                          602\n",
      "Double-Wide Driveway                                                                                                                                                   600\n",
      "Additional Parking                                                                                                                                                     192\n",
      "Additional Parking, Auto Garage Door Opener, Double-Wide Driveway                                                                                                      162\n",
      "                                                                                                                                                                      ... \n",
      "Additional Parking, Auto Driveway Gate, Auto Garage Door Opener, Boat Parking, Circle Driveway, Converted Garage, Double-Wide Driveway, Driveway Gate                    1\n",
      "Additional Parking, Auto Driveway Gate, Boat Parking, Converted Garage, Double-Wide Driveway, Driveway Gate, Golf Cart Garage, Porte-Cochere, RV Parking, Workshop       1\n",
      "Auto Garage Door Opener, Circle Driveway, Double-Wide Driveway, Driveway Gate, Porte-Cochere                                                                             1\n",
      "Additional Parking, Auto Garage Door Opener, Boat Parking, Porte-Cochere, RV Parking                                                                                     1\n",
      "Additional Parking, Auto Driveway Gate, Auto Garage Door Opener, Circle Driveway, Single-Wide Driveway                                                                   1\n",
      "Name: Garage Carport:, Length: 312, dtype: int64\n",
      "----------------------------------------------------------------------------------------------------\n",
      "Value Count for Front Door:\n",
      "South                1362\n",
      "North                1267\n",
      "West                  870\n",
      "East                  849\n",
      "East, North            89\n",
      "South, West            78\n",
      "North, West            77\n",
      "East, South            71\n",
      "East, West              4\n",
      "North, South            2\n",
      "East, North, West       1\n",
      "Name: Front Door:, dtype: int64\n",
      "----------------------------------------------------------------------------------------------------\n",
      "Value Count for Utility Room Desc:\n",
      "['1st', '1st']                            726\n",
      "['2nd', '2nd']                            289\n",
      "['3rd', '3rd']                            125\n",
      "['In House', 'In House']                   94\n",
      "['6x6, 1st', '1.83 x 1.83(m)']             92\n",
      "                                         ... \n",
      "['7 x 5, 3rd', '7 , 5, 3rd']                1\n",
      "[\"6'8 x 11'2, 1st\", \"6'8 , 11'2, 1st\"]      1\n",
      "['6X6, 3rd', '1.83 x 1.83(m)']              1\n",
      "['unverified, 1st', 'unverified, 1st']      1\n",
      "['18x13, 1st', '5.49 x 3.96(m)']            1\n",
      "Name: Utility Room Desc:, Length: 854, dtype: int64\n",
      "----------------------------------------------------------------------------------------------------\n"
     ]
    }
   ],
   "source": [
    "#printing value count for each feature with more than 50 none value\n",
    "for item in nan_50_60:\n",
    "    print('Value Count for '+item)\n",
    "    print(single_family_df[item].value_counts())\n",
    "    print('-'*100)"
   ]
  },
  {
   "cell_type": "markdown",
   "metadata": {},
   "source": [
    "It seems we can not do anything to fill NA values for these features because there is no information about dimension for `Utility Room`, `Study/Library`. `Game Room`and `Breakfast` area and I do not know about `Garage Carport` and `Front Door` direction for rest of the houses so, these features can be dropped as well."
   ]
  },
  {
   "cell_type": "code",
   "execution_count": 26,
   "metadata": {},
   "outputs": [],
   "source": [
    "single_family_df.drop(list(nan_50_60),axis=1,inplace=True)"
   ]
  },
  {
   "cell_type": "markdown",
   "metadata": {},
   "source": [
    "So far I investigated features with the none value more than 50% and still need to dig more and also fill values for features that are the facts (based on active listing) for each subdivision like: `Home For Sales`, `Average List Price`,`Average Square Ft.`,`Average Price/Square Ft.`, `Home For Lease`, `Average Lease`and `Average Lease/Square Ft.`. But before that lets take a look at features with none values more than 10%:"
   ]
  },
  {
   "cell_type": "code",
   "execution_count": 27,
   "metadata": {},
   "outputs": [
    {
     "name": "stdout",
     "output_type": "stream",
     "text": [
      "Number of Features with more than 10% and less than 50% None:  35\n"
     ]
    }
   ],
   "source": [
    "missing = missing_cal(single_family_df)\n",
    "nan_10_50 = missing.loc[((missing['%']>10 )& (missing['%']<50))].index\n",
    "print('Number of Features with more than 10% and less than 50% None: ',len(nan_10_50))"
   ]
  },
  {
   "cell_type": "code",
   "execution_count": 28,
   "metadata": {},
   "outputs": [
    {
     "data": {
      "text/html": [
       "<div>\n",
       "<style scoped>\n",
       "    .dataframe tbody tr th:only-of-type {\n",
       "        vertical-align: middle;\n",
       "    }\n",
       "\n",
       "    .dataframe tbody tr th {\n",
       "        vertical-align: top;\n",
       "    }\n",
       "\n",
       "    .dataframe thead th {\n",
       "        text-align: right;\n",
       "    }\n",
       "</style>\n",
       "<table border=\"1\" class=\"dataframe\">\n",
       "  <thead>\n",
       "    <tr style=\"text-align: right;\">\n",
       "      <th></th>\n",
       "      <th>count</th>\n",
       "      <th>%</th>\n",
       "    </tr>\n",
       "  </thead>\n",
       "  <tbody>\n",
       "    <tr>\n",
       "      <th>Garage(s):</th>\n",
       "      <td>1292</td>\n",
       "      <td>11.596805</td>\n",
       "    </tr>\n",
       "    <tr>\n",
       "      <th>Tax Rate:</th>\n",
       "      <td>1323</td>\n",
       "      <td>11.875056</td>\n",
       "    </tr>\n",
       "    <tr>\n",
       "      <th>Dishwasher:</th>\n",
       "      <td>1413</td>\n",
       "      <td>12.682883</td>\n",
       "    </tr>\n",
       "    <tr>\n",
       "      <th>Bedroom Desc:</th>\n",
       "      <td>1682</td>\n",
       "      <td>15.097388</td>\n",
       "    </tr>\n",
       "    <tr>\n",
       "      <th>Median Appraised Value:</th>\n",
       "      <td>1746</td>\n",
       "      <td>15.671843</td>\n",
       "    </tr>\n",
       "    <tr>\n",
       "      <th>Median Year Built:</th>\n",
       "      <td>1746</td>\n",
       "      <td>15.671843</td>\n",
       "    </tr>\n",
       "    <tr>\n",
       "      <th>Median Lot Square Ft.:</th>\n",
       "      <td>1746</td>\n",
       "      <td>15.671843</td>\n",
       "    </tr>\n",
       "    <tr>\n",
       "      <th>Median Square Ft.:</th>\n",
       "      <td>1746</td>\n",
       "      <td>15.671843</td>\n",
       "    </tr>\n",
       "    <tr>\n",
       "      <th>Single Family Properties:</th>\n",
       "      <td>1746</td>\n",
       "      <td>15.671843</td>\n",
       "    </tr>\n",
       "    <tr>\n",
       "      <th>County / Zip Code:</th>\n",
       "      <td>1746</td>\n",
       "      <td>15.671843</td>\n",
       "    </tr>\n",
       "    <tr>\n",
       "      <th>Subdivision Name:</th>\n",
       "      <td>1746</td>\n",
       "      <td>15.671843</td>\n",
       "    </tr>\n",
       "    <tr>\n",
       "      <th>Neighborhood Value Range:</th>\n",
       "      <td>1746</td>\n",
       "      <td>15.671843</td>\n",
       "    </tr>\n",
       "    <tr>\n",
       "      <th>Disposal:</th>\n",
       "      <td>1799</td>\n",
       "      <td>16.147563</td>\n",
       "    </tr>\n",
       "    <tr>\n",
       "      <th>Microwave:</th>\n",
       "      <td>1922</td>\n",
       "      <td>17.251593</td>\n",
       "    </tr>\n",
       "    <tr>\n",
       "      <th>Financing Considered:</th>\n",
       "      <td>1965</td>\n",
       "      <td>17.637555</td>\n",
       "    </tr>\n",
       "    <tr>\n",
       "      <th>Floors:</th>\n",
       "      <td>2045</td>\n",
       "      <td>18.355623</td>\n",
       "    </tr>\n",
       "    <tr>\n",
       "      <th>Range:</th>\n",
       "      <td>2077</td>\n",
       "      <td>18.642851</td>\n",
       "    </tr>\n",
       "    <tr>\n",
       "      <th>Room Description:</th>\n",
       "      <td>2134</td>\n",
       "      <td>19.154474</td>\n",
       "    </tr>\n",
       "    <tr>\n",
       "      <th>Oven:</th>\n",
       "      <td>2425</td>\n",
       "      <td>21.766448</td>\n",
       "    </tr>\n",
       "    <tr>\n",
       "      <th>Connections:</th>\n",
       "      <td>2507</td>\n",
       "      <td>22.502468</td>\n",
       "    </tr>\n",
       "    <tr>\n",
       "      <th>Exterior:</th>\n",
       "      <td>2573</td>\n",
       "      <td>23.094875</td>\n",
       "    </tr>\n",
       "    <tr>\n",
       "      <th>Median Price / Square ft.:</th>\n",
       "      <td>2670</td>\n",
       "      <td>23.965533</td>\n",
       "    </tr>\n",
       "    <tr>\n",
       "      <th>Taxes w/o Exemp:</th>\n",
       "      <td>2833</td>\n",
       "      <td>25.428597</td>\n",
       "    </tr>\n",
       "    <tr>\n",
       "      <th>Energy Feature:</th>\n",
       "      <td>3008</td>\n",
       "      <td>26.999372</td>\n",
       "    </tr>\n",
       "    <tr>\n",
       "      <th>Bathroom Description:</th>\n",
       "      <td>3025</td>\n",
       "      <td>27.151961</td>\n",
       "    </tr>\n",
       "    <tr>\n",
       "      <th>Countertop:</th>\n",
       "      <td>3098</td>\n",
       "      <td>27.807199</td>\n",
       "    </tr>\n",
       "    <tr>\n",
       "      <th>Interior:</th>\n",
       "      <td>3150</td>\n",
       "      <td>28.273943</td>\n",
       "    </tr>\n",
       "    <tr>\n",
       "      <th>Kitchen:</th>\n",
       "      <td>3304</td>\n",
       "      <td>29.656225</td>\n",
       "    </tr>\n",
       "    <tr>\n",
       "      <th>Dining:</th>\n",
       "      <td>3524</td>\n",
       "      <td>31.630913</td>\n",
       "    </tr>\n",
       "    <tr>\n",
       "      <th>Kitchen Desc:</th>\n",
       "      <td>3923</td>\n",
       "      <td>35.212279</td>\n",
       "    </tr>\n",
       "    <tr>\n",
       "      <th>Fireplace:</th>\n",
       "      <td>4531</td>\n",
       "      <td>40.669599</td>\n",
       "    </tr>\n",
       "    <tr>\n",
       "      <th>Living:</th>\n",
       "      <td>4847</td>\n",
       "      <td>43.505969</td>\n",
       "    </tr>\n",
       "    <tr>\n",
       "      <th>Compactor:</th>\n",
       "      <td>5171</td>\n",
       "      <td>46.414146</td>\n",
       "    </tr>\n",
       "    <tr>\n",
       "      <th>Area Pool:</th>\n",
       "      <td>5315</td>\n",
       "      <td>47.706669</td>\n",
       "    </tr>\n",
       "    <tr>\n",
       "      <th>Ice Maker:</th>\n",
       "      <td>5476</td>\n",
       "      <td>49.151782</td>\n",
       "    </tr>\n",
       "  </tbody>\n",
       "</table>\n",
       "</div>"
      ],
      "text/plain": [
       "                            count          %\n",
       "Garage(s):                   1292  11.596805\n",
       "Tax Rate:                    1323  11.875056\n",
       "Dishwasher:                  1413  12.682883\n",
       "Bedroom Desc:                1682  15.097388\n",
       "Median Appraised Value:      1746  15.671843\n",
       "Median Year Built:           1746  15.671843\n",
       "Median Lot Square Ft.:       1746  15.671843\n",
       "Median Square Ft.:           1746  15.671843\n",
       "Single Family Properties:    1746  15.671843\n",
       "County / Zip Code:           1746  15.671843\n",
       "Subdivision Name:            1746  15.671843\n",
       "Neighborhood Value Range:    1746  15.671843\n",
       "Disposal:                    1799  16.147563\n",
       "Microwave:                   1922  17.251593\n",
       "Financing Considered:        1965  17.637555\n",
       "Floors:                      2045  18.355623\n",
       "Range:                       2077  18.642851\n",
       "Room Description:            2134  19.154474\n",
       "Oven:                        2425  21.766448\n",
       "Connections:                 2507  22.502468\n",
       "Exterior:                    2573  23.094875\n",
       "Median Price / Square ft.:   2670  23.965533\n",
       "Taxes w/o Exemp:             2833  25.428597\n",
       "Energy Feature:              3008  26.999372\n",
       "Bathroom Description:        3025  27.151961\n",
       "Countertop:                  3098  27.807199\n",
       "Interior:                    3150  28.273943\n",
       "Kitchen:                     3304  29.656225\n",
       "Dining:                      3524  31.630913\n",
       "Kitchen Desc:                3923  35.212279\n",
       "Fireplace:                   4531  40.669599\n",
       "Living:                      4847  43.505969\n",
       "Compactor:                   5171  46.414146\n",
       "Area Pool:                   5315  47.706669\n",
       "Ice Maker:                   5476  49.151782"
      ]
     },
     "execution_count": 28,
     "metadata": {},
     "output_type": "execute_result"
    }
   ],
   "source": [
    "missing.loc[nan_10_50].sort_values(by=\"%\")"
   ]
  },
  {
   "cell_type": "code",
   "execution_count": 29,
   "metadata": {},
   "outputs": [
    {
     "name": "stdout",
     "output_type": "stream",
     "text": [
      "Value Count for Garage(s):\n",
      "2 / Attached                      5626\n",
      "2 / Detached                      1063\n",
      "3 / Attached                       686\n",
      "1 / Detached                       341\n",
      "1 / Attached                       320\n",
      "                                  ... \n",
      "8 / Attached/Detached                1\n",
      "26 / Attached                        1\n",
      "4 / Attached/Detached,Detached       1\n",
      "4 / Oversized,Tandem                 1\n",
      "58 / Attached                        1\n",
      "Name: Garage(s):, Length: 114, dtype: int64\n",
      "----------------------------------------------------------------------------------------------------\n",
      "Value Count for Living:\n",
      "['15x13, 1st', '4.57 x 3.96(m)']     58\n",
      "['20x15, 1st', '6.10 x 4.57(m)']     57\n",
      "['14x12, 1st', '4.27 x 3.66(m)']     57\n",
      "['18x15, 1st', '5.49 x 4.57(m)']     55\n",
      "['20x16, 1st', '6.10 x 4.88(m)']     55\n",
      "                                     ..\n",
      "['22 X 16, 1st', '22 , 16, 1st']      1\n",
      "['12x23, 1st', '3.66 x 7.01(m)']      1\n",
      "['17x13,  1st', '5.18 x 3.96(m)']     1\n",
      "['22x23, 2nd', '6.71 x 7.01(m)']      1\n",
      "['19X22, 1st', '5.79 x 6.71(m)']      1\n",
      "Name: Living:, Length: 1619, dtype: int64\n",
      "----------------------------------------------------------------------------------------------------\n",
      "Value Count for Dining:\n",
      "['12x11, 1st', '3.66 x 3.35(m)']                                  220\n",
      "['13x11, 1st', '3.96 x 3.35(m)']                                  203\n",
      "['13x12, 1st', '3.96 x 3.66(m)']                                  184\n",
      "['14x12, 1st', '4.27 x 3.66(m)']                                  175\n",
      "['1st', '1st']                                                    172\n",
      "                                                                 ... \n",
      "['8 x 8, 1st', '8 , 8, 1st']                                        1\n",
      "['9X11, 2nd', '8X10, 1st', '2.74 x 3.35(m)', '2.44 x 3.05(m)']      1\n",
      "['23x12, 2nd', '7.01 x 3.66(m)']                                    1\n",
      "['16 X 14, 1st', '16 , 14, 1st']                                    1\n",
      "['10\\'8\"x16\\'1\", 1st', '10\\'8\",16\\'1\", 1st']                        1\n",
      "Name: Dining:, Length: 1308, dtype: int64\n",
      "----------------------------------------------------------------------------------------------------\n",
      "Value Count for Kitchen:\n",
      "['1st', '1st']                                  376\n",
      "['14x12, 1st', '4.27 x 3.66(m)']                129\n",
      "['12x10, 1st', '3.66 x 3.05(m)']                116\n",
      "['12x11, 1st', '3.66 x 3.35(m)']                100\n",
      "['13x11, 1st', '3.96 x 3.35(m)']                 97\n",
      "                                               ... \n",
      "['20x11, 2nd', '6.10 x 3.35(m)']                  1\n",
      "['24X25, 1st', '7.32 x 7.62(m)']                  1\n",
      "['10x3, 1st', '3.05 x 0.91(m)']                   1\n",
      "['9\\'4\" x 12\\', 1st', '9\\'4\" , 12\\', 1st']        1\n",
      "['16\\' X 9\\'10\", 1st', '16\\' , 9\\'10\", 1st']      1\n",
      "Name: Kitchen:, Length: 1597, dtype: int64\n",
      "----------------------------------------------------------------------------------------------------\n",
      "Value Count for Room Description:\n",
      "['1 Living Area', '1 Living Area']                                                                                                                                                                                                                                                                                                                                                                        135\n",
      "['Breakfast Room, Family Room, Formal Dining, Gameroom Up, Study/Library, Utility Room in House,', 'Breakfast Room, Family Room, Formal Dining, Gameroom Up, Study/Library, Utility Room in House,']                                                                                                                                                                                                       93\n",
      "['Utility Room in House', 'Utility Room in House']                                                                                                                                                                                                                                                                                                                                                         73\n",
      "['Breakfast Room, Family Room, Formal Dining, Utility Room in House,', 'Breakfast Room, Family Room, Formal Dining, Utility Room in House,']                                                                                                                                                                                                                                                               65\n",
      "['Breakfast Room, Family Room, Formal Dining, Formal Living, Utility Room in House,', 'Breakfast Room, Family Room, Formal Dining, Formal Living, Utility Room in House,']                                                                                                                                                                                                                                 62\n",
      "                                                                                                                                                                                                                                                                                                                                                                                                         ... \n",
      "['Basement, Den, Formal Dining, Formal Living, Gameroom Up, Study/Library, Sun Room, Utility Room in House, Wine Room,', 'Basement, Den, Formal Dining, Formal Living, Gameroom Up, Study/Library, Sun Room, Utility Room in House, Wine Room,']                                                                                                                                                            1\n",
      "['1 Living Area, Breakfast Room, Family Room, Formal Dining, Utility Room in Garage,', '1 Living Area, Breakfast Room, Family Room, Formal Dining, Utility Room in Garage,']                                                                                                                                                                                                                                1\n",
      "['1 Living Area, Breakfast Room, Den, Family Room, Formal Dining, Kitchen/Dining Combo, Living Area - 1st Floor, Study/Library, Utility Room in House,', '1 Living Area, Breakfast Room, Den, Family Room, Formal Dining, Kitchen/Dining Combo, Living Area - 1st Floor, Study/Library, Utility Room in House,']                                                                                            1\n",
      "['Family Room, Formal Dining, Formal Living, Gameroom Up, Garage Apartment, Guest Suite w/Kitchen, Living Area - 1st Floor, Quarters/Guest House, Study/Library, Sun Room, Utility Room in House,', 'Family Room, Formal Dining, Formal Living, Gameroom Up, Garage Apartment, Guest Suite w/Kitchen, Living Area - 1st Floor, Quarters/Guest House, Study/Library, Sun Room, Utility Room in House,']      1\n",
      "['Formal Dining, Guest Suite, Living Area - 1st Floor, Study/Library, Utility Room in House,', 'Formal Dining, Guest Suite, Living Area - 1st Floor, Study/Library, Utility Room in House,']                                                                                                                                                                                                                1\n",
      "Name: Room Description:, Length: 3104, dtype: int64\n",
      "----------------------------------------------------------------------------------------------------\n",
      "Value Count for Fireplace:\n",
      "1/Gaslog Fireplace                                            1882\n",
      "1                                                             1131\n",
      "1/Gas Connections                                              872\n",
      "1/Wood Burning Fireplace                                       545\n",
      "1/Gas Connections, Gaslog Fireplace                            460\n",
      "                                                              ... \n",
      "2/Freestanding, Gas Connections, Wood Burning Fireplace          1\n",
      "5/Wood Burning Fireplace                                         1\n",
      "/Freestanding, Wood Burning Fireplace                            1\n",
      "2/Stove, Wood Burning Fireplace                                  1\n",
      "3/Gaslog Fireplace, Mock Fireplace, Wood Burning Fireplace       1\n",
      "Name: Fireplace:, Length: 92, dtype: int64\n",
      "----------------------------------------------------------------------------------------------------\n",
      "Value Count for Countertop:\n",
      "Granite                 3984\n",
      "Quartz                   991\n",
      "granite                  510\n",
      "GRANITE                  364\n",
      "Stone                    137\n",
      "                        ... \n",
      "HARD SURFACE               1\n",
      "Quartz Stone               1\n",
      "LG Hi-Macs                 1\n",
      "Quartz/Marlena/Grani       1\n",
      "Pretty Granite             1\n",
      "Name: Countertop:, Length: 550, dtype: int64\n",
      "----------------------------------------------------------------------------------------------------\n",
      "Value Count for Floors:\n",
      "Carpet, Tile                                                1778\n",
      "Carpet, Tile, Wood                                          1577\n",
      "Tile, Wood                                                   872\n",
      "Carpet, Engineered Wood, Tile                                498\n",
      "Tile                                                         385\n",
      "                                                            ... \n",
      "Bamboo, Carpet                                                 1\n",
      "Carpet, Marble Floors, Stone, Tile, Travertine                 1\n",
      "Tile, Travertine, Vinyl                                        1\n",
      "Carpet, Engineered Wood, Marble Floors, Travertine, Wood       1\n",
      "Bamboo, Slate, Tile                                            1\n",
      "Name: Floors:, Length: 346, dtype: int64\n",
      "----------------------------------------------------------------------------------------------------\n",
      "Value Count for Bedroom Desc:\n",
      "All Bedrooms Down                                                                                           1282\n",
      "Primary Bed - 1st Floor                                                                                      814\n",
      "Primary Bed - 1st Floor, Walk-In Closet                                                                      634\n",
      "All Bedrooms Up                                                                                              472\n",
      "All Bedrooms Down, Primary Bed - 1st Floor                                                                   367\n",
      "                                                                                                            ... \n",
      "2 Bedrooms Down, 2 Primary Bedrooms, Primary Bed - 2nd Floor, Walk-In Closet                                   1\n",
      "2 Primary Bedrooms, All Bedrooms Up, Primary Bed - 1st Floor, Primary Bed - 2nd Floor                          1\n",
      "All Bedrooms Down, Primary Bed - 1st Floor, Primary Bed - 2nd Floor, Primary Bed - 3rd Floor, Primary Be       1\n",
      "1 Bedroom Up, Primary Bed - 1st Floor, Sitting Area, Split Plan, Walk-In Closet                                1\n",
      "2 Primary Bedrooms, All Bedrooms Down, En-Suite Bath, Sitting Area, Walk-In Closet                             1\n",
      "Name: Bedroom Desc:, Length: 455, dtype: int64\n",
      "----------------------------------------------------------------------------------------------------\n",
      "Value Count for Kitchen Desc:\n",
      "Breakfast Bar, Kitchen open to Family Room, Pantry                                                                                             387\n",
      "Pantry                                                                                                                                         362\n",
      "Kitchen open to Family Room                                                                                                                    281\n",
      "Breakfast Bar                                                                                                                                  270\n",
      "Kitchen open to Family Room, Pantry                                                                                                            238\n",
      "                                                                                                                                              ... \n",
      "Breakfast Bar, Island w/ Cooktop, Kitchen open to Family Room, Pots/Pans Drawers, Under Cabinet Lighting                                         1\n",
      "Kitchen open to Family Room, Pantry, Pot Filler, Under Cabinet Lighting, Walk-in Pantry                                                          1\n",
      "Breakfast Bar, Island w/ Cooktop, Kitchen open to Family Room, Pantry, Reverse Osmosis, Second Sink, Under Cabinet Lighting, Walk-in Pantry      1\n",
      "Breakfast Bar, Kitchen open to Family Room, Pantry, Second Sink, Soft Closing Drawers, Under Cabinet Lighting, Walk-in Pantry                    1\n",
      "Pots/Pans Drawers, Soft Closing Cabinets, Soft Closing Drawers, Under Cabinet Lighting, Walk-in Pantry                                           1\n",
      "Name: Kitchen Desc:, Length: 956, dtype: int64\n",
      "----------------------------------------------------------------------------------------------------\n",
      "Value Count for Bathroom Description:\n",
      "Double Sinks, Primary Bath + Separate Shower                                                            1122\n",
      "Double Sinks, Primary Bath + Separate Shower, Whirlpool/Jetted Tub                                       387\n",
      "Primary Bath + Separate Shower                                                                           360\n",
      "Double Sinks, Half Bath, Primary Bath + Separate Shower                                                  360\n",
      "Primary Bath Shower Only                                                                                 292\n",
      "                                                                                                        ... \n",
      "Primary Bath + Separate Shower, Primary w/Tub, Two Primary Baths                                           1\n",
      "Bidet, Double Sinks, Primary Bath Shower Only                                                              1\n",
      "Disabled Access, Double Sinks, Primary Bath Shower Only, Tub w/shower                                      1\n",
      "Disabled Access, Double Sinks, Half Bath, Primary Bath + Separate Shower, Primary w/Tub, Vanity Area       1\n",
      "Disabled Access, Double Sinks, Half Bath, Primary Bath Shower Only                                         1\n",
      "Name: Bathroom Description:, Length: 504, dtype: int64\n",
      "----------------------------------------------------------------------------------------------------\n",
      "Value Count for Connections:\n",
      "Electric Dryer Connections, Gas Dryer Connections, Washer Connections    4209\n",
      "Electric Dryer Connections, Washer Connections                           2682\n",
      "Gas Dryer Connections, Washer Connections                                 736\n",
      "Electric Dryer Connections                                                336\n",
      "Electric Dryer Connections, Gas Dryer Connections                         276\n",
      "Washer Connections                                                        268\n",
      "Gas Dryer Connections                                                     127\n",
      "Name: Connections:, dtype: int64\n",
      "----------------------------------------------------------------------------------------------------\n",
      "Value Count for Ice Maker:\n",
      "No     5129\n",
      "Yes     536\n",
      "Name: Ice Maker:, dtype: int64\n",
      "----------------------------------------------------------------------------------------------------\n",
      "Value Count for Microwave:\n",
      "Yes    8282\n",
      "No      937\n",
      "Name: Microwave:, dtype: int64\n",
      "----------------------------------------------------------------------------------------------------\n",
      "Value Count for Oven:\n",
      "Electric Oven                                                                  2251\n",
      "Gas Oven                                                                       2102\n",
      "Double Oven                                                                     612\n",
      "Double Oven, Electric Oven                                                      571\n",
      "Electric Oven, Single Oven                                                      420\n",
      "Single Oven                                                                     399\n",
      "Convection Oven                                                                 315\n",
      "Freestanding Oven, Gas Oven                                                     276\n",
      "Freestanding Oven                                                               235\n",
      "Convection Oven, Double Oven                                                    205\n",
      "Convection Oven, Double Oven, Electric Oven                                     188\n",
      "Convection Oven, Electric Oven                                                  178\n",
      "Double Oven, Gas Oven                                                           155\n",
      "Gas Oven, Single Oven                                                           126\n",
      "Freestanding Oven, Gas Oven, Single Oven                                        122\n",
      "Electric Oven, Freestanding Oven                                                 98\n",
      "Convection Oven, Gas Oven                                                        86\n",
      "Convection Oven, Electric Oven, Single Oven                                      57\n",
      "Convection Oven, Single Oven                                                     51\n",
      "Convection Oven, Double Oven, Gas Oven                                           46\n",
      "Electric Oven, Gas Oven                                                          31\n",
      "Electric Oven, Freestanding Oven, Single Oven                                    24\n",
      "Convection Oven, Gas Oven, Single Oven                                           23\n",
      "Freestanding Oven, Single Oven                                                   18\n",
      "Double Oven, Freestanding Oven                                                   17\n",
      "Double Oven, Electric Oven, Gas Oven                                             10\n",
      "Convection Oven, Double Oven, Electric Oven, Freestanding Oven                    9\n",
      "Double Oven, Electric Oven, Freestanding Oven                                     9\n",
      "Double Oven, Freestanding Oven, Gas Oven                                          9\n",
      "Convection Oven, Freestanding Oven                                                9\n",
      "Convection Oven, Double Oven, Freestanding Oven, Gas Oven                         8\n",
      "Convection Oven, Double Oven, Freestanding Oven                                   7\n",
      "Convection Oven, Electric Oven, Gas Oven                                          5\n",
      "Convection Oven, Double Oven, Electric Oven, Gas Oven                             5\n",
      "Convection Oven, Freestanding Oven, Gas Oven                                      5\n",
      "Double Oven, Single Oven                                                          4\n",
      "Convection Oven, Electric Oven, Freestanding Oven                                 4\n",
      "Convection Oven, Double Oven, Electric Oven, Freestanding Oven, Gas Oven          4\n",
      "Convection Oven, Freestanding Oven, Gas Oven, Single Oven                         4\n",
      "Electric Oven, Freestanding Oven, Gas Oven                                        4\n",
      "Double Oven, Electric Oven, Freestanding Oven, Gas Oven                           2\n",
      "Convection Oven, Double Oven, Electric Oven, Single Oven                          2\n",
      "Convection Oven, Electric Oven, Freestanding Oven, Single Oven                    2\n",
      "Convection Oven, Double Oven, Electric Oven, Freestanding Oven, Single Oven       1\n",
      "Electric Oven, Freestanding Oven, Gas Oven, Single Oven                           1\n",
      "Convection Oven, Electric Oven, Freestanding Oven, Gas Oven                       1\n",
      "Convection Oven, Double Oven, Single Oven                                         1\n",
      "Convection Oven, Freestanding Oven, Single Oven                                   1\n",
      "Double Oven, Electric Oven, Single Oven                                           1\n",
      "Double Oven, Electric Oven, Gas Oven, Single Oven                                 1\n",
      "Convection Oven, Double Oven, Freestanding Oven, Single Oven                      1\n",
      "Name: Oven:, dtype: int64\n",
      "----------------------------------------------------------------------------------------------------\n",
      "Value Count for Compactor:\n",
      "No     5745\n",
      "Yes     225\n",
      "Name: Compactor:, dtype: int64\n",
      "----------------------------------------------------------------------------------------------------\n",
      "Value Count for Dishwasher:\n",
      "Yes    9455\n",
      "No      273\n",
      "Name: Dishwasher:, dtype: int64\n",
      "----------------------------------------------------------------------------------------------------\n",
      "Value Count for Range:\n",
      "Gas Cooktop                                                            3148\n",
      "Gas Range                                                              2890\n",
      "Electric Cooktop                                                        936\n",
      "Electric Range                                                          700\n",
      "Freestanding Range, Gas Range                                           509\n",
      "Gas Cooktop, Gas Range                                                  216\n",
      "Freestanding Range                                                      191\n",
      "Electric Range, Freestanding Range                                       98\n",
      "Freestanding Range, Gas Cooktop                                          76\n",
      "Electric Cooktop, Electric Range                                         63\n",
      "Gas Cooktop, Grill                                                       44\n",
      "Gas Range, Grill                                                         34\n",
      "Freestanding Range, Gas Cooktop, Gas Range                               27\n",
      "Electric Cooktop, Freestanding Range                                     25\n",
      "Gas Cooktop, Gas Range, Grill                                            17\n",
      "Electric Range, Gas Cooktop                                              16\n",
      "Electric Range, Gas Range                                                11\n",
      "Freestanding Range, Gas Range, Grill                                     10\n",
      "Electric Cooktop, Electric Range, Freestanding Range                     10\n",
      "Electric Cooktop, Grill                                                  10\n",
      "Electric Cooktop, Gas Cooktop                                             8\n",
      "Freestanding Range, Gas Cooktop, Gas Range, Grill                         4\n",
      "Electric Cooktop, Gas Cooktop, Gas Range                                  4\n",
      "Electric Range, Gas Cooktop, Gas Range                                    4\n",
      "Electric Cooktop, Gas Range                                               3\n",
      "Freestanding Range, Gas Cooktop, Grill                                    2\n",
      "Electric Range, Freestanding Range, Gas Range                             2\n",
      "Grill                                                                     1\n",
      "Electric Range, Grill                                                     1\n",
      "Electric Cooktop, Electric Range, Grill                                   1\n",
      "Electric Cooktop, Freestanding Range, Gas Cooktop, Gas Range, Grill       1\n",
      "Electric Cooktop, Gas Cooktop, Grill                                      1\n",
      "Electric Cooktop, Electric Range, Gas Cooktop, Gas Range                  1\n",
      "Name: Range:, dtype: int64\n",
      "----------------------------------------------------------------------------------------------------\n",
      "Value Count for Disposal:\n",
      "Yes    9006\n",
      "No      336\n",
      "Name: Disposal:, dtype: int64\n",
      "----------------------------------------------------------------------------------------------------\n",
      "Value Count for Energy Feature:\n",
      "Ceiling Fans                                                                                                                                                                                                                                                                            1061\n",
      "Ceiling Fans, Digital Program Thermostat                                                                                                                                                                                                                                                 433\n",
      "Attic Vents, Ceiling Fans, Digital Program Thermostat                                                                                                                                                                                                                                    141\n",
      "Attic Vents, Ceiling Fans                                                                                                                                                                                                                                                                124\n",
      "Ceiling Fans, Digital Program Thermostat, Insulated/Low-E windows                                                                                                                                                                                                                        106\n",
      "                                                                                                                                                                                                                                                                                        ... \n",
      "Attic Vents, Ceiling Fans, Digital Program Thermostat, Insulated/Low-E windows, Insulation - Blown Cellulose, Storm Windows                                                                                                                                                                1\n",
      "Attic Fan, Attic Vents, Ceiling Fans, Digital Program Thermostat, Insulation - Batt, Radiant Attic Barrier                                                                                                                                                                                 1\n",
      "Attic Vents, Ceiling Fans, Digital Program Thermostat, Energy Star Appliances, Energy Star/CFL/LED Lights, Energy Star/Reflective Roof, High-Efficiency HVAC, HVAC>13 SEER, Insulated Doors, Insulated/Low-E windows, Insulation - Batt, North/South Exposure, Other Energy Features       1\n",
      "Ceiling Fans, Digital Program Thermostat, Energy Star Appliances, Energy Star/CFL/LED Lights, High-Efficiency HVAC, Insulated Doors, Insulated/Low-E windows, Insulation - Batt, Radiant Attic Barrier, Tankless/On-Demand H2O Heater                                                      1\n",
      "Attic Vents, Ceiling Fans, Digital Program Thermostat, Energy Star Appliances, Energy Star/CFL/LED Lights, HVAC>13 SEER, Insulated/Low-E windows, Insulation - Batt, Radiant Attic Barrier                                                                                                 1\n",
      "Name: Energy Feature:, Length: 2752, dtype: int64\n",
      "----------------------------------------------------------------------------------------------------\n",
      "Value Count for Interior:\n",
      "Fire/Smoke Alarm, High Ceiling                                                                                                                                                                              369\n",
      "Fire/Smoke Alarm                                                                                                                                                                                            324\n",
      "Fire/Smoke Alarm, High Ceiling, Prewired for Alarm System                                                                                                                                                   297\n",
      "High Ceiling                                                                                                                                                                                                208\n",
      "Drapes/Curtains/Window Cover, Fire/Smoke Alarm                                                                                                                                                              197\n",
      "                                                                                                                                                                                                           ... \n",
      "2 Staircases, Alarm System - Owned, Fire/Smoke Alarm, Formal Entry/Foyer, High Ceiling                                                                                                                        1\n",
      "Alarm System - Owned, Crown Molding, Drapes/Curtains/Window Cover, Dryer Included, Elevator, Fire/Smoke Alarm, Formal Entry/Foyer, High Ceiling, Refrigerator Included, Washer Included, Wired for Sound      1\n",
      "Alarm System - Leased, Drapes/Curtains/Window Cover, Formal Entry/Foyer, High Ceiling, Prewired for Alarm System                                                                                              1\n",
      "Alarm System - Owned, Crown Molding, Drapes/Curtains/Window Cover, Dryer Included, Fire/Smoke Alarm, Formal Entry/Foyer, High Ceiling, Refrigerator Included, Washer Included, Wet Bar, Wired for Sound       1\n",
      "Fire/Smoke Alarm, Formal Entry/Foyer, Prewired for Alarm System, Refrigerator Included                                                                                                                        1\n",
      "Name: Interior:, Length: 2525, dtype: int64\n",
      "----------------------------------------------------------------------------------------------------\n",
      "Value Count for Area Pool:\n",
      "Yes    3451\n",
      "No     2375\n",
      "Name: Area Pool:, dtype: int64\n",
      "----------------------------------------------------------------------------------------------------\n",
      "Value Count for Exterior:\n",
      "Back Yard Fenced                                                                                                                  406\n",
      "Back Yard, Back Yard Fenced, Covered Patio/Deck                                                                                   358\n",
      "Back Yard Fenced, Covered Patio/Deck                                                                                              279\n",
      "Back Yard, Back Yard Fenced                                                                                                       231\n",
      "Back Yard Fenced, Patio/Deck                                                                                                      191\n",
      "                                                                                                                                 ... \n",
      "Back Yard Fenced, Controlled Subdivision Access, Covered Patio/Deck, Outdoor Fireplace, Outdoor Kitchen, Screened Porch             1\n",
      "Back Yard Fenced, Balcony, Controlled Subdivision Access, Covered Patio/Deck, Outdoor Kitchen, Patio/Deck, Sprinkler System         1\n",
      "Back Green Space, Back Yard, Back Yard Fenced, Covered Patio/Deck, Outdoor Fireplace, Rooftop Deck                                  1\n",
      "Back Yard Fenced, Patio/Deck, Porch, Spa/Hot Tub, Sprinkler System                                                                  1\n",
      "Back Yard, Back Yard Fenced, Controlled Subdivision Access, Fully Fenced, Outdoor Kitchen, Patio/Deck, Porch, Sprinkler System      1\n",
      "Name: Exterior:, Length: 2764, dtype: int64\n",
      "----------------------------------------------------------------------------------------------------\n",
      "Value Count for Financing Considered:\n",
      "Cash Sale, Conventional, FHA, VA                          3832\n",
      "Cash Sale, Conventional                                   2162\n",
      "Cash Sale, Conventional, FHA                               752\n",
      "Cash Sale, Conventional, FHA, Investor, VA                 552\n",
      "Cash Sale, Conventional, VA                                399\n",
      "                                                          ... \n",
      "Cash Sale, Conventional, FHA, Release of Liability, VA       1\n",
      "Cash Sale, Conventional, FHA, Investor, USDA Loan            1\n",
      "Cash Sale, Conventional, Owner Financing, Wrap               1\n",
      "Investor                                                     1\n",
      "Cash Sale, Conventional, Investor, USDA Loan                 1\n",
      "Name: Financing Considered:, Length: 148, dtype: int64\n",
      "----------------------------------------------------------------------------------------------------\n",
      "Value Count for Taxes w/o Exemp:\n",
      "$1, 016/2019     10\n",
      "$1, 332/2019     10\n",
      "$1, 232/2019      9\n",
      "$6, 296/2019      7\n",
      "$15, 740/2019     7\n",
      "                 ..\n",
      "$20, 679/2019     1\n",
      "$9, 566/2019      1\n",
      "$8, 359/2019      1\n",
      "$19, 307/2019     1\n",
      "$3, 282/2019      1\n",
      "Name: Taxes w/o Exemp:, Length: 6674, dtype: int64\n",
      "----------------------------------------------------------------------------------------------------\n",
      "Value Count for Tax Rate:\n",
      "2.42160    2259\n",
      "2.53040     320\n",
      "2.71080     260\n",
      "2.52160     250\n",
      "2.60560     179\n",
      "           ... \n",
      "2.75422       1\n",
      "2.66785       1\n",
      "3.06110       1\n",
      "3.62130       1\n",
      "2.49200       1\n",
      "Name: Tax Rate:, Length: 816, dtype: int64\n",
      "----------------------------------------------------------------------------------------------------\n",
      "Value Count for Subdivision Name:\n",
      "Aliana                      120\n",
      "Houston Heights             109\n",
      "Tavola                       98\n",
      "Oak Forest ( East )          94\n",
      "Westbury                     81\n",
      "                           ... \n",
      "Jabri Oaks                    1\n",
      "Willow Forest                 1\n",
      "Bell Heights                  1\n",
      "Waterhill Homes On Ralph      1\n",
      "Hemlock Place                 1\n",
      "Name: Subdivision Name:, Length: 2111, dtype: int64\n",
      "----------------------------------------------------------------------------------------------------\n",
      "Value Count for County / Zip Code:\n",
      "77407.0    229\n",
      "77373.0    225\n",
      "77077.0    211\n",
      "77379.0    209\n",
      "77008.0    199\n",
      "          ... \n",
      "77355.0      1\n",
      "77362.0      1\n",
      "77401.0      1\n",
      "77450.0      1\n",
      "77503.0      1\n",
      "Name: County / Zip Code:, Length: 116, dtype: int64\n",
      "----------------------------------------------------------------------------------------------------\n",
      "Value Count for Single Family Properties:\n",
      "3,292    120\n",
      "3,936    109\n",
      "852      102\n",
      "3,845     94\n",
      "3,399     81\n",
      "        ... \n",
      "697        1\n",
      "883        1\n",
      "346        1\n",
      "480        1\n",
      "122        1\n",
      "Name: Single Family Properties:, Length: 762, dtype: int64\n",
      "----------------------------------------------------------------------------------------------------\n",
      "Value Count for Median Square Ft.:\n",
      "3,158    120\n",
      "2,083    110\n",
      "2,678     98\n",
      "1,823     98\n",
      "1,581     95\n",
      "        ... \n",
      "4,059      1\n",
      "2,640      1\n",
      "2,157      1\n",
      "1,753      1\n",
      "2,819      1\n",
      "Name: Median Square Ft.:, Length: 1457, dtype: int64\n",
      "----------------------------------------------------------------------------------------------------\n",
      "Value Count for Median Lot Square Ft.:\n",
      "5,000     347\n",
      "6,600     217\n",
      "7,200     134\n",
      "8,604     120\n",
      "6,900     104\n",
      "         ... \n",
      "10,854      1\n",
      "1,646       1\n",
      "7,918       1\n",
      "9,440       1\n",
      "5,095       1\n",
      "Name: Median Lot Square Ft.:, Length: 1421, dtype: int64\n",
      "----------------------------------------------------------------------------------------------------\n",
      "Value Count for Median Year Built:\n",
      "2015.0    318\n",
      "2018.0    310\n",
      "2017.0    301\n",
      "1940.0    301\n",
      "1982.0    278\n",
      "         ... \n",
      "1910.0      2\n",
      "2019.0      1\n",
      "1922.0      1\n",
      "1916.0      1\n",
      "1934.0      1\n",
      "Name: Median Year Built:, Length: 99, dtype: int64\n",
      "----------------------------------------------------------------------------------------------------\n",
      "Value Count for Median Appraised Value:\n",
      "$349,020     120\n",
      "$571,506     109\n",
      "$238,290      98\n",
      "$353,597      94\n",
      "$234,244      81\n",
      "            ... \n",
      "$27,780        1\n",
      "$167,867       1\n",
      "$243,409       1\n",
      "$124,485       1\n",
      "$292,893       1\n",
      "Name: Median Appraised Value:, Length: 2086, dtype: int64\n",
      "----------------------------------------------------------------------------------------------------\n",
      "Value Count for Neighborhood Value Range:\n",
      "$279 - $479 K     120\n",
      "$335 - $1040 K    109\n",
      "$40 - $345 K       98\n",
      "$288 - $823 K      94\n",
      "$152 - $333 K      81\n",
      "                 ... \n",
      "$367 - $412 K       1\n",
      "$140 - $230 K       1\n",
      "$433 - $718 K       1\n",
      "$100 - $212 K       1\n",
      "$153 - $252 K       1\n",
      "Name: Neighborhood Value Range:, Length: 2072, dtype: int64\n",
      "----------------------------------------------------------------------------------------------------\n",
      "Value Count for Median Price / Square ft.:\n",
      "$127.37     120\n",
      "$303.75     109\n",
      "$108.33      98\n",
      "$259.49      94\n",
      "$146.71      81\n",
      "           ... \n",
      "$88.78        1\n",
      "$64.47        1\n",
      "$179.12       1\n",
      "$113.44       1\n",
      "$87.57        1\n",
      "Name: Median Price / Square ft.:, Length: 1375, dtype: int64\n",
      "----------------------------------------------------------------------------------------------------\n"
     ]
    }
   ],
   "source": [
    "#printing value count for each feature with more than 50 none value\n",
    "for item in nan_10_50:\n",
    "    print('Value Count for '+item)\n",
    "    print(single_family_df[item].value_counts())\n",
    "    print('-'*100)"
   ]
  },
  {
   "cell_type": "markdown",
   "metadata": {},
   "source": [
    "`Room Description`, `Countertop`, `Floors`, `Bedroom Desc`, `Kitchen Desc`, `Bathroom Description`, `Connections`, `Oven`, `Range`, `Energy Feature`, `Interior`, `Exterior`, `Financing Considered` are just information and we can not fill them with unknown values since some may not be accurate and I don't think they are relevant to our analysis so, I will drop all of them."
   ]
  },
  {
   "cell_type": "code",
   "execution_count": 30,
   "metadata": {},
   "outputs": [],
   "source": [
    "single_family_df.drop(['Room Description:', 'Countertop:', 'Floors:', 'Bedroom Desc:', 'Kitchen Desc:', \n",
    "                       'Bathroom Description:','Connections:', 'Oven:', 'Range:', 'Energy Feature:',\n",
    "                       'Interior:', 'Exterior:', 'Financing Considered:'], axis=1,inplace=True)"
   ]
  },
  {
   "cell_type": "markdown",
   "metadata": {},
   "source": [
    "`Ice Maker`, `Microwave`, `Compactor`, `Dishwasher`, `Disposal` and `Area Pool` are 'Yes/No' categories and I think it is relevant to fill none values with 'No'. For sure it is a little bit optimistic since some houses may have those features and owner/agent forgot to fill them but for now filling with 'No' value is the best way to dealing with them."
   ]
  },
  {
   "cell_type": "code",
   "execution_count": 31,
   "metadata": {},
   "outputs": [],
   "source": [
    "single_family_df['Disposal:'][single_family_df['Disposal:'].isnull()]='No'\n",
    "single_family_df['Ice Maker:'][single_family_df['Ice Maker:'].isnull()]='No'\n",
    "single_family_df['Compactor:'][single_family_df['Compactor:'].isnull()]='No'\n",
    "single_family_df['Area Pool:'][single_family_df['Area Pool:'].isnull()]='No'\n",
    "single_family_df['Microwave:'][single_family_df['Microwave:'].isnull()]='No'\n",
    "single_family_df['Dishwasher:'][single_family_df['Dishwasher:'].isnull()]='No'"
   ]
  },
  {
   "cell_type": "markdown",
   "metadata": {},
   "source": [
    "At this point I am investigating other features indevisually:"
   ]
  },
  {
   "cell_type": "markdown",
   "metadata": {},
   "source": [
    "## 2.7 Garage<a id='2.7_Garage'></a>"
   ]
  },
  {
   "cell_type": "code",
   "execution_count": 32,
   "metadata": {},
   "outputs": [
    {
     "data": {
      "text/plain": [
       "2 / Attached                      5626\n",
       "2 / Detached                      1063\n",
       "3 / Attached                       686\n",
       "1 / Detached                       341\n",
       "1 / Attached                       320\n",
       "                                  ... \n",
       "8 / Attached/Detached                1\n",
       "26 / Attached                        1\n",
       "4 / Attached/Detached,Detached       1\n",
       "4 / Oversized,Tandem                 1\n",
       "58 / Attached                        1\n",
       "Name: Garage(s):, Length: 114, dtype: int64"
      ]
     },
     "execution_count": 32,
     "metadata": {},
     "output_type": "execute_result"
    }
   ],
   "source": [
    "single_family_df['Garage(s):'].value_counts()"
   ]
  },
  {
   "cell_type": "markdown",
   "metadata": {},
   "source": [
    "The important part of this feature is the number of garage each house has. Also we now almost every single family homes have at least 2 garages and it is relevant to fill none values with '2'."
   ]
  },
  {
   "cell_type": "code",
   "execution_count": 33,
   "metadata": {},
   "outputs": [
    {
     "data": {
      "text/plain": [
       "2     8703\n",
       "3     1445\n",
       "1      758\n",
       "4      175\n",
       "5       21\n",
       "6       11\n",
       "8        7\n",
       "7        4\n",
       "24       2\n",
       "10       1\n",
       "40       1\n",
       "56       1\n",
       "9        1\n",
       "57       1\n",
       "63       1\n",
       "26       1\n",
       "42       1\n",
       "27       1\n",
       "51       1\n",
       "20       1\n",
       "21       1\n",
       "45       1\n",
       "22       1\n",
       "58       1\n",
       "Name: garage, dtype: int64"
      ]
     },
     "execution_count": 33,
     "metadata": {},
     "output_type": "execute_result"
    }
   ],
   "source": [
    "single_family_df['Garage(s):'].fillna('2',inplace=True)\n",
    "single_family_df['garage'] = [item[0] if item !=None else 0 for item in single_family_df['Garage(s):'].str.split(' ') ]\n",
    "single_family_df['garage']=single_family_df['garage'].astype(int)\n",
    "single_family_df.drop('Garage(s):',axis=1,inplace=True)\n",
    "single_family_df['garage'].value_counts()"
   ]
  },
  {
   "cell_type": "markdown",
   "metadata": {},
   "source": [
    "As you can see there are some houses with more than 10 garage which is odd. After checking images for some of these houses in www.HAR.com it seems those have only 2 garage and I fill those values with 2 which is the median of this feature."
   ]
  },
  {
   "cell_type": "code",
   "execution_count": 34,
   "metadata": {},
   "outputs": [
    {
     "data": {
      "text/plain": [
       "2    8720\n",
       "3    1445\n",
       "1     758\n",
       "4     175\n",
       "5      21\n",
       "6      11\n",
       "8       7\n",
       "7       4\n",
       "Name: garage, dtype: int64"
      ]
     },
     "execution_count": 34,
     "metadata": {},
     "output_type": "execute_result"
    }
   ],
   "source": [
    "single_family_df.garage[single_family_df['garage']>8]=single_family_df['garage'].median()\n",
    "single_family_df['garage'].value_counts()"
   ]
  },
  {
   "cell_type": "markdown",
   "metadata": {},
   "source": [
    "## 2.8 Living<a id='2.8_Living'></a>"
   ]
  },
  {
   "cell_type": "markdown",
   "metadata": {},
   "source": [
    "To calculate the living area I need to multiply the dimension of the living room and return the area and for the next stem I will fill none values with the average of living room area per subdivision"
   ]
  },
  {
   "cell_type": "code",
   "execution_count": 173,
   "metadata": {},
   "outputs": [],
   "source": [
    "def area_calc(item,pattern = \"[+-]? *(?:\\d+(?:\\.\\d*)?|\\.\\d+)\"):\n",
    "    pattern = re.compile(pattern,re.IGNORECASE)\n",
    "    area=0\n",
    "    dim=[]\n",
    "    if type(item)==list:\n",
    "        for i in item:\n",
    "            if (('x' in i or 'X' in i )and '(m)' not in i ):\n",
    "                dim.append(i)\n",
    "        for d in dim:\n",
    "            d=d.replace(' ','').strip()\n",
    "            area += (float(pattern.findall(d)[0])*float(pattern.findall(d)[1]))\n",
    "        return(area)\n",
    "single_family_df['clean_living'] = single_family_df['Living:'].str.split(',')\n",
    "single_family_df['clean_living'] = single_family_df['clean_living'].apply(area_calc)        "
   ]
  },
  {
   "cell_type": "code",
   "execution_count": 174,
   "metadata": {},
   "outputs": [
    {
     "data": {
      "text/plain": [
       "count    6294.000000\n",
       "mean      288.354747\n",
       "std       152.449699\n",
       "min         0.000000\n",
       "25%       210.000000\n",
       "50%       272.000000\n",
       "75%       342.000000\n",
       "max      6651.000000\n",
       "Name: clean_living, dtype: float64"
      ]
     },
     "execution_count": 174,
     "metadata": {},
     "output_type": "execute_result"
    }
   ],
   "source": [
    "single_family_df['clean_living'].describe()"
   ]
  },
  {
   "cell_type": "code",
   "execution_count": 187,
   "metadata": {},
   "outputs": [
    {
     "data": {
      "text/plain": [
       "array(['Austin Hadley Place',\n",
       "       ' Modern Midtown (View subdivision price trend)',\n",
       "       ' Merkels Sec 01 (View subdivision price trend)', ...,\n",
       "       ' South Houston (View subdivision price trend)',\n",
       "       ' South Houston Terrace (View subdivision price trend)',\n",
       "       ' Merilyn Place Sec 03 (View subdivision price trend)'],\n",
       "      dtype=object)"
      ]
     },
     "execution_count": 187,
     "metadata": {},
     "output_type": "execute_result"
    }
   ],
   "source": [
    "single_family_df['Subdivision:'].unique()"
   ]
  },
  {
   "cell_type": "code",
   "execution_count": null,
   "metadata": {},
   "outputs": [],
   "source": [
    "\n",
    "correct_subdevision = ['Acres Homes', 'Addicks', 'Afton Oaks', 'Aldine', 'Alief', 'Almeda', 'Atascocita',\n",
    "                       'Audubon Place', 'Avenida Houston', 'Avondale East', 'Bay Forest', 'Bay Glen', 'Bay Knoll', \n",
    "                       'Barrett Station', 'Binz', 'Blue Ridge', 'Bordersville', 'Boulevard Oaks', 'Braeburn',\n",
    "                       'Braeswood Place', 'Brays Oaks', 'Brentwood', 'Briar Meadow', 'Briargrove', 'Briargrove Park',\n",
    "                       'Briarhills', 'Briarmeadow', 'Broadacres', 'Brooke Smith', 'Brookline', 'Camden Park',\n",
    "                       'Camino South', 'Camp Logan', 'Candlelight Estates', 'Candlelight Place', 'Carverdale',\n",
    "                       'Central City', 'Champion Forest', 'Chasewood ', 'Cherryhurst', 'Chevy Chase', 'Chinatown', \n",
    "                       'City Park', 'CityCentre', 'Clear Lake City', 'Clinton Park ', 'Cloverland', 'Cole Creek Manor',\n",
    "                       'Copperfield', 'Corinthian Pointe', 'Cottage Grove', 'Courtlandt Place ',\n",
    "                       'Crestwood / Glen Cove', 'Candlelight Forest West', 'Denver Harbor', 'Downtown', \n",
    "                       'East Downtown', 'East End', 'East Houston', 'Eastex / Jensen', 'East Little York / Homestead', \n",
    "                       'Eastwood ', 'Edgebrook', 'El Dorado / Oates Prairie', 'Eldridge / West Oaks', 'Energy Corridor',\n",
    "                       'Fairbanks / Northwest Crossing', 'Fondren Southwest ', 'Fifth Ward', 'First Ward', 'Forum Park',\n",
    "                       'Fourth Ward', 'Forest West / Pinemont', 'Forrest Lake', 'Foster Place', 'Frenchtown',\n",
    "                       'Frostwood', 'Garden Oaks ', 'Garden Villas ', 'Gaywood', 'Genoa', 'Glenbrook Valley', \n",
    "                       'Glenshire', 'Golfcrest', 'Greenfield Village', 'Greenspoint', 'Greenway Plaza', 'Greenwood', \n",
    "                       'Gulfgate / Pine Valley', 'Gulfton', 'Gulfway Terrace', 'Harrisburg', 'Heather Glen',\n",
    "                       'Herschellwood', 'Hidden Valley', 'Highland Village ', 'Hillwood', 'Hiram Clarke', \n",
    "                       'Houston Gardens ', 'Houston Heights', 'Humble', 'Hunters Glen', 'Hunters Point', 'Hunterwood',\n",
    "                       'Hyde Park', 'Idylwood', 'Independence Heights', 'International District', 'Inwood Forest', \n",
    "                       'Ingrando Park', 'Jeanetta', 'Kashmere Gardens ', 'Kingwood', 'Kleinbrook', 'Knollwood Village',\n",
    "                       'Lake Houston', 'Lakes of Parkway', 'Lakewood', 'Langwood', 'Larchmont', 'Lawndale / Wayside',\n",
    "                       'Lazybrook / Timbergrove', 'Lindale Park', 'Link Valley', 'Linkwood', 'Little Saigon', \n",
    "                       'Lincoln Greens', 'Lower Westheimer', 'Magnolia Grove', 'Magnolia Park', \n",
    "                       'Mahatma Gandhi District', 'Manchester', 'Maplewood', 'Maplewood South–North', \n",
    "                       'Marilyn Estates', 'Meadowcreek Village', 'Memorial', 'Memorial Bend', 'Memorial City',\n",
    "                       'Memorial Park', 'Meyerland', 'Midtown', 'Montrose', 'Moonshine Hill', 'Morningside Place', \n",
    "                       'Museum District', 'Museum Park', 'Mykawa', 'Near Northside', 'Near Northwest', 'Neartown', \n",
    "                       'North Lindale', 'Norhill', 'North Central', 'North Shore', 'Northcliffe', 'Northcliffe Manor', \n",
    "                       'Northfield ', 'Northline', 'Northside', 'Nottingham Forest', 'Nottingham West', 'Oak Brook',\n",
    "                       'Oak Estates ', 'Oak Forest', 'Oak Manor–University Woods ','Oak Grove',;riverstone 'Old Braeswood ', 'Overbrook',\n",
    "                       'Paradise Valley', 'Park Place', 'Parkway Villages', 'Pecan Park ', 'Pierce Junction',\n",
    "                       'Pine Valley', 'Pleasantville ', 'Port Houston', 'Ponderosa Forest', 'Prestonwood Forest',\n",
    "                       'Recreation Acres ', 'Rice Military ', 'Rice Village ', 'Richmond Strip', 'Ridgegate', \n",
    "                       'Ridgemont', 'River Oaks', 'Rivercrest Estates', 'Riverside Terrace ','Riverstone', 'Robindell',\n",
    "                       'Royal Oaks Country Club', 'Sagemont', 'Scenic Woods', 'Second Ward', 'Settegast', \n",
    "                       'Shady Acres', 'Shadyside', 'Sharpstown', 'Shenandoah', 'Shepherd Park Plaza', \n",
    "                       'Sherwood Forest', 'Sherwood Oaks', 'Sixth Ward', 'Somerset Green', 'South Acres', \n",
    "                       'South Bank', 'South Main', 'South Park', 'South Union', 'Southcrest', 'Southampton', \n",
    "                       'Southbelt / Ellington', 'Southgate', 'Southwest', 'Spring Branch', 'Spring Lakes', \n",
    "                       'St. George Place', 'Sugar Valley', 'Sunnyside', 'Sunset Terrace / Montclair', 'Tanglewood', \n",
    "                       'Tanglewilde', 'Third Ward', 'Timbergrove Manor', 'University Oaks', 'Upper Kirby', 'Uptown', \n",
    "                       'Village at Glen Iris', 'Walnut Bend', 'Washington Avenue', 'Washington Terrace', \n",
    "                       'West Eleventh Place', 'West End', 'West Oaks', 'Westbury', 'Westmoreland', \n",
    "                       'Westmoreland Farms', 'Westwood', 'Willow Meadows', 'Willowbend', 'Willowbrook', \n",
    "                       'Willowick Place', 'Willowood', 'Windemere', 'Windsor Village', 'Woodland Heights ', \n",
    "                       'Woodland Trails ', 'Woodshire ', 'Woodside', 'Wrenwood', 'Yellowstone', 'Yorkshire', \n",
    "                       'Yorkwood']\n",
    "\n",
    "#For each correct sub. in subevision list\n",
    "for sub in correct_subdevision:\n",
    "    print(sub)\n",
    "    # Find matches in subdevisiom of houses\n",
    "    matches = process.extract(sub, single_family_df['Subdivision:'], \n",
    "                 limit = single_family_df.shape[0])\n",
    "    \n",
    "    print(len(matches))\n",
    "# # For each possible_match with similarity score >= 90\n",
    "#     for possible_match in matches:\n",
    "#         if possible_match[1] >= 90:\n",
    "#       # Find matching subdevision type\n",
    "#         matching_sub = single_family_df['Subdivision:'] == possible_match[0]\n",
    "#         single_family_df.loc[matching_sub , 'Subdivision:'] = sub\n",
    "\n",
    "# Print unique values to confirm mapping\n",
    "print( single_family_df['Subdivision:'].unique())  "
   ]
  },
  {
   "cell_type": "code",
   "execution_count": 53,
   "metadata": {},
   "outputs": [
    {
     "data": {
      "text/plain": [
       "Subdivision:                        Home For Sales:\n",
       "1/Drexel Place Sub                  35.0               1.0\n",
       "433919                              824                1.0\n",
       "897-903 Knox Th                     341.0              1.0\n",
       "A323000 A-230 SAMUEL C NEILL TRACT  286                1.0\n",
       "ALLSON STREET GROVE                 838.0              1.0\n",
       "                                                      ... \n",
       "Woodson's Reserve                   717                1.0\n",
       "Woodson's Reserve - Villas          717                1.0\n",
       "Woodson's Reserve Select            717                1.0\n",
       "Zen Tu                              309.0              1.0\n",
       "Zugheri Ford Acres                  341.0              1.0\n",
       "Name: Home For Sales:, Length: 555, dtype: float64"
      ]
     },
     "execution_count": 53,
     "metadata": {},
     "output_type": "execute_result"
    }
   ],
   "source": [
    "single_family_df.groupby('Subdivision:')['Home For Sales:'].value_counts()"
   ]
  },
  {
   "cell_type": "code",
   "execution_count": 59,
   "metadata": {},
   "outputs": [
    {
     "data": {
      "text/plain": [
       "0"
      ]
     },
     "execution_count": 59,
     "metadata": {},
     "output_type": "execute_result"
    }
   ],
   "source": [
    "single_family_df.groupby('Subdivision:')['Average List Price:'].value_counts().isna().sum()"
   ]
  },
  {
   "cell_type": "code",
   "execution_count": 16,
   "metadata": {},
   "outputs": [
    {
     "name": "stdout",
     "output_type": "stream",
     "text": [
      "<class 'pandas.core.frame.DataFrame'>\n",
      "RangeIndex: 11152 entries, 0 to 11151\n",
      "Data columns (total 67 columns):\n",
      " #   Column                      Non-Null Count  Dtype  \n",
      "---  ------                      --------------  -----  \n",
      " 0   image_link                  11152 non-null  object \n",
      " 1   Listing Price:              11152 non-null  object \n",
      " 2   City:                       11152 non-null  object \n",
      " 3   Zip Code:                   11152 non-null  int64  \n",
      " 4   County:                     11152 non-null  object \n",
      " 5   Subdivision:                11147 non-null  object \n",
      " 6   Legal Description:          11048 non-null  object \n",
      " 7   Bedrooms:                   11117 non-null  object \n",
      " 8   Baths:                      11125 non-null  object \n",
      " 9   Garage(s):                  9992 non-null   object \n",
      " 10  Stories:                    11148 non-null  object \n",
      " 11  Style:                      11152 non-null  object \n",
      " 12  Year Built:                 11082 non-null  object \n",
      " 13  Building Sqft.:             11110 non-null  object \n",
      " 14  Lot Size:                   10152 non-null  object \n",
      " 15  Maintenance Fee:            11124 non-null  object \n",
      " 16  Living:                     6429 non-null   object \n",
      " 17  Dining:                     7680 non-null   object \n",
      " 18  Kitchen:                    7832 non-null   object \n",
      " 19  Primary Bedroom:            10477 non-null  object \n",
      " 20  Bedroom:                    11056 non-null  object \n",
      " 21  Room Description:           9051 non-null   object \n",
      " 22  Fireplace:                  6667 non-null   object \n",
      " 23  Countertop:                 8071 non-null   object \n",
      " 24  Floors:                     9138 non-null   object \n",
      " 25  Bedroom Desc:               9491 non-null   object \n",
      " 26  Kitchen Desc:               7246 non-null   object \n",
      " 27  Bathroom Description:       8145 non-null   object \n",
      " 28  Heating:                    11152 non-null  object \n",
      " 29  Cooling:                    11152 non-null  object \n",
      " 30  Connections:                8654 non-null   object \n",
      " 31  Ice Maker:                  5683 non-null   object \n",
      " 32  Microwave:                  9265 non-null   object \n",
      " 33  Oven:                       8761 non-null   object \n",
      " 34  Compactor:                  6001 non-null   object \n",
      " 35  Dishwasher:                 9770 non-null   object \n",
      " 36  Range:                      9109 non-null   object \n",
      " 37  Disposal:                   9387 non-null   object \n",
      " 38  Energy Feature:             8155 non-null   object \n",
      " 39  Interior:                   8033 non-null   object \n",
      " 40  Roof:                       11152 non-null  object \n",
      " 41  Foundation:                 11152 non-null  object \n",
      " 42  Private Pool:               11152 non-null  object \n",
      " 43  Exterior Type:              11152 non-null  object \n",
      " 44  Lot Description:            11152 non-null  object \n",
      " 45  Water Sewer:                11152 non-null  object \n",
      " 46  Unit Location:              11152 non-null  object \n",
      " 47  Area Pool:                  5863 non-null   object \n",
      " 48  Exterior:                   8615 non-null   object \n",
      " 49  Dwelling Type:              11152 non-null  object \n",
      " 50  HOA Mandatory:              11117 non-null  object \n",
      " 51  List Type:                  11152 non-null  object \n",
      " 52  Financing Considered:       9191 non-null   object \n",
      " 53  Other Fees:                 11152 non-null  object \n",
      " 54  Taxes w/o Exemp:            8331 non-null   object \n",
      " 55  Tax Rate:                   9829 non-null   float64\n",
      " 56  Subdivision Name:           9408 non-null   object \n",
      " 57  County / Zip Code:          9408 non-null   float64\n",
      " 58  Single Family Properties:   9408 non-null   object \n",
      " 59  Average Bedrooms:           11097 non-null  float64\n",
      " 60  Average Baths:              11135 non-null  float64\n",
      " 61  Median Square Ft.:          9408 non-null   object \n",
      " 62  Median Lot Square Ft.:      9408 non-null   object \n",
      " 63  Median Year Built:          9408 non-null   float64\n",
      " 64  Median Appraised Value:     9408 non-null   object \n",
      " 65  Neighborhood Value Range:   9408 non-null   object \n",
      " 66  Median Price / Square ft.:  8481 non-null   object \n",
      "dtypes: float64(5), int64(1), object(61)\n",
      "memory usage: 5.7+ MB\n"
     ]
    }
   ],
   "source": [
    "single_family_df.info()"
   ]
  },
  {
   "cell_type": "markdown",
   "metadata": {},
   "source": [
    "## 2.7 Listing Price<a id='2.7_Listing_Price'></a>"
   ]
  },
  {
   "cell_type": "code",
   "execution_count": 17,
   "metadata": {},
   "outputs": [
    {
     "data": {
      "text/plain": [
       "0"
      ]
     },
     "execution_count": 17,
     "metadata": {},
     "output_type": "execute_result"
    }
   ],
   "source": [
    "single_family_df['Listing Price:'].isna().sum()"
   ]
  },
  {
   "cell_type": "code",
   "execution_count": 18,
   "metadata": {},
   "outputs": [],
   "source": [
    "single_family_df['Listing Price:']=single_family_df['Listing Price:'].str.split(' ').str[1]\n",
    "single_family_df['Listing Price:']=single_family_df['Listing Price:'].str.replace(',','')\n",
    "single_family_df['Listing Price:']=pd.to_numeric(single_family_df['Listing Price:'])\n",
    "single_family_df.rename(columns = {'Listing Price:':'listing_price','Address:':'address', 'Zip Code:':'zip_code', 'County:':'county',\n",
    "                                 'Subdivision:':'sub', 'Legal Description:':'legal'},inplace=True)"
   ]
  },
  {
   "cell_type": "code",
   "execution_count": 19,
   "metadata": {},
   "outputs": [
    {
     "data": {
      "text/plain": [
       "count    1.115200e+04\n",
       "mean     5.114418e+05\n",
       "std      6.209544e+05\n",
       "min      1.000000e+00\n",
       "25%      2.399750e+05\n",
       "50%      3.450000e+05\n",
       "75%      5.402250e+05\n",
       "max      1.450000e+07\n",
       "Name: listing_price, dtype: float64"
      ]
     },
     "execution_count": 19,
     "metadata": {},
     "output_type": "execute_result"
    }
   ],
   "source": [
    "single_family_df['listing_price'].describe()"
   ]
  },
  {
   "cell_type": "markdown",
   "metadata": {},
   "source": [
    "## 2.8 Bedrooms<a id='2.8_Bedrooms'></a>"
   ]
  },
  {
   "cell_type": "code",
   "execution_count": 20,
   "metadata": {},
   "outputs": [
    {
     "data": {
      "text/html": [
       "<div>\n",
       "<style scoped>\n",
       "    .dataframe tbody tr th:only-of-type {\n",
       "        vertical-align: middle;\n",
       "    }\n",
       "\n",
       "    .dataframe tbody tr th {\n",
       "        vertical-align: top;\n",
       "    }\n",
       "\n",
       "    .dataframe thead th {\n",
       "        text-align: right;\n",
       "    }\n",
       "</style>\n",
       "<table border=\"1\" class=\"dataframe\">\n",
       "  <thead>\n",
       "    <tr style=\"text-align: right;\">\n",
       "      <th></th>\n",
       "      <th>Bedrooms:</th>\n",
       "      <th>Bedroom:</th>\n",
       "    </tr>\n",
       "  </thead>\n",
       "  <tbody>\n",
       "    <tr>\n",
       "      <th>0</th>\n",
       "      <td>3 Bedroom(s)</td>\n",
       "      <td>13x11, 3rd</td>\n",
       "    </tr>\n",
       "    <tr>\n",
       "      <th>1</th>\n",
       "      <td>3 Bedroom(s)</td>\n",
       "      <td>13 x 11, 1st</td>\n",
       "    </tr>\n",
       "    <tr>\n",
       "      <th>2</th>\n",
       "      <td>3 Bedroom(s)</td>\n",
       "      <td>13x10, 1st</td>\n",
       "    </tr>\n",
       "    <tr>\n",
       "      <th>3</th>\n",
       "      <td>4 Bedroom(s)</td>\n",
       "      <td>11x11, 3rd</td>\n",
       "    </tr>\n",
       "    <tr>\n",
       "      <th>4</th>\n",
       "      <td>3 Bedroom(s)</td>\n",
       "      <td>13 x 11, 1st</td>\n",
       "    </tr>\n",
       "    <tr>\n",
       "      <th>...</th>\n",
       "      <td>...</td>\n",
       "      <td>...</td>\n",
       "    </tr>\n",
       "    <tr>\n",
       "      <th>11147</th>\n",
       "      <td>3 Bedroom(s)</td>\n",
       "      <td>10x11, 1st</td>\n",
       "    </tr>\n",
       "    <tr>\n",
       "      <th>11148</th>\n",
       "      <td>3 Bedroom(s)</td>\n",
       "      <td>10x8, 1st</td>\n",
       "    </tr>\n",
       "    <tr>\n",
       "      <th>11149</th>\n",
       "      <td>3 Bedroom(s)</td>\n",
       "      <td>12x11, 1st</td>\n",
       "    </tr>\n",
       "    <tr>\n",
       "      <th>11150</th>\n",
       "      <td>3 Bedroom(s)</td>\n",
       "      <td>12x12, 1st</td>\n",
       "    </tr>\n",
       "    <tr>\n",
       "      <th>11151</th>\n",
       "      <td>2 Bedroom(s)</td>\n",
       "      <td>11 x 11.5, 1st</td>\n",
       "    </tr>\n",
       "  </tbody>\n",
       "</table>\n",
       "<p>11152 rows × 2 columns</p>\n",
       "</div>"
      ],
      "text/plain": [
       "          Bedrooms:        Bedroom:\n",
       "0      3 Bedroom(s)      13x11, 3rd\n",
       "1      3 Bedroom(s)    13 x 11, 1st\n",
       "2      3 Bedroom(s)      13x10, 1st\n",
       "3      4 Bedroom(s)      11x11, 3rd\n",
       "4      3 Bedroom(s)    13 x 11, 1st\n",
       "...             ...             ...\n",
       "11147  3 Bedroom(s)      10x11, 1st\n",
       "11148  3 Bedroom(s)       10x8, 1st\n",
       "11149  3 Bedroom(s)      12x11, 1st\n",
       "11150  3 Bedroom(s)      12x12, 1st\n",
       "11151  2 Bedroom(s)  11 x 11.5, 1st\n",
       "\n",
       "[11152 rows x 2 columns]"
      ]
     },
     "execution_count": 20,
     "metadata": {},
     "output_type": "execute_result"
    }
   ],
   "source": [
    "single_family_df[['Bedrooms:','Bedroom:']]"
   ]
  },
  {
   "cell_type": "markdown",
   "metadata": {},
   "source": [
    "'Bedroom:' feature includes the size of one of the bedrooms I think is better to delete this column."
   ]
  },
  {
   "cell_type": "code",
   "execution_count": 21,
   "metadata": {},
   "outputs": [],
   "source": [
    "single_family_df.drop('Bedroom:',axis=1,inplace=True)"
   ]
  },
  {
   "cell_type": "code",
   "execution_count": 22,
   "metadata": {},
   "outputs": [
    {
     "data": {
      "text/plain": [
       "35"
      ]
     },
     "execution_count": 22,
     "metadata": {},
     "output_type": "execute_result"
    }
   ],
   "source": [
    "single_family_df['Bedrooms:'].isnull().sum()"
   ]
  },
  {
   "cell_type": "code",
   "execution_count": 23,
   "metadata": {},
   "outputs": [],
   "source": [
    "single_family_df=single_family_df[~single_family_df['Bedrooms:'].isnull()]"
   ]
  },
  {
   "cell_type": "code",
   "execution_count": 24,
   "metadata": {},
   "outputs": [
    {
     "name": "stdout",
     "output_type": "stream",
     "text": [
      "Number of Missing Values on Bedrooms: 0\n",
      "data shape is:  (11117, 66)\n"
     ]
    }
   ],
   "source": [
    "print('Number of Missing Values on Bedrooms:',single_family_df['Bedrooms:'].isnull().sum())\n",
    "print('data shape is: ',single_family_df.shape)"
   ]
  },
  {
   "cell_type": "code",
   "execution_count": 25,
   "metadata": {},
   "outputs": [
    {
     "data": {
      "text/plain": [
       "count    11117.000000\n",
       "mean         3.661959\n",
       "std          0.813128\n",
       "min          1.000000\n",
       "25%          3.000000\n",
       "50%          4.000000\n",
       "75%          4.000000\n",
       "max         21.000000\n",
       "Name: bedrooms, dtype: float64"
      ]
     },
     "execution_count": 25,
     "metadata": {},
     "output_type": "execute_result"
    }
   ],
   "source": [
    "single_family_df['Bedrooms:']=single_family_df['Bedrooms:'].str.split(' ').str[0]\n",
    "single_family_df['Bedrooms:']=single_family_df['Bedrooms:'].astype(int)\n",
    "single_family_df.rename(columns = {'Bedrooms:':'bedrooms'},inplace=True)\n",
    "single_family_df['bedrooms'].describe()"
   ]
  },
  {
   "cell_type": "markdown",
   "metadata": {},
   "source": [
    "## 2.9 Bathrooms<a id='2.9_Bathrooms'></a>"
   ]
  },
  {
   "cell_type": "code",
   "execution_count": 26,
   "metadata": {},
   "outputs": [
    {
     "data": {
      "text/plain": [
       "5"
      ]
     },
     "execution_count": 26,
     "metadata": {},
     "output_type": "execute_result"
    }
   ],
   "source": [
    "single_family_df['Baths:'].isnull().sum()"
   ]
  },
  {
   "cell_type": "code",
   "execution_count": 27,
   "metadata": {},
   "outputs": [],
   "source": [
    "single_family_df=single_family_df[~single_family_df['Baths:'].isnull()]"
   ]
  },
  {
   "cell_type": "code",
   "execution_count": 28,
   "metadata": {},
   "outputs": [
    {
     "data": {
      "text/html": [
       "<div>\n",
       "<style scoped>\n",
       "    .dataframe tbody tr th:only-of-type {\n",
       "        vertical-align: middle;\n",
       "    }\n",
       "\n",
       "    .dataframe tbody tr th {\n",
       "        vertical-align: top;\n",
       "    }\n",
       "\n",
       "    .dataframe thead th {\n",
       "        text-align: right;\n",
       "    }\n",
       "</style>\n",
       "<table border=\"1\" class=\"dataframe\">\n",
       "  <thead>\n",
       "    <tr style=\"text-align: right;\">\n",
       "      <th></th>\n",
       "      <th>Baths:</th>\n",
       "    </tr>\n",
       "  </thead>\n",
       "  <tbody>\n",
       "    <tr>\n",
       "      <th>0</th>\n",
       "      <td>3 Full  &amp; 1 Half Bath(s)</td>\n",
       "    </tr>\n",
       "    <tr>\n",
       "      <th>1</th>\n",
       "      <td>3 Full  &amp; 1 Half Bath(s)</td>\n",
       "    </tr>\n",
       "    <tr>\n",
       "      <th>2</th>\n",
       "      <td>3 Full  &amp; 1 Half Bath(s)</td>\n",
       "    </tr>\n",
       "    <tr>\n",
       "      <th>3</th>\n",
       "      <td>3 Full  &amp; 1 Half Bath(s)</td>\n",
       "    </tr>\n",
       "    <tr>\n",
       "      <th>4</th>\n",
       "      <td>3 Full  &amp; 1 Half Bath(s)</td>\n",
       "    </tr>\n",
       "    <tr>\n",
       "      <th>...</th>\n",
       "      <td>...</td>\n",
       "    </tr>\n",
       "    <tr>\n",
       "      <th>11147</th>\n",
       "      <td>1 Full  Bath(s)</td>\n",
       "    </tr>\n",
       "    <tr>\n",
       "      <th>11148</th>\n",
       "      <td>1 Full  &amp; 1 Half Bath(s)</td>\n",
       "    </tr>\n",
       "    <tr>\n",
       "      <th>11149</th>\n",
       "      <td>1 Full  &amp; 1 Half Bath(s)</td>\n",
       "    </tr>\n",
       "    <tr>\n",
       "      <th>11150</th>\n",
       "      <td>2 Full  Bath(s)</td>\n",
       "    </tr>\n",
       "    <tr>\n",
       "      <th>11151</th>\n",
       "      <td>1 Full  Bath(s)</td>\n",
       "    </tr>\n",
       "  </tbody>\n",
       "</table>\n",
       "<p>11112 rows × 1 columns</p>\n",
       "</div>"
      ],
      "text/plain": [
       "                         Baths:\n",
       "0      3 Full  & 1 Half Bath(s)\n",
       "1      3 Full  & 1 Half Bath(s)\n",
       "2      3 Full  & 1 Half Bath(s)\n",
       "3      3 Full  & 1 Half Bath(s)\n",
       "4      3 Full  & 1 Half Bath(s)\n",
       "...                         ...\n",
       "11147           1 Full  Bath(s)\n",
       "11148  1 Full  & 1 Half Bath(s)\n",
       "11149  1 Full  & 1 Half Bath(s)\n",
       "11150           2 Full  Bath(s)\n",
       "11151           1 Full  Bath(s)\n",
       "\n",
       "[11112 rows x 1 columns]"
      ]
     },
     "execution_count": 28,
     "metadata": {},
     "output_type": "execute_result"
    }
   ],
   "source": [
    "single_family_df[['Baths:']]"
   ]
  },
  {
   "cell_type": "code",
   "execution_count": 29,
   "metadata": {},
   "outputs": [],
   "source": [
    "single_family_df['full_bath']=single_family_df['Baths:'].str.split(' ').str[0].astype(int)"
   ]
  },
  {
   "cell_type": "code",
   "execution_count": 30,
   "metadata": {},
   "outputs": [
    {
     "data": {
      "text/plain": [
       "0        3\n",
       "1        3\n",
       "2        3\n",
       "3        3\n",
       "4        3\n",
       "        ..\n",
       "11147    1\n",
       "11148    1\n",
       "11149    1\n",
       "11150    2\n",
       "11151    1\n",
       "Name: full_bath, Length: 11112, dtype: int32"
      ]
     },
     "execution_count": 30,
     "metadata": {},
     "output_type": "execute_result"
    }
   ],
   "source": [
    "single_family_df['full_bath']"
   ]
  },
  {
   "cell_type": "code",
   "execution_count": 31,
   "metadata": {},
   "outputs": [
    {
     "name": "stdout",
     "output_type": "stream",
     "text": [
      "<class 'pandas.core.frame.DataFrame'>\n",
      "Int64Index: 11112 entries, 0 to 11151\n",
      "Data columns (total 2 columns):\n",
      " #   Column     Non-Null Count  Dtype\n",
      "---  ------     --------------  -----\n",
      " 0   full_bath  11112 non-null  int32\n",
      " 1   half_bath  11112 non-null  int64\n",
      "dtypes: int32(1), int64(1)\n",
      "memory usage: 217.0 KB\n"
     ]
    }
   ],
   "source": [
    "No_Bath = single_family_df['Baths:'].str.split('&').str[1].str.strip()\n",
    "No_Bath.fillna('0',inplace=True) \n",
    "single_family_df['half_bath']=[int(item[0]) for item in No_Bath.str.split(' ')]\n",
    "single_family_df['half_bath'].replace(',','',inplace=True)\n",
    "single_family_df[['full_bath','half_bath']].info()"
   ]
  },
  {
   "cell_type": "code",
   "execution_count": 32,
   "metadata": {},
   "outputs": [],
   "source": [
    "single_family_df.drop('Baths:',axis=1,inplace=True)"
   ]
  },
  {
   "cell_type": "code",
   "execution_count": 33,
   "metadata": {},
   "outputs": [
    {
     "data": {
      "text/html": [
       "<div>\n",
       "<style scoped>\n",
       "    .dataframe tbody tr th:only-of-type {\n",
       "        vertical-align: middle;\n",
       "    }\n",
       "\n",
       "    .dataframe tbody tr th {\n",
       "        vertical-align: top;\n",
       "    }\n",
       "\n",
       "    .dataframe thead th {\n",
       "        text-align: right;\n",
       "    }\n",
       "</style>\n",
       "<table border=\"1\" class=\"dataframe\">\n",
       "  <thead>\n",
       "    <tr style=\"text-align: right;\">\n",
       "      <th></th>\n",
       "      <th>full_bath</th>\n",
       "      <th>half_bath</th>\n",
       "    </tr>\n",
       "  </thead>\n",
       "  <tbody>\n",
       "    <tr>\n",
       "      <th>11147</th>\n",
       "      <td>1</td>\n",
       "      <td>0</td>\n",
       "    </tr>\n",
       "    <tr>\n",
       "      <th>11148</th>\n",
       "      <td>1</td>\n",
       "      <td>1</td>\n",
       "    </tr>\n",
       "    <tr>\n",
       "      <th>11149</th>\n",
       "      <td>1</td>\n",
       "      <td>1</td>\n",
       "    </tr>\n",
       "    <tr>\n",
       "      <th>11150</th>\n",
       "      <td>2</td>\n",
       "      <td>0</td>\n",
       "    </tr>\n",
       "    <tr>\n",
       "      <th>11151</th>\n",
       "      <td>1</td>\n",
       "      <td>0</td>\n",
       "    </tr>\n",
       "  </tbody>\n",
       "</table>\n",
       "</div>"
      ],
      "text/plain": [
       "       full_bath  half_bath\n",
       "11147          1          0\n",
       "11148          1          1\n",
       "11149          1          1\n",
       "11150          2          0\n",
       "11151          1          0"
      ]
     },
     "execution_count": 33,
     "metadata": {},
     "output_type": "execute_result"
    }
   ],
   "source": [
    "single_family_df[['full_bath','half_bath']].tail()"
   ]
  },
  {
   "cell_type": "code",
   "execution_count": 37,
   "metadata": {},
   "outputs": [
    {
     "data": {
      "text/plain": [
       "2    7531\n",
       "3    1468\n",
       "0    1133\n",
       "1     750\n",
       "4     184\n",
       "5      24\n",
       "6      11\n",
       "8       7\n",
       "7       4\n",
       "Name: garage, dtype: int64"
      ]
     },
     "execution_count": 37,
     "metadata": {},
     "output_type": "execute_result"
    }
   ],
   "source": [
    "single_family_df.garage[single_family_df['garage']>8]=single_family_df['garage'].median()\n",
    "single_family_df['garage'].value_counts()"
   ]
  },
  {
   "cell_type": "code",
   "execution_count": 38,
   "metadata": {},
   "outputs": [
    {
     "data": {
      "text/plain": [
       "2      5367\n",
       "1      4475\n",
       "3       857\n",
       "1.5     229\n",
       "4       154\n",
       "2.5      26\n",
       "5         2\n",
       "Name: Stories:, dtype: int64"
      ]
     },
     "execution_count": 38,
     "metadata": {},
     "output_type": "execute_result"
    }
   ],
   "source": [
    "single_family_df['Stories:'].value_counts()"
   ]
  },
  {
   "cell_type": "code",
   "execution_count": 39,
   "metadata": {},
   "outputs": [
    {
     "data": {
      "text/plain": [
       "2"
      ]
     },
     "execution_count": 39,
     "metadata": {},
     "output_type": "execute_result"
    }
   ],
   "source": [
    "single_family_df['Stories:'].isnull().sum()"
   ]
  },
  {
   "cell_type": "code",
   "execution_count": 40,
   "metadata": {},
   "outputs": [],
   "source": [
    "single_family_df=single_family_df[~single_family_df['Stories:'].isnull()]"
   ]
  },
  {
   "cell_type": "code",
   "execution_count": 41,
   "metadata": {},
   "outputs": [],
   "source": [
    "single_family_df.rename(columns ={'Stories:':'stories'},inplace=True)\n",
    "single_family_df['stories']=pd.to_numeric(single_family_df['stories'])"
   ]
  },
  {
   "cell_type": "code",
   "execution_count": 42,
   "metadata": {},
   "outputs": [
    {
     "data": {
      "text/plain": [
       "Traditional                        7671\n",
       "Contemporary/Modern                1216\n",
       "Ranch                               413\n",
       "Contemporary/Modern,Traditional     361\n",
       "Other Style                         253\n",
       "                                   ... \n",
       "French,Mediterranean                  1\n",
       "Mediterranean,Split Level             1\n",
       "Ranch,Split Level,Traditional         1\n",
       "Split Level,Victorian                 1\n",
       "Georgian,Victorian                    1\n",
       "Name: Style:, Length: 80, dtype: int64"
      ]
     },
     "execution_count": 42,
     "metadata": {},
     "output_type": "execute_result"
    }
   ],
   "source": [
    "single_family_df['Style:'].value_counts()"
   ]
  },
  {
   "cell_type": "code",
   "execution_count": 43,
   "metadata": {},
   "outputs": [
    {
     "data": {
      "text/plain": [
       "0"
      ]
     },
     "execution_count": 43,
     "metadata": {},
     "output_type": "execute_result"
    }
   ],
   "source": [
    "single_family_df['Style:'].isnull().sum()"
   ]
  },
  {
   "cell_type": "code",
   "execution_count": 44,
   "metadata": {},
   "outputs": [],
   "source": [
    "single_family_df.rename(columns ={'Style:':'style'},inplace=True)"
   ]
  },
  {
   "cell_type": "code",
   "execution_count": 45,
   "metadata": {},
   "outputs": [
    {
     "data": {
      "text/plain": [
       "66"
      ]
     },
     "execution_count": 45,
     "metadata": {},
     "output_type": "execute_result"
    }
   ],
   "source": [
    "single_family_df['Year Built:'].isnull().sum()"
   ]
  },
  {
   "cell_type": "code",
   "execution_count": 46,
   "metadata": {},
   "outputs": [
    {
     "data": {
      "text/plain": [
       "2020   / Builder               2461\n",
       "2006   / Appraisal District     204\n",
       "2005   / Appraisal District     201\n",
       "2019   / Builder                200\n",
       "2015   / Appraisal District     192\n",
       "                               ... \n",
       "1985   / Seller                   1\n",
       "1918   / Appraisal District       1\n",
       "1992   / Builder                  1\n",
       "1950   / Seller                   1\n",
       "1996   / Seller                   1\n",
       "Name: Year Built:, Length: 297, dtype: int64"
      ]
     },
     "execution_count": 46,
     "metadata": {},
     "output_type": "execute_result"
    }
   ],
   "source": [
    "single_family_df['Year Built:'].value_counts()"
   ]
  },
  {
   "cell_type": "code",
   "execution_count": 47,
   "metadata": {},
   "outputs": [
    {
     "data": {
      "text/plain": [
       "2020    2541\n",
       "2019     279\n",
       "2015     253\n",
       "2006     235\n",
       "2014     232\n",
       "        ... \n",
       "1923       1\n",
       "1918       1\n",
       "1908       1\n",
       "1916       1\n",
       "1896       1\n",
       "Name: Year Built:, Length: 115, dtype: int64"
      ]
     },
     "execution_count": 47,
     "metadata": {},
     "output_type": "execute_result"
    }
   ],
   "source": [
    "single_family_df=single_family_df[~single_family_df['Year Built:'].isnull()]\n",
    "single_family_df['Year Built:']=single_family_df['Year Built:'].apply(lambda x:str(x).split(' ')[0])\n",
    "single_family_df['Year Built:']=pd.to_datetime(single_family_df['Year Built:'],format='%Y').dt.year\n",
    "single_family_df['Year Built:'].value_counts()"
   ]
  },
  {
   "cell_type": "code",
   "execution_count": 48,
   "metadata": {},
   "outputs": [],
   "source": [
    "single_family_df.rename(columns ={'Year Built:':'year_built'},inplace=True)"
   ]
  },
  {
   "cell_type": "code",
   "execution_count": 49,
   "metadata": {},
   "outputs": [
    {
     "data": {
      "text/plain": [
       "0        2,096195(m²)  /Appraisal District\n",
       "1        2,015187(m²)  /Appraisal District\n",
       "2        2,468229(m²)  /Appraisal District\n",
       "3                   2,878267(m²)  /Builder\n",
       "4                   2,073193(m²)  /Builder\n",
       "                       ...                \n",
       "11146    1,630151(m²)  /Appraisal District\n",
       "11148    1,316122(m²)  /Appraisal District\n",
       "11149    1,160108(m²)  /Appraisal District\n",
       "11150    1,135105(m²)  /Appraisal District\n",
       "11151       83978(m²)  /Appraisal District\n",
       "Name: Building Sqft.:, Length: 11044, dtype: object"
      ]
     },
     "execution_count": 49,
     "metadata": {},
     "output_type": "execute_result"
    }
   ],
   "source": [
    "single_family_df['Building Sqft.:']"
   ]
  },
  {
   "cell_type": "code",
   "execution_count": 50,
   "metadata": {},
   "outputs": [
    {
     "data": {
      "text/plain": [
       "18"
      ]
     },
     "execution_count": 50,
     "metadata": {},
     "output_type": "execute_result"
    }
   ],
   "source": [
    "single_family_df['Building Sqft.:'].isnull().sum()"
   ]
  },
  {
   "cell_type": "code",
   "execution_count": 51,
   "metadata": {},
   "outputs": [],
   "source": [
    "single_family_df=single_family_df[~single_family_df['Building Sqft.:'].isnull()]\n",
    "single_family_df['Building Sqft.:']=single_family_df['Building Sqft.:'].apply(lambda x:x[0:5] if ',' in x else x[0:3])\n",
    "single_family_df['Building Sqft.:']=single_family_df['Building Sqft.:'].str.replace(',','')\n",
    "single_family_df['Building Sqft.:']=pd.to_numeric(single_family_df['Building Sqft.:'])\n",
    "single_family_df.rename(columns ={'Building Sqft.:':'build_Sq'},inplace=True)"
   ]
  },
  {
   "cell_type": "code",
   "execution_count": 52,
   "metadata": {},
   "outputs": [
    {
     "data": {
      "text/plain": [
       "2020    857\n",
       "2019     34\n",
       "2021     18\n",
       "2013      6\n",
       "2018      5\n",
       "2016      5\n",
       "2017      3\n",
       "2015      3\n",
       "1955      2\n",
       "1965      2\n",
       "1967      2\n",
       "1975      2\n",
       "1978      2\n",
       "1979      2\n",
       "1982      2\n",
       "2009      2\n",
       "2007      2\n",
       "2000      1\n",
       "1994      1\n",
       "1930      1\n",
       "1935      1\n",
       "1945      1\n",
       "1950      1\n",
       "1952      1\n",
       "1962      1\n",
       "2008      1\n",
       "1968      1\n",
       "1969      1\n",
       "1973      1\n",
       "2006      1\n",
       "1976      1\n",
       "1977      1\n",
       "2005      1\n",
       "2004      1\n",
       "1980      1\n",
       "2002      1\n",
       "1985      1\n",
       "1990      1\n",
       "1920      1\n",
       "Name: year_built, dtype: int64"
      ]
     },
     "execution_count": 52,
     "metadata": {},
     "output_type": "execute_result"
    }
   ],
   "source": [
    "single_family_df.year_built[single_family_df['Lot Size:'].isnull()].value_counts()"
   ]
  },
  {
   "cell_type": "markdown",
   "metadata": {},
   "source": [
    "Since 857 of null values is under cunstruction I will drop all null values for lot size"
   ]
  },
  {
   "cell_type": "code",
   "execution_count": 53,
   "metadata": {},
   "outputs": [],
   "source": [
    "single_family_df=single_family_df[~single_family_df['Lot Size:'].isnull()]"
   ]
  },
  {
   "cell_type": "code",
   "execution_count": 54,
   "metadata": {},
   "outputs": [
    {
     "data": {
      "text/plain": [
       "0        2,173 Sqft.202(m²)  /Appraisal District\n",
       "1        1,446 Sqft.134(m²)  /Appraisal District\n",
       "2        1,786 Sqft.166(m²)  /Appraisal District\n",
       "4        1,788 Sqft.166(m²)  /Appraisal District\n",
       "9        2,460 Sqft.229(m²)  /Appraisal District\n",
       "                          ...                   \n",
       "11146    7,975 Sqft.741(m²)  /Appraisal District\n",
       "11148    7,100 Sqft.660(m²)  /Appraisal District\n",
       "11149    7,100 Sqft.660(m²)  /Appraisal District\n",
       "11150    7,100 Sqft.660(m²)  /Appraisal District\n",
       "11151    7,100 Sqft.660(m²)  /Appraisal District\n",
       "Name: Lot Size:, Length: 10055, dtype: object"
      ]
     },
     "execution_count": 54,
     "metadata": {},
     "output_type": "execute_result"
    }
   ],
   "source": [
    "single_family_df['Lot Size:']"
   ]
  },
  {
   "cell_type": "code",
   "execution_count": 55,
   "metadata": {},
   "outputs": [],
   "source": [
    "single_family_df['Lot Size:']=single_family_df['Lot Size:'].str.replace(',','')\n",
    "single_family_df['Lot Size:']=single_family_df['Lot Size:'].apply(lambda x:float(x.split(' ')[0])*43560 if 'Acres' in \n",
    "                                                                  x else float(x.split(' ')[0]))\n",
    "\n",
    "# single_family_df['Lot Size:']=pd.to_numeric(single_family_df['Lot Size:'])\n",
    "single_family_df.rename(columns ={'Lot Size:':'lot_size'},inplace=True)"
   ]
  },
  {
   "cell_type": "code",
   "execution_count": 56,
   "metadata": {},
   "outputs": [
    {
     "data": {
      "text/plain": [
       "0"
      ]
     },
     "execution_count": 56,
     "metadata": {},
     "output_type": "execute_result"
    }
   ],
   "source": [
    "single_family_df.lot_size.isnull().sum()"
   ]
  },
  {
   "cell_type": "code",
   "execution_count": 57,
   "metadata": {},
   "outputs": [
    {
     "data": {
      "text/plain": [
       "0        $ 1304 / Annually\n",
       "1        $ 1200 / Annually\n",
       "2        $ 2000 / Annually\n",
       "4        $ 1200 / Annually\n",
       "9                       No\n",
       "               ...        \n",
       "11146                   No\n",
       "11148                   No\n",
       "11149                   No\n",
       "11150                   No\n",
       "11151                   No\n",
       "Name: Maintenance Fee:, Length: 10055, dtype: object"
      ]
     },
     "execution_count": 57,
     "metadata": {},
     "output_type": "execute_result"
    }
   ],
   "source": [
    "single_family_df['Maintenance Fee:']"
   ]
  },
  {
   "cell_type": "code",
   "execution_count": 58,
   "metadata": {},
   "outputs": [
    {
     "data": {
      "text/plain": [
       "28"
      ]
     },
     "execution_count": 58,
     "metadata": {},
     "output_type": "execute_result"
    }
   ],
   "source": [
    "single_family_df['Maintenance Fee:'].isnull().sum()"
   ]
  },
  {
   "cell_type": "code",
   "execution_count": 59,
   "metadata": {},
   "outputs": [
    {
     "data": {
      "text/plain": [
       "No                   2973\n",
       "$ 1200 / Annually     170\n",
       "$ 450 / Annually      163\n",
       "$ 600 / Annually      155\n",
       "$ 400 / Annually      154\n",
       "                     ... \n",
       "$ 257 / Annually        1\n",
       "$ 190 / Monthly         1\n",
       "$ 110 / Quarterly       1\n",
       "$ 2811 / Annually       1\n",
       "No / Monthly            1\n",
       "Name: Maintenance Fee:, Length: 929, dtype: int64"
      ]
     },
     "execution_count": 59,
     "metadata": {},
     "output_type": "execute_result"
    }
   ],
   "source": [
    "single_family_df['Maintenance Fee:'].value_counts()"
   ]
  },
  {
   "cell_type": "code",
   "execution_count": 60,
   "metadata": {},
   "outputs": [
    {
     "data": {
      "text/plain": [
       "3091"
      ]
     },
     "execution_count": 60,
     "metadata": {},
     "output_type": "execute_result"
    }
   ],
   "source": [
    "single_family_df['Maintenance Fee:'].isin(['No','No / $0','Voluntary / Annually','Voluntary /0/ Annually']).sum()"
   ]
  },
  {
   "cell_type": "code",
   "execution_count": 61,
   "metadata": {},
   "outputs": [],
   "source": [
    "single_family_df.drop('Maintenance Fee:',axis=1,inplace=True)"
   ]
  },
  {
   "cell_type": "code",
   "execution_count": 62,
   "metadata": {},
   "outputs": [
    {
     "name": "stdout",
     "output_type": "stream",
     "text": [
      "<class 'pandas.core.frame.DataFrame'>\n",
      "Int64Index: 10055 entries, 0 to 11151\n",
      "Data columns (total 66 columns):\n",
      " #   Column                      Non-Null Count  Dtype  \n",
      "---  ------                      --------------  -----  \n",
      " 0   image_link                  10055 non-null  object \n",
      " 1   listing_price               10055 non-null  int64  \n",
      " 2   City:                       10055 non-null  object \n",
      " 3   zip_code                    10055 non-null  int64  \n",
      " 4   county                      10055 non-null  object \n",
      " 5   sub                         10050 non-null  object \n",
      " 6   legal                       10038 non-null  object \n",
      " 7   bedrooms                    10055 non-null  int32  \n",
      " 8   stories                     10055 non-null  float64\n",
      " 9   style                       10055 non-null  object \n",
      " 10  year_built                  10055 non-null  int64  \n",
      " 11  build_Sq                    10055 non-null  int64  \n",
      " 12  lot_size                    10055 non-null  float64\n",
      " 13  Living:                     6012 non-null   object \n",
      " 14  Dining:                     7053 non-null   object \n",
      " 15  Kitchen:                    7130 non-null   object \n",
      " 16  Primary Bedroom:            9438 non-null   object \n",
      " 17  Room Description:           8309 non-null   object \n",
      " 18  Fireplace:                  6450 non-null   object \n",
      " 19  Countertop:                 7273 non-null   object \n",
      " 20  Floors:                     8280 non-null   object \n",
      " 21  Bedroom Desc:               8697 non-null   object \n",
      " 22  Kitchen Desc:               6777 non-null   object \n",
      " 23  Bathroom Description:       7500 non-null   object \n",
      " 24  Heating:                    10055 non-null  object \n",
      " 25  Cooling:                    10055 non-null  object \n",
      " 26  Connections:                7899 non-null   object \n",
      " 27  Ice Maker:                  5068 non-null   object \n",
      " 28  Microwave:                  8325 non-null   object \n",
      " 29  Oven:                       8004 non-null   object \n",
      " 30  Compactor:                  5362 non-null   object \n",
      " 31  Dishwasher:                 8826 non-null   object \n",
      " 32  Range:                      8278 non-null   object \n",
      " 33  Disposal:                   8462 non-null   object \n",
      " 34  Energy Feature:             7343 non-null   object \n",
      " 35  Interior:                   7259 non-null   object \n",
      " 36  Roof:                       10055 non-null  object \n",
      " 37  Foundation:                 10055 non-null  object \n",
      " 38  Private Pool:               10055 non-null  object \n",
      " 39  Exterior Type:              10055 non-null  object \n",
      " 40  Lot Description:            10055 non-null  object \n",
      " 41  Water Sewer:                10055 non-null  object \n",
      " 42  Unit Location:              10055 non-null  object \n",
      " 43  Area Pool:                  5427 non-null   object \n",
      " 44  Exterior:                   7785 non-null   object \n",
      " 45  Dwelling Type:              10055 non-null  object \n",
      " 46  HOA Mandatory:              10020 non-null  object \n",
      " 47  List Type:                  10055 non-null  object \n",
      " 48  Financing Considered:       8362 non-null   object \n",
      " 49  Other Fees:                 10055 non-null  object \n",
      " 50  Taxes w/o Exemp:            8240 non-null   object \n",
      " 51  Tax Rate:                   9201 non-null   float64\n",
      " 52  Subdivision Name:           8857 non-null   object \n",
      " 53  County / Zip Code:          8857 non-null   float64\n",
      " 54  Single Family Properties:   8857 non-null   object \n",
      " 55  Average Bedrooms:           10008 non-null  float64\n",
      " 56  Average Baths:              10040 non-null  float64\n",
      " 57  Median Square Ft.:          8857 non-null   object \n",
      " 58  Median Lot Square Ft.:      8857 non-null   object \n",
      " 59  Median Year Built:          8857 non-null   float64\n",
      " 60  Median Appraised Value:     8857 non-null   object \n",
      " 61  Neighborhood Value Range:   8857 non-null   object \n",
      " 62  Median Price / Square ft.:  7969 non-null   object \n",
      " 63  full_bath                   10055 non-null  int32  \n",
      " 64  half_bath                   10055 non-null  int64  \n",
      " 65  garage                      10055 non-null  int32  \n",
      "dtypes: float64(7), int32(3), int64(5), object(51)\n",
      "memory usage: 5.0+ MB\n"
     ]
    }
   ],
   "source": [
    "single_family_df.info()"
   ]
  },
  {
   "cell_type": "code",
   "execution_count": 63,
   "metadata": {},
   "outputs": [
    {
     "data": {
      "text/plain": [
       "4043"
      ]
     },
     "execution_count": 63,
     "metadata": {},
     "output_type": "execute_result"
    }
   ],
   "source": [
    "single_family_df['Living:'].isnull().sum()"
   ]
  },
  {
   "cell_type": "code",
   "execution_count": 64,
   "metadata": {},
   "outputs": [],
   "source": [
    "new_missing=missing_cal(single_family_df)"
   ]
  },
  {
   "cell_type": "code",
   "execution_count": 65,
   "metadata": {},
   "outputs": [
    {
     "data": {
      "text/html": [
       "<div>\n",
       "<style scoped>\n",
       "    .dataframe tbody tr th:only-of-type {\n",
       "        vertical-align: middle;\n",
       "    }\n",
       "\n",
       "    .dataframe tbody tr th {\n",
       "        vertical-align: top;\n",
       "    }\n",
       "\n",
       "    .dataframe thead th {\n",
       "        text-align: right;\n",
       "    }\n",
       "</style>\n",
       "<table border=\"1\" class=\"dataframe\">\n",
       "  <thead>\n",
       "    <tr style=\"text-align: right;\">\n",
       "      <th></th>\n",
       "      <th>count</th>\n",
       "      <th>%</th>\n",
       "    </tr>\n",
       "  </thead>\n",
       "  <tbody>\n",
       "    <tr>\n",
       "      <th>image_link</th>\n",
       "      <td>0</td>\n",
       "      <td>0.000000</td>\n",
       "    </tr>\n",
       "    <tr>\n",
       "      <th>listing_price</th>\n",
       "      <td>0</td>\n",
       "      <td>0.000000</td>\n",
       "    </tr>\n",
       "    <tr>\n",
       "      <th>City:</th>\n",
       "      <td>0</td>\n",
       "      <td>0.000000</td>\n",
       "    </tr>\n",
       "    <tr>\n",
       "      <th>zip_code</th>\n",
       "      <td>0</td>\n",
       "      <td>0.000000</td>\n",
       "    </tr>\n",
       "    <tr>\n",
       "      <th>county</th>\n",
       "      <td>0</td>\n",
       "      <td>0.000000</td>\n",
       "    </tr>\n",
       "    <tr>\n",
       "      <th>...</th>\n",
       "      <td>...</td>\n",
       "      <td>...</td>\n",
       "    </tr>\n",
       "    <tr>\n",
       "      <th>Neighborhood Value Range:</th>\n",
       "      <td>1198</td>\n",
       "      <td>11.914470</td>\n",
       "    </tr>\n",
       "    <tr>\n",
       "      <th>Median Price / Square ft.:</th>\n",
       "      <td>2086</td>\n",
       "      <td>20.745898</td>\n",
       "    </tr>\n",
       "    <tr>\n",
       "      <th>full_bath</th>\n",
       "      <td>0</td>\n",
       "      <td>0.000000</td>\n",
       "    </tr>\n",
       "    <tr>\n",
       "      <th>half_bath</th>\n",
       "      <td>0</td>\n",
       "      <td>0.000000</td>\n",
       "    </tr>\n",
       "    <tr>\n",
       "      <th>garage</th>\n",
       "      <td>0</td>\n",
       "      <td>0.000000</td>\n",
       "    </tr>\n",
       "  </tbody>\n",
       "</table>\n",
       "<p>66 rows × 2 columns</p>\n",
       "</div>"
      ],
      "text/plain": [
       "                            count          %\n",
       "image_link                      0   0.000000\n",
       "listing_price                   0   0.000000\n",
       "City:                           0   0.000000\n",
       "zip_code                        0   0.000000\n",
       "county                          0   0.000000\n",
       "...                           ...        ...\n",
       "Neighborhood Value Range:    1198  11.914470\n",
       "Median Price / Square ft.:   2086  20.745898\n",
       "full_bath                       0   0.000000\n",
       "half_bath                       0   0.000000\n",
       "garage                          0   0.000000\n",
       "\n",
       "[66 rows x 2 columns]"
      ]
     },
     "execution_count": 65,
     "metadata": {},
     "output_type": "execute_result"
    }
   ],
   "source": [
    "new_missing"
   ]
  },
  {
   "cell_type": "code",
   "execution_count": 66,
   "metadata": {},
   "outputs": [
    {
     "data": {
      "text/html": [
       "<div>\n",
       "<style scoped>\n",
       "    .dataframe tbody tr th:only-of-type {\n",
       "        vertical-align: middle;\n",
       "    }\n",
       "\n",
       "    .dataframe tbody tr th {\n",
       "        vertical-align: top;\n",
       "    }\n",
       "\n",
       "    .dataframe thead th {\n",
       "        text-align: right;\n",
       "    }\n",
       "</style>\n",
       "<table border=\"1\" class=\"dataframe\">\n",
       "  <thead>\n",
       "    <tr style=\"text-align: right;\">\n",
       "      <th></th>\n",
       "      <th>count</th>\n",
       "      <th>%</th>\n",
       "    </tr>\n",
       "  </thead>\n",
       "  <tbody>\n",
       "    <tr>\n",
       "      <th>sub</th>\n",
       "      <td>5</td>\n",
       "      <td>0.049727</td>\n",
       "    </tr>\n",
       "    <tr>\n",
       "      <th>Average Baths:</th>\n",
       "      <td>15</td>\n",
       "      <td>0.149180</td>\n",
       "    </tr>\n",
       "    <tr>\n",
       "      <th>legal</th>\n",
       "      <td>17</td>\n",
       "      <td>0.169070</td>\n",
       "    </tr>\n",
       "    <tr>\n",
       "      <th>HOA Mandatory:</th>\n",
       "      <td>35</td>\n",
       "      <td>0.348086</td>\n",
       "    </tr>\n",
       "    <tr>\n",
       "      <th>Average Bedrooms:</th>\n",
       "      <td>47</td>\n",
       "      <td>0.467429</td>\n",
       "    </tr>\n",
       "    <tr>\n",
       "      <th>Primary Bedroom:</th>\n",
       "      <td>617</td>\n",
       "      <td>6.136251</td>\n",
       "    </tr>\n",
       "    <tr>\n",
       "      <th>Tax Rate:</th>\n",
       "      <td>854</td>\n",
       "      <td>8.493287</td>\n",
       "    </tr>\n",
       "    <tr>\n",
       "      <th>Median Lot Square Ft.:</th>\n",
       "      <td>1198</td>\n",
       "      <td>11.914470</td>\n",
       "    </tr>\n",
       "    <tr>\n",
       "      <th>Neighborhood Value Range:</th>\n",
       "      <td>1198</td>\n",
       "      <td>11.914470</td>\n",
       "    </tr>\n",
       "    <tr>\n",
       "      <th>Subdivision Name:</th>\n",
       "      <td>1198</td>\n",
       "      <td>11.914470</td>\n",
       "    </tr>\n",
       "    <tr>\n",
       "      <th>County / Zip Code:</th>\n",
       "      <td>1198</td>\n",
       "      <td>11.914470</td>\n",
       "    </tr>\n",
       "    <tr>\n",
       "      <th>Median Year Built:</th>\n",
       "      <td>1198</td>\n",
       "      <td>11.914470</td>\n",
       "    </tr>\n",
       "    <tr>\n",
       "      <th>Single Family Properties:</th>\n",
       "      <td>1198</td>\n",
       "      <td>11.914470</td>\n",
       "    </tr>\n",
       "    <tr>\n",
       "      <th>Median Appraised Value:</th>\n",
       "      <td>1198</td>\n",
       "      <td>11.914470</td>\n",
       "    </tr>\n",
       "    <tr>\n",
       "      <th>Median Square Ft.:</th>\n",
       "      <td>1198</td>\n",
       "      <td>11.914470</td>\n",
       "    </tr>\n",
       "    <tr>\n",
       "      <th>Dishwasher:</th>\n",
       "      <td>1229</td>\n",
       "      <td>12.222775</td>\n",
       "    </tr>\n",
       "    <tr>\n",
       "      <th>Bedroom Desc:</th>\n",
       "      <td>1358</td>\n",
       "      <td>13.505719</td>\n",
       "    </tr>\n",
       "    <tr>\n",
       "      <th>Disposal:</th>\n",
       "      <td>1593</td>\n",
       "      <td>15.842864</td>\n",
       "    </tr>\n",
       "    <tr>\n",
       "      <th>Financing Considered:</th>\n",
       "      <td>1693</td>\n",
       "      <td>16.837394</td>\n",
       "    </tr>\n",
       "    <tr>\n",
       "      <th>Microwave:</th>\n",
       "      <td>1730</td>\n",
       "      <td>17.205370</td>\n",
       "    </tr>\n",
       "    <tr>\n",
       "      <th>Room Description:</th>\n",
       "      <td>1746</td>\n",
       "      <td>17.364495</td>\n",
       "    </tr>\n",
       "    <tr>\n",
       "      <th>Floors:</th>\n",
       "      <td>1775</td>\n",
       "      <td>17.652909</td>\n",
       "    </tr>\n",
       "    <tr>\n",
       "      <th>Range:</th>\n",
       "      <td>1777</td>\n",
       "      <td>17.672800</td>\n",
       "    </tr>\n",
       "    <tr>\n",
       "      <th>Taxes w/o Exemp:</th>\n",
       "      <td>1815</td>\n",
       "      <td>18.050721</td>\n",
       "    </tr>\n",
       "    <tr>\n",
       "      <th>Oven:</th>\n",
       "      <td>2051</td>\n",
       "      <td>20.397812</td>\n",
       "    </tr>\n",
       "    <tr>\n",
       "      <th>Median Price / Square ft.:</th>\n",
       "      <td>2086</td>\n",
       "      <td>20.745898</td>\n",
       "    </tr>\n",
       "    <tr>\n",
       "      <th>Connections:</th>\n",
       "      <td>2156</td>\n",
       "      <td>21.442069</td>\n",
       "    </tr>\n",
       "    <tr>\n",
       "      <th>Exterior:</th>\n",
       "      <td>2270</td>\n",
       "      <td>22.575833</td>\n",
       "    </tr>\n",
       "    <tr>\n",
       "      <th>Bathroom Description:</th>\n",
       "      <td>2555</td>\n",
       "      <td>25.410244</td>\n",
       "    </tr>\n",
       "    <tr>\n",
       "      <th>Energy Feature:</th>\n",
       "      <td>2712</td>\n",
       "      <td>26.971656</td>\n",
       "    </tr>\n",
       "    <tr>\n",
       "      <th>Countertop:</th>\n",
       "      <td>2782</td>\n",
       "      <td>27.667827</td>\n",
       "    </tr>\n",
       "    <tr>\n",
       "      <th>Interior:</th>\n",
       "      <td>2796</td>\n",
       "      <td>27.807061</td>\n",
       "    </tr>\n",
       "    <tr>\n",
       "      <th>Kitchen:</th>\n",
       "      <td>2925</td>\n",
       "      <td>29.090005</td>\n",
       "    </tr>\n",
       "    <tr>\n",
       "      <th>Dining:</th>\n",
       "      <td>3002</td>\n",
       "      <td>29.855793</td>\n",
       "    </tr>\n",
       "    <tr>\n",
       "      <th>Kitchen Desc:</th>\n",
       "      <td>3278</td>\n",
       "      <td>32.600696</td>\n",
       "    </tr>\n",
       "    <tr>\n",
       "      <th>Fireplace:</th>\n",
       "      <td>3605</td>\n",
       "      <td>35.852810</td>\n",
       "    </tr>\n",
       "    <tr>\n",
       "      <th>Living:</th>\n",
       "      <td>4043</td>\n",
       "      <td>40.208851</td>\n",
       "    </tr>\n",
       "    <tr>\n",
       "      <th>Area Pool:</th>\n",
       "      <td>4628</td>\n",
       "      <td>46.026852</td>\n",
       "    </tr>\n",
       "    <tr>\n",
       "      <th>Compactor:</th>\n",
       "      <td>4693</td>\n",
       "      <td>46.673297</td>\n",
       "    </tr>\n",
       "    <tr>\n",
       "      <th>Ice Maker:</th>\n",
       "      <td>4987</td>\n",
       "      <td>49.597215</td>\n",
       "    </tr>\n",
       "  </tbody>\n",
       "</table>\n",
       "</div>"
      ],
      "text/plain": [
       "                            count          %\n",
       "sub                             5   0.049727\n",
       "Average Baths:                 15   0.149180\n",
       "legal                          17   0.169070\n",
       "HOA Mandatory:                 35   0.348086\n",
       "Average Bedrooms:              47   0.467429\n",
       "Primary Bedroom:              617   6.136251\n",
       "Tax Rate:                     854   8.493287\n",
       "Median Lot Square Ft.:       1198  11.914470\n",
       "Neighborhood Value Range:    1198  11.914470\n",
       "Subdivision Name:            1198  11.914470\n",
       "County / Zip Code:           1198  11.914470\n",
       "Median Year Built:           1198  11.914470\n",
       "Single Family Properties:    1198  11.914470\n",
       "Median Appraised Value:      1198  11.914470\n",
       "Median Square Ft.:           1198  11.914470\n",
       "Dishwasher:                  1229  12.222775\n",
       "Bedroom Desc:                1358  13.505719\n",
       "Disposal:                    1593  15.842864\n",
       "Financing Considered:        1693  16.837394\n",
       "Microwave:                   1730  17.205370\n",
       "Room Description:            1746  17.364495\n",
       "Floors:                      1775  17.652909\n",
       "Range:                       1777  17.672800\n",
       "Taxes w/o Exemp:             1815  18.050721\n",
       "Oven:                        2051  20.397812\n",
       "Median Price / Square ft.:   2086  20.745898\n",
       "Connections:                 2156  21.442069\n",
       "Exterior:                    2270  22.575833\n",
       "Bathroom Description:        2555  25.410244\n",
       "Energy Feature:              2712  26.971656\n",
       "Countertop:                  2782  27.667827\n",
       "Interior:                    2796  27.807061\n",
       "Kitchen:                     2925  29.090005\n",
       "Dining:                      3002  29.855793\n",
       "Kitchen Desc:                3278  32.600696\n",
       "Fireplace:                   3605  35.852810\n",
       "Living:                      4043  40.208851\n",
       "Area Pool:                   4628  46.026852\n",
       "Compactor:                   4693  46.673297\n",
       "Ice Maker:                   4987  49.597215"
      ]
     },
     "execution_count": 66,
     "metadata": {},
     "output_type": "execute_result"
    }
   ],
   "source": [
    "new_missing[new_missing['%']>0].sort_values(\"%\")"
   ]
  },
  {
   "cell_type": "code",
   "execution_count": 67,
   "metadata": {},
   "outputs": [
    {
     "data": {
      "text/plain": [
       "Yes    8153\n",
       "No      309\n",
       "Name: Disposal:, dtype: int64"
      ]
     },
     "execution_count": 67,
     "metadata": {},
     "output_type": "execute_result"
    }
   ],
   "source": [
    "single_family_df['Disposal:'].value_counts()"
   ]
  },
  {
   "cell_type": "code",
   "execution_count": 68,
   "metadata": {},
   "outputs": [],
   "source": []
  },
  {
   "cell_type": "code",
   "execution_count": 69,
   "metadata": {},
   "outputs": [
    {
     "data": {
      "text/plain": [
       "1/Gaslog Fireplace                                 1783\n",
       "1                                                  1087\n",
       "1/Gas Connections                                   878\n",
       "1/Wood Burning Fireplace                            542\n",
       "1/Gas Connections, Gaslog Fireplace                 445\n",
       "                                                   ... \n",
       "4/Mock Fireplace                                      1\n",
       "/Freestanding, Wood Burning Fireplace                 1\n",
       "1/Gas Connections, Stove                              1\n",
       "2/Stove, Wood Burning Fireplace                       1\n",
       "1/Freestanding, Gas Connections, Mock Fireplace       1\n",
       "Name: Fireplace:, Length: 92, dtype: int64"
      ]
     },
     "execution_count": 69,
     "metadata": {},
     "output_type": "execute_result"
    }
   ],
   "source": [
    "single_family_df['Fireplace:'].value_counts()"
   ]
  },
  {
   "cell_type": "code",
   "execution_count": 70,
   "metadata": {},
   "outputs": [
    {
     "data": {
      "text/plain": [
       "1    5605\n",
       "n    3605\n",
       "2     573\n",
       "3     130\n",
       "/      93\n",
       "4      37\n",
       "5      10\n",
       "7       1\n",
       "6       1\n",
       "dtype: int64"
      ]
     },
     "execution_count": 70,
     "metadata": {},
     "output_type": "execute_result"
    }
   ],
   "source": [
    "pd.Series([str(x)[0]  for x in single_family_df['Fireplace:'] if x is not None]).value_counts()"
   ]
  },
  {
   "cell_type": "code",
   "execution_count": 71,
   "metadata": {},
   "outputs": [],
   "source": [
    "single_family_df['Fireplace:']=single_family_df['Fireplace:'].apply(lambda x:int(str(x)[0]) if str(x)[0]\n",
    "                                                                    in ['1','2','3','4','5','6','7'] else 0)"
   ]
  },
  {
   "cell_type": "code",
   "execution_count": 72,
   "metadata": {},
   "outputs": [
    {
     "data": {
      "text/plain": [
       "1    5605\n",
       "0    3698\n",
       "2     573\n",
       "3     130\n",
       "4      37\n",
       "5      10\n",
       "7       1\n",
       "6       1\n",
       "Name: Fireplace:, dtype: int64"
      ]
     },
     "execution_count": 72,
     "metadata": {},
     "output_type": "execute_result"
    }
   ],
   "source": [
    "single_family_df['Fireplace:'].value_counts()"
   ]
  },
  {
   "cell_type": "code",
   "execution_count": 73,
   "metadata": {},
   "outputs": [
    {
     "data": {
      "text/plain": [
       "$303.75     108\n",
       "$259.49      95\n",
       "$146.71      82\n",
       "$127.37      77\n",
       "$139.32      60\n",
       "           ... \n",
       "$126.72       1\n",
       "$132.07       1\n",
       "$100.69       1\n",
       "$94.82        1\n",
       "$118.87       1\n",
       "Name: Median Price / Square ft.:, Length: 1369, dtype: int64"
      ]
     },
     "execution_count": 73,
     "metadata": {},
     "output_type": "execute_result"
    }
   ],
   "source": [
    "single_family_df['Median Price / Square ft.:'].value_counts()"
   ]
  },
  {
   "cell_type": "code",
   "execution_count": 74,
   "metadata": {},
   "outputs": [],
   "source": [
    "single_family_df['Median Price / Square ft.:']=pd.to_numeric(single_family_df['Median Price / Square ft.:'].str.replace(\"$\",' ').str.strip())"
   ]
  },
  {
   "cell_type": "code",
   "execution_count": 75,
   "metadata": {},
   "outputs": [
    {
     "data": {
      "text/plain": [
       "0               Modern Midtown\n",
       "1               Modern Midtown\n",
       "2                          NaN\n",
       "4             ELITE TWNHMS LLC\n",
       "9                          NaN\n",
       "                 ...          \n",
       "11146    South Houston Terrace\n",
       "11148            South Houston\n",
       "11149            South Houston\n",
       "11150            South Houston\n",
       "11151            South Houston\n",
       "Name: Subdivision Name:, Length: 10055, dtype: object"
      ]
     },
     "execution_count": 75,
     "metadata": {},
     "output_type": "execute_result"
    }
   ],
   "source": [
    "single_family_df['Subdivision Name:']"
   ]
  },
  {
   "cell_type": "code",
   "execution_count": 76,
   "metadata": {},
   "outputs": [
    {
     "data": {
      "text/plain": [
       "0        3.00\n",
       "1        3.00\n",
       "2        2.11\n",
       "4        3.00\n",
       "9        2.55\n",
       "         ... \n",
       "11146    2.93\n",
       "11148    3.01\n",
       "11149    3.01\n",
       "11150    3.01\n",
       "11151    3.01\n",
       "Name: Average Bedrooms:, Length: 10055, dtype: float64"
      ]
     },
     "execution_count": 76,
     "metadata": {},
     "output_type": "execute_result"
    }
   ],
   "source": [
    "single_family_df['Average Bedrooms:']"
   ]
  },
  {
   "cell_type": "code",
   "execution_count": 77,
   "metadata": {},
   "outputs": [],
   "source": [
    "single_family_df.drop(['Living:','Kitchen Desc:','Dining:','Kitchen:','Interior:','Countertop:','Energy Feature:'\n",
    "                      ,'Energy Feature:','Exterior:','Connections:','Oven:','Taxes w/o Exemp:','Range:'\n",
    "                       ,'Floors:','Room Description:','Financing Considered:','Bathroom Description:'\n",
    "                       ,'County / Zip Code:','Single Family Properties:','Bedroom Desc:','Subdivision Name:','Primary Bedroom:'],axis=1,inplace=True)"
   ]
  },
  {
   "cell_type": "code",
   "execution_count": 78,
   "metadata": {},
   "outputs": [
    {
     "data": {
      "text/html": [
       "<div>\n",
       "<style scoped>\n",
       "    .dataframe tbody tr th:only-of-type {\n",
       "        vertical-align: middle;\n",
       "    }\n",
       "\n",
       "    .dataframe tbody tr th {\n",
       "        vertical-align: top;\n",
       "    }\n",
       "\n",
       "    .dataframe thead th {\n",
       "        text-align: right;\n",
       "    }\n",
       "</style>\n",
       "<table border=\"1\" class=\"dataframe\">\n",
       "  <thead>\n",
       "    <tr style=\"text-align: right;\">\n",
       "      <th></th>\n",
       "      <th>count</th>\n",
       "      <th>%</th>\n",
       "    </tr>\n",
       "  </thead>\n",
       "  <tbody>\n",
       "    <tr>\n",
       "      <th>sub</th>\n",
       "      <td>5</td>\n",
       "      <td>0.049727</td>\n",
       "    </tr>\n",
       "    <tr>\n",
       "      <th>Average Baths:</th>\n",
       "      <td>15</td>\n",
       "      <td>0.149180</td>\n",
       "    </tr>\n",
       "    <tr>\n",
       "      <th>legal</th>\n",
       "      <td>17</td>\n",
       "      <td>0.169070</td>\n",
       "    </tr>\n",
       "    <tr>\n",
       "      <th>HOA Mandatory:</th>\n",
       "      <td>35</td>\n",
       "      <td>0.348086</td>\n",
       "    </tr>\n",
       "    <tr>\n",
       "      <th>Average Bedrooms:</th>\n",
       "      <td>47</td>\n",
       "      <td>0.467429</td>\n",
       "    </tr>\n",
       "    <tr>\n",
       "      <th>Tax Rate:</th>\n",
       "      <td>854</td>\n",
       "      <td>8.493287</td>\n",
       "    </tr>\n",
       "    <tr>\n",
       "      <th>Median Square Ft.:</th>\n",
       "      <td>1198</td>\n",
       "      <td>11.914470</td>\n",
       "    </tr>\n",
       "    <tr>\n",
       "      <th>Median Lot Square Ft.:</th>\n",
       "      <td>1198</td>\n",
       "      <td>11.914470</td>\n",
       "    </tr>\n",
       "    <tr>\n",
       "      <th>Median Year Built:</th>\n",
       "      <td>1198</td>\n",
       "      <td>11.914470</td>\n",
       "    </tr>\n",
       "    <tr>\n",
       "      <th>Median Appraised Value:</th>\n",
       "      <td>1198</td>\n",
       "      <td>11.914470</td>\n",
       "    </tr>\n",
       "    <tr>\n",
       "      <th>Neighborhood Value Range:</th>\n",
       "      <td>1198</td>\n",
       "      <td>11.914470</td>\n",
       "    </tr>\n",
       "    <tr>\n",
       "      <th>Median Price / Square ft.:</th>\n",
       "      <td>2086</td>\n",
       "      <td>20.745898</td>\n",
       "    </tr>\n",
       "  </tbody>\n",
       "</table>\n",
       "</div>"
      ],
      "text/plain": [
       "                            count          %\n",
       "sub                             5   0.049727\n",
       "Average Baths:                 15   0.149180\n",
       "legal                          17   0.169070\n",
       "HOA Mandatory:                 35   0.348086\n",
       "Average Bedrooms:              47   0.467429\n",
       "Tax Rate:                     854   8.493287\n",
       "Median Square Ft.:           1198  11.914470\n",
       "Median Lot Square Ft.:       1198  11.914470\n",
       "Median Year Built:           1198  11.914470\n",
       "Median Appraised Value:      1198  11.914470\n",
       "Neighborhood Value Range:    1198  11.914470\n",
       "Median Price / Square ft.:   2086  20.745898"
      ]
     },
     "execution_count": 78,
     "metadata": {},
     "output_type": "execute_result"
    }
   ],
   "source": [
    "new_missing=missing_cal(single_family_df)\n",
    "new_missing[new_missing['%']>0].sort_values(\"%\")"
   ]
  },
  {
   "cell_type": "code",
   "execution_count": null,
   "metadata": {},
   "outputs": [],
   "source": []
  }
 ],
 "metadata": {
  "kernelspec": {
   "display_name": "Python 3",
   "language": "python",
   "name": "python3"
  },
  "language_info": {
   "codemirror_mode": {
    "name": "ipython",
    "version": 3
   },
   "file_extension": ".py",
   "mimetype": "text/x-python",
   "name": "python",
   "nbconvert_exporter": "python",
   "pygments_lexer": "ipython3",
   "version": "3.8.3"
  }
 },
 "nbformat": 4,
 "nbformat_minor": 4
}
